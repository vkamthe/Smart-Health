{
 "cells": [
  {
   "cell_type": "markdown",
   "metadata": {},
   "source": [
    "## Project 3\n",
    "\n",
    "# Darshan Pai - Model Training using ANN and 1D-CNN on INCART DB"
   ]
  },
  {
   "cell_type": "markdown",
   "metadata": {},
   "source": [
    "References for the Project\n",
    "Watch a 12 lead ECG video https://www.youtube.com/watch?v=kwLbSx9BNbU\n",
    "\n",
    "DataSet location: https://physionet.org/content/incartdb/1.0.0/"
   ]
  },
  {
   "cell_type": "markdown",
   "metadata": {},
   "source": [
    "## Import all the necessary libraries"
   ]
  },
  {
   "cell_type": "code",
   "execution_count": 2,
   "metadata": {},
   "outputs": [],
   "source": [
    "import wfdb\n",
    "from wfdb import processing\n",
    "import os\n",
    "import pandas as pd\n",
    "import numpy as np\n",
    "import matplotlib.pyplot as plt\n",
    "import matplotlib as mpl\n",
    "import peakutils\n",
    "import csv"
   ]
  },
  {
   "cell_type": "markdown",
   "metadata": {},
   "source": [
    "## Download the INCART Data from Physionet"
   ]
  },
  {
   "cell_type": "code",
   "execution_count": 2,
   "metadata": {},
   "outputs": [],
   "source": [
    "# Download all the WFDB records and annotations from a small Physionet Database\n",
    "\n",
    "# Make a temporary download directory in your current working directory\n",
    "cwd = os.getcwd()\n",
    "dl_dir = os.path.join(cwd, 'tmp_dl_dir')"
   ]
  },
  {
   "cell_type": "code",
   "execution_count": 2,
   "metadata": {},
   "outputs": [
    {
     "name": "stdout",
     "output_type": "stream",
     "text": [
      "Generating record list for: I01\n",
      "Generating record list for: I02\n",
      "Generating record list for: I03\n",
      "Generating record list for: I04\n",
      "Generating record list for: I05\n",
      "Generating record list for: I06\n",
      "Generating record list for: I07\n",
      "Generating record list for: I08\n",
      "Generating record list for: I09\n",
      "Generating record list for: I10\n",
      "Generating record list for: I11\n",
      "Generating record list for: I12\n",
      "Generating record list for: I13\n",
      "Generating record list for: I14\n",
      "Generating record list for: I15\n",
      "Generating record list for: I16\n",
      "Generating record list for: I17\n",
      "Generating record list for: I18\n",
      "Generating record list for: I19\n",
      "Generating record list for: I20\n",
      "Generating record list for: I21\n",
      "Generating record list for: I22\n",
      "Generating record list for: I23\n",
      "Generating record list for: I24\n",
      "Generating record list for: I25\n",
      "Generating record list for: I26\n",
      "Generating record list for: I27\n",
      "Generating record list for: I28\n",
      "Generating record list for: I29\n",
      "Generating record list for: I30\n",
      "Generating record list for: I31\n",
      "Generating record list for: I32\n",
      "Generating record list for: I33\n",
      "Generating record list for: I34\n",
      "Generating record list for: I35\n",
      "Generating record list for: I36\n",
      "Generating record list for: I37\n",
      "Generating record list for: I38\n",
      "Generating record list for: I39\n",
      "Generating record list for: I40\n",
      "Generating record list for: I41\n",
      "Generating record list for: I42\n",
      "Generating record list for: I43\n",
      "Generating record list for: I44\n",
      "Generating record list for: I45\n",
      "Generating record list for: I46\n",
      "Generating record list for: I47\n",
      "Generating record list for: I48\n",
      "Generating record list for: I49\n",
      "Generating record list for: I50\n",
      "Generating record list for: I51\n",
      "Generating record list for: I52\n",
      "Generating record list for: I53\n",
      "Generating record list for: I54\n",
      "Generating record list for: I55\n",
      "Generating record list for: I56\n",
      "Generating record list for: I57\n",
      "Generating record list for: I58\n",
      "Generating record list for: I59\n",
      "Generating record list for: I60\n",
      "Generating record list for: I61\n",
      "Generating record list for: I62\n",
      "Generating record list for: I63\n",
      "Generating record list for: I64\n",
      "Generating record list for: I65\n",
      "Generating record list for: I66\n",
      "Generating record list for: I67\n",
      "Generating record list for: I68\n",
      "Generating record list for: I69\n",
      "Generating record list for: I70\n",
      "Generating record list for: I71\n",
      "Generating record list for: I72\n",
      "Generating record list for: I73\n",
      "Generating record list for: I74\n",
      "Generating record list for: I75\n",
      "Generating list of all files for: I01\n",
      "Generating list of all files for: I02\n",
      "Generating list of all files for: I03\n",
      "Generating list of all files for: I04\n",
      "Generating list of all files for: I05\n",
      "Generating list of all files for: I06\n",
      "Generating list of all files for: I07\n",
      "Generating list of all files for: I08\n",
      "Generating list of all files for: I09\n",
      "Generating list of all files for: I10\n",
      "Generating list of all files for: I11\n",
      "Generating list of all files for: I12\n",
      "Generating list of all files for: I13\n",
      "Generating list of all files for: I14\n",
      "Generating list of all files for: I15\n",
      "Generating list of all files for: I16\n",
      "Generating list of all files for: I17\n",
      "Generating list of all files for: I18\n",
      "Generating list of all files for: I19\n",
      "Generating list of all files for: I20\n",
      "Generating list of all files for: I21\n",
      "Generating list of all files for: I22\n",
      "Generating list of all files for: I23\n",
      "Generating list of all files for: I24\n",
      "Generating list of all files for: I25\n",
      "Generating list of all files for: I26\n",
      "Generating list of all files for: I27\n",
      "Generating list of all files for: I28\n",
      "Generating list of all files for: I29\n",
      "Generating list of all files for: I30\n",
      "Generating list of all files for: I31\n",
      "Generating list of all files for: I32\n",
      "Generating list of all files for: I33\n",
      "Generating list of all files for: I34\n",
      "Generating list of all files for: I35\n",
      "Generating list of all files for: I36\n",
      "Generating list of all files for: I37\n",
      "Generating list of all files for: I38\n",
      "Generating list of all files for: I39\n",
      "Generating list of all files for: I40\n",
      "Generating list of all files for: I41\n",
      "Generating list of all files for: I42\n",
      "Generating list of all files for: I43\n",
      "Generating list of all files for: I44\n",
      "Generating list of all files for: I45\n",
      "Generating list of all files for: I46\n",
      "Generating list of all files for: I47\n",
      "Generating list of all files for: I48\n",
      "Generating list of all files for: I49\n",
      "Generating list of all files for: I50\n",
      "Generating list of all files for: I51\n",
      "Generating list of all files for: I52\n",
      "Generating list of all files for: I53\n",
      "Generating list of all files for: I54\n",
      "Generating list of all files for: I55\n",
      "Generating list of all files for: I56\n",
      "Generating list of all files for: I57\n",
      "Generating list of all files for: I58\n",
      "Generating list of all files for: I59\n",
      "Generating list of all files for: I60\n",
      "Generating list of all files for: I61\n",
      "Generating list of all files for: I62\n",
      "Generating list of all files for: I63\n",
      "Generating list of all files for: I64\n",
      "Generating list of all files for: I65\n",
      "Generating list of all files for: I66\n",
      "Generating list of all files for: I67\n",
      "Generating list of all files for: I68\n",
      "Generating list of all files for: I69\n",
      "Generating list of all files for: I70\n",
      "Generating list of all files for: I71\n",
      "Generating list of all files for: I72\n",
      "Generating list of all files for: I73\n",
      "Generating list of all files for: I74\n",
      "Generating list of all files for: I75\n",
      "Downloading files...\n",
      "Finished downloading files\n"
     ]
    },
    {
     "data": {
      "text/plain": [
       "['I01.atr',\n",
       " 'I01.dat',\n",
       " 'I01.hea',\n",
       " 'I02.atr',\n",
       " 'I02.dat',\n",
       " 'I02.hea',\n",
       " 'I03.atr',\n",
       " 'I03.dat',\n",
       " 'I03.hea',\n",
       " 'I04.atr',\n",
       " 'I04.dat',\n",
       " 'I04.hea',\n",
       " 'I05.atr',\n",
       " 'I05.dat',\n",
       " 'I05.hea',\n",
       " 'I06.atr',\n",
       " 'I06.dat',\n",
       " 'I06.hea',\n",
       " 'I07.atr',\n",
       " 'I07.dat',\n",
       " 'I07.hea',\n",
       " 'I08.atr',\n",
       " 'I08.dat',\n",
       " 'I08.hea',\n",
       " 'I09.atr',\n",
       " 'I09.dat',\n",
       " 'I09.hea',\n",
       " 'I10.atr',\n",
       " 'I10.dat',\n",
       " 'I10.hea',\n",
       " 'I11.atr',\n",
       " 'I11.dat',\n",
       " 'I11.hea',\n",
       " 'I12.atr',\n",
       " 'I12.dat',\n",
       " 'I12.hea',\n",
       " 'I13.atr',\n",
       " 'I13.dat',\n",
       " 'I13.hea',\n",
       " 'I14.atr',\n",
       " 'I14.dat',\n",
       " 'I14.hea',\n",
       " 'I15.atr',\n",
       " 'I15.dat',\n",
       " 'I15.hea',\n",
       " 'I16.atr',\n",
       " 'I16.dat',\n",
       " 'I16.hea',\n",
       " 'I17.atr',\n",
       " 'I17.dat',\n",
       " 'I17.hea',\n",
       " 'I18.atr',\n",
       " 'I18.dat',\n",
       " 'I18.hea',\n",
       " 'I19.atr',\n",
       " 'I19.dat',\n",
       " 'I19.hea',\n",
       " 'I20.atr',\n",
       " 'I20.dat',\n",
       " 'I20.hea',\n",
       " 'I21.atr',\n",
       " 'I21.dat',\n",
       " 'I21.hea',\n",
       " 'I22.atr',\n",
       " 'I22.dat',\n",
       " 'I22.hea',\n",
       " 'I23.atr',\n",
       " 'I23.dat',\n",
       " 'I23.hea',\n",
       " 'I24.atr',\n",
       " 'I24.dat',\n",
       " 'I24.hea',\n",
       " 'I25.atr',\n",
       " 'I25.dat',\n",
       " 'I25.hea',\n",
       " 'I26.atr',\n",
       " 'I26.dat',\n",
       " 'I26.hea',\n",
       " 'I27.atr',\n",
       " 'I27.dat',\n",
       " 'I27.hea',\n",
       " 'I28.atr',\n",
       " 'I28.dat',\n",
       " 'I28.hea',\n",
       " 'I29.atr',\n",
       " 'I29.dat',\n",
       " 'I29.hea',\n",
       " 'I30.atr',\n",
       " 'I30.dat',\n",
       " 'I30.hea',\n",
       " 'I31.atr',\n",
       " 'I31.dat',\n",
       " 'I31.hea',\n",
       " 'I32.atr',\n",
       " 'I32.dat',\n",
       " 'I32.hea',\n",
       " 'I33.atr',\n",
       " 'I33.dat',\n",
       " 'I33.hea',\n",
       " 'I34.atr',\n",
       " 'I34.dat',\n",
       " 'I34.hea',\n",
       " 'I35.atr',\n",
       " 'I35.dat',\n",
       " 'I35.hea',\n",
       " 'I36.atr',\n",
       " 'I36.dat',\n",
       " 'I36.hea',\n",
       " 'I37.atr',\n",
       " 'I37.dat',\n",
       " 'I37.hea',\n",
       " 'I38.atr',\n",
       " 'I38.dat',\n",
       " 'I38.hea',\n",
       " 'I39.atr',\n",
       " 'I39.dat',\n",
       " 'I39.hea',\n",
       " 'I40.atr',\n",
       " 'I40.dat',\n",
       " 'I40.hea',\n",
       " 'I41.atr',\n",
       " 'I41.dat',\n",
       " 'I41.hea',\n",
       " 'I42.atr',\n",
       " 'I42.dat',\n",
       " 'I42.hea',\n",
       " 'I43.atr',\n",
       " 'I43.dat',\n",
       " 'I43.hea',\n",
       " 'I44.atr',\n",
       " 'I44.dat',\n",
       " 'I44.hea',\n",
       " 'I45.atr',\n",
       " 'I45.dat',\n",
       " 'I45.hea',\n",
       " 'I46.atr',\n",
       " 'I46.dat',\n",
       " 'I46.hea',\n",
       " 'I47.atr',\n",
       " 'I47.dat',\n",
       " 'I47.hea',\n",
       " 'I48.atr',\n",
       " 'I48.dat',\n",
       " 'I48.hea',\n",
       " 'I49.atr',\n",
       " 'I49.dat',\n",
       " 'I49.hea',\n",
       " 'I50.atr',\n",
       " 'I50.dat',\n",
       " 'I50.hea',\n",
       " 'I51.atr',\n",
       " 'I51.dat',\n",
       " 'I51.hea',\n",
       " 'I52.atr',\n",
       " 'I52.dat',\n",
       " 'I52.hea',\n",
       " 'I53.atr',\n",
       " 'I53.dat',\n",
       " 'I53.hea',\n",
       " 'I54.atr',\n",
       " 'I54.dat',\n",
       " 'I54.hea',\n",
       " 'I55.atr',\n",
       " 'I55.dat',\n",
       " 'I55.hea',\n",
       " 'I56.atr',\n",
       " 'I56.dat',\n",
       " 'I56.hea',\n",
       " 'I57.atr',\n",
       " 'I57.dat',\n",
       " 'I57.hea',\n",
       " 'I58.atr',\n",
       " 'I58.dat',\n",
       " 'I58.hea',\n",
       " 'I59.atr',\n",
       " 'I59.dat',\n",
       " 'I59.hea',\n",
       " 'I60.atr',\n",
       " 'I60.dat',\n",
       " 'I60.hea',\n",
       " 'I61.atr',\n",
       " 'I61.dat',\n",
       " 'I61.hea',\n",
       " 'I62.atr',\n",
       " 'I62.dat',\n",
       " 'I62.hea',\n",
       " 'I63.atr',\n",
       " 'I63.dat',\n",
       " 'I63.hea',\n",
       " 'I64.atr',\n",
       " 'I64.dat',\n",
       " 'I64.hea',\n",
       " 'I65.atr',\n",
       " 'I65.dat',\n",
       " 'I65.hea',\n",
       " 'I66.atr',\n",
       " 'I66.dat',\n",
       " 'I66.hea',\n",
       " 'I67.atr',\n",
       " 'I67.dat',\n",
       " 'I67.hea',\n",
       " 'I68.atr',\n",
       " 'I68.dat',\n",
       " 'I68.hea',\n",
       " 'I69.atr',\n",
       " 'I69.dat',\n",
       " 'I69.hea',\n",
       " 'I70.atr',\n",
       " 'I70.dat',\n",
       " 'I70.hea',\n",
       " 'I71.atr',\n",
       " 'I71.dat',\n",
       " 'I71.hea',\n",
       " 'I72.atr',\n",
       " 'I72.dat',\n",
       " 'I72.hea',\n",
       " 'I73.atr',\n",
       " 'I73.dat',\n",
       " 'I73.hea',\n",
       " 'I74.atr',\n",
       " 'I74.dat',\n",
       " 'I74.hea',\n",
       " 'I75.atr',\n",
       " 'I75.dat',\n",
       " 'I75.hea']"
      ]
     },
     "metadata": {},
     "output_type": "display_data"
    }
   ],
   "source": [
    "# Download all the WFDB content\n",
    "wfdb.dl_database('incartdb', dl_dir=dl_dir)\n",
    "\n",
    "# Display the downloaded content in the folder\n",
    "display(os.listdir(dl_dir))\n",
    "\n",
    "# Cleanup: delete the downloaded directory\n",
    "#shutil.rmtree(dl_dir)"
   ]
  },
  {
   "cell_type": "code",
   "execution_count": 3,
   "metadata": {},
   "outputs": [
    {
     "data": {
      "image/png": "[encoded data removed]",
      "text/plain": [
       "<Figure size 576x576 with 12 Axes>"
      ]
     },
     "metadata": {
      "needs_background": "light"
     },
     "output_type": "display_data"
    }
   ],
   "source": [
    "# Read a WFDB record and annotation. Plot all channels, and the annotation on top of channel 0.\n",
    "record = wfdb.rdrecord(dl_dir+'/I01', sampto = 1000)\n",
    "annotation = wfdb.rdann(dl_dir+'/I01', 'atr', sampto = 1000)\n",
    "\n",
    "from pylab import rcParams\n",
    "rcParams['figure.figsize'] = 8, 8\n",
    "\n",
    "wfdb.plot_wfdb(record=record, annotation=annotation,\n",
    "               title='Record 101 from St Petersburg Database/Juber',\n",
    "               time_units='seconds')"
   ]
  },
  {
   "cell_type": "code",
   "execution_count": 4,
   "metadata": {},
   "outputs": [],
   "source": [
    "# Use the GQRS detection algorithm and correct the peaks\n",
    "\n",
    "def peaks_hr(sig, peak_inds, fs, title, figsize=(10, 5), saveto=None):\n",
    "    \"Plot a signal with its peaks and heart rate\"\n",
    "    # Calculate heart rate\n",
    "    hrs = processing.hr.compute_hr(sig_len=sig.shape[0], qrs_inds=peak_inds, fs=fs)\n",
    "    \n",
    "    N = sig.shape[0]\n",
    "    \n",
    "    fig, ax_left = plt.subplots(figsize=figsize)\n",
    "    ax_right = ax_left.twinx()\n",
    "    \n",
    "    ax_left.plot(sig, color='#3979f0', label='Signal')\n",
    "    ax_left.plot(peak_inds, sig[peak_inds], 'rx', marker='x', \n",
    "                 color='#8b0000', label='Peak', markersize=12)\n",
    "    ax_right.plot(np.arange(N), hrs, label='Heart rate', color='m', linewidth=2)\n",
    "\n",
    "    ax_left.set_title(title)\n",
    "\n",
    "    ax_left.set_xlabel('Time (ms)')\n",
    "    ax_left.set_ylabel('ECG (mV)', color='#3979f0')\n",
    "    ax_right.set_ylabel('Heart rate (bpm)', color='m')\n",
    "    # Make the y-axis label, ticks and tick labels match the line color.\n",
    "    ax_left.tick_params('y', colors='#3979f0')\n",
    "    ax_right.tick_params('y', colors='m')\n",
    "    if saveto is not None:\n",
    "        plt.savefig(saveto, dpi=600)\n",
    "    plt.show()\n"
   ]
  },
  {
   "cell_type": "code",
   "execution_count": 5,
   "metadata": {},
   "outputs": [],
   "source": [
    "## Process all the data-set using neurokit \n",
    "import neurokit2 as nk"
   ]
  },
  {
   "cell_type": "code",
   "execution_count": 117,
   "metadata": {},
   "outputs": [],
   "source": [
    "def process_data(dl_dir, channel=0, filename=\"data\"):\n",
    "    patients = {}\n",
    "    for root, directories, files in os.walk(dl_dir, topdown=False):\n",
    "        # print(f\"{root} {directories} {files}\")\n",
    "        for file in files:\n",
    "            patients[os.path.splitext(file)[0]] = os.path.join(root,os.path.splitext(file)[0])\n",
    "\n",
    "    # patients = list(patients)\n",
    "    # print(patients)\n",
    "    # print(f\"Number {len(patients)}\")\n",
    "    for i in range(1,44):\n",
    "        del patients['I'+str(i).zfill(2)]\n",
    "    # del patients['I19']\n",
    "\n",
    "    for id, file in patients.items():\n",
    "        print(f\"Process {id}\")\n",
    "        # Load the WFDB record and the physical sample\n",
    "        signals, fields = wfdb.rdsamp(file, channels=[channel])\n",
    "\n",
    "        # Process it\n",
    "        try:\n",
    "            signals_clean, info = nk.ecg_process(signals.flatten() , sampling_rate=fields['fs'])\n",
    "        except ValueError:\n",
    "            print(f\"Skip {id}\")\n",
    "            continue\n",
    "        # Visualise the processing\n",
    "        # nk.ecg_plot(signals_clean, sampling_rate=250)\n",
    "\n",
    "        # print(signals_clean.ECG_Clean.shape)\n",
    "        # np.savetxt(filename, signals_clean.ECG_Clean, delimiter=\",\")\n",
    "        sig_name = filename + \".csv\"\n",
    "        with open(sig_name, 'a', newline='') as csvfile:\n",
    "            writer = csv.writer(csvfile)\n",
    "            row = pd.Series([id])\n",
    "            row = row.append(signals_clean.ECG_Clean)\n",
    "            writer.writerow(row)\n",
    "\n",
    "        r_peak_filename = filename+'r_peak.csv'\n",
    "        with open(r_peak_filename, 'a', newline='') as csvfile:\n",
    "            writer = csv.writer(csvfile)\n",
    "            row = pd.Series([id])\n",
    "            row = row.append(signals_clean.ECG_R_Peaks)\n",
    "            writer.writerow(row)\n",
    "\n",
    "        p_peak_filename = filename+'p_peak.csv'\n",
    "        with open(p_peak_filename, 'a', newline='') as csvfile:\n",
    "            writer = csv.writer(csvfile)\n",
    "            row = pd.Series([id])\n",
    "            row = row.append(signals_clean.ECG_P_Peaks)\n",
    "            writer.writerow(row)"
   ]
  },
  {
   "cell_type": "markdown",
   "metadata": {},
   "source": [
    "Just for simplicity I picked by the 6th channel at random for processing and saving the data. To get other channels, just input the channel number as second argument to process_data()"
   ]
  },
  {
   "cell_type": "code",
   "execution_count": 118,
   "metadata": {},
   "outputs": [
    {
     "name": "stdout",
     "output_type": "stream",
     "text": [
      "Process I44\n",
      "Skip I44\n",
      "Process I45\n",
      "Skip I45\n",
      "Process I46\n",
      "Process I47\n",
      "Process I48\n",
      "Process I49\n",
      "Process I50\n",
      "Process I51\n",
      "Process I52\n",
      "Process I53\n",
      "Process I54\n",
      "Process I55\n",
      "Process I56\n"
     ]
    },
    {
     "name": "stderr",
     "output_type": "stream",
     "text": [
      "C:\\Users\\212364473\\.virtualenvs\\MLSH_projects-OhkKaBlK\\lib\\site-packages\\numpy\\core\\fromnumeric.py:3440: RuntimeWarning: Mean of empty slice.\n",
      "  return _methods._mean(a, axis=axis, dtype=dtype,\n",
      "C:\\Users\\212364473\\.virtualenvs\\MLSH_projects-OhkKaBlK\\lib\\site-packages\\numpy\\core\\_methods.py:189: RuntimeWarning: invalid value encountered in double_scalars\n",
      "  ret = ret.dtype.type(ret / rcount)\n"
     ]
    },
    {
     "name": "stdout",
     "output_type": "stream",
     "text": [
      "Process I57\n",
      "Process I58\n",
      "Process I59\n",
      "Process I60\n",
      "Process I61\n",
      "Process I62\n",
      "Process I63\n",
      "Process I64\n",
      "Process I65\n",
      "Process I66\n",
      "Process I67\n",
      "Process I68\n",
      "Process I69\n",
      "Process I70\n",
      "Process I71\n",
      "Process I72\n",
      "Process I73\n",
      "Skip I73\n",
      "Process I74\n",
      "Process I75\n"
     ]
    }
   ],
   "source": [
    "process_data(dl_dir, channel=6, filename='data6')"
   ]
  },
  {
   "cell_type": "markdown",
   "metadata": {},
   "source": [
    "## Prepare the data for the Model"
   ]
  },
  {
   "cell_type": "markdown",
   "metadata": {},
   "source": [
    "Load the signal data, the P-peak data and the target variable (patient diagnosis) data and do the following\n",
    "1. Get the P-peaks and generate a array with 1000 samples starting at the P-peak\n",
    "2. Save the data point in that order: Patient ID , signal, diagnosis\n",
    "3. Do for all the patients and save as a CSV file. This is the input data for training\n",
    "\n",
    "Note: Since data always starts at the P-peak, so any unseen data should also be pre-processed to start at the P-peak"
   ]
  },
  {
   "cell_type": "code",
   "execution_count": 5,
   "metadata": {},
   "outputs": [],
   "source": [
    "def data_row_generator(inFile):\n",
    "    with open(inFile, \"r\") as csvfile:\n",
    "        datareader = csv.reader(csvfile)\n",
    "        count = 0\n",
    "        for row in datareader:\n",
    "            yield row"
   ]
  },
  {
   "cell_type": "code",
   "execution_count": 17,
   "metadata": {},
   "outputs": [],
   "source": [
    "def convert_P_peak_to_index_values(P_peak_file, P_peak_index_file):\n",
    "    f=open(P_peak_index_file,'ab')\n",
    "    for row in data_row_generator(P_peak_file):\n",
    "        indexes = np.array([row[0]])\n",
    "        for i in range(1,len(row)):\n",
    "            if row[i] == '1':\n",
    "                indexes = np.append(indexes, i)\n",
    "        # print(indexes)\n",
    "        np.savetxt(f, [indexes], delimiter=',', fmt='%s')\n",
    "    f.close()"
   ]
  },
  {
   "cell_type": "code",
   "execution_count": 18,
   "metadata": {},
   "outputs": [],
   "source": [
    "convert_P_peak_to_index_values('data6p_peak.csv', 'data6p_index.csv')"
   ]
  },
  {
   "cell_type": "code",
   "execution_count": 53,
   "metadata": {},
   "outputs": [],
   "source": [
    "import random\n",
    "def load_data(signalsFile, P_peak_file, target_file, sample_data_size=1000, data_file='default_file.csv'):\n",
    "\n",
    "    ## Open output file descriptor\n",
    "    f=open(data_file,'ab')\n",
    "\n",
    "    ## Load Targets\n",
    "    target = pd.read_csv('patient_diagnosis.csv', header=None)\n",
    "    target = target.set_index(0).T.to_dict('list')\n",
    "    \n",
    "    ## Load the P_peak_file\n",
    "    p_peaks = data_row_generator(P_peak_file)\n",
    "    signals = data_row_generator(signalsFile)\n",
    "\n",
    "    while(True):\n",
    "        try:\n",
    "            p_row = next(p_peaks)\n",
    "            sig_row = next(signals)\n",
    "\n",
    "            for i in range(0,100):\n",
    "                data_point = np.array([p_row[0]])\n",
    "                p_start = random.randint(1, len(p_row)-sample_data_size-1)\n",
    "                p_stidx = p_start\n",
    "                p_enidx = p_start+sample_data_size\n",
    "                data_point = np.append(data_point, sig_row[p_stidx:p_enidx])\n",
    "                data_point = np.append(data_point, target[p_row[0]])\n",
    "                # print(data_point)\n",
    "                np.savetxt(f, [data_point], delimiter=',', fmt='%s')\n",
    "\n",
    "        except StopIteration:\n",
    "            break\n",
    "    \n",
    "    f.close()"
   ]
  },
  {
   "cell_type": "code",
   "execution_count": 54,
   "metadata": {},
   "outputs": [],
   "source": [
    "load_data('data6.csv', 'data6p_index.csv', 'patient_diagnosis.csv')"
   ]
  },
  {
   "cell_type": "markdown",
   "metadata": {},
   "source": [
    "## Data Analysis and Model Generation"
   ]
  },
  {
   "cell_type": "code",
   "execution_count": 3,
   "metadata": {},
   "outputs": [
    {
     "data": {
      "text/html": [
       "<div>\n",
       "<style scoped>\n",
       "    .dataframe tbody tr th:only-of-type {\n",
       "        vertical-align: middle;\n",
       "    }\n",
       "\n",
       "    .dataframe tbody tr th {\n",
       "        vertical-align: top;\n",
       "    }\n",
       "\n",
       "    .dataframe thead th {\n",
       "        text-align: right;\n",
       "    }\n",
       "</style>\n",
       "<table border=\"1\" class=\"dataframe\">\n",
       "  <thead>\n",
       "    <tr style=\"text-align: right;\">\n",
       "      <th></th>\n",
       "      <th>1</th>\n",
       "      <th>2</th>\n",
       "      <th>3</th>\n",
       "      <th>4</th>\n",
       "      <th>5</th>\n",
       "      <th>6</th>\n",
       "      <th>7</th>\n",
       "      <th>8</th>\n",
       "      <th>9</th>\n",
       "      <th>10</th>\n",
       "      <th>...</th>\n",
       "      <th>992</th>\n",
       "      <th>993</th>\n",
       "      <th>994</th>\n",
       "      <th>995</th>\n",
       "      <th>996</th>\n",
       "      <th>997</th>\n",
       "      <th>998</th>\n",
       "      <th>999</th>\n",
       "      <th>1000</th>\n",
       "      <th>1001</th>\n",
       "    </tr>\n",
       "    <tr>\n",
       "      <th>0</th>\n",
       "      <th></th>\n",
       "      <th></th>\n",
       "      <th></th>\n",
       "      <th></th>\n",
       "      <th></th>\n",
       "      <th></th>\n",
       "      <th></th>\n",
       "      <th></th>\n",
       "      <th></th>\n",
       "      <th></th>\n",
       "      <th></th>\n",
       "      <th></th>\n",
       "      <th></th>\n",
       "      <th></th>\n",
       "      <th></th>\n",
       "      <th></th>\n",
       "      <th></th>\n",
       "      <th></th>\n",
       "      <th></th>\n",
       "      <th></th>\n",
       "      <th></th>\n",
       "    </tr>\n",
       "  </thead>\n",
       "  <tbody>\n",
       "    <tr>\n",
       "      <th>I01</th>\n",
       "      <td>0.004285</td>\n",
       "      <td>-0.007575</td>\n",
       "      <td>-0.020616</td>\n",
       "      <td>-0.033140</td>\n",
       "      <td>-0.043970</td>\n",
       "      <td>-0.053890</td>\n",
       "      <td>-0.063686</td>\n",
       "      <td>-0.074009</td>\n",
       "      <td>-0.085645</td>\n",
       "      <td>-0.099509</td>\n",
       "      <td>...</td>\n",
       "      <td>0.001892</td>\n",
       "      <td>-0.006245</td>\n",
       "      <td>-0.015037</td>\n",
       "      <td>-0.025137</td>\n",
       "      <td>-0.035107</td>\n",
       "      <td>-0.046517</td>\n",
       "      <td>-0.058581</td>\n",
       "      <td>-0.069209</td>\n",
       "      <td>-0.079315</td>\n",
       "      <td>CAD</td>\n",
       "    </tr>\n",
       "    <tr>\n",
       "      <th>I01</th>\n",
       "      <td>-0.052737</td>\n",
       "      <td>-0.046652</td>\n",
       "      <td>-0.040043</td>\n",
       "      <td>-0.033956</td>\n",
       "      <td>-0.029176</td>\n",
       "      <td>-0.026095</td>\n",
       "      <td>-0.024974</td>\n",
       "      <td>-0.025813</td>\n",
       "      <td>-0.027044</td>\n",
       "      <td>-0.027621</td>\n",
       "      <td>...</td>\n",
       "      <td>-0.053724</td>\n",
       "      <td>-0.035156</td>\n",
       "      <td>-0.007698</td>\n",
       "      <td>0.029043</td>\n",
       "      <td>0.075459</td>\n",
       "      <td>0.126321</td>\n",
       "      <td>0.174309</td>\n",
       "      <td>0.213541</td>\n",
       "      <td>0.238264</td>\n",
       "      <td>CAD</td>\n",
       "    </tr>\n",
       "    <tr>\n",
       "      <th>I01</th>\n",
       "      <td>0.010793</td>\n",
       "      <td>0.012270</td>\n",
       "      <td>0.013614</td>\n",
       "      <td>0.013778</td>\n",
       "      <td>0.012110</td>\n",
       "      <td>0.007432</td>\n",
       "      <td>0.000007</td>\n",
       "      <td>-0.009905</td>\n",
       "      <td>-0.022172</td>\n",
       "      <td>-0.035096</td>\n",
       "      <td>...</td>\n",
       "      <td>-0.028497</td>\n",
       "      <td>-0.027511</td>\n",
       "      <td>-0.026785</td>\n",
       "      <td>-0.026842</td>\n",
       "      <td>-0.026898</td>\n",
       "      <td>-0.025514</td>\n",
       "      <td>-0.021906</td>\n",
       "      <td>-0.020520</td>\n",
       "      <td>-0.021615</td>\n",
       "      <td>CAD</td>\n",
       "    </tr>\n",
       "    <tr>\n",
       "      <th>I01</th>\n",
       "      <td>-0.067701</td>\n",
       "      <td>-0.051696</td>\n",
       "      <td>-0.036475</td>\n",
       "      <td>-0.024784</td>\n",
       "      <td>-0.016492</td>\n",
       "      <td>-0.009899</td>\n",
       "      <td>-0.006443</td>\n",
       "      <td>-0.005732</td>\n",
       "      <td>-0.004891</td>\n",
       "      <td>-0.002742</td>\n",
       "      <td>...</td>\n",
       "      <td>0.211233</td>\n",
       "      <td>0.205521</td>\n",
       "      <td>0.197453</td>\n",
       "      <td>0.187944</td>\n",
       "      <td>0.177387</td>\n",
       "      <td>0.164866</td>\n",
       "      <td>0.150643</td>\n",
       "      <td>0.136025</td>\n",
       "      <td>0.122188</td>\n",
       "      <td>CAD</td>\n",
       "    </tr>\n",
       "    <tr>\n",
       "      <th>I01</th>\n",
       "      <td>-0.002610</td>\n",
       "      <td>-0.026956</td>\n",
       "      <td>-0.050908</td>\n",
       "      <td>-0.074464</td>\n",
       "      <td>-0.096187</td>\n",
       "      <td>-0.113463</td>\n",
       "      <td>-0.126160</td>\n",
       "      <td>-0.134933</td>\n",
       "      <td>-0.138866</td>\n",
       "      <td>-0.136652</td>\n",
       "      <td>...</td>\n",
       "      <td>-0.092632</td>\n",
       "      <td>-0.100752</td>\n",
       "      <td>-0.105213</td>\n",
       "      <td>-0.103531</td>\n",
       "      <td>-0.095053</td>\n",
       "      <td>-0.081085</td>\n",
       "      <td>-0.060583</td>\n",
       "      <td>-0.033153</td>\n",
       "      <td>-0.001410</td>\n",
       "      <td>CAD</td>\n",
       "    </tr>\n",
       "  </tbody>\n",
       "</table>\n",
       "<p>5 rows × 1001 columns</p>\n",
       "</div>"
      ],
      "text/plain": [
       "         1         2         3         4         5         6         7     \\\n",
       "0                                                                           \n",
       "I01  0.004285 -0.007575 -0.020616 -0.033140 -0.043970 -0.053890 -0.063686   \n",
       "I01 -0.052737 -0.046652 -0.040043 -0.033956 -0.029176 -0.026095 -0.024974   \n",
       "I01  0.010793  0.012270  0.013614  0.013778  0.012110  0.007432  0.000007   \n",
       "I01 -0.067701 -0.051696 -0.036475 -0.024784 -0.016492 -0.009899 -0.006443   \n",
       "I01 -0.002610 -0.026956 -0.050908 -0.074464 -0.096187 -0.113463 -0.126160   \n",
       "\n",
       "         8         9         10    ...      992       993       994   \\\n",
       "0                                  ...                                 \n",
       "I01 -0.074009 -0.085645 -0.099509  ...  0.001892 -0.006245 -0.015037   \n",
       "I01 -0.025813 -0.027044 -0.027621  ... -0.053724 -0.035156 -0.007698   \n",
       "I01 -0.009905 -0.022172 -0.035096  ... -0.028497 -0.027511 -0.026785   \n",
       "I01 -0.005732 -0.004891 -0.002742  ...  0.211233  0.205521  0.197453   \n",
       "I01 -0.134933 -0.138866 -0.136652  ... -0.092632 -0.100752 -0.105213   \n",
       "\n",
       "         995       996       997       998       999       1000  1001  \n",
       "0                                                                      \n",
       "I01 -0.025137 -0.035107 -0.046517 -0.058581 -0.069209 -0.079315   CAD  \n",
       "I01  0.029043  0.075459  0.126321  0.174309  0.213541  0.238264   CAD  \n",
       "I01 -0.026842 -0.026898 -0.025514 -0.021906 -0.020520 -0.021615   CAD  \n",
       "I01  0.187944  0.177387  0.164866  0.150643  0.136025  0.122188   CAD  \n",
       "I01 -0.103531 -0.095053 -0.081085 -0.060583 -0.033153 -0.001410   CAD  \n",
       "\n",
       "[5 rows x 1001 columns]"
      ]
     },
     "execution_count": 3,
     "metadata": {},
     "output_type": "execute_result"
    }
   ],
   "source": [
    "full_data = pd.read_csv('default_file.csv', header=None)\n",
    "full_data = full_data.set_index(0)\n",
    "full_data.head()"
   ]
  },
  {
   "cell_type": "code",
   "execution_count": 4,
   "metadata": {},
   "outputs": [
    {
     "data": {
      "text/plain": [
       "Other    4400\n",
       "CAD      1400\n",
       "TIA       700\n",
       "MI        600\n",
       "Name: Label, dtype: int64"
      ]
     },
     "execution_count": 4,
     "metadata": {},
     "output_type": "execute_result"
    }
   ],
   "source": [
    "full_data = full_data.rename(columns=lambda x: \"Col\"+str(x))\n",
    "full_data = full_data.rename(columns={\"Col1001\": \"Label\"})\n",
    "\n",
    "full_data['Label'] = full_data['Label'].replace({' Other':'Other'})\n",
    "full_data['Label'].value_counts()"
   ]
  },
  {
   "cell_type": "code",
   "execution_count": 113,
   "metadata": {},
   "outputs": [],
   "source": [
    "def generate_pie_plot(frame, category_list=None):\n",
    "    proportions = []\n",
    "    names = list(frame.index)\n",
    "    if category_list is not None:\n",
    "        #category_list = category_list.values\n",
    "        names = [category_list[i] for i in names]\n",
    "    counts = list(frame)\n",
    "    sz = sum(counts)\n",
    "    for i,c in enumerate(counts):\n",
    "        prop = c\n",
    "        print(f\"Proportion of data in class {names[i]} is {prop} : {prop/sz*100:0.2f} %\")\n",
    "        proportions.append(prop)\n",
    "\n",
    "    colors = ['#003f5c', '#58508d' , '#bc5090', '#ff6361']\n",
    "\n",
    "    fig, ax = plt.subplots()\n",
    "    ax.pie(proportions, labels=names, autopct='%1.1f%%', colors = colors, textprops={'color':\"gray\"})\n",
    "    ax.axis('equal')  # Equal aspect ratio ensures the pie chart is circular.\n",
    "    ax.set_title('Categories (Heart beats)', color='gray')\n",
    "\n",
    "    plt.show()"
   ]
  },
  {
   "cell_type": "code",
   "execution_count": 114,
   "metadata": {},
   "outputs": [
    {
     "name": "stdout",
     "output_type": "stream",
     "text": [
      "Proportion of data in class Other is 4400 : 61.97 %\n",
      "Proportion of data in class CAD is 1400 : 19.72 %\n",
      "Proportion of data in class TIA is 700 : 9.86 %\n",
      "Proportion of data in class MI is 600 : 8.45 %\n"
     ]
    },
    {
     "data": {
      "image/png": "[encoded data removed]",
      "text/plain": [
       "<Figure size 432x288 with 1 Axes>"
      ]
     },
     "metadata": {},
     "output_type": "display_data"
    }
   ],
   "source": [
    "generate_pie_plot(full_data['Label'].value_counts())"
   ]
  },
  {
   "cell_type": "markdown",
   "metadata": {},
   "source": [
    "#### Seperate into the train and the test data. Use Stratify = y to make sure the proportions are preserved"
   ]
  },
  {
   "cell_type": "code",
   "execution_count": 115,
   "metadata": {},
   "outputs": [],
   "source": [
    "from sklearn.model_selection import train_test_split\n",
    "\n",
    "# sepearte out target and input features\n",
    "X = full_data.drop(['Label'], axis=1)\n",
    "y_cat_codes, y_cat_string = pd.factorize(full_data['Label'])\n",
    "y = pd.DataFrame(y_cat_codes, columns=['Label'], index=X.index)\n",
    "\n",
    "# split the data into train and test set\n",
    "X_train, X_test, y_train, y_test = train_test_split(X,y, stratify=y, test_size=0.20, random_state=10 )"
   ]
  },
  {
   "cell_type": "code",
   "execution_count": 116,
   "metadata": {},
   "outputs": [
    {
     "name": "stdout",
     "output_type": "stream",
     "text": [
      "Proportion of data in class Other is 3520 : 61.97 %\n",
      "Proportion of data in class CAD is 1120 : 19.72 %\n",
      "Proportion of data in class TIA is 560 : 9.86 %\n",
      "Proportion of data in class MI is 480 : 8.45 %\n"
     ]
    },
    {
     "data": {
      "image/png": "[encoded data removed]",
      "text/plain": [
       "<Figure size 432x288 with 1 Axes>"
      ]
     },
     "metadata": {},
     "output_type": "display_data"
    }
   ],
   "source": [
    "generate_pie_plot(y_train.value_counts(), y_cat_string)"
   ]
  },
  {
   "cell_type": "code",
   "execution_count": 118,
   "metadata": {},
   "outputs": [
    {
     "name": "stdout",
     "output_type": "stream",
     "text": [
      "Proportion of data in class Other is 880 : 61.97 %\n",
      "Proportion of data in class CAD is 280 : 19.72 %\n",
      "Proportion of data in class TIA is 140 : 9.86 %\n",
      "Proportion of data in class MI is 120 : 8.45 %\n"
     ]
    },
    {
     "data": {
      "image/png": "[encoded data removed]",
      "text/plain": [
       "<Figure size 432x288 with 1 Axes>"
      ]
     },
     "metadata": {},
     "output_type": "display_data"
    }
   ],
   "source": [
    "generate_pie_plot(y_test.value_counts(), y_cat_string)"
   ]
  },
  {
   "cell_type": "markdown",
   "metadata": {},
   "source": [
    "### Artificial Neural Network model"
   ]
  },
  {
   "cell_type": "code",
   "execution_count": 11,
   "metadata": {},
   "outputs": [],
   "source": [
    "from sklearn.metrics import roc_auc_score\n",
    "from sklearn import preprocessing\n",
    "from keras.layers import Dense\n",
    "from keras.models import Sequential\n",
    "from keras.utils.np_utils import to_categorical"
   ]
  },
  {
   "cell_type": "code",
   "execution_count": 176,
   "metadata": {},
   "outputs": [
    {
     "data": {
      "text/plain": [
       "Index(['CAD', 'MI', 'TIA', 'Other'], dtype='object')"
      ]
     },
     "execution_count": 176,
     "metadata": {},
     "output_type": "execute_result"
    }
   ],
   "source": [
    "y_cat_string"
   ]
  },
  {
   "cell_type": "code",
   "execution_count": 177,
   "metadata": {},
   "outputs": [
    {
     "name": "stdout",
     "output_type": "stream",
     "text": [
      "ROC AUC: 0.735\n"
     ]
    }
   ],
   "source": [
    "# define the neural network model\n",
    "def define_model(n_input):\n",
    "\t# define model\n",
    "\tmodel = Sequential()\n",
    "\t# define first hidden layer and visible layer\n",
    "\tmodel.add(Dense(10, input_dim=n_input, activation='relu', kernel_initializer='he_uniform'))\n",
    "\t# define output layer\n",
    "\tmodel.add(Dense(4, activation='softmax'))\n",
    "\t# define loss and optimizer\n",
    "\tmodel.compile(loss='categorical_crossentropy',  optimizer='adam', metrics=['accuracy'])\n",
    "\treturn model\n",
    "\n",
    "trainX = X_train.values\n",
    "trainy = to_categorical(y_train)\n",
    "testX = X_test.values\n",
    "testy = to_categorical(y_test)\n",
    "\n",
    "# get the model\n",
    "n_input = trainX.shape[1]\n",
    "model = define_model(n_input)\n",
    "\n",
    "# fit model\n",
    "weights = {0:(5680/(4*1120)), 1:(5680/(4*480)), 2:(5680/(4*560)), 3:(5680/(4*3520))}\n",
    "history = model.fit(trainX, trainy, class_weight=weights, epochs=100, verbose=0)\n",
    "\n",
    "# evaluate model\n",
    "yhat = model.predict(testX)\n",
    "score = roc_auc_score(testy, yhat)\n",
    "print('ROC AUC: %.3f' % score)"
   ]
  },
  {
   "cell_type": "code",
   "execution_count": 178,
   "metadata": {},
   "outputs": [],
   "source": [
    "from sklearn.metrics import accuracy_score\n",
    "\n",
    "def Accuracy_ConfusionMatrix(model, testX, testY, categories):\n",
    "    y_predicted= model.predict(testX) \n",
    "    y_predicted = np.argmax(y_predicted, axis=1)\n",
    "    testY = np.argmax(testY, axis=1)\n",
    "    print(f\"Accuracy of the model is {accuracy_score(testY, y_predicted)}\")\n",
    "    confusion_matrix = pd.crosstab(testY, y_predicted, rownames=['Actual'], colnames=['Predicted'])\n",
    "    print(confusion_matrix)\n",
    "    print(\"Sensitivity of model for individual classes\")\n",
    "    class_sum = np.sum(confusion_matrix, axis=1)\n",
    "    for c,i in enumerate(categories):\n",
    "        #print(f\"{c} {i}\")\n",
    "        print(f\"Class {i} : {confusion_matrix[c][c]/class_sum[c]}\")"
   ]
  },
  {
   "cell_type": "code",
   "execution_count": 179,
   "metadata": {},
   "outputs": [
    {
     "name": "stdout",
     "output_type": "stream",
     "text": [
      "Accuracy of the model is 0.47464788732394364\n",
      "Predicted    0   1    2    3\n",
      "Actual                      \n",
      "0          112  15   40  113\n",
      "1           15  69    4   32\n",
      "2           26   9   86   19\n",
      "3          253  92  128  407\n",
      "Sensitivity of model for individual classes\n",
      "Class CAD : 0.4\n",
      "Class MI : 0.575\n",
      "Class TIA : 0.6142857142857143\n",
      "Class Other : 0.4625\n"
     ]
    }
   ],
   "source": [
    "Accuracy_ConfusionMatrix(model, testX, testy, y_cat_string)"
   ]
  },
  {
   "cell_type": "markdown",
   "metadata": {},
   "source": [
    "### Convolution Neural Network Model"
   ]
  },
  {
   "cell_type": "code",
   "execution_count": 128,
   "metadata": {},
   "outputs": [],
   "source": [
    "from keras import Input, Model\n",
    "from keras.layers import Convolution1D, MaxPool1D, BatchNormalization, Flatten, Dropout\n",
    "from keras.callbacks import EarlyStopping, ModelCheckpoint"
   ]
  },
  {
   "cell_type": "code",
   "execution_count": 188,
   "metadata": {},
   "outputs": [],
   "source": [
    "def network(X_train,y_train,X_test,y_test):\n",
    "    im_shape=(X_train.shape[1],1)\n",
    "    inputs_cnn=Input(shape=(im_shape), name='inputs_cnn')\n",
    "    conv1_1=Convolution1D(64, (6), activation='relu', input_shape=im_shape)(inputs_cnn)\n",
    "    conv1_1=BatchNormalization()(conv1_1)\n",
    "    pool1=MaxPool1D(pool_size=(3), strides=(2), padding=\"same\")(conv1_1)\n",
    "    conv2_1=Convolution1D(64, (3), activation='relu', input_shape=im_shape)(pool1)\n",
    "    conv2_1=BatchNormalization()(conv2_1)\n",
    "    pool2=MaxPool1D(pool_size=(2), strides=(2), padding=\"same\")(conv2_1)\n",
    "    conv3_1=Convolution1D(64, (3), activation='relu', input_shape=im_shape)(pool2)\n",
    "    conv3_1=BatchNormalization()(conv3_1)\n",
    "    pool3=MaxPool1D(pool_size=(2), strides=(2), padding=\"same\")(conv3_1)\n",
    "    flatten=Flatten()(pool3)\n",
    "    dense_end1 = Dense(64, activation='relu')(flatten)\n",
    "    dense_end1 = Dropout(0.5)(dense_end1)\n",
    "    dense_end2 = Dense(32, activation='relu')(dense_end1)\n",
    "    dense_end2 = Dropout(0.5)(dense_end2)\n",
    "    main_output = Dense(4, activation='softmax', name='main_output')(dense_end2)\n",
    "    \n",
    "    model = Model(inputs= inputs_cnn, outputs=main_output)\n",
    "    model.compile(optimizer='adam', loss='categorical_crossentropy',metrics = ['accuracy'])\n",
    "    \n",
    "    callbacks = [EarlyStopping(monitor='val_loss', mode='min',patience=8),\n",
    "             ModelCheckpoint(filepath='best_model.h5', monitor='val_loss', save_best_only=True)]\n",
    "\n",
    "    weights = {0:(5680/(4*1120)), 1:(5680/(4*480)), 2:(5680/(4*560)), 3:(5680/(4*3520))}\n",
    "    history=model.fit(X_train, y_train,epochs=25,callbacks=callbacks, class_weight = weights, batch_size=32,validation_split=0.1)\n",
    "  \n",
    "    model.load_weights('best_model.h5')\n",
    "    return(model,history)"
   ]
  },
  {
   "cell_type": "code",
   "execution_count": 189,
   "metadata": {},
   "outputs": [
    {
     "name": "stdout",
     "output_type": "stream",
     "text": [
      "(5680, 1000, 1) (1420, 1000, 1)\n",
      "Epoch 1/25\n",
      "160/160 [==============================] - 3s 13ms/step - loss: 1.9021 - accuracy: 0.2784 - val_loss: 5.5960 - val_accuracy: 0.0739\n",
      "Epoch 2/25\n",
      "160/160 [==============================] - 2s 11ms/step - loss: 1.3560 - accuracy: 0.3179 - val_loss: 2.0783 - val_accuracy: 0.0810\n",
      "Epoch 3/25\n",
      "160/160 [==============================] - 2s 11ms/step - loss: 1.1734 - accuracy: 0.3746 - val_loss: 1.5948 - val_accuracy: 0.1901\n",
      "Epoch 4/25\n",
      "160/160 [==============================] - 2s 11ms/step - loss: 1.0149 - accuracy: 0.4075 - val_loss: 1.4395 - val_accuracy: 0.2852\n",
      "Epoch 5/25\n",
      "160/160 [==============================] - 2s 12ms/step - loss: 0.9083 - accuracy: 0.4797 - val_loss: 1.2850 - val_accuracy: 0.3926\n",
      "Epoch 6/25\n",
      "160/160 [==============================] - 2s 11ms/step - loss: 0.8049 - accuracy: 0.5563 - val_loss: 0.8254 - val_accuracy: 0.5616\n",
      "Epoch 7/25\n",
      "160/160 [==============================] - 2s 11ms/step - loss: 0.7133 - accuracy: 0.5992 - val_loss: 1.0416 - val_accuracy: 0.3908\n",
      "Epoch 8/25\n",
      "160/160 [==============================] - 2s 11ms/step - loss: 0.6755 - accuracy: 0.6424 - val_loss: 0.8828 - val_accuracy: 0.5440\n",
      "Epoch 9/25\n",
      "160/160 [==============================] - 2s 12ms/step - loss: 0.6077 - accuracy: 0.6811 - val_loss: 0.6888 - val_accuracy: 0.7430\n",
      "Epoch 10/25\n",
      "160/160 [==============================] - 2s 11ms/step - loss: 0.5057 - accuracy: 0.7478 - val_loss: 0.6143 - val_accuracy: 0.7940\n",
      "Epoch 11/25\n",
      "160/160 [==============================] - 2s 11ms/step - loss: 0.4744 - accuracy: 0.7674 - val_loss: 0.5230 - val_accuracy: 0.7676\n",
      "Epoch 12/25\n",
      "160/160 [==============================] - 2s 11ms/step - loss: 0.4490 - accuracy: 0.7936 - val_loss: 0.6271 - val_accuracy: 0.7746\n",
      "Epoch 13/25\n",
      "160/160 [==============================] - 2s 11ms/step - loss: 0.4159 - accuracy: 0.8200 - val_loss: 0.5011 - val_accuracy: 0.8521\n",
      "Epoch 14/25\n",
      "160/160 [==============================] - 2s 11ms/step - loss: 0.3924 - accuracy: 0.8380 - val_loss: 0.5496 - val_accuracy: 0.8134\n",
      "Epoch 15/25\n",
      "160/160 [==============================] - 2s 11ms/step - loss: 0.3739 - accuracy: 0.8511 - val_loss: 0.4576 - val_accuracy: 0.8539\n",
      "Epoch 16/25\n",
      "160/160 [==============================] - 2s 11ms/step - loss: 0.3609 - accuracy: 0.8682 - val_loss: 0.3154 - val_accuracy: 0.9278\n",
      "Epoch 17/25\n",
      "160/160 [==============================] - 2s 11ms/step - loss: 0.3170 - accuracy: 0.8955 - val_loss: 0.7623 - val_accuracy: 0.7165\n",
      "Epoch 18/25\n",
      "160/160 [==============================] - 2s 11ms/step - loss: 0.2894 - accuracy: 0.8914 - val_loss: 0.5528 - val_accuracy: 0.8099\n",
      "Epoch 19/25\n",
      "160/160 [==============================] - 2s 11ms/step - loss: 0.2723 - accuracy: 0.8950 - val_loss: 0.6941 - val_accuracy: 0.7289\n",
      "Epoch 20/25\n",
      "160/160 [==============================] - 2s 11ms/step - loss: 0.2444 - accuracy: 0.9098 - val_loss: 1.3305 - val_accuracy: 0.7658\n",
      "Epoch 21/25\n",
      "160/160 [==============================] - 2s 11ms/step - loss: 0.2738 - accuracy: 0.9075 - val_loss: 0.8137 - val_accuracy: 0.6690\n",
      "Epoch 22/25\n",
      "160/160 [==============================] - 2s 11ms/step - loss: 0.2428 - accuracy: 0.9124 - val_loss: 0.3328 - val_accuracy: 0.9085\n",
      "Epoch 23/25\n",
      "160/160 [==============================] - 2s 11ms/step - loss: 0.2056 - accuracy: 0.9309 - val_loss: 0.0915 - val_accuracy: 0.9859\n",
      "Epoch 24/25\n",
      "160/160 [==============================] - 2s 11ms/step - loss: 0.2333 - accuracy: 0.9266 - val_loss: 0.5476 - val_accuracy: 0.8275\n",
      "Epoch 25/25\n",
      "160/160 [==============================] - 2s 11ms/step - loss: 0.1705 - accuracy: 0.9472 - val_loss: 0.1685 - val_accuracy: 0.9507\n"
     ]
    }
   ],
   "source": [
    "trainX = X_train.values\n",
    "testX = X_test.values\n",
    "trainX =  trainX.reshape(len(trainX), trainX.shape[1],1)\n",
    "testX = testX.reshape(len(testX), testX.shape[1],1)\n",
    "print(trainX.shape,testX.shape)\n",
    "\n",
    "model,history=network(trainX,trainy,testX,testy)"
   ]
  },
  {
   "cell_type": "code",
   "execution_count": 190,
   "metadata": {},
   "outputs": [
    {
     "name": "stdout",
     "output_type": "stream",
     "text": [
      "Train: 0.997, Test: 0.990\n"
     ]
    },
    {
     "data": {
      "image/png": "[encoded data removed]",
      "text/plain": [
       "<Figure size 432x288 with 1 Axes>"
      ]
     },
     "metadata": {
      "needs_background": "light"
     },
     "output_type": "display_data"
    }
   ],
   "source": [
    "# evaluate the model\n",
    "\n",
    "_, train_acc = model.evaluate(trainX, trainy, verbose=0)\n",
    "_, test_acc = model.evaluate(testX, testy, verbose=0)\n",
    "print('Train: %.3f, Test: %.3f' % (train_acc, test_acc))\n",
    "# plot training history\n",
    "plt.plot(history.history['loss'], label='train')\n",
    "plt.plot(history.history['val_loss'], label='test')\n",
    "plt.legend()\n",
    "plt.show()"
   ]
  },
  {
   "cell_type": "code",
   "execution_count": 191,
   "metadata": {},
   "outputs": [
    {
     "data": {
      "image/png": "[encoded data removed]",
      "text/plain": [
       "<Figure size 432x288 with 1 Axes>"
      ]
     },
     "metadata": {
      "needs_background": "light"
     },
     "output_type": "display_data"
    }
   ],
   "source": [
    "# plot training history\n",
    "plt.plot(history.history['accuracy'], label='train')\n",
    "plt.plot(history.history['val_accuracy'], label='test')\n",
    "plt.legend()\n",
    "plt.show()"
   ]
  },
  {
   "cell_type": "code",
   "execution_count": 192,
   "metadata": {},
   "outputs": [
    {
     "name": "stdout",
     "output_type": "stream",
     "text": [
      "Accuracy of the model is 0.9901408450704225\n",
      "Predicted    0    1    2    3\n",
      "Actual                       \n",
      "0          279    0    0    1\n",
      "1            0  115    0    5\n",
      "2            0    0  138    2\n",
      "3            4    1    1  874\n",
      "Sensitivity of model for individual classes\n",
      "Class CAD : 0.9964285714285714\n",
      "Class MI : 0.9583333333333334\n",
      "Class TIA : 0.9857142857142858\n",
      "Class Other : 0.9931818181818182\n"
     ]
    }
   ],
   "source": [
    "Accuracy_ConfusionMatrix(model, testX, testy, y_cat_string)"
   ]
  },
  {
   "cell_type": "code",
   "execution_count": 193,
   "metadata": {},
   "outputs": [
    {
     "name": "stdout",
     "output_type": "stream",
     "text": [
      "Baseline Accuracy on test data is 0.6197183098591549\n"
     ]
    }
   ],
   "source": [
    "print(f\"Baseline Accuracy on test data is {y_test.Label.value_counts()[3]/len(y_test.Label)}\")"
   ]
  },
  {
   "cell_type": "markdown",
   "metadata": {},
   "source": [
    "## Summary"
   ]
  },
  {
   "cell_type": "markdown",
   "metadata": {},
   "source": [
    "Baseline Accuracy=0.61\n",
    "Accuracy with ANN=0.47\n",
    "Accuracy with a 1D-CNN=0.88\n",
    "\n",
    "Artificial neural Network is not able to capture the class seperation even after running the training at 100 epochs. The results are worse than the baseline accuracy. \n",
    "1D-CNN is able to capture the class seperation within 25 epochs. It also gives good accuracy on individual classes. The plots do not show any overfitting.\n",
    "\n",
    "Individual class accuracy's for ANN and 1D-CNN are summarized below:\n",
    "Summary:\n",
    "|  Model               | ANN       | CNN         |\n",
    "|----------------------|-----------|-------------|\n",
    "|  Other               |   0.46    | 0.99        |\n",
    "|  TIA                 |   0.61    | 0.98        |\n",
    "|  MI                  |   0.57    | 0.95        |\n",
    "|  CAD                 |   0.4     | 0.99        |"
   ]
  },
  {
   "cell_type": "markdown",
   "metadata": {},
   "source": [
    "### Misc"
   ]
  },
  {
   "cell_type": "code",
   "execution_count": 105,
   "metadata": {},
   "outputs": [],
   "source": [
    "signals, fields = wfdb.rdsamp('c:\\\\Workspace\\\\Practice\\\\Python\\\\MLSH_projects\\\\tmp_dl_dir\\\\I19', channels=[6])"
   ]
  },
  {
   "cell_type": "code",
   "execution_count": 104,
   "metadata": {},
   "outputs": [
    {
     "name": "stdout",
     "output_type": "stream",
     "text": [
      "{'fs': 257, 'sig_len': 462600, 'n_sig': 1, 'base_date': None, 'base_time': None, 'units': ['mV'], 'sig_name': ['V5'], 'comments': ['<age>: 18 <sex>: F', 'patient 9', 'ventricular trigeminy, PVCs']}\n"
     ]
    }
   ],
   "source": [
    "print(fields)"
   ]
  },
  {
   "cell_type": "code",
   "execution_count": 106,
   "metadata": {},
   "outputs": [],
   "source": [
    "signals_clean, info = nk.ecg_process(signals.flatten() , sampling_rate=257)\n"
   ]
  }
 ],
 "metadata": {
  "interpreter": {
   "hash": "122e7a0fd83f18c3d96edddb5292ff36c59e17165c73381b3671c82ce58ff3d4"
  },
  "kernelspec": {
   "display_name": "Python 3.8.5 64-bit ('MLSH_projects-OhkKaBlK': pipenv)",
   "language": "python",
   "name": "python3"
  },
  "language_info": {
   "codemirror_mode": {
    "name": "ipython",
    "version": 3
   },
   "file_extension": ".py",
   "mimetype": "text/x-python",
   "name": "python",
   "nbconvert_exporter": "python",
   "pygments_lexer": "ipython3",
   "version": "3.8.5"
  },
  "orig_nbformat": 4
 },
 "nbformat": 4,
 "nbformat_minor": 2
}
