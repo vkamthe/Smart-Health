{
 "cells": [
  {
   "cell_type": "code",
   "execution_count": null,
   "id": "6934f534",
   "metadata": {},
   "outputs": [],
   "source": [
    "import pandas as pd\n",
    "import numpy as np\n",
    "import matplotlib.pyplot as plt\n",
    "import seaborn as sns\n",
    "\n",
    "from sklearn.model_selection import train_test_split\n",
    "from sklearn.preprocessing import StandardScaler\n",
    "from sklearn.decomposition import PCA\n",
    "from sklearn.pipeline import Pipeline\n",
    "from sklearn.model_selection import GridSearchCV\n",
    "from sklearn.metrics import accuracy_score\n",
    "from sklearn.linear_model import LogisticRegression\n",
    "from sklearn.ensemble import RandomForestClassifier\n",
    "from sklearn import svm"
   ]
  },
  {
   "cell_type": "code",
   "execution_count": null,
   "id": "dbffa952",
   "metadata": {},
   "outputs": [],
   "source": [
    "#set your path\n",
    "train_path = ''\n",
    "test_path = ''\n",
    "\n",
    "train = pd.read_csv(train_path,sep = ',',header=None)\n",
    "test = pd.read_csv(test_path,sep = ',',header=None)"
   ]
  },
  {
   "cell_type": "code",
   "execution_count": null,
   "id": "8d41a5b0",
   "metadata": {},
   "outputs": [],
   "source": [
    "train.head()"
   ]
  },
  {
   "cell_type": "code",
   "execution_count": null,
   "id": "00bdfbe6",
   "metadata": {},
   "outputs": [],
   "source": [
    "y_train = train.iloc[:,-1]\n",
    "X_train = train.drop(train.columns[-1], axis=1)\n",
    "\n",
    "y_test = test.iloc[:,-1]\n",
    "X_test = test.drop(test.columns[-1], axis=1)"
   ]
  },
  {
   "cell_type": "markdown",
   "id": "b8728e43",
   "metadata": {},
   "source": [
    "# Construct pipelines\n"
   ]
  },
  {
   "cell_type": "code",
   "execution_count": null,
   "id": "c4580f62",
   "metadata": {},
   "outputs": [],
   "source": [
    "# Construct some pipelines\n",
    "pipe_lr = Pipeline([('scl', StandardScaler()),\n",
    "    ('clf', LogisticRegression(random_state=42))])\n",
    "\n",
    "pipe_rf = Pipeline([('scl', StandardScaler()),\n",
    "        ('clf', RandomForestClassifier(random_state=42))])\n",
    "\n",
    "pipe_svm = Pipeline([('scl', StandardScaler()),\n",
    "        ('clf', svm.SVC(random_state=42))])"
   ]
  },
  {
   "cell_type": "code",
   "execution_count": null,
   "id": "d4d32a91",
   "metadata": {},
   "outputs": [],
   "source": [
    "# Set grid search params\n",
    "param_range = [1,4]\n",
    "\n",
    "grid_params_lr = [{'clf__penalty': ['l1', 'l2']}]\n",
    "\n",
    "\n",
    "grid_params_rf = [{\n",
    "\n",
    "        'clf__max_depth': param_range}\n",
    "                 ]"
   ]
  },
  {
   "cell_type": "code",
   "execution_count": null,
   "id": "144ab15b",
   "metadata": {},
   "outputs": [],
   "source": [
    "# Construct grid searches\n",
    "jobs = 1-1\n",
    "\n",
    "gs_lr = GridSearchCV(estimator=pipe_lr,\n",
    "        param_grid=grid_params_lr,\n",
    "        scoring='accuracy',\n",
    "        cv=5) \n",
    "\n",
    "\n",
    "gs_rf = GridSearchCV(estimator=pipe_rf,\n",
    "        param_grid=grid_params_rf,\n",
    "        scoring='accuracy',\n",
    "        cv=5, \n",
    "        n_jobs=jobs)"
   ]
  },
  {
   "cell_type": "code",
   "execution_count": null,
   "id": "34057c2a",
   "metadata": {},
   "outputs": [],
   "source": [
    "# List of pipelines for ease of iteration\n",
    "grids = [gs_lr, gs_rf]\n",
    "\n",
    "# Dictionary of pipelines and classifier types for ease of reference\n",
    "grid_dict = {0: 'Logistic Regression', \n",
    "1: 'Random Forest'}"
   ]
  },
  {
   "cell_type": "markdown",
   "id": "c732e61a",
   "metadata": {},
   "source": [
    "# Training with Grid Search"
   ]
  },
  {
   "cell_type": "code",
   "execution_count": null,
   "id": "a1bb73bb",
   "metadata": {},
   "outputs": [],
   "source": [
    "# Fit the grid search objects\n",
    "print('Performing model optimizations...')\n",
    "best_acc = 0.0\n",
    "best_clf = 0\n",
    "best_gs = ''\n",
    "for idx, gs in enumerate(grids):\n",
    "    print('\\nEstimator: %s' % grid_dict[idx])\t\n",
    "    # Fit grid search\t\n",
    "    gs.fit(X_train, y_train)\n",
    "    # Best params\n",
    "    print('Best params: %s' % gs.best_params_)\n",
    "    # Best training data accuracy\n",
    "    print('Best training accuracy: %.3f' % gs.best_score_)\n",
    "    # Predict on test data with best params\n",
    "    y_pred = gs.predict(X_test)\n",
    "    # Test data accuracy of model with best params\n",
    "    print('Test set accuracy score for best params: %.3f ' % accuracy_score(y_test, y_pred))\n",
    "    # Track best (highest test accuracy) model\n",
    "    if accuracy_score(y_test, y_pred) > best_acc:\n",
    "        best_acc = accuracy_score(y_test, y_pred)\n",
    "        best_gs = gs\n",
    "        best_clf = idx\n",
    "print('\\nClassifier with best test set accuracy: %s' % grid_dict[best_clf])"
   ]
  },
  {
   "cell_type": "code",
   "execution_count": null,
   "id": "6af385f3",
   "metadata": {},
   "outputs": [],
   "source": []
  }
 ],
 "metadata": {
  "kernelspec": {
   "display_name": "Python 3",
   "language": "python",
   "name": "python3"
  },
  "language_info": {
   "codemirror_mode": {
    "name": "ipython",
    "version": 3
   },
   "file_extension": ".py",
   "mimetype": "text/x-python",
   "name": "python",
   "nbconvert_exporter": "python",
   "pygments_lexer": "ipython3",
   "version": "3.8.8"
  }
 },
 "nbformat": 4,
 "nbformat_minor": 5
}
