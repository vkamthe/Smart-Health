{
 "cells": [
  {
   "cell_type": "code",
   "execution_count": 2,
   "metadata": {},
   "outputs": [],
   "source": [
    "## Project 2 - Darshan Pai\n",
    "## Imports\n",
    "\n",
    "import pandas as pd\n",
    "import numpy as np\n",
    "import matplotlib.pyplot as plt\n"
   ]
  },
  {
   "cell_type": "code",
   "execution_count": 7,
   "metadata": {},
   "outputs": [],
   "source": [
    "## first load the training and the testing data\n",
    "data_train = pd.read_csv(\"mitbih_train.csv\", header=None)\n",
    "data_test = pd.read_csv(\"mitbih_test.csv\", header=None)"
   ]
  },
  {
   "cell_type": "code",
   "execution_count": 8,
   "metadata": {},
   "outputs": [
    {
     "data": {
      "text/html": [
       "<div>\n",
       "<style scoped>\n",
       "    .dataframe tbody tr th:only-of-type {\n",
       "        vertical-align: middle;\n",
       "    }\n",
       "\n",
       "    .dataframe tbody tr th {\n",
       "        vertical-align: top;\n",
       "    }\n",
       "\n",
       "    .dataframe thead th {\n",
       "        text-align: right;\n",
       "    }\n",
       "</style>\n",
       "<table border=\"1\" class=\"dataframe\">\n",
       "  <thead>\n",
       "    <tr style=\"text-align: right;\">\n",
       "      <th></th>\n",
       "      <th>Col0</th>\n",
       "      <th>Col1</th>\n",
       "      <th>Col2</th>\n",
       "      <th>Col3</th>\n",
       "      <th>Col4</th>\n",
       "      <th>Col5</th>\n",
       "      <th>Col6</th>\n",
       "      <th>Col7</th>\n",
       "      <th>Col8</th>\n",
       "      <th>Col9</th>\n",
       "      <th>...</th>\n",
       "      <th>Col178</th>\n",
       "      <th>Col179</th>\n",
       "      <th>Col180</th>\n",
       "      <th>Col181</th>\n",
       "      <th>Col182</th>\n",
       "      <th>Col183</th>\n",
       "      <th>Col184</th>\n",
       "      <th>Col185</th>\n",
       "      <th>Col186</th>\n",
       "      <th>Label</th>\n",
       "    </tr>\n",
       "  </thead>\n",
       "  <tbody>\n",
       "    <tr>\n",
       "      <th>0</th>\n",
       "      <td>0.977941</td>\n",
       "      <td>0.926471</td>\n",
       "      <td>0.681373</td>\n",
       "      <td>0.245098</td>\n",
       "      <td>0.154412</td>\n",
       "      <td>0.191176</td>\n",
       "      <td>0.151961</td>\n",
       "      <td>0.085784</td>\n",
       "      <td>0.058824</td>\n",
       "      <td>0.049020</td>\n",
       "      <td>...</td>\n",
       "      <td>0.0</td>\n",
       "      <td>0.0</td>\n",
       "      <td>0.0</td>\n",
       "      <td>0.0</td>\n",
       "      <td>0.0</td>\n",
       "      <td>0.0</td>\n",
       "      <td>0.0</td>\n",
       "      <td>0.0</td>\n",
       "      <td>0.0</td>\n",
       "      <td>0</td>\n",
       "    </tr>\n",
       "    <tr>\n",
       "      <th>1</th>\n",
       "      <td>0.960114</td>\n",
       "      <td>0.863248</td>\n",
       "      <td>0.461538</td>\n",
       "      <td>0.196581</td>\n",
       "      <td>0.094017</td>\n",
       "      <td>0.125356</td>\n",
       "      <td>0.099715</td>\n",
       "      <td>0.088319</td>\n",
       "      <td>0.074074</td>\n",
       "      <td>0.082621</td>\n",
       "      <td>...</td>\n",
       "      <td>0.0</td>\n",
       "      <td>0.0</td>\n",
       "      <td>0.0</td>\n",
       "      <td>0.0</td>\n",
       "      <td>0.0</td>\n",
       "      <td>0.0</td>\n",
       "      <td>0.0</td>\n",
       "      <td>0.0</td>\n",
       "      <td>0.0</td>\n",
       "      <td>0</td>\n",
       "    </tr>\n",
       "    <tr>\n",
       "      <th>2</th>\n",
       "      <td>1.000000</td>\n",
       "      <td>0.659459</td>\n",
       "      <td>0.186486</td>\n",
       "      <td>0.070270</td>\n",
       "      <td>0.070270</td>\n",
       "      <td>0.059459</td>\n",
       "      <td>0.056757</td>\n",
       "      <td>0.043243</td>\n",
       "      <td>0.054054</td>\n",
       "      <td>0.045946</td>\n",
       "      <td>...</td>\n",
       "      <td>0.0</td>\n",
       "      <td>0.0</td>\n",
       "      <td>0.0</td>\n",
       "      <td>0.0</td>\n",
       "      <td>0.0</td>\n",
       "      <td>0.0</td>\n",
       "      <td>0.0</td>\n",
       "      <td>0.0</td>\n",
       "      <td>0.0</td>\n",
       "      <td>0</td>\n",
       "    </tr>\n",
       "    <tr>\n",
       "      <th>3</th>\n",
       "      <td>0.925414</td>\n",
       "      <td>0.665746</td>\n",
       "      <td>0.541436</td>\n",
       "      <td>0.276243</td>\n",
       "      <td>0.196133</td>\n",
       "      <td>0.077348</td>\n",
       "      <td>0.071823</td>\n",
       "      <td>0.060773</td>\n",
       "      <td>0.066298</td>\n",
       "      <td>0.058011</td>\n",
       "      <td>...</td>\n",
       "      <td>0.0</td>\n",
       "      <td>0.0</td>\n",
       "      <td>0.0</td>\n",
       "      <td>0.0</td>\n",
       "      <td>0.0</td>\n",
       "      <td>0.0</td>\n",
       "      <td>0.0</td>\n",
       "      <td>0.0</td>\n",
       "      <td>0.0</td>\n",
       "      <td>0</td>\n",
       "    </tr>\n",
       "    <tr>\n",
       "      <th>4</th>\n",
       "      <td>0.967136</td>\n",
       "      <td>1.000000</td>\n",
       "      <td>0.830986</td>\n",
       "      <td>0.586854</td>\n",
       "      <td>0.356808</td>\n",
       "      <td>0.248826</td>\n",
       "      <td>0.145540</td>\n",
       "      <td>0.089202</td>\n",
       "      <td>0.117371</td>\n",
       "      <td>0.150235</td>\n",
       "      <td>...</td>\n",
       "      <td>0.0</td>\n",
       "      <td>0.0</td>\n",
       "      <td>0.0</td>\n",
       "      <td>0.0</td>\n",
       "      <td>0.0</td>\n",
       "      <td>0.0</td>\n",
       "      <td>0.0</td>\n",
       "      <td>0.0</td>\n",
       "      <td>0.0</td>\n",
       "      <td>0</td>\n",
       "    </tr>\n",
       "  </tbody>\n",
       "</table>\n",
       "<p>5 rows × 188 columns</p>\n",
       "</div>"
      ],
      "text/plain": [
       "       Col0      Col1      Col2      Col3      Col4      Col5      Col6  \\\n",
       "0  0.977941  0.926471  0.681373  0.245098  0.154412  0.191176  0.151961   \n",
       "1  0.960114  0.863248  0.461538  0.196581  0.094017  0.125356  0.099715   \n",
       "2  1.000000  0.659459  0.186486  0.070270  0.070270  0.059459  0.056757   \n",
       "3  0.925414  0.665746  0.541436  0.276243  0.196133  0.077348  0.071823   \n",
       "4  0.967136  1.000000  0.830986  0.586854  0.356808  0.248826  0.145540   \n",
       "\n",
       "       Col7      Col8      Col9  ...  Col178  Col179  Col180  Col181  Col182  \\\n",
       "0  0.085784  0.058824  0.049020  ...     0.0     0.0     0.0     0.0     0.0   \n",
       "1  0.088319  0.074074  0.082621  ...     0.0     0.0     0.0     0.0     0.0   \n",
       "2  0.043243  0.054054  0.045946  ...     0.0     0.0     0.0     0.0     0.0   \n",
       "3  0.060773  0.066298  0.058011  ...     0.0     0.0     0.0     0.0     0.0   \n",
       "4  0.089202  0.117371  0.150235  ...     0.0     0.0     0.0     0.0     0.0   \n",
       "\n",
       "   Col183  Col184  Col185  Col186  Label  \n",
       "0     0.0     0.0     0.0     0.0      0  \n",
       "1     0.0     0.0     0.0     0.0      0  \n",
       "2     0.0     0.0     0.0     0.0      0  \n",
       "3     0.0     0.0     0.0     0.0      0  \n",
       "4     0.0     0.0     0.0     0.0      0  \n",
       "\n",
       "[5 rows x 188 columns]"
      ]
     },
     "execution_count": 8,
     "metadata": {},
     "output_type": "execute_result"
    }
   ],
   "source": [
    "## Visualize training data\n",
    "data_train = data_train.rename(columns=lambda x: \"Col\"+str(x))\n",
    "data_train = data_train.rename(columns={\"Col187\": \"Label\"})\n",
    "data_train[\"Label\"] = data_train[\"Label\"].astype(np.int16)\n",
    "\n",
    "data_train.head()"
   ]
  },
  {
   "cell_type": "code",
   "execution_count": 9,
   "metadata": {},
   "outputs": [
    {
     "data": {
      "text/html": [
       "<div>\n",
       "<style scoped>\n",
       "    .dataframe tbody tr th:only-of-type {\n",
       "        vertical-align: middle;\n",
       "    }\n",
       "\n",
       "    .dataframe tbody tr th {\n",
       "        vertical-align: top;\n",
       "    }\n",
       "\n",
       "    .dataframe thead th {\n",
       "        text-align: right;\n",
       "    }\n",
       "</style>\n",
       "<table border=\"1\" class=\"dataframe\">\n",
       "  <thead>\n",
       "    <tr style=\"text-align: right;\">\n",
       "      <th></th>\n",
       "      <th>Col0</th>\n",
       "      <th>Col1</th>\n",
       "      <th>Col2</th>\n",
       "      <th>Col3</th>\n",
       "      <th>Col4</th>\n",
       "      <th>Col5</th>\n",
       "      <th>Col6</th>\n",
       "      <th>Col7</th>\n",
       "      <th>Col8</th>\n",
       "      <th>Col9</th>\n",
       "      <th>...</th>\n",
       "      <th>Col178</th>\n",
       "      <th>Col179</th>\n",
       "      <th>Col180</th>\n",
       "      <th>Col181</th>\n",
       "      <th>Col182</th>\n",
       "      <th>Col183</th>\n",
       "      <th>Col184</th>\n",
       "      <th>Col185</th>\n",
       "      <th>Col186</th>\n",
       "      <th>Label</th>\n",
       "    </tr>\n",
       "  </thead>\n",
       "  <tbody>\n",
       "    <tr>\n",
       "      <th>0</th>\n",
       "      <td>1.000000</td>\n",
       "      <td>0.758264</td>\n",
       "      <td>0.111570</td>\n",
       "      <td>0.000000</td>\n",
       "      <td>0.080579</td>\n",
       "      <td>0.078512</td>\n",
       "      <td>0.066116</td>\n",
       "      <td>0.049587</td>\n",
       "      <td>0.047521</td>\n",
       "      <td>0.035124</td>\n",
       "      <td>...</td>\n",
       "      <td>0.0</td>\n",
       "      <td>0.0</td>\n",
       "      <td>0.0</td>\n",
       "      <td>0.0</td>\n",
       "      <td>0.0</td>\n",
       "      <td>0.0</td>\n",
       "      <td>0.0</td>\n",
       "      <td>0.0</td>\n",
       "      <td>0.0</td>\n",
       "      <td>0</td>\n",
       "    </tr>\n",
       "    <tr>\n",
       "      <th>1</th>\n",
       "      <td>0.908425</td>\n",
       "      <td>0.783883</td>\n",
       "      <td>0.531136</td>\n",
       "      <td>0.362637</td>\n",
       "      <td>0.366300</td>\n",
       "      <td>0.344322</td>\n",
       "      <td>0.333333</td>\n",
       "      <td>0.307692</td>\n",
       "      <td>0.296703</td>\n",
       "      <td>0.300366</td>\n",
       "      <td>...</td>\n",
       "      <td>0.0</td>\n",
       "      <td>0.0</td>\n",
       "      <td>0.0</td>\n",
       "      <td>0.0</td>\n",
       "      <td>0.0</td>\n",
       "      <td>0.0</td>\n",
       "      <td>0.0</td>\n",
       "      <td>0.0</td>\n",
       "      <td>0.0</td>\n",
       "      <td>0</td>\n",
       "    </tr>\n",
       "    <tr>\n",
       "      <th>2</th>\n",
       "      <td>0.730088</td>\n",
       "      <td>0.212389</td>\n",
       "      <td>0.000000</td>\n",
       "      <td>0.119469</td>\n",
       "      <td>0.101770</td>\n",
       "      <td>0.101770</td>\n",
       "      <td>0.110619</td>\n",
       "      <td>0.123894</td>\n",
       "      <td>0.115044</td>\n",
       "      <td>0.132743</td>\n",
       "      <td>...</td>\n",
       "      <td>0.0</td>\n",
       "      <td>0.0</td>\n",
       "      <td>0.0</td>\n",
       "      <td>0.0</td>\n",
       "      <td>0.0</td>\n",
       "      <td>0.0</td>\n",
       "      <td>0.0</td>\n",
       "      <td>0.0</td>\n",
       "      <td>0.0</td>\n",
       "      <td>0</td>\n",
       "    </tr>\n",
       "    <tr>\n",
       "      <th>3</th>\n",
       "      <td>1.000000</td>\n",
       "      <td>0.910417</td>\n",
       "      <td>0.681250</td>\n",
       "      <td>0.472917</td>\n",
       "      <td>0.229167</td>\n",
       "      <td>0.068750</td>\n",
       "      <td>0.000000</td>\n",
       "      <td>0.004167</td>\n",
       "      <td>0.014583</td>\n",
       "      <td>0.054167</td>\n",
       "      <td>...</td>\n",
       "      <td>0.0</td>\n",
       "      <td>0.0</td>\n",
       "      <td>0.0</td>\n",
       "      <td>0.0</td>\n",
       "      <td>0.0</td>\n",
       "      <td>0.0</td>\n",
       "      <td>0.0</td>\n",
       "      <td>0.0</td>\n",
       "      <td>0.0</td>\n",
       "      <td>0</td>\n",
       "    </tr>\n",
       "    <tr>\n",
       "      <th>4</th>\n",
       "      <td>0.570470</td>\n",
       "      <td>0.399329</td>\n",
       "      <td>0.238255</td>\n",
       "      <td>0.147651</td>\n",
       "      <td>0.000000</td>\n",
       "      <td>0.003356</td>\n",
       "      <td>0.040268</td>\n",
       "      <td>0.080537</td>\n",
       "      <td>0.070470</td>\n",
       "      <td>0.090604</td>\n",
       "      <td>...</td>\n",
       "      <td>0.0</td>\n",
       "      <td>0.0</td>\n",
       "      <td>0.0</td>\n",
       "      <td>0.0</td>\n",
       "      <td>0.0</td>\n",
       "      <td>0.0</td>\n",
       "      <td>0.0</td>\n",
       "      <td>0.0</td>\n",
       "      <td>0.0</td>\n",
       "      <td>0</td>\n",
       "    </tr>\n",
       "  </tbody>\n",
       "</table>\n",
       "<p>5 rows × 188 columns</p>\n",
       "</div>"
      ],
      "text/plain": [
       "       Col0      Col1      Col2      Col3      Col4      Col5      Col6  \\\n",
       "0  1.000000  0.758264  0.111570  0.000000  0.080579  0.078512  0.066116   \n",
       "1  0.908425  0.783883  0.531136  0.362637  0.366300  0.344322  0.333333   \n",
       "2  0.730088  0.212389  0.000000  0.119469  0.101770  0.101770  0.110619   \n",
       "3  1.000000  0.910417  0.681250  0.472917  0.229167  0.068750  0.000000   \n",
       "4  0.570470  0.399329  0.238255  0.147651  0.000000  0.003356  0.040268   \n",
       "\n",
       "       Col7      Col8      Col9  ...  Col178  Col179  Col180  Col181  Col182  \\\n",
       "0  0.049587  0.047521  0.035124  ...     0.0     0.0     0.0     0.0     0.0   \n",
       "1  0.307692  0.296703  0.300366  ...     0.0     0.0     0.0     0.0     0.0   \n",
       "2  0.123894  0.115044  0.132743  ...     0.0     0.0     0.0     0.0     0.0   \n",
       "3  0.004167  0.014583  0.054167  ...     0.0     0.0     0.0     0.0     0.0   \n",
       "4  0.080537  0.070470  0.090604  ...     0.0     0.0     0.0     0.0     0.0   \n",
       "\n",
       "   Col183  Col184  Col185  Col186  Label  \n",
       "0     0.0     0.0     0.0     0.0      0  \n",
       "1     0.0     0.0     0.0     0.0      0  \n",
       "2     0.0     0.0     0.0     0.0      0  \n",
       "3     0.0     0.0     0.0     0.0      0  \n",
       "4     0.0     0.0     0.0     0.0      0  \n",
       "\n",
       "[5 rows x 188 columns]"
      ]
     },
     "execution_count": 9,
     "metadata": {},
     "output_type": "execute_result"
    }
   ],
   "source": [
    "## Visualize test data\n",
    "data_test = data_test.rename(columns=lambda x: \"Col\"+str(x))\n",
    "data_test = data_test.rename(columns={\"Col187\": \"Label\"})\n",
    "data_test[\"Label\"] = data_test[\"Label\"].astype(np.int16)\n",
    "data_test.head()"
   ]
  },
  {
   "cell_type": "code",
   "execution_count": 11,
   "metadata": {},
   "outputs": [
    {
     "data": {
      "text/plain": [
       "0    72471\n",
       "4     6431\n",
       "2     5788\n",
       "1     2223\n",
       "3      641\n",
       "Name: Label, dtype: int64"
      ]
     },
     "execution_count": 11,
     "metadata": {},
     "output_type": "execute_result"
    }
   ],
   "source": [
    "## Get the Label Counts for training data\n",
    "data_train.Label.value_counts()"
   ]
  },
  {
   "cell_type": "markdown",
   "metadata": {},
   "source": [
    "As we see here that that we have an imbalanced dataset. Looking at the proportions within the training dataset."
   ]
  },
  {
   "cell_type": "markdown",
   "metadata": {},
   "source": [
    "From https://archive.physionet.org/physiobank/database/html/mitdbdir/intro.htm#annotations, we can interpret the different types of beats via\n",
    "\n",
    "*   N: Normal beat (0)\n",
    "*   V: Premature ventricular contraction (1)\n",
    "*   S: Supraventricular premature beat (2)\n",
    "*   F: Fusion of ventricular and normal beat (3)\n",
    "*   Q: Unclassifiable beat (4)"
   ]
  },
  {
   "cell_type": "code",
   "execution_count": 36,
   "metadata": {},
   "outputs": [],
   "source": [
    "categories = [0, 1, 2, 3, 4]\n",
    "category_names = ['N', 'S', 'V', 'F', 'Q']\n",
    "def generate_pie_plot(labels, categories):\n",
    "    proportions = []\n",
    "    sz = len(labels)\n",
    "    for c in range(len(categories)):\n",
    "        prop = labels.value_counts()[c]\n",
    "        print(f\"Proportion of data in class {c} is {prop} : {prop/sz*100:0.2f} %\")\n",
    "        proportions.append(prop)\n",
    "\n",
    "    colors = ['#003f5c', '#58508d' , '#bc5090', '#ff6361', '#ffa600']\n",
    "\n",
    "    fig, ax = plt.subplots()\n",
    "    ax.pie(proportions, labels=categories, autopct='%1.1f%%', colors = colors, textprops={'color':\"gray\"})\n",
    "    ax.axis('equal')  # Equal aspect ratio ensures the pie chart is circular.\n",
    "    ax.set_title('Categories (Heart beats)', color='gray')\n",
    "\n",
    "    plt.show()\n"
   ]
  },
  {
   "cell_type": "code",
   "execution_count": 23,
   "metadata": {},
   "outputs": [
    {
     "name": "stdout",
     "output_type": "stream",
     "text": [
      "Proportion of data in class 0 is 72471 : 82.77 %\n",
      "Proportion of data in class 1 is 2223 : 2.54 %\n",
      "Proportion of data in class 2 is 5788 : 6.61 %\n",
      "Proportion of data in class 3 is 641 : 0.73 %\n",
      "Proportion of data in class 4 is 6431 : 7.35 %\n"
     ]
    },
    {
     "data": {
      "image/png": "[encoded data removed]",
      "text/plain": [
       "<Figure size 432x288 with 1 Axes>"
      ]
     },
     "metadata": {},
     "output_type": "display_data"
    }
   ],
   "source": [
    "generate_pie_plot(data_train.Label, categories)"
   ]
  },
  {
   "cell_type": "code",
   "execution_count": 24,
   "metadata": {},
   "outputs": [
    {
     "data": {
      "text/plain": [
       "0    18118\n",
       "4     1608\n",
       "2     1448\n",
       "1      556\n",
       "3      162\n",
       "Name: Label, dtype: int64"
      ]
     },
     "execution_count": 24,
     "metadata": {},
     "output_type": "execute_result"
    }
   ],
   "source": [
    "## Get the label counts for testing data\n",
    "\n",
    "data_test.Label.value_counts()"
   ]
  },
  {
   "cell_type": "code",
   "execution_count": 25,
   "metadata": {},
   "outputs": [
    {
     "name": "stdout",
     "output_type": "stream",
     "text": [
      "Proportion of data in class 0 is 18118 : 82.76 %\n",
      "Proportion of data in class 1 is 556 : 2.54 %\n",
      "Proportion of data in class 2 is 1448 : 6.61 %\n",
      "Proportion of data in class 3 is 162 : 0.74 %\n",
      "Proportion of data in class 4 is 1608 : 7.35 %\n"
     ]
    },
    {
     "data": {
      "image/png": "[encoded data removed]",
      "text/plain": [
       "<Figure size 432x288 with 1 Axes>"
      ]
     },
     "metadata": {},
     "output_type": "display_data"
    }
   ],
   "source": [
    "generate_pie_plot(data_test.Label, categories)"
   ]
  },
  {
   "cell_type": "code",
   "execution_count": 26,
   "metadata": {},
   "outputs": [
    {
     "data": {
      "text/plain": [
       "Col0      0\n",
       "Col1      0\n",
       "Col2      0\n",
       "Col3      0\n",
       "Col4      0\n",
       "         ..\n",
       "Col183    0\n",
       "Col184    0\n",
       "Col185    0\n",
       "Col186    0\n",
       "Label     0\n",
       "Length: 188, dtype: int64"
      ]
     },
     "execution_count": 26,
     "metadata": {},
     "output_type": "execute_result"
    }
   ],
   "source": [
    "## Check for null values for both the training and testing data\n",
    "data_train.isna().sum()"
   ]
  },
  {
   "cell_type": "code",
   "execution_count": 28,
   "metadata": {},
   "outputs": [
    {
     "data": {
      "text/plain": [
       "Col0      0\n",
       "Col1      0\n",
       "Col2      0\n",
       "Col3      0\n",
       "Col4      0\n",
       "         ..\n",
       "Col183    0\n",
       "Col184    0\n",
       "Col185    0\n",
       "Col186    0\n",
       "Label     0\n",
       "Length: 188, dtype: int64"
      ]
     },
     "execution_count": 28,
     "metadata": {},
     "output_type": "execute_result"
    }
   ],
   "source": [
    "data_test.isna().sum()"
   ]
  },
  {
   "cell_type": "markdown",
   "metadata": {},
   "source": [
    "From the value counts of the training and testing data we see that the 2 groups are stratified as expected. If it is not stratified, combine, shuffle and split with stratified=y\n",
    "\n",
    "Now we move on to train different ML models and record the accuracy on the test dataset. \n",
    "We start with the baseline model"
   ]
  },
  {
   "cell_type": "code",
   "execution_count": 29,
   "metadata": {},
   "outputs": [],
   "source": [
    "## Split labels\n",
    "X_train = data_train.drop(['Label'], axis=1)\n",
    "Y_train = data_train['Label']\n",
    "\n",
    "X_test = data_test.drop(['Label'], axis=1)\n",
    "Y_test = data_test['Label']"
   ]
  },
  {
   "cell_type": "code",
   "execution_count": 58,
   "metadata": {},
   "outputs": [
    {
     "name": "stdout",
     "output_type": "stream",
     "text": [
      "Baseline Accuracy on test data is 0.8276082587246483\n"
     ]
    }
   ],
   "source": [
    "## Start with Baseline model .\n",
    "## Baseline accuracy assumes a model that will give the result of Class 0 for all input.\n",
    "print(f\"Baseline Accuracy on test data is {data_test.Label.value_counts()[0]/len(data_test.Label)}\")"
   ]
  },
  {
   "cell_type": "code",
   "execution_count": 32,
   "metadata": {},
   "outputs": [
    {
     "name": "stdout",
     "output_type": "stream",
     "text": [
      "[0.9089715  0.91462509 0.91405402 0.91045628 0.91496288]\n",
      "0.9126139565173703\n"
     ]
    }
   ],
   "source": [
    "## Logistic Regression Model\n",
    "from warnings import simplefilter\n",
    "simplefilter(\"ignore\")\n",
    "from sklearn.model_selection import cross_val_score, GridSearchCV, RandomizedSearchCV\n",
    "from sklearn.linear_model import LogisticRegression\n",
    "\n",
    "model = LogisticRegression()\n",
    "cv_score = cross_val_score(model, X_train, Y_train, cv=5)\n",
    "print(cv_score)\n",
    "print(cv_score.mean())"
   ]
  },
  {
   "cell_type": "markdown",
   "metadata": {},
   "source": [
    "The cross validation score is very high for this dataset. So we can expect it to generalize well"
   ]
  },
  {
   "cell_type": "code",
   "execution_count": 55,
   "metadata": {},
   "outputs": [],
   "source": [
    "# visualize the Accuracy and confusion matrix for a given model\n",
    "#confusion_matrix(Y_test, y_predicted, labels=categories)\n",
    "from sklearn.metrics import confusion_matrix\n",
    "from sklearn.metrics import accuracy_score, f1_score\n",
    "\n",
    "def Accuracy_ConfusionMatrix(model, y_test):\n",
    "    y_predicted= model.predict(X_test)\n",
    "    print(f\"Accuracy on the Logistic Regression is {accuracy_score(Y_test, y_predicted)}\")\n",
    "    confusion_matrix = pd.crosstab(Y_test, y_predicted, rownames=['Actual'], colnames=['Predicted'])\n",
    "    print(confusion_matrix)\n",
    "    print(\"Sensitivity of model for individual classes\")\n",
    "    class_sum = np.sum(confusion_matrix, axis=1)\n",
    "    for c in categories:\n",
    "        print(f\"Class {c} : {confusion_matrix[c][c]/class_sum[c]}\")"
   ]
  },
  {
   "cell_type": "code",
   "execution_count": 56,
   "metadata": {},
   "outputs": [
    {
     "data": {
      "text/plain": [
       "LogisticRegression()"
      ]
     },
     "execution_count": 56,
     "metadata": {},
     "output_type": "execute_result"
    }
   ],
   "source": [
    "# train the classifier and evaluate the performance in the test set\n",
    "model.fit(X_train, Y_train)"
   ]
  },
  {
   "cell_type": "code",
   "execution_count": 57,
   "metadata": {},
   "outputs": [
    {
     "name": "stdout",
     "output_type": "stream",
     "text": [
      "Accuracy on the Logistic Regression is 0.91174858395761\n",
      "Predicted      0    1    2   3     4\n",
      "Actual                              \n",
      "0          17832   25  209  13    39\n",
      "1            327  197   32   0     0\n",
      "2            899   11  484  26    28\n",
      "3            107    0    8  47     0\n",
      "4            186    0   22   0  1400\n",
      "Sensitivity of model for individual classes\n",
      "Class 0 : 0.9842145932222099\n",
      "Class 1 : 0.35431654676258995\n",
      "Class 2 : 0.3342541436464088\n",
      "Class 3 : 0.29012345679012347\n",
      "Class 4 : 0.8706467661691543\n"
     ]
    }
   ],
   "source": [
    "## Accuracy and Confusion Matrix for Logistic Regression\n",
    "Accuracy_ConfusionMatrix(model, Y_test)"
   ]
  },
  {
   "cell_type": "markdown",
   "metadata": {},
   "source": [
    "The accuracy for Logistic Regression is high - 0.92. However, when split into individual classes, it shows that sensitivity to class 0 is the highest at 0.98. Class 4 also gives good result. But prediction on Class 1, 2, and 3 is poor. The accuracy is dominated by Class 0. However, it does well when compared with the baseline model accuracy of 0.82."
   ]
  },
  {
   "cell_type": "code",
   "execution_count": 60,
   "metadata": {},
   "outputs": [
    {
     "data": {
      "text/plain": [
       "SVC()"
      ]
     },
     "execution_count": 60,
     "metadata": {},
     "output_type": "execute_result"
    }
   ],
   "source": [
    "## SVM model\n",
    "from sklearn.svm import SVC\n",
    "\n",
    "SVMmodel = SVC(kernel='rbf') \n",
    "\n",
    "SVMmodel.fit(X_train, Y_train)"
   ]
  },
  {
   "cell_type": "code",
   "execution_count": 61,
   "metadata": {},
   "outputs": [
    {
     "name": "stdout",
     "output_type": "stream",
     "text": [
      "Accuracy on the Logistic Regression is 0.9680248492600037\n",
      "Predicted      0    1     2   3     4\n",
      "Actual                               \n",
      "0          18086   10    17   1     4\n",
      "1            237  314     5   0     0\n",
      "2            170    2  1249  25     2\n",
      "3             71    0    13  78     0\n",
      "4            135    0     8   0  1465\n",
      "Sensitivity of model for individual classes\n",
      "Class 0 : 0.9982338006402472\n",
      "Class 1 : 0.564748201438849\n",
      "Class 2 : 0.8625690607734806\n",
      "Class 3 : 0.48148148148148145\n",
      "Class 4 : 0.9110696517412935\n"
     ]
    }
   ],
   "source": [
    "## Accuracy and Confusion Matrix for SVM\n",
    "Accuracy_ConfusionMatrix(SVMmodel, Y_test)"
   ]
  },
  {
   "cell_type": "markdown",
   "metadata": {},
   "source": [
    "The accuracy for SVM Model with the RBF kernel has improved over Logistic Regression with a value 0.96. When split into individual classes, it also shows that sensitivity to class 0 is the highest at 0.99. Class 4 has also improved overall. But predictions on Class 1, 2, and 3 is much higher than Logistic Regrssion. \n",
    "It also has good performance when compared with the baseline model accuracy of 0.82."
   ]
  },
  {
   "cell_type": "code",
   "execution_count": 62,
   "metadata": {},
   "outputs": [
    {
     "data": {
      "text/plain": [
       "SVC(kernel='linear')"
      ]
     },
     "execution_count": 62,
     "metadata": {},
     "output_type": "execute_result"
    }
   ],
   "source": [
    "## SVM model with linear kernel\n",
    "SVMmodellinear = SVC(kernel='linear') \n",
    "\n",
    "SVMmodellinear.fit(X_train, Y_train)"
   ]
  },
  {
   "cell_type": "code",
   "execution_count": 63,
   "metadata": {},
   "outputs": [
    {
     "name": "stdout",
     "output_type": "stream",
     "text": [
      "Accuracy on the Logistic Regression is 0.9204275534441805\n",
      "Predicted      0    1    2   3     4\n",
      "Actual                              \n",
      "0          18036   23   51   0     8\n",
      "1            282  257   17   0     0\n",
      "2           1003    0  404  30    11\n",
      "3            102    0    5  55     0\n",
      "4            196    1   13   0  1398\n",
      "Sensitivity of model for individual classes\n",
      "Class 0 : 0.9954741141406336\n",
      "Class 1 : 0.46223021582733814\n",
      "Class 2 : 0.27900552486187846\n",
      "Class 3 : 0.3395061728395062\n",
      "Class 4 : 0.8694029850746269\n"
     ]
    }
   ],
   "source": [
    "Accuracy_ConfusionMatrix(SVMmodellinear, Y_test)"
   ]
  },
  {
   "cell_type": "markdown",
   "metadata": {},
   "source": [
    "SVM with a linear model gives a very similar result to Logistic Regression"
   ]
  },
  {
   "cell_type": "code",
   "execution_count": 64,
   "metadata": {},
   "outputs": [
    {
     "data": {
      "text/plain": [
       "GradientBoostingClassifier()"
      ]
     },
     "execution_count": 64,
     "metadata": {},
     "output_type": "execute_result"
    }
   ],
   "source": [
    "# check performance for ensemble models\n",
    "from sklearn.ensemble import RandomForestClassifier, AdaBoostClassifier, GradientBoostingClassifier\n",
    "GBModel = GradientBoostingClassifier() \n",
    "GBModel.fit(X_train, Y_train)"
   ]
  },
  {
   "cell_type": "code",
   "execution_count": 65,
   "metadata": {},
   "outputs": [
    {
     "name": "stdout",
     "output_type": "stream",
     "text": [
      "Accuracy on the Logistic Regression is 0.9642335099579755\n",
      "Predicted      0    1     2   3     4\n",
      "Actual                               \n",
      "0          18036   18    37  11    16\n",
      "1            226  323     5   0     2\n",
      "2            229    3  1185  25     6\n",
      "3             68    1    13  80     0\n",
      "4            119    1     3   0  1485\n",
      "Sensitivity of model for individual classes\n",
      "Class 0 : 0.9954741141406336\n",
      "Class 1 : 0.5809352517985612\n",
      "Class 2 : 0.8183701657458563\n",
      "Class 3 : 0.49382716049382713\n",
      "Class 4 : 0.9235074626865671\n"
     ]
    }
   ],
   "source": [
    "Accuracy_ConfusionMatrix(GBModel, Y_test)"
   ]
  },
  {
   "cell_type": "markdown",
   "metadata": {},
   "source": [
    "Gradient Boosting has a similar performance when compared with SVM with a rbf kernel. It also does better than Logistic Regression on all classes. It has an accuracy of 0.96."
   ]
  },
  {
   "cell_type": "code",
   "execution_count": 66,
   "metadata": {},
   "outputs": [
    {
     "data": {
      "text/plain": [
       "RandomForestClassifier()"
      ]
     },
     "execution_count": 66,
     "metadata": {},
     "output_type": "execute_result"
    }
   ],
   "source": [
    "RanForestModel = RandomForestClassifier() \n",
    "RanForestModel.fit(X_train, Y_train)"
   ]
  },
  {
   "cell_type": "code",
   "execution_count": 67,
   "metadata": {},
   "outputs": [
    {
     "name": "stdout",
     "output_type": "stream",
     "text": [
      "Accuracy on the Logistic Regression is 0.9744655581947743\n",
      "Predicted      0    1     2    3     4\n",
      "Actual                                \n",
      "0          18102    5     9    0     2\n",
      "1            220  334     1    0     1\n",
      "2            148    2  1278   14     6\n",
      "3             49    0    13  100     0\n",
      "4             87    0     2    0  1519\n",
      "Sensitivity of model for individual classes\n",
      "Class 0 : 0.9991169003201237\n",
      "Class 1 : 0.6007194244604317\n",
      "Class 2 : 0.8825966850828729\n",
      "Class 3 : 0.6172839506172839\n",
      "Class 4 : 0.9446517412935324\n"
     ]
    }
   ],
   "source": [
    "Accuracy_ConfusionMatrix(RanForestModel, Y_test)"
   ]
  },
  {
   "cell_type": "markdown",
   "metadata": {},
   "source": [
    "Random Forest model gives the best result of all the models. It has a higher overall accuracy of 0.97. This improvement all shows in the performance of all the classes. Performance for Class 1 and 3 are over 60 %."
   ]
  },
  {
   "cell_type": "markdown",
   "metadata": {},
   "source": [
    "Summary:\n",
    "|  Model               | Accuracy  | Time To Run |\n",
    "|----------------------|-----------|-------------|\n",
    "|  Logistic Regrission |   0.92    | 4.7 s       |\n",
    "|  SVC (RBF)           |   0.968   | 5 m 2 s     |\n",
    "|  Gradient Boost      |   0.964   | 20 m        |\n",
    "|  Random Forest       |   0.974   | 1 m 2 s     |"
   ]
  }
 ],
 "metadata": {
  "interpreter": {
   "hash": "622286292945309669a92613647b2fe116b767d0fe4b658a1199e5d92da79c49"
  },
  "kernelspec": {
   "display_name": "Python 3.8.5 64-bit ('misc-7J69GjBb': pipenv)",
   "language": "python",
   "name": "python3"
  },
  "language_info": {
   "codemirror_mode": {
    "name": "ipython",
    "version": 3
   },
   "file_extension": ".py",
   "mimetype": "text/x-python",
   "name": "python",
   "nbconvert_exporter": "python",
   "pygments_lexer": "ipython3",
   "version": "3.8.5"
  },
  "orig_nbformat": 4
 },
 "nbformat": 4,
 "nbformat_minor": 2
}
