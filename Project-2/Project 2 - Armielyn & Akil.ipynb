{
 "cells": [
  {
   "cell_type": "code",
   "execution_count": 1,
   "id": "b2843921",
   "metadata": {},
   "outputs": [],
   "source": [
    "# Import all the tools we need\n",
    "\n",
    "# Regular EDA (exploratory data analysis) and plotting libraries\n",
    "import numpy as np\n",
    "import pandas as pd\n",
    "import matplotlib.pyplot as plt\n",
    "import seaborn as sns\n",
    "\n",
    "# we want our plots to appear inside the notebook\n",
    "%matplotlib inline \n",
    "\n",
    "# Models from Scikit-Learn\n",
    "from sklearn.linear_model import LogisticRegression\n",
    "from sklearn.neighbors import KNeighborsClassifier\n",
    "from sklearn.ensemble import RandomForestClassifier\n",
    "\n",
    "# Model Evaluations\n",
    "from sklearn.model_selection import train_test_split, cross_val_score\n",
    "from sklearn.model_selection import RandomizedSearchCV, GridSearchCV\n",
    "from sklearn.metrics import confusion_matrix, classification_report\n",
    "from sklearn.metrics import precision_recall_fscore_support\n",
    "from sklearn.metrics import plot_roc_curve\n",
    "from sklearn.model_selection import cross_val_score, GridSearchCV, RandomizedSearchCV\n",
    "from sklearn.linear_model import LogisticRegression\n",
    "from sklearn.svm import SVC\n",
    "from sklearn.ensemble import RandomForestClassifier, AdaBoostClassifier, GradientBoostingClassifier\n",
    "from sklearn.preprocessing import MinMaxScaler\n",
    "from sklearn import preprocessing\n",
    "from sklearn.model_selection import train_test_split\n",
    "from sklearn.model_selection import cross_val_score, KFold\n",
    "from sklearn.metrics import accuracy_score, f1_score\n",
    "from warnings import simplefilter\n",
    "from sklearn.metrics import confusion_matrix"
   ]
  },
  {
   "cell_type": "code",
   "execution_count": 2,
   "id": "256b505c",
   "metadata": {},
   "outputs": [
    {
     "data": {
      "text/html": [
       "<div>\n",
       "<style scoped>\n",
       "    .dataframe tbody tr th:only-of-type {\n",
       "        vertical-align: middle;\n",
       "    }\n",
       "\n",
       "    .dataframe tbody tr th {\n",
       "        vertical-align: top;\n",
       "    }\n",
       "\n",
       "    .dataframe thead th {\n",
       "        text-align: right;\n",
       "    }\n",
       "</style>\n",
       "<table border=\"1\" class=\"dataframe\">\n",
       "  <thead>\n",
       "    <tr style=\"text-align: right;\">\n",
       "      <th></th>\n",
       "      <th>0</th>\n",
       "      <th>1</th>\n",
       "      <th>2</th>\n",
       "      <th>3</th>\n",
       "      <th>4</th>\n",
       "      <th>5</th>\n",
       "      <th>6</th>\n",
       "      <th>7</th>\n",
       "      <th>8</th>\n",
       "      <th>9</th>\n",
       "      <th>...</th>\n",
       "      <th>178</th>\n",
       "      <th>179</th>\n",
       "      <th>180</th>\n",
       "      <th>181</th>\n",
       "      <th>182</th>\n",
       "      <th>183</th>\n",
       "      <th>184</th>\n",
       "      <th>185</th>\n",
       "      <th>186</th>\n",
       "      <th>187</th>\n",
       "    </tr>\n",
       "  </thead>\n",
       "  <tbody>\n",
       "    <tr>\n",
       "      <th>0</th>\n",
       "      <td>0.977941</td>\n",
       "      <td>0.926471</td>\n",
       "      <td>0.681373</td>\n",
       "      <td>0.245098</td>\n",
       "      <td>0.154412</td>\n",
       "      <td>0.191176</td>\n",
       "      <td>0.151961</td>\n",
       "      <td>0.085784</td>\n",
       "      <td>0.058824</td>\n",
       "      <td>0.049020</td>\n",
       "      <td>...</td>\n",
       "      <td>0.0</td>\n",
       "      <td>0.0</td>\n",
       "      <td>0.0</td>\n",
       "      <td>0.0</td>\n",
       "      <td>0.0</td>\n",
       "      <td>0.0</td>\n",
       "      <td>0.0</td>\n",
       "      <td>0.0</td>\n",
       "      <td>0.0</td>\n",
       "      <td>0.0</td>\n",
       "    </tr>\n",
       "    <tr>\n",
       "      <th>1</th>\n",
       "      <td>0.960114</td>\n",
       "      <td>0.863248</td>\n",
       "      <td>0.461538</td>\n",
       "      <td>0.196581</td>\n",
       "      <td>0.094017</td>\n",
       "      <td>0.125356</td>\n",
       "      <td>0.099715</td>\n",
       "      <td>0.088319</td>\n",
       "      <td>0.074074</td>\n",
       "      <td>0.082621</td>\n",
       "      <td>...</td>\n",
       "      <td>0.0</td>\n",
       "      <td>0.0</td>\n",
       "      <td>0.0</td>\n",
       "      <td>0.0</td>\n",
       "      <td>0.0</td>\n",
       "      <td>0.0</td>\n",
       "      <td>0.0</td>\n",
       "      <td>0.0</td>\n",
       "      <td>0.0</td>\n",
       "      <td>0.0</td>\n",
       "    </tr>\n",
       "    <tr>\n",
       "      <th>2</th>\n",
       "      <td>1.000000</td>\n",
       "      <td>0.659459</td>\n",
       "      <td>0.186486</td>\n",
       "      <td>0.070270</td>\n",
       "      <td>0.070270</td>\n",
       "      <td>0.059459</td>\n",
       "      <td>0.056757</td>\n",
       "      <td>0.043243</td>\n",
       "      <td>0.054054</td>\n",
       "      <td>0.045946</td>\n",
       "      <td>...</td>\n",
       "      <td>0.0</td>\n",
       "      <td>0.0</td>\n",
       "      <td>0.0</td>\n",
       "      <td>0.0</td>\n",
       "      <td>0.0</td>\n",
       "      <td>0.0</td>\n",
       "      <td>0.0</td>\n",
       "      <td>0.0</td>\n",
       "      <td>0.0</td>\n",
       "      <td>0.0</td>\n",
       "    </tr>\n",
       "    <tr>\n",
       "      <th>3</th>\n",
       "      <td>0.925414</td>\n",
       "      <td>0.665746</td>\n",
       "      <td>0.541436</td>\n",
       "      <td>0.276243</td>\n",
       "      <td>0.196133</td>\n",
       "      <td>0.077348</td>\n",
       "      <td>0.071823</td>\n",
       "      <td>0.060773</td>\n",
       "      <td>0.066298</td>\n",
       "      <td>0.058011</td>\n",
       "      <td>...</td>\n",
       "      <td>0.0</td>\n",
       "      <td>0.0</td>\n",
       "      <td>0.0</td>\n",
       "      <td>0.0</td>\n",
       "      <td>0.0</td>\n",
       "      <td>0.0</td>\n",
       "      <td>0.0</td>\n",
       "      <td>0.0</td>\n",
       "      <td>0.0</td>\n",
       "      <td>0.0</td>\n",
       "    </tr>\n",
       "    <tr>\n",
       "      <th>4</th>\n",
       "      <td>0.967136</td>\n",
       "      <td>1.000000</td>\n",
       "      <td>0.830986</td>\n",
       "      <td>0.586854</td>\n",
       "      <td>0.356808</td>\n",
       "      <td>0.248826</td>\n",
       "      <td>0.145540</td>\n",
       "      <td>0.089202</td>\n",
       "      <td>0.117371</td>\n",
       "      <td>0.150235</td>\n",
       "      <td>...</td>\n",
       "      <td>0.0</td>\n",
       "      <td>0.0</td>\n",
       "      <td>0.0</td>\n",
       "      <td>0.0</td>\n",
       "      <td>0.0</td>\n",
       "      <td>0.0</td>\n",
       "      <td>0.0</td>\n",
       "      <td>0.0</td>\n",
       "      <td>0.0</td>\n",
       "      <td>0.0</td>\n",
       "    </tr>\n",
       "  </tbody>\n",
       "</table>\n",
       "<p>5 rows × 188 columns</p>\n",
       "</div>"
      ],
      "text/plain": [
       "        0         1         2         3         4         5         6    \\\n",
       "0  0.977941  0.926471  0.681373  0.245098  0.154412  0.191176  0.151961   \n",
       "1  0.960114  0.863248  0.461538  0.196581  0.094017  0.125356  0.099715   \n",
       "2  1.000000  0.659459  0.186486  0.070270  0.070270  0.059459  0.056757   \n",
       "3  0.925414  0.665746  0.541436  0.276243  0.196133  0.077348  0.071823   \n",
       "4  0.967136  1.000000  0.830986  0.586854  0.356808  0.248826  0.145540   \n",
       "\n",
       "        7         8         9    ...  178  179  180  181  182  183  184  185  \\\n",
       "0  0.085784  0.058824  0.049020  ...  0.0  0.0  0.0  0.0  0.0  0.0  0.0  0.0   \n",
       "1  0.088319  0.074074  0.082621  ...  0.0  0.0  0.0  0.0  0.0  0.0  0.0  0.0   \n",
       "2  0.043243  0.054054  0.045946  ...  0.0  0.0  0.0  0.0  0.0  0.0  0.0  0.0   \n",
       "3  0.060773  0.066298  0.058011  ...  0.0  0.0  0.0  0.0  0.0  0.0  0.0  0.0   \n",
       "4  0.089202  0.117371  0.150235  ...  0.0  0.0  0.0  0.0  0.0  0.0  0.0  0.0   \n",
       "\n",
       "   186  187  \n",
       "0  0.0  0.0  \n",
       "1  0.0  0.0  \n",
       "2  0.0  0.0  \n",
       "3  0.0  0.0  \n",
       "4  0.0  0.0  \n",
       "\n",
       "[5 rows x 188 columns]"
      ]
     },
     "execution_count": 2,
     "metadata": {},
     "output_type": "execute_result"
    }
   ],
   "source": [
    "import pandas as pd\n",
    "\n",
    "mitbih_train = pd.read_csv('mitbih_train.csv', sep=',', header=None)\n",
    "mitbih_test = pd.read_csv('mitbih_test.csv', sep=',', header=None)\n",
    "\n",
    "mitbih_train.head()"
   ]
  },
  {
   "cell_type": "code",
   "execution_count": 3,
   "id": "128c3241",
   "metadata": {},
   "outputs": [
    {
     "data": {
      "text/plain": [
       "188"
      ]
     },
     "execution_count": 3,
     "metadata": {},
     "output_type": "execute_result"
    }
   ],
   "source": [
    "# creating column headers\n",
    "column_headers = [f'x{serial+1}'for serial in range(187)]\n",
    "column_headers.append('label')\n",
    "len(column_headers)"
   ]
  },
  {
   "cell_type": "code",
   "execution_count": 4,
   "id": "5f5c0d13",
   "metadata": {},
   "outputs": [],
   "source": [
    "mitbih_train.columns = column_headers\n",
    "mitbih_test.columns = column_headers"
   ]
  },
  {
   "cell_type": "code",
   "execution_count": 5,
   "id": "2745c5a0",
   "metadata": {},
   "outputs": [
    {
     "name": "stdout",
     "output_type": "stream",
     "text": [
      "         x1        x2        x3        x4        x5        x6        x7  \\\n",
      "0  0.977941  0.926471  0.681373  0.245098  0.154412  0.191176  0.151961   \n",
      "1  0.960114  0.863248  0.461538  0.196581  0.094017  0.125356  0.099715   \n",
      "2  1.000000  0.659459  0.186486  0.070270  0.070270  0.059459  0.056757   \n",
      "3  0.925414  0.665746  0.541436  0.276243  0.196133  0.077348  0.071823   \n",
      "4  0.967136  1.000000  0.830986  0.586854  0.356808  0.248826  0.145540   \n",
      "\n",
      "         x8        x9       x10  ...  x179  x180  x181  x182  x183  x184  \\\n",
      "0  0.085784  0.058824  0.049020  ...   0.0   0.0   0.0   0.0   0.0   0.0   \n",
      "1  0.088319  0.074074  0.082621  ...   0.0   0.0   0.0   0.0   0.0   0.0   \n",
      "2  0.043243  0.054054  0.045946  ...   0.0   0.0   0.0   0.0   0.0   0.0   \n",
      "3  0.060773  0.066298  0.058011  ...   0.0   0.0   0.0   0.0   0.0   0.0   \n",
      "4  0.089202  0.117371  0.150235  ...   0.0   0.0   0.0   0.0   0.0   0.0   \n",
      "\n",
      "   x185  x186  x187  label  \n",
      "0   0.0   0.0   0.0    0.0  \n",
      "1   0.0   0.0   0.0    0.0  \n",
      "2   0.0   0.0   0.0    0.0  \n",
      "3   0.0   0.0   0.0    0.0  \n",
      "4   0.0   0.0   0.0    0.0  \n",
      "\n",
      "[5 rows x 188 columns]\n",
      "         x1        x2        x3        x4        x5        x6        x7  \\\n",
      "0  1.000000  0.758264  0.111570  0.000000  0.080579  0.078512  0.066116   \n",
      "1  0.908425  0.783883  0.531136  0.362637  0.366300  0.344322  0.333333   \n",
      "2  0.730088  0.212389  0.000000  0.119469  0.101770  0.101770  0.110619   \n",
      "3  1.000000  0.910417  0.681250  0.472917  0.229167  0.068750  0.000000   \n",
      "4  0.570470  0.399329  0.238255  0.147651  0.000000  0.003356  0.040268   \n",
      "\n",
      "         x8        x9       x10  ...  x179  x180  x181  x182  x183  x184  \\\n",
      "0  0.049587  0.047521  0.035124  ...   0.0   0.0   0.0   0.0   0.0   0.0   \n",
      "1  0.307692  0.296703  0.300366  ...   0.0   0.0   0.0   0.0   0.0   0.0   \n",
      "2  0.123894  0.115044  0.132743  ...   0.0   0.0   0.0   0.0   0.0   0.0   \n",
      "3  0.004167  0.014583  0.054167  ...   0.0   0.0   0.0   0.0   0.0   0.0   \n",
      "4  0.080537  0.070470  0.090604  ...   0.0   0.0   0.0   0.0   0.0   0.0   \n",
      "\n",
      "   x185  x186  x187  label  \n",
      "0   0.0   0.0   0.0    0.0  \n",
      "1   0.0   0.0   0.0    0.0  \n",
      "2   0.0   0.0   0.0    0.0  \n",
      "3   0.0   0.0   0.0    0.0  \n",
      "4   0.0   0.0   0.0    0.0  \n",
      "\n",
      "[5 rows x 188 columns]\n"
     ]
    }
   ],
   "source": [
    "# sanity check\n",
    "print(mitbih_train.head())\n",
    "print(mitbih_test.head())"
   ]
  },
  {
   "cell_type": "code",
   "execution_count": 6,
   "id": "23ec822e",
   "metadata": {},
   "outputs": [
    {
     "name": "stdout",
     "output_type": "stream",
     "text": [
      "(87554, 188)\n",
      "(21892, 188)\n"
     ]
    }
   ],
   "source": [
    "# shape of the dataframes\n",
    "print(mitbih_train.shape)\n",
    "print(mitbih_test.shape)"
   ]
  },
  {
   "cell_type": "markdown",
   "id": "445d4a75",
   "metadata": {},
   "source": [
    "## Data Exploration, Imputation and Visualization"
   ]
  },
  {
   "cell_type": "code",
   "execution_count": 7,
   "id": "accb9723",
   "metadata": {},
   "outputs": [],
   "source": [
    "def get_null_cols(df):\n",
    "  \"\"\"\n",
    "  Args:\n",
    "    df: dataframe to work on\n",
    "  returns:\n",
    "    list of column names with null values\n",
    "  \"\"\"\n",
    "  return df.columns[df.isna().any()].tolist()"
   ]
  },
  {
   "cell_type": "code",
   "execution_count": 8,
   "id": "ea848696",
   "metadata": {},
   "outputs": [],
   "source": [
    "def plot_bar_plot(x, y):\n",
    "    fig = plt.figure(figsize = (10, 5))\n",
    " \n",
    "    # creating the bar plot\n",
    "    plt.bar(x, y, color ='blue',\n",
    "        width = 0.4)\n",
    " \n",
    "    plt.xlabel(\"Beat Types\")\n",
    "    plt.ylabel(\"No. Each Type\")\n",
    "    plt.title(\"Value Counts of Beat Types\")\n",
    "    plt.show()"
   ]
  },
  {
   "cell_type": "code",
   "execution_count": 9,
   "id": "97d5ad27",
   "metadata": {},
   "outputs": [],
   "source": [
    "def plot_confusion_matrices(y_test, y_predicted):\n",
    "    # visualize the confusion matrix\n",
    "    cm = confusion_matrix(y_test, y_predicted)\n",
    "    cm_df = pd.DataFrame(cm,\n",
    "                         index = ['0','1','2','3','4'], \n",
    "                         columns = ['0','1','2','3','4'])\n",
    "\n",
    "    #Plotting the confusion matrix\n",
    "    plt.figure(figsize=(10,5))\n",
    "    sns.heatmap(cm_df, annot=True)\n",
    "    plt.title('Confusion Matrix')\n",
    "    plt.ylabel('Actual Values')\n",
    "    plt.xlabel('Predicted Values')\n",
    "    plt.show()"
   ]
  },
  {
   "cell_type": "code",
   "execution_count": 33,
   "id": "d63e44cf",
   "metadata": {},
   "outputs": [],
   "source": [
    "def compute_metrices(y_test, y_predicted):\n",
    "    \n",
    "    # compute the accuracy\n",
    "    print('Accuracy:',accuracy_score(y_test, y_predicted))\n",
    "    \n",
    "    # compute precision, recall and F1 score\n",
    "    precision, recall, F1, _  = precision_recall_fscore_support(y_test, y_predicted,average='weighted')\n",
    "    print(f'Precision: {precision}')\n",
    "    print(f'Recall: {recall}')\n",
    "    print(f'F1-Score: {F1}')"
   ]
  },
  {
   "cell_type": "code",
   "execution_count": 10,
   "id": "8b7d2eee",
   "metadata": {},
   "outputs": [
    {
     "name": "stdout",
     "output_type": "stream",
     "text": [
      "<class 'pandas.core.frame.DataFrame'>\n",
      "RangeIndex: 87554 entries, 0 to 87553\n",
      "Columns: 188 entries, x1 to label\n",
      "dtypes: float64(188)\n",
      "memory usage: 125.6 MB\n"
     ]
    }
   ],
   "source": [
    "mitbih_train.info()"
   ]
  },
  {
   "cell_type": "code",
   "execution_count": 11,
   "id": "6e97616f",
   "metadata": {},
   "outputs": [
    {
     "name": "stdout",
     "output_type": "stream",
     "text": [
      "x1       0\n",
      "x2       0\n",
      "x3       0\n",
      "x4       0\n",
      "x5       0\n",
      "        ..\n",
      "x184     0\n",
      "x185     0\n",
      "x186     0\n",
      "x187     0\n",
      "label    0\n",
      "Length: 188, dtype: int64\n",
      "x1       0\n",
      "x2       0\n",
      "x3       0\n",
      "x4       0\n",
      "x5       0\n",
      "        ..\n",
      "x184     0\n",
      "x185     0\n",
      "x186     0\n",
      "x187     0\n",
      "label    0\n",
      "Length: 188, dtype: int64\n"
     ]
    }
   ],
   "source": [
    "print(mitbih_train.isna().sum())\n",
    "print(mitbih_test.isna().sum())"
   ]
  },
  {
   "cell_type": "code",
   "execution_count": 12,
   "id": "a6be544a",
   "metadata": {},
   "outputs": [],
   "source": [
    "types_train = mitbih_train['label'].value_counts().index.tolist()\n",
    "counts_train = mitbih_train['label'].value_counts().tolist()"
   ]
  },
  {
   "cell_type": "code",
   "execution_count": 13,
   "id": "bd5f84bf",
   "metadata": {},
   "outputs": [
    {
     "data": {
      "text/plain": [
       "0.0    72471\n",
       "4.0     6431\n",
       "2.0     5788\n",
       "1.0     2223\n",
       "3.0      641\n",
       "Name: label, dtype: int64"
      ]
     },
     "execution_count": 13,
     "metadata": {},
     "output_type": "execute_result"
    }
   ],
   "source": [
    "mitbih_train['label'].value_counts()"
   ]
  },
  {
   "cell_type": "code",
   "execution_count": 14,
   "id": "2e65e061",
   "metadata": {},
   "outputs": [
    {
     "data": {
      "image/png": "[encoded data removed]",
      "text/plain": [
       "<Figure size 720x360 with 1 Axes>"
      ]
     },
     "metadata": {
      "needs_background": "light"
     },
     "output_type": "display_data"
    }
   ],
   "source": [
    "plot_bar_plot(types_train, counts_train)"
   ]
  },
  {
   "cell_type": "code",
   "execution_count": 15,
   "id": "f22990f4",
   "metadata": {},
   "outputs": [],
   "source": [
    "types_test = mitbih_test['label'].value_counts().index.tolist()\n",
    "counts_test = mitbih_test['label'].value_counts().tolist()"
   ]
  },
  {
   "cell_type": "code",
   "execution_count": 16,
   "id": "c4d6fee7",
   "metadata": {},
   "outputs": [
    {
     "data": {
      "text/plain": [
       "0.0    18118\n",
       "4.0     1608\n",
       "2.0     1448\n",
       "1.0      556\n",
       "3.0      162\n",
       "Name: label, dtype: int64"
      ]
     },
     "execution_count": 16,
     "metadata": {},
     "output_type": "execute_result"
    }
   ],
   "source": [
    "mitbih_test['label'].value_counts()"
   ]
  },
  {
   "cell_type": "code",
   "execution_count": 17,
   "id": "d88720cd",
   "metadata": {},
   "outputs": [
    {
     "data": {
      "image/png": "[encoded data removed]",
      "text/plain": [
       "<Figure size 720x360 with 1 Axes>"
      ]
     },
     "metadata": {
      "needs_background": "light"
     },
     "output_type": "display_data"
    }
   ],
   "source": [
    "plot_bar_plot(types_test, counts_test)"
   ]
  },
  {
   "cell_type": "markdown",
   "id": "618f5889",
   "metadata": {},
   "source": [
    "We can see there are severe imbalaneces between the beat types. As per observed, there are more examples of beat type 0 than any other typse in both the training and the testing set. In both the training and the test set, the beat types 1 and 3 are extremely low and the beat type 2 and 4 are somewhat low. So in both the train and the test set, the classes are imbalanced."
   ]
  },
  {
   "cell_type": "code",
   "execution_count": 18,
   "id": "218e2371",
   "metadata": {},
   "outputs": [],
   "source": [
    "# getting the null values column names from the data frames\n",
    "train_null_cols = get_null_cols(mitbih_train)\n",
    "test_null_cols = get_null_cols(mitbih_test)"
   ]
  },
  {
   "cell_type": "code",
   "execution_count": 19,
   "id": "b8dfd531",
   "metadata": {},
   "outputs": [
    {
     "name": "stdout",
     "output_type": "stream",
     "text": [
      "One has no null columns\n"
     ]
    }
   ],
   "source": [
    "# removing label column from the null-valued columns\n",
    "try:\n",
    "  train_null_cols.remove('label')\n",
    "  test_null_cols.remove('label')\n",
    "except:\n",
    "  print('One has no null columns')"
   ]
  },
  {
   "cell_type": "code",
   "execution_count": 20,
   "id": "58235a1a",
   "metadata": {},
   "outputs": [],
   "source": [
    "mitbih_train.dropna(subset=['label'], inplace=True)"
   ]
  },
  {
   "cell_type": "code",
   "execution_count": 21,
   "id": "af47dedb",
   "metadata": {},
   "outputs": [
    {
     "data": {
      "text/plain": [
       "0.0    18118\n",
       "4.0     1608\n",
       "2.0     1448\n",
       "1.0      556\n",
       "3.0      162\n",
       "Name: label, dtype: int64"
      ]
     },
     "execution_count": 21,
     "metadata": {},
     "output_type": "execute_result"
    }
   ],
   "source": [
    "mitbih_test['label'].value_counts()"
   ]
  },
  {
   "cell_type": "code",
   "execution_count": 22,
   "id": "2e20534a",
   "metadata": {},
   "outputs": [
    {
     "name": "stdout",
     "output_type": "stream",
     "text": [
      "(87554, 187)\n",
      "0.0    72471\n",
      "4.0     6431\n",
      "2.0     5788\n",
      "1.0     2223\n",
      "3.0      641\n",
      "Name: label, dtype: int64\n"
     ]
    }
   ],
   "source": [
    "X_train = mitbih_train.iloc[:,0:mitbih_train.shape[1]-1]\n",
    "y_train = mitbih_train.iloc[:,mitbih_train.shape[1]-1]\n",
    "\n",
    "print(X_train.shape)\n",
    "print(y_train.value_counts())"
   ]
  },
  {
   "cell_type": "code",
   "execution_count": 23,
   "id": "1f813d49",
   "metadata": {},
   "outputs": [
    {
     "name": "stdout",
     "output_type": "stream",
     "text": [
      "(21892, 187)\n",
      "(21892,)\n"
     ]
    }
   ],
   "source": [
    "X_test = mitbih_test.iloc[:,0:mitbih_test.shape[1]-1]\n",
    "y_test = mitbih_test.iloc[:,mitbih_test.shape[1]-1]\n",
    "\n",
    "print(X_test.shape)\n",
    "print(y_test.shape)"
   ]
  },
  {
   "cell_type": "markdown",
   "id": "95da7200",
   "metadata": {},
   "source": [
    "## Training, Testing and Evaluation Models"
   ]
  },
  {
   "cell_type": "code",
   "execution_count": 24,
   "id": "880b281d",
   "metadata": {},
   "outputs": [
    {
     "name": "stdout",
     "output_type": "stream",
     "text": [
      "[0.9089715  0.91422534 0.91405402 0.91045628 0.91496288]\n",
      "0.9125340067714964\n"
     ]
    }
   ],
   "source": [
    "# instatiate a linear model and check cross-validation performance\n",
    "simplefilter(\"ignore\")\n",
    "model = LogisticRegression()\n",
    "cv_score = cross_val_score(model, X_train, y_train, cv=5)\n",
    "print(cv_score)\n",
    "print(cv_score.mean())"
   ]
  },
  {
   "cell_type": "code",
   "execution_count": 34,
   "id": "6fbbda4a",
   "metadata": {},
   "outputs": [
    {
     "name": "stdout",
     "output_type": "stream",
     "text": [
      "Accuracy: 0.91174858395761\n",
      "Precision: 0.9006559322267144\n",
      "Recall: 0.91174858395761\n",
      "F1-Score: 0.8992060117007737\n"
     ]
    },
    {
     "data": {
      "image/png": "[encoded data removed]",
      "text/plain": [
       "<Figure size 720x360 with 2 Axes>"
      ]
     },
     "metadata": {
      "needs_background": "light"
     },
     "output_type": "display_data"
    }
   ],
   "source": [
    "# train the classifier and evaluate the performance in the test set\n",
    "model.fit(X_train, y_train)\n",
    "y_predicted= model.predict(X_test)\n",
    "\n",
    "# computing the metrices\n",
    "compute_metrices(y_test, y_predicted)\n",
    "\n",
    "# plot confusion matrices\n",
    "plot_confusion_matrices(y_test, y_predicted)"
   ]
  },
  {
   "cell_type": "markdown",
   "id": "c682a736",
   "metadata": {},
   "source": [
    "As we can see that there are quite some mispredictions. It is severe in class 3 as the model was able to only predict 47 entries correctly. we take note of the F1-score here, as it is the harominic weight of both precision and recall. Also for class 0,1,2 there are lot's of mispredictions too. We can try the SVM to see difference next. "
   ]
  },
  {
   "cell_type": "code",
   "execution_count": 35,
   "id": "a13548e5",
   "metadata": {},
   "outputs": [
    {
     "name": "stdout",
     "output_type": "stream",
     "text": [
      "Accuracy: 0.9680248492600037\n",
      "Precision: 0.9675831181181114\n",
      "Recall: 0.9680248492600037\n",
      "F1-Score: 0.9657306309108418\n"
     ]
    },
    {
     "data": {
      "image/png": "[encoded data removed]",
      "text/plain": [
       "<Figure size 720x360 with 2 Axes>"
      ]
     },
     "metadata": {
      "needs_background": "light"
     },
     "output_type": "display_data"
    }
   ],
   "source": [
    "# check performance for support vector machine\n",
    "model = SVC(kernel='rbf') # SVC(kernel='linear') #\n",
    "model.fit(X_train, y_train)\n",
    "y_predicted= model.predict(X_test)\n",
    "\n",
    "# computing the metrices\n",
    "compute_metrices(y_test, y_predicted)\n",
    "\n",
    "# plot confusion matrices\n",
    "plot_confusion_matrices(y_test, y_predicted)"
   ]
  },
  {
   "cell_type": "markdown",
   "id": "20e84105",
   "metadata": {},
   "source": [
    "As we see that the accuracy is a bit higher than the linaer logisitic regression classifier. Here the third class is predicted a little bit better, than the previous model. Also we see drastic improvements for the class 0 and 1 as well. But for class 2 we see some downfall as it mispredicted some labels. Next wee see the use of Linear SVM. Here we also note that the F1-Score is better than the logistic regression classifier."
   ]
  },
  {
   "cell_type": "code",
   "execution_count": 37,
   "id": "8505a4fe",
   "metadata": {},
   "outputs": [
    {
     "name": "stdout",
     "output_type": "stream",
     "text": [
      "Accuracy: 0.9204275534441805\n",
      "Precision: 0.9158481402163346\n",
      "Recall: 0.9204275534441805\n",
      "F1-Score: 0.9054528811250788\n"
     ]
    },
    {
     "data": {
      "image/png": "[encoded data removed]",
      "text/plain": [
       "<Figure size 720x360 with 2 Axes>"
      ]
     },
     "metadata": {
      "needs_background": "light"
     },
     "output_type": "display_data"
    }
   ],
   "source": [
    "# check performance for support vector machine\n",
    "model = SVC(kernel='linear') # SVC(kernel='linear') #\n",
    "model.fit(X_train, y_train)\n",
    "y_predicted= model.predict(X_test)\n",
    "\n",
    "# computing the metrices\n",
    "compute_metrices(y_test, y_predicted)\n",
    "\n",
    "# plot confusion matrices\n",
    "plot_confusion_matrices(y_test, y_predicted)"
   ]
  },
  {
   "cell_type": "markdown",
   "id": "370b65cb",
   "metadata": {},
   "source": [
    "Here we observe some interesting things as well. The performance is somehwhat worse than the rbf kernel of svm for some classes. We observe that however for class 2, the result is better than rbf kernel. Next we try some ensemble methods and check out their performance. We also see that the F1-Score is drastically reduced as well."
   ]
  },
  {
   "cell_type": "markdown",
   "id": "98326913",
   "metadata": {},
   "source": [
    "So Among the three classifiers tested above, it seems overall **rbf kernel svm** performs better than the other two."
   ]
  },
  {
   "cell_type": "code",
   "execution_count": 48,
   "id": "f92702a5",
   "metadata": {},
   "outputs": [
    {
     "name": "stdout",
     "output_type": "stream",
     "text": [
      "Accuracy: 0.9745112369815457\n",
      "Precision: 0.9745440294791335\n",
      "Recall: 0.9745112369815457\n",
      "F1-Score: 0.972832063243754\n"
     ]
    },
    {
     "data": {
      "image/png": "[encoded data removed]",
      "text/plain": [
       "<Figure size 720x360 with 2 Axes>"
      ]
     },
     "metadata": {
      "needs_background": "light"
     },
     "output_type": "display_data"
    }
   ],
   "source": [
    "# check performance for ensemble models\n",
    "model = RandomForestClassifier() #RandomForestClassifier()\n",
    "model.fit(X_train, y_train)\n",
    "y_predicted= model.predict(X_test)\n",
    "\n",
    "# computing the metrices\n",
    "compute_metrices(y_test, y_predicted)\n",
    "\n",
    "# plot confusion matrices\n",
    "plot_confusion_matrices(y_test, y_predicted)"
   ]
  },
  {
   "cell_type": "markdown",
   "id": "3044903d",
   "metadata": {},
   "source": [
    "For ensemble method we choose RandomForestClassifier. Here we see some interesting result. We notice that the F1-score is the highest among all the classifier we have encountered so far. For the first time among all the models, we have that the class 3 is predicted properly in more numbers (the (4,4)th entry in the matrix ). We also see drastic improvements for other classifiers as well. So Among the classifiers we have tested, this one outperforms all the previous ones for this classification problem. "
   ]
  },
  {
   "cell_type": "markdown",
   "id": "adbee566",
   "metadata": {},
   "source": [
    "## Feature Identification"
   ]
  },
  {
   "cell_type": "code",
   "execution_count": 46,
   "id": "30bb99a1",
   "metadata": {},
   "outputs": [
    {
     "name": "stdout",
     "output_type": "stream",
     "text": [
      "(109446, 188)\n",
      "(109446, 187)\n",
      "(109446,)\n"
     ]
    }
   ],
   "source": [
    "# First we merge the train and test dataframes\n",
    "concat_df = pd.concat([mitbih_train, mitbih_test])\n",
    "\n",
    "\n",
    "concat_df_X = concat_df.iloc[:,0:concat_df.shape[1]-1]\n",
    "concat_df_Y = concat_df.iloc[:,concat_df.shape[1]-1]\n",
    "\n",
    "print(concat_df.shape)\n",
    "print(concat_df_X.shape)\n",
    "print(concat_df_Y.shape)"
   ]
  },
  {
   "cell_type": "code",
   "execution_count": null,
   "id": "9058e520",
   "metadata": {},
   "outputs": [],
   "source": [
    "# what are the important features??\n",
    "import matplotlib.pyplot as plt\n",
    "from sklearn.svm import SVC\n",
    "from sklearn.model_selection import StratifiedKFold\n",
    "from sklearn.feature_selection import RFECV\n",
    "from sklearn.datasets import make_classification\n",
    "\n",
    "# Create the RFE object and compute a cross-validated score.\n",
    "model_rf = RandomForestClassifier()\n",
    "# The \"accuracy\" scoring shows the proportion of correct classifications\n",
    "\n",
    "min_features_to_select = 1  # Minimum number of features to consider\n",
    "rfecv = RFECV(\n",
    "    estimator=model_rf,\n",
    "    step=1,\n",
    "    cv=StratifiedKFold(2),\n",
    "    scoring=\"accuracy\",\n",
    "    min_features_to_select=min_features_to_select,\n",
    ")\n",
    "rfecv.fit(concat_df_X, concat_df_Y)\n",
    "\n",
    "print(\"Optimal number of features : %d\" % rfecv.n_features_)\n",
    "\n",
    "# Plot number of features VS. cross-validation scores\n",
    "plt.figure()\n",
    "plt.xlabel(\"Number of features selected\")\n",
    "plt.ylabel(\"Cross validation score (accuracy)\")\n",
    "plt.plot(\n",
    "    range(min_features_to_select, len(rfecv.grid_scores_) + min_features_to_select),\n",
    "    rfecv.grid_scores_,\n",
    ")\n",
    "plt.show()"
   ]
  },
  {
   "cell_type": "code",
   "execution_count": null,
   "id": "b9d3290a",
   "metadata": {},
   "outputs": [],
   "source": []
  }
 ],
 "metadata": {
  "kernelspec": {
   "display_name": "Python 3 (ipykernel)",
   "language": "python",
   "name": "python3"
  },
  "language_info": {
   "codemirror_mode": {
    "name": "ipython",
    "version": 3
   },
   "file_extension": ".py",
   "mimetype": "text/x-python",
   "name": "python",
   "nbconvert_exporter": "python",
   "pygments_lexer": "ipython3",
   "version": "3.9.7"
  }
 },
 "nbformat": 4,
 "nbformat_minor": 5
}
