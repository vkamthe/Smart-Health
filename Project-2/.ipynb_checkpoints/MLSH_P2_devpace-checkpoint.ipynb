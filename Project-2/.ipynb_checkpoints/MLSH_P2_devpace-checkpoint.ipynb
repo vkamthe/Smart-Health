{
 "cells": [
  {
   "cell_type": "markdown",
   "id": "molecular-elevation",
   "metadata": {},
   "source": [
    "## SmartHealth: MIT-BIH Arrhythmia Database"
   ]
  },
  {
   "cell_type": "markdown",
   "id": "presidential-price",
   "metadata": {},
   "source": [
    "https://physionet.org/content/mitdb/1.0.0/\n",
    "    \n",
    "https://archive.physionet.org/physiobank/database/html/mitdbdir/mitdbdir.htm\n",
    "\n",
    "https://link.springer.com/chapter/10.1007/978-981-15-0829-5_41\n",
    "\n",
    "https://www.mathworks.com/matlabcentral/fileexchange/66623-ecg-preprocessing-segmentation-and-obtaining-the-mean-p-qrs-t-fragment\n",
    "\n",
    "https://archive.physionet.org/physiobank/annotations.shtml\n",
    "    \n",
    "#### Assignment 2: Devika Pace"
   ]
  },
  {
   "cell_type": "code",
   "execution_count": 15,
   "id": "affecting-contract",
   "metadata": {},
   "outputs": [],
   "source": [
    "import numpy as np\n",
    "import pandas as pd\n",
    "import matplotlib.pyplot as plt\n",
    "import seaborn as sns\n",
    "\n",
    "from sklearn.linear_model import LogisticRegression\n",
    "from sklearn.tree import DecisionTreeClassifier\n",
    "from sklearn.ensemble import RandomForestClassifier\n",
    "from sklearn.ensemble import ExtraTreesClassifier\n",
    "\n",
    "from sklearn.preprocessing import MinMaxScaler\n",
    "from sklearn.model_selection import train_test_split\n",
    "from sklearn.model_selection import cross_val_score\n",
    "\n",
    "from sklearn.metrics import accuracy_score, precision_score, recall_score, f1_score, confusion_matrix, classification_report\n",
    "from warnings import simplefilter"
   ]
  },
  {
   "cell_type": "markdown",
   "id": "392eb273",
   "metadata": {},
   "source": [
    "### Import Data"
   ]
  },
  {
   "cell_type": "code",
   "execution_count": 2,
   "id": "subjective-settle",
   "metadata": {},
   "outputs": [
    {
     "data": {
      "text/html": [
       "<div>\n",
       "<style scoped>\n",
       "    .dataframe tbody tr th:only-of-type {\n",
       "        vertical-align: middle;\n",
       "    }\n",
       "\n",
       "    .dataframe tbody tr th {\n",
       "        vertical-align: top;\n",
       "    }\n",
       "\n",
       "    .dataframe thead th {\n",
       "        text-align: right;\n",
       "    }\n",
       "</style>\n",
       "<table border=\"1\" class=\"dataframe\">\n",
       "  <thead>\n",
       "    <tr style=\"text-align: right;\">\n",
       "      <th></th>\n",
       "      <th>0</th>\n",
       "      <th>1</th>\n",
       "      <th>2</th>\n",
       "      <th>3</th>\n",
       "      <th>4</th>\n",
       "      <th>5</th>\n",
       "      <th>6</th>\n",
       "      <th>7</th>\n",
       "      <th>8</th>\n",
       "      <th>9</th>\n",
       "      <th>...</th>\n",
       "      <th>178</th>\n",
       "      <th>179</th>\n",
       "      <th>180</th>\n",
       "      <th>181</th>\n",
       "      <th>182</th>\n",
       "      <th>183</th>\n",
       "      <th>184</th>\n",
       "      <th>185</th>\n",
       "      <th>186</th>\n",
       "      <th>187</th>\n",
       "    </tr>\n",
       "  </thead>\n",
       "  <tbody>\n",
       "    <tr>\n",
       "      <th>0</th>\n",
       "      <td>1.000000</td>\n",
       "      <td>0.758264</td>\n",
       "      <td>0.111570</td>\n",
       "      <td>0.000000</td>\n",
       "      <td>0.080579</td>\n",
       "      <td>0.078512</td>\n",
       "      <td>0.066116</td>\n",
       "      <td>0.049587</td>\n",
       "      <td>0.047521</td>\n",
       "      <td>0.035124</td>\n",
       "      <td>...</td>\n",
       "      <td>0.0</td>\n",
       "      <td>0.0</td>\n",
       "      <td>0.0</td>\n",
       "      <td>0.0</td>\n",
       "      <td>0.0</td>\n",
       "      <td>0.0</td>\n",
       "      <td>0.0</td>\n",
       "      <td>0.0</td>\n",
       "      <td>0.0</td>\n",
       "      <td>0.0</td>\n",
       "    </tr>\n",
       "    <tr>\n",
       "      <th>1</th>\n",
       "      <td>0.908425</td>\n",
       "      <td>0.783883</td>\n",
       "      <td>0.531136</td>\n",
       "      <td>0.362637</td>\n",
       "      <td>0.366300</td>\n",
       "      <td>0.344322</td>\n",
       "      <td>0.333333</td>\n",
       "      <td>0.307692</td>\n",
       "      <td>0.296703</td>\n",
       "      <td>0.300366</td>\n",
       "      <td>...</td>\n",
       "      <td>0.0</td>\n",
       "      <td>0.0</td>\n",
       "      <td>0.0</td>\n",
       "      <td>0.0</td>\n",
       "      <td>0.0</td>\n",
       "      <td>0.0</td>\n",
       "      <td>0.0</td>\n",
       "      <td>0.0</td>\n",
       "      <td>0.0</td>\n",
       "      <td>0.0</td>\n",
       "    </tr>\n",
       "    <tr>\n",
       "      <th>2</th>\n",
       "      <td>0.730088</td>\n",
       "      <td>0.212389</td>\n",
       "      <td>0.000000</td>\n",
       "      <td>0.119469</td>\n",
       "      <td>0.101770</td>\n",
       "      <td>0.101770</td>\n",
       "      <td>0.110619</td>\n",
       "      <td>0.123894</td>\n",
       "      <td>0.115044</td>\n",
       "      <td>0.132743</td>\n",
       "      <td>...</td>\n",
       "      <td>0.0</td>\n",
       "      <td>0.0</td>\n",
       "      <td>0.0</td>\n",
       "      <td>0.0</td>\n",
       "      <td>0.0</td>\n",
       "      <td>0.0</td>\n",
       "      <td>0.0</td>\n",
       "      <td>0.0</td>\n",
       "      <td>0.0</td>\n",
       "      <td>0.0</td>\n",
       "    </tr>\n",
       "    <tr>\n",
       "      <th>3</th>\n",
       "      <td>1.000000</td>\n",
       "      <td>0.910417</td>\n",
       "      <td>0.681250</td>\n",
       "      <td>0.472917</td>\n",
       "      <td>0.229167</td>\n",
       "      <td>0.068750</td>\n",
       "      <td>0.000000</td>\n",
       "      <td>0.004167</td>\n",
       "      <td>0.014583</td>\n",
       "      <td>0.054167</td>\n",
       "      <td>...</td>\n",
       "      <td>0.0</td>\n",
       "      <td>0.0</td>\n",
       "      <td>0.0</td>\n",
       "      <td>0.0</td>\n",
       "      <td>0.0</td>\n",
       "      <td>0.0</td>\n",
       "      <td>0.0</td>\n",
       "      <td>0.0</td>\n",
       "      <td>0.0</td>\n",
       "      <td>0.0</td>\n",
       "    </tr>\n",
       "    <tr>\n",
       "      <th>4</th>\n",
       "      <td>0.570470</td>\n",
       "      <td>0.399329</td>\n",
       "      <td>0.238255</td>\n",
       "      <td>0.147651</td>\n",
       "      <td>0.000000</td>\n",
       "      <td>0.003356</td>\n",
       "      <td>0.040268</td>\n",
       "      <td>0.080537</td>\n",
       "      <td>0.070470</td>\n",
       "      <td>0.090604</td>\n",
       "      <td>...</td>\n",
       "      <td>0.0</td>\n",
       "      <td>0.0</td>\n",
       "      <td>0.0</td>\n",
       "      <td>0.0</td>\n",
       "      <td>0.0</td>\n",
       "      <td>0.0</td>\n",
       "      <td>0.0</td>\n",
       "      <td>0.0</td>\n",
       "      <td>0.0</td>\n",
       "      <td>0.0</td>\n",
       "    </tr>\n",
       "    <tr>\n",
       "      <th>...</th>\n",
       "      <td>...</td>\n",
       "      <td>...</td>\n",
       "      <td>...</td>\n",
       "      <td>...</td>\n",
       "      <td>...</td>\n",
       "      <td>...</td>\n",
       "      <td>...</td>\n",
       "      <td>...</td>\n",
       "      <td>...</td>\n",
       "      <td>...</td>\n",
       "      <td>...</td>\n",
       "      <td>...</td>\n",
       "      <td>...</td>\n",
       "      <td>...</td>\n",
       "      <td>...</td>\n",
       "      <td>...</td>\n",
       "      <td>...</td>\n",
       "      <td>...</td>\n",
       "      <td>...</td>\n",
       "      <td>...</td>\n",
       "      <td>...</td>\n",
       "    </tr>\n",
       "    <tr>\n",
       "      <th>21887</th>\n",
       "      <td>0.928736</td>\n",
       "      <td>0.871264</td>\n",
       "      <td>0.804598</td>\n",
       "      <td>0.742529</td>\n",
       "      <td>0.650575</td>\n",
       "      <td>0.535632</td>\n",
       "      <td>0.394253</td>\n",
       "      <td>0.250575</td>\n",
       "      <td>0.140230</td>\n",
       "      <td>0.102299</td>\n",
       "      <td>...</td>\n",
       "      <td>0.0</td>\n",
       "      <td>0.0</td>\n",
       "      <td>0.0</td>\n",
       "      <td>0.0</td>\n",
       "      <td>0.0</td>\n",
       "      <td>0.0</td>\n",
       "      <td>0.0</td>\n",
       "      <td>0.0</td>\n",
       "      <td>0.0</td>\n",
       "      <td>4.0</td>\n",
       "    </tr>\n",
       "    <tr>\n",
       "      <th>21888</th>\n",
       "      <td>0.802691</td>\n",
       "      <td>0.692078</td>\n",
       "      <td>0.587444</td>\n",
       "      <td>0.446936</td>\n",
       "      <td>0.318386</td>\n",
       "      <td>0.189836</td>\n",
       "      <td>0.118087</td>\n",
       "      <td>0.077728</td>\n",
       "      <td>0.112108</td>\n",
       "      <td>0.152466</td>\n",
       "      <td>...</td>\n",
       "      <td>0.0</td>\n",
       "      <td>0.0</td>\n",
       "      <td>0.0</td>\n",
       "      <td>0.0</td>\n",
       "      <td>0.0</td>\n",
       "      <td>0.0</td>\n",
       "      <td>0.0</td>\n",
       "      <td>0.0</td>\n",
       "      <td>0.0</td>\n",
       "      <td>4.0</td>\n",
       "    </tr>\n",
       "    <tr>\n",
       "      <th>21889</th>\n",
       "      <td>1.000000</td>\n",
       "      <td>0.967359</td>\n",
       "      <td>0.620178</td>\n",
       "      <td>0.347181</td>\n",
       "      <td>0.139466</td>\n",
       "      <td>0.089021</td>\n",
       "      <td>0.103858</td>\n",
       "      <td>0.100890</td>\n",
       "      <td>0.106825</td>\n",
       "      <td>0.100890</td>\n",
       "      <td>...</td>\n",
       "      <td>0.0</td>\n",
       "      <td>0.0</td>\n",
       "      <td>0.0</td>\n",
       "      <td>0.0</td>\n",
       "      <td>0.0</td>\n",
       "      <td>0.0</td>\n",
       "      <td>0.0</td>\n",
       "      <td>0.0</td>\n",
       "      <td>0.0</td>\n",
       "      <td>4.0</td>\n",
       "    </tr>\n",
       "    <tr>\n",
       "      <th>21890</th>\n",
       "      <td>0.984127</td>\n",
       "      <td>0.567460</td>\n",
       "      <td>0.607143</td>\n",
       "      <td>0.583333</td>\n",
       "      <td>0.607143</td>\n",
       "      <td>0.575397</td>\n",
       "      <td>0.575397</td>\n",
       "      <td>0.488095</td>\n",
       "      <td>0.392857</td>\n",
       "      <td>0.238095</td>\n",
       "      <td>...</td>\n",
       "      <td>0.0</td>\n",
       "      <td>0.0</td>\n",
       "      <td>0.0</td>\n",
       "      <td>0.0</td>\n",
       "      <td>0.0</td>\n",
       "      <td>0.0</td>\n",
       "      <td>0.0</td>\n",
       "      <td>0.0</td>\n",
       "      <td>0.0</td>\n",
       "      <td>4.0</td>\n",
       "    </tr>\n",
       "    <tr>\n",
       "      <th>21891</th>\n",
       "      <td>0.973970</td>\n",
       "      <td>0.913232</td>\n",
       "      <td>0.865510</td>\n",
       "      <td>0.823210</td>\n",
       "      <td>0.746204</td>\n",
       "      <td>0.642082</td>\n",
       "      <td>0.547722</td>\n",
       "      <td>0.426247</td>\n",
       "      <td>0.325380</td>\n",
       "      <td>0.279826</td>\n",
       "      <td>...</td>\n",
       "      <td>0.0</td>\n",
       "      <td>0.0</td>\n",
       "      <td>0.0</td>\n",
       "      <td>0.0</td>\n",
       "      <td>0.0</td>\n",
       "      <td>0.0</td>\n",
       "      <td>0.0</td>\n",
       "      <td>0.0</td>\n",
       "      <td>0.0</td>\n",
       "      <td>4.0</td>\n",
       "    </tr>\n",
       "  </tbody>\n",
       "</table>\n",
       "<p>21892 rows × 188 columns</p>\n",
       "</div>"
      ],
      "text/plain": [
       "            0         1         2         3         4         5         6    \\\n",
       "0      1.000000  0.758264  0.111570  0.000000  0.080579  0.078512  0.066116   \n",
       "1      0.908425  0.783883  0.531136  0.362637  0.366300  0.344322  0.333333   \n",
       "2      0.730088  0.212389  0.000000  0.119469  0.101770  0.101770  0.110619   \n",
       "3      1.000000  0.910417  0.681250  0.472917  0.229167  0.068750  0.000000   \n",
       "4      0.570470  0.399329  0.238255  0.147651  0.000000  0.003356  0.040268   \n",
       "...         ...       ...       ...       ...       ...       ...       ...   \n",
       "21887  0.928736  0.871264  0.804598  0.742529  0.650575  0.535632  0.394253   \n",
       "21888  0.802691  0.692078  0.587444  0.446936  0.318386  0.189836  0.118087   \n",
       "21889  1.000000  0.967359  0.620178  0.347181  0.139466  0.089021  0.103858   \n",
       "21890  0.984127  0.567460  0.607143  0.583333  0.607143  0.575397  0.575397   \n",
       "21891  0.973970  0.913232  0.865510  0.823210  0.746204  0.642082  0.547722   \n",
       "\n",
       "            7         8         9    ...  178  179  180  181  182  183  184  \\\n",
       "0      0.049587  0.047521  0.035124  ...  0.0  0.0  0.0  0.0  0.0  0.0  0.0   \n",
       "1      0.307692  0.296703  0.300366  ...  0.0  0.0  0.0  0.0  0.0  0.0  0.0   \n",
       "2      0.123894  0.115044  0.132743  ...  0.0  0.0  0.0  0.0  0.0  0.0  0.0   \n",
       "3      0.004167  0.014583  0.054167  ...  0.0  0.0  0.0  0.0  0.0  0.0  0.0   \n",
       "4      0.080537  0.070470  0.090604  ...  0.0  0.0  0.0  0.0  0.0  0.0  0.0   \n",
       "...         ...       ...       ...  ...  ...  ...  ...  ...  ...  ...  ...   \n",
       "21887  0.250575  0.140230  0.102299  ...  0.0  0.0  0.0  0.0  0.0  0.0  0.0   \n",
       "21888  0.077728  0.112108  0.152466  ...  0.0  0.0  0.0  0.0  0.0  0.0  0.0   \n",
       "21889  0.100890  0.106825  0.100890  ...  0.0  0.0  0.0  0.0  0.0  0.0  0.0   \n",
       "21890  0.488095  0.392857  0.238095  ...  0.0  0.0  0.0  0.0  0.0  0.0  0.0   \n",
       "21891  0.426247  0.325380  0.279826  ...  0.0  0.0  0.0  0.0  0.0  0.0  0.0   \n",
       "\n",
       "       185  186  187  \n",
       "0      0.0  0.0  0.0  \n",
       "1      0.0  0.0  0.0  \n",
       "2      0.0  0.0  0.0  \n",
       "3      0.0  0.0  0.0  \n",
       "4      0.0  0.0  0.0  \n",
       "...    ...  ...  ...  \n",
       "21887  0.0  0.0  4.0  \n",
       "21888  0.0  0.0  4.0  \n",
       "21889  0.0  0.0  4.0  \n",
       "21890  0.0  0.0  4.0  \n",
       "21891  0.0  0.0  4.0  \n",
       "\n",
       "[21892 rows x 188 columns]"
      ]
     },
     "execution_count": 2,
     "metadata": {},
     "output_type": "execute_result"
    }
   ],
   "source": [
    "ecg_test = pd.read_csv('mitbih_test.csv', header=None)\n",
    "ecg_test"
   ]
  },
  {
   "cell_type": "code",
   "execution_count": 3,
   "id": "fossil-identification",
   "metadata": {},
   "outputs": [
    {
     "data": {
      "text/plain": [
       "0.0    18118\n",
       "4.0     1608\n",
       "2.0     1448\n",
       "1.0      556\n",
       "3.0      162\n",
       "Name: 187, dtype: int64"
      ]
     },
     "execution_count": 3,
     "metadata": {},
     "output_type": "execute_result"
    }
   ],
   "source": [
    "ecg_test[187].value_counts()\n",
    "# imbalanced data set"
   ]
  },
  {
   "cell_type": "code",
   "execution_count": 4,
   "id": "willing-jenny",
   "metadata": {},
   "outputs": [
    {
     "data": {
      "text/plain": [
       "0.0    72471\n",
       "4.0     6431\n",
       "2.0     5788\n",
       "1.0     2223\n",
       "3.0      641\n",
       "Name: 187, dtype: int64"
      ]
     },
     "execution_count": 4,
     "metadata": {},
     "output_type": "execute_result"
    }
   ],
   "source": [
    "ecg_train = pd.read_csv('mitbih_train.csv', header=None)\n",
    "ecg_train[187].value_counts()"
   ]
  },
  {
   "cell_type": "code",
   "execution_count": 5,
   "id": "internal-class",
   "metadata": {},
   "outputs": [
    {
     "data": {
      "text/plain": [
       "0.0    0.827729\n",
       "4.0    0.073452\n",
       "2.0    0.066108\n",
       "1.0    0.025390\n",
       "3.0    0.007321\n",
       "Name: 187, dtype: float64"
      ]
     },
     "execution_count": 5,
     "metadata": {},
     "output_type": "execute_result"
    }
   ],
   "source": [
    "ecg_train[187].value_counts()/len(ecg_train)"
   ]
  },
  {
   "cell_type": "code",
   "execution_count": 6,
   "id": "brave-grace",
   "metadata": {},
   "outputs": [
    {
     "data": {
      "text/plain": [
       "0.0    0.827608\n",
       "4.0    0.073451\n",
       "2.0    0.066143\n",
       "1.0    0.025397\n",
       "3.0    0.007400\n",
       "Name: 187, dtype: float64"
      ]
     },
     "execution_count": 6,
     "metadata": {},
     "output_type": "execute_result"
    }
   ],
   "source": [
    "ecg_test[187].value_counts()/len(ecg_test)"
   ]
  },
  {
   "cell_type": "code",
   "execution_count": 7,
   "id": "working-escape",
   "metadata": {},
   "outputs": [
    {
     "data": {
      "text/html": [
       "<div>\n",
       "<style scoped>\n",
       "    .dataframe tbody tr th:only-of-type {\n",
       "        vertical-align: middle;\n",
       "    }\n",
       "\n",
       "    .dataframe tbody tr th {\n",
       "        vertical-align: top;\n",
       "    }\n",
       "\n",
       "    .dataframe thead th {\n",
       "        text-align: right;\n",
       "    }\n",
       "</style>\n",
       "<table border=\"1\" class=\"dataframe\">\n",
       "  <thead>\n",
       "    <tr style=\"text-align: right;\">\n",
       "      <th></th>\n",
       "      <th>0</th>\n",
       "      <th>1</th>\n",
       "      <th>2</th>\n",
       "      <th>3</th>\n",
       "      <th>4</th>\n",
       "      <th>5</th>\n",
       "      <th>6</th>\n",
       "      <th>7</th>\n",
       "      <th>8</th>\n",
       "      <th>9</th>\n",
       "      <th>...</th>\n",
       "      <th>178</th>\n",
       "      <th>179</th>\n",
       "      <th>180</th>\n",
       "      <th>181</th>\n",
       "      <th>182</th>\n",
       "      <th>183</th>\n",
       "      <th>184</th>\n",
       "      <th>185</th>\n",
       "      <th>186</th>\n",
       "      <th>187</th>\n",
       "    </tr>\n",
       "  </thead>\n",
       "  <tbody>\n",
       "    <tr>\n",
       "      <th>0</th>\n",
       "      <td>1.0</td>\n",
       "      <td>0.758264</td>\n",
       "      <td>0.11157</td>\n",
       "      <td>0.0</td>\n",
       "      <td>0.080579</td>\n",
       "      <td>0.078512</td>\n",
       "      <td>0.066116</td>\n",
       "      <td>0.049587</td>\n",
       "      <td>0.047521</td>\n",
       "      <td>0.035124</td>\n",
       "      <td>...</td>\n",
       "      <td>0.0</td>\n",
       "      <td>0.0</td>\n",
       "      <td>0.0</td>\n",
       "      <td>0.0</td>\n",
       "      <td>0.0</td>\n",
       "      <td>0.0</td>\n",
       "      <td>0.0</td>\n",
       "      <td>0.0</td>\n",
       "      <td>0.0</td>\n",
       "      <td>0.0</td>\n",
       "    </tr>\n",
       "  </tbody>\n",
       "</table>\n",
       "<p>1 rows × 188 columns</p>\n",
       "</div>"
      ],
      "text/plain": [
       "   0         1        2    3         4         5         6         7    \\\n",
       "0  1.0  0.758264  0.11157  0.0  0.080579  0.078512  0.066116  0.049587   \n",
       "\n",
       "        8         9    ...  178  179  180  181  182  183  184  185  186  187  \n",
       "0  0.047521  0.035124  ...  0.0  0.0  0.0  0.0  0.0  0.0  0.0  0.0  0.0  0.0  \n",
       "\n",
       "[1 rows x 188 columns]"
      ]
     },
     "execution_count": 7,
     "metadata": {},
     "output_type": "execute_result"
    }
   ],
   "source": [
    "ecg_test.head(1)"
   ]
  },
  {
   "cell_type": "code",
   "execution_count": 8,
   "id": "portable-richmond",
   "metadata": {},
   "outputs": [
    {
     "data": {
      "text/html": [
       "<div>\n",
       "<style scoped>\n",
       "    .dataframe tbody tr th:only-of-type {\n",
       "        vertical-align: middle;\n",
       "    }\n",
       "\n",
       "    .dataframe tbody tr th {\n",
       "        vertical-align: top;\n",
       "    }\n",
       "\n",
       "    .dataframe thead th {\n",
       "        text-align: right;\n",
       "    }\n",
       "</style>\n",
       "<table border=\"1\" class=\"dataframe\">\n",
       "  <thead>\n",
       "    <tr style=\"text-align: right;\">\n",
       "      <th></th>\n",
       "      <th>0</th>\n",
       "      <th>1</th>\n",
       "      <th>2</th>\n",
       "      <th>3</th>\n",
       "      <th>4</th>\n",
       "      <th>5</th>\n",
       "      <th>6</th>\n",
       "      <th>7</th>\n",
       "      <th>8</th>\n",
       "      <th>9</th>\n",
       "      <th>...</th>\n",
       "      <th>178</th>\n",
       "      <th>179</th>\n",
       "      <th>180</th>\n",
       "      <th>181</th>\n",
       "      <th>182</th>\n",
       "      <th>183</th>\n",
       "      <th>184</th>\n",
       "      <th>185</th>\n",
       "      <th>186</th>\n",
       "      <th>187</th>\n",
       "    </tr>\n",
       "  </thead>\n",
       "  <tbody>\n",
       "    <tr>\n",
       "      <th>0</th>\n",
       "      <td>0.977941</td>\n",
       "      <td>0.926471</td>\n",
       "      <td>0.681373</td>\n",
       "      <td>0.245098</td>\n",
       "      <td>0.154412</td>\n",
       "      <td>0.191176</td>\n",
       "      <td>0.151961</td>\n",
       "      <td>0.085784</td>\n",
       "      <td>0.058824</td>\n",
       "      <td>0.04902</td>\n",
       "      <td>...</td>\n",
       "      <td>0.0</td>\n",
       "      <td>0.0</td>\n",
       "      <td>0.0</td>\n",
       "      <td>0.0</td>\n",
       "      <td>0.0</td>\n",
       "      <td>0.0</td>\n",
       "      <td>0.0</td>\n",
       "      <td>0.0</td>\n",
       "      <td>0.0</td>\n",
       "      <td>0.0</td>\n",
       "    </tr>\n",
       "  </tbody>\n",
       "</table>\n",
       "<p>1 rows × 188 columns</p>\n",
       "</div>"
      ],
      "text/plain": [
       "        0         1         2         3         4         5         6    \\\n",
       "0  0.977941  0.926471  0.681373  0.245098  0.154412  0.191176  0.151961   \n",
       "\n",
       "        7         8        9    ...  178  179  180  181  182  183  184  185  \\\n",
       "0  0.085784  0.058824  0.04902  ...  0.0  0.0  0.0  0.0  0.0  0.0  0.0  0.0   \n",
       "\n",
       "   186  187  \n",
       "0  0.0  0.0  \n",
       "\n",
       "[1 rows x 188 columns]"
      ]
     },
     "execution_count": 8,
     "metadata": {},
     "output_type": "execute_result"
    }
   ],
   "source": [
    "ecg_train.head(1)"
   ]
  },
  {
   "cell_type": "code",
   "execution_count": 9,
   "id": "genuine-mills",
   "metadata": {},
   "outputs": [],
   "source": [
    "for x in [ecg_test, ecg_train]:\n",
    "    x.columns = x.columns.map(lambda x: 'x' + str(x))\n",
    "    x.rename(columns={'x187':'target'}, inplace=True)\n",
    "    x['target'] = x['target'].astype(str)"
   ]
  },
  {
   "cell_type": "code",
   "execution_count": 10,
   "id": "swedish-october",
   "metadata": {},
   "outputs": [
    {
     "name": "stdout",
     "output_type": "stream",
     "text": [
      "<class 'pandas.core.frame.DataFrame'>\n",
      "RangeIndex: 21892 entries, 0 to 21891\n",
      "Columns: 188 entries, x0 to target\n",
      "dtypes: float64(187), object(1)\n",
      "memory usage: 31.4+ MB\n",
      "<class 'pandas.core.frame.DataFrame'>\n",
      "RangeIndex: 87554 entries, 0 to 87553\n",
      "Columns: 188 entries, x0 to target\n",
      "dtypes: float64(187), object(1)\n",
      "memory usage: 125.6+ MB\n"
     ]
    },
    {
     "data": {
      "text/plain": [
       "(None, None)"
      ]
     },
     "execution_count": 10,
     "metadata": {},
     "output_type": "execute_result"
    }
   ],
   "source": [
    "ecg_test.info(), ecg_train.info()"
   ]
  },
  {
   "cell_type": "code",
   "execution_count": 11,
   "id": "dependent-ukraine",
   "metadata": {},
   "outputs": [
    {
     "data": {
      "text/plain": [
       "((87554, 187), (87554,), (21892, 187), (21892,))"
      ]
     },
     "execution_count": 11,
     "metadata": {},
     "output_type": "execute_result"
    }
   ],
   "source": [
    "X_train, X_test = ecg_train.iloc[:,:-1], ecg_test.iloc[:,:-1]\n",
    "y_train, y_test = ecg_train.iloc[:, -1],  ecg_test.iloc[:, -1]\n",
    "X_train.shape, y_train.shape, X_test.shape, y_test.shape"
   ]
  },
  {
   "cell_type": "markdown",
   "id": "db2fbbec",
   "metadata": {},
   "source": [
    "## EDA"
   ]
  },
  {
   "cell_type": "code",
   "execution_count": 17,
   "id": "01cf7077",
   "metadata": {},
   "outputs": [],
   "source": [
    "beats = {'N': 'Normal Beat',\n",
    "         'V': 'Ventricular Ectopic Beat',\n",
    "         'S': 'Supraventricular Ectopic Beat',\n",
    "         'F': 'Fusion Beat',\n",
    "         'Q': 'Unknown Beat'}"
   ]
  },
  {
   "cell_type": "code",
   "execution_count": 133,
   "id": "dd207d54",
   "metadata": {},
   "outputs": [
    {
     "data": {
      "image/png": "[encoded data removed]",
      "text/plain": [
       "<Figure size 1440x360 with 1 Axes>"
      ]
     },
     "metadata": {
      "needs_background": "light"
     },
     "output_type": "display_data"
    }
   ],
   "source": [
    "plt.figure(figsize=(20,5))\n",
    "plt.plot(X_train.loc[0,:]);\n",
    "plt.xticks(np.arange(0, 186, 20))\n",
    "plt.title('Sample ECG Data')\n",
    "plt.show()"
   ]
  },
  {
   "cell_type": "code",
   "execution_count": 59,
   "id": "89739e6d",
   "metadata": {},
   "outputs": [],
   "source": [
    "from sklearn.metrics import ConfusionMatrixDisplay\n",
    "\n",
    "def show_confusion_heatmap(X_test, y_test, class_names, model_name='Confusion Matrix', print_precision=2, cmap=plt.cm.Blues):\n",
    "    np.set_printoptions(precision=print_precision)\n",
    "    titles_options = [\n",
    "        (f'{model_name} (without normalization)', None),\n",
    "        (f'Normalized {model_name}', \"true\"),\n",
    "    ]\n",
    "    for title, normalize in titles_options:\n",
    "        disp = ConfusionMatrixDisplay.from_estimator(\n",
    "            log_reg,\n",
    "            X_test,\n",
    "            y_test,\n",
    "            display_labels=class_names,\n",
    "            cmap=cmap,\n",
    "            normalize=normalize,\n",
    "        )\n",
    "        disp.ax_.set_title(title)\n",
    "    plt.rcParams[\"figure.figsize\"] = (7,7)\n",
    "    plt.show()\n"
   ]
  },
  {
   "cell_type": "markdown",
   "id": "f145aa45",
   "metadata": {},
   "source": [
    "## Models"
   ]
  },
  {
   "cell_type": "code",
   "execution_count": 63,
   "id": "af9946c4",
   "metadata": {},
   "outputs": [],
   "source": [
    "track_models = []"
   ]
  },
  {
   "cell_type": "markdown",
   "id": "695dd6ed",
   "metadata": {},
   "source": [
    "### Logistic Regression"
   ]
  },
  {
   "cell_type": "code",
   "execution_count": 65,
   "id": "comfortable-baking",
   "metadata": {},
   "outputs": [
    {
     "name": "stdout",
     "output_type": "stream",
     "text": [
      "\n",
      "Confusion Matrix:\n",
      "\n",
      "N: Normal Beat\n",
      "V: Ventricular Ectopic Beat\n",
      "S: Supraventricular Ectopic Beat\n",
      "F: Fusion Beat\n",
      "Q: Unknown Beat\n"
     ]
    },
    {
     "data": {
      "image/png": "[encoded data removed]",
      "text/plain": [
       "<Figure size 504x504 with 2 Axes>"
      ]
     },
     "metadata": {
      "needs_background": "light"
     },
     "output_type": "display_data"
    },
    {
     "data": {
      "image/png": "[encoded data removed]",
      "text/plain": [
       "<Figure size 504x504 with 2 Axes>"
      ]
     },
     "metadata": {
      "needs_background": "light"
     },
     "output_type": "display_data"
    },
    {
     "name": "stdout",
     "output_type": "stream",
     "text": [
      "Classification Report:\n",
      "\n",
      "               precision    recall  f1-score   support\n",
      "\n",
      "         0.0       0.92      0.98      0.95     18118\n",
      "         1.0       0.84      0.36      0.50       556\n",
      "         2.0       0.64      0.34      0.44      1448\n",
      "         3.0       0.53      0.29      0.38       162\n",
      "         4.0       0.95      0.87      0.91      1608\n",
      "\n",
      "    accuracy                           0.91     21892\n",
      "   macro avg       0.78      0.57      0.64     21892\n",
      "weighted avg       0.90      0.91      0.90     21892\n",
      "\n",
      "Accuracy Score: 0.91\n",
      "Precision: 0.78\n",
      "Recall: 0.57\n"
     ]
    }
   ],
   "source": [
    "simplefilter(\"ignore\")\n",
    "log_reg = LogisticRegression(random_state=0).fit(X_train, y_train)\n",
    "y_pred = log_reg.predict(X_test)\n",
    "\n",
    "print('\\nConfusion Matrix:\\n')\n",
    "for k,v in beats.items(): \n",
    "    print(f'{k}: {v}')   \n",
    "show_confusion_heatmap(X_test, y_test, beats.keys(), 'Logistic Regression', 2, cmap='GnBu');\n",
    "\n",
    "print(f'Classification Report:\\n\\n {classification_report(y_test,y_pred)}')\n",
    "print(f'Accuracy Score: {accuracy_score(y_test, y_pred):0.2f}')\n",
    "print(f'Precision: {precision_score(y_test, y_pred, average=\"macro\"):.2f}')\n",
    "print(f'Recall: {recall_score(y_test, y_pred, average=\"macro\"):0.2f}')\n",
    "\n",
    "track_models.append(['Logistic Regression', \n",
    "                    accuracy_score(y_test, y_pred),\n",
    "                    precision_score(y_test, y_pred, average=\"macro\"), \n",
    "                    recall_score(y_test, y_pred, average=\"macro\")])"
   ]
  },
  {
   "cell_type": "code",
   "execution_count": 69,
   "id": "bd08c5b7",
   "metadata": {},
   "outputs": [
    {
     "data": {
      "text/plain": [
       "0.9125796923405671"
      ]
     },
     "execution_count": 69,
     "metadata": {},
     "output_type": "execute_result"
    }
   ],
   "source": [
    "scores = cross_val_score(log_reg, X_train, y_train, cv=5)\n",
    "scores.mean()"
   ]
  },
  {
   "cell_type": "markdown",
   "id": "327c38f7",
   "metadata": {},
   "source": [
    "### Decision Tree Classifier"
   ]
  },
  {
   "cell_type": "code",
   "execution_count": 108,
   "id": "certain-possession",
   "metadata": {},
   "outputs": [
    {
     "name": "stdout",
     "output_type": "stream",
     "text": [
      "\n",
      "Confusion Matrix:\n",
      "\n",
      "N: Normal Beat\n",
      "V: Ventricular Ectopic Beat\n",
      "S: Supraventricular Ectopic Beat\n",
      "F: Fusion Beat\n",
      "Q: Unknown Beat\n"
     ]
    },
    {
     "data": {
      "image/png": "[encoded data removed]",
      "text/plain": [
       "<Figure size 504x504 with 2 Axes>"
      ]
     },
     "metadata": {
      "needs_background": "light"
     },
     "output_type": "display_data"
    },
    {
     "data": {
      "image/png": "[encoded data removed]",
      "text/plain": [
       "<Figure size 504x504 with 2 Axes>"
      ]
     },
     "metadata": {
      "needs_background": "light"
     },
     "output_type": "display_data"
    },
    {
     "name": "stdout",
     "output_type": "stream",
     "text": [
      "Classification Report:\n",
      "\n",
      "               precision    recall  f1-score   support\n",
      "\n",
      "         0.0       0.97      0.98      0.98     18118\n",
      "         1.0       0.63      0.64      0.63       556\n",
      "         2.0       0.86      0.85      0.86      1448\n",
      "         3.0       0.58      0.60      0.59       162\n",
      "         4.0       0.94      0.94      0.94      1608\n",
      "\n",
      "    accuracy                           0.95     21892\n",
      "   macro avg       0.80      0.80      0.80     21892\n",
      "weighted avg       0.95      0.95      0.95     21892\n",
      "\n",
      "Accuracy Score: 0.95\n",
      "Precision: 0.80\n",
      "Recall: 0.80\n"
     ]
    }
   ],
   "source": [
    "simplefilter(\"ignore\")\n",
    "dtc = DecisionTreeClassifier(max_depth=None, min_samples_split=2,random_state=0).fit(X_train, y_train)\n",
    "y_pred = dtc.predict(X_test)\n",
    "\n",
    "print('\\nConfusion Matrix:\\n')\n",
    "for k,v in beats.items(): \n",
    "    print(f'{k}: {v}')   \n",
    "show_confusion_heatmap(X_test, y_test, beats.keys(), 'Decision Tree', 2, cmap='GnBu');\n",
    "\n",
    "print(f'Classification Report:\\n\\n {classification_report(y_test,y_pred)}')\n",
    "print(f'Accuracy Score: {accuracy_score(y_test, y_pred):0.2f}')\n",
    "print(f'Precision: {precision_score(y_test, y_pred, average=\"macro\"):.2f}')\n",
    "print(f'Recall: {recall_score(y_test, y_pred, average=\"macro\"):0.2f}')\n",
    "\n",
    "track_models.append(['Decision Tree Classifier', \n",
    "                    accuracy_score(y_test, y_pred),\n",
    "                    precision_score(y_test, y_pred, average=\"macro\"), \n",
    "                    recall_score(y_test, y_pred, average=\"macro\")])"
   ]
  },
  {
   "cell_type": "code",
   "execution_count": 68,
   "id": "72d9a1c3",
   "metadata": {},
   "outputs": [
    {
     "data": {
      "text/plain": [
       "0.9536172139623682"
      ]
     },
     "execution_count": 68,
     "metadata": {},
     "output_type": "execute_result"
    }
   ],
   "source": [
    "scores = cross_val_score(dtc, X_train, y_train, cv=5)\n",
    "scores.mean()"
   ]
  },
  {
   "cell_type": "markdown",
   "id": "5078e84b",
   "metadata": {},
   "source": [
    "### Random Forest"
   ]
  },
  {
   "cell_type": "code",
   "execution_count": 109,
   "id": "1d1f7aee",
   "metadata": {},
   "outputs": [
    {
     "name": "stdout",
     "output_type": "stream",
     "text": [
      "\n",
      "Confusion Matrix:\n",
      "\n",
      "N: Normal Beat\n",
      "V: Ventricular Ectopic Beat\n",
      "S: Supraventricular Ectopic Beat\n",
      "F: Fusion Beat\n",
      "Q: Unknown Beat\n"
     ]
    },
    {
     "data": {
      "image/png": "[encoded data removed]",
      "text/plain": [
       "<Figure size 504x504 with 2 Axes>"
      ]
     },
     "metadata": {
      "needs_background": "light"
     },
     "output_type": "display_data"
    },
    {
     "data": {
      "image/png": "[encoded data removed]",
      "text/plain": [
       "<Figure size 504x504 with 2 Axes>"
      ]
     },
     "metadata": {
      "needs_background": "light"
     },
     "output_type": "display_data"
    },
    {
     "name": "stdout",
     "output_type": "stream",
     "text": [
      "Classification Report:\n",
      "\n",
      "               precision    recall  f1-score   support\n",
      "\n",
      "         0.0       0.97      1.00      0.98     18118\n",
      "         1.0       0.95      0.60      0.74       556\n",
      "         2.0       0.98      0.86      0.92      1448\n",
      "         3.0       0.85      0.59      0.69       162\n",
      "         4.0       0.99      0.94      0.97      1608\n",
      "\n",
      "    accuracy                           0.97     21892\n",
      "   macro avg       0.95      0.80      0.86     21892\n",
      "weighted avg       0.97      0.97      0.97     21892\n",
      "\n",
      "Accuracy Score: 0.97\n",
      "Precision: 0.95\n",
      "Recall: 0.80\n"
     ]
    }
   ],
   "source": [
    "simplefilter(\"ignore\")\n",
    "rfc = RandomForestClassifier(n_estimators=10, max_depth=None,min_samples_split=2, random_state=0).fit(X_train, y_train)\n",
    "y_pred = rfc.predict(X_test)\n",
    "\n",
    "print('\\nConfusion Matrix:\\n')\n",
    "for k,v in beats.items(): \n",
    "    print(f'{k}: {v}')   \n",
    "show_confusion_heatmap(X_test, y_test, beats.keys(), 'Random Forest', 2, cmap='GnBu');\n",
    "\n",
    "print(f'Classification Report:\\n\\n {classification_report(y_test,y_pred)}')\n",
    "print(f'Accuracy Score: {accuracy_score(y_test, y_pred):0.2f}')\n",
    "print(f'Precision: {precision_score(y_test, y_pred, average=\"macro\"):.2f}')\n",
    "print(f'Recall: {recall_score(y_test, y_pred, average=\"macro\"):0.2f}')\n",
    "\n",
    "track_models.append(['Random Forest Classifier', \n",
    "                    accuracy_score(y_test, y_pred),\n",
    "                    precision_score(y_test, y_pred, average=\"macro\"), \n",
    "                    recall_score(y_test, y_pred, average=\"macro\")])"
   ]
  },
  {
   "cell_type": "code",
   "execution_count": 71,
   "id": "831fe20b",
   "metadata": {},
   "outputs": [
    {
     "data": {
      "text/plain": [
       "0.9722228576499568"
      ]
     },
     "execution_count": 71,
     "metadata": {},
     "output_type": "execute_result"
    }
   ],
   "source": [
    "scores = cross_val_score(rfc, X_train, y_train, cv=5)\n",
    "scores.mean()"
   ]
  },
  {
   "cell_type": "markdown",
   "id": "9f21a3cc",
   "metadata": {},
   "source": [
    "### Extremely Randomized Tree"
   ]
  },
  {
   "cell_type": "code",
   "execution_count": 110,
   "id": "442239b5",
   "metadata": {},
   "outputs": [
    {
     "name": "stdout",
     "output_type": "stream",
     "text": [
      "\n",
      "Confusion Matrix:\n",
      "\n",
      "N: Normal Beat\n",
      "V: Ventricular Ectopic Beat\n",
      "S: Supraventricular Ectopic Beat\n",
      "F: Fusion Beat\n",
      "Q: Unknown Beat\n"
     ]
    },
    {
     "data": {
      "image/png": "[encoded data removed]",
      "text/plain": [
       "<Figure size 504x504 with 2 Axes>"
      ]
     },
     "metadata": {
      "needs_background": "light"
     },
     "output_type": "display_data"
    },
    {
     "data": {
      "image/png": "[encoded data removed]",
      "text/plain": [
       "<Figure size 504x504 with 2 Axes>"
      ]
     },
     "metadata": {
      "needs_background": "light"
     },
     "output_type": "display_data"
    },
    {
     "name": "stdout",
     "output_type": "stream",
     "text": [
      "Classification Report:\n",
      "\n",
      "               precision    recall  f1-score   support\n",
      "\n",
      "         0.0       0.97      1.00      0.99     18118\n",
      "         1.0       0.96      0.61      0.75       556\n",
      "         2.0       0.98      0.88      0.93      1448\n",
      "         3.0       0.89      0.65      0.75       162\n",
      "         4.0       0.99      0.95      0.97      1608\n",
      "\n",
      "    accuracy                           0.97     21892\n",
      "   macro avg       0.96      0.82      0.88     21892\n",
      "weighted avg       0.97      0.97      0.97     21892\n",
      "\n",
      "Accuracy Score: 0.97\n",
      "Precision: 0.96\n",
      "Recall: 0.82\n"
     ]
    }
   ],
   "source": [
    "simplefilter(\"ignore\")\n",
    "etc = ExtraTreesClassifier(n_estimators=10, max_depth=None, min_samples_split=2, random_state=0).fit(X_train, y_train)\n",
    "y_pred = etc.predict(X_test)\n",
    "\n",
    "print('\\nConfusion Matrix:\\n')\n",
    "for k,v in beats.items(): \n",
    "    print(f'{k}: {v}')   \n",
    "show_confusion_heatmap(X_test, y_test, beats.keys(), 'Extra Trees', 2, cmap='GnBu');\n",
    "\n",
    "print(f'Classification Report:\\n\\n {classification_report(y_test,y_pred)}')\n",
    "print(f'Accuracy Score: {accuracy_score(y_test, y_pred):0.2f}')\n",
    "print(f'Precision: {precision_score(y_test, y_pred, average=\"macro\"):.2f}')\n",
    "print(f'Recall: {recall_score(y_test, y_pred, average=\"macro\"):0.2f}')\n",
    "\n",
    "track_models.append(['Extra Trees Classifier', \n",
    "                    accuracy_score(y_test, y_pred),\n",
    "                    precision_score(y_test, y_pred, average=\"macro\"), \n",
    "                    recall_score(y_test, y_pred, average=\"macro\")])"
   ]
  },
  {
   "cell_type": "code",
   "execution_count": 73,
   "id": "34d07b43",
   "metadata": {},
   "outputs": [
    {
     "data": {
      "text/plain": [
       "0.9735820078957632"
      ]
     },
     "execution_count": 73,
     "metadata": {},
     "output_type": "execute_result"
    }
   ],
   "source": [
    "scores = cross_val_score(etc, X_train, y_train, cv=5)\n",
    "scores.mean()"
   ]
  },
  {
   "cell_type": "markdown",
   "id": "bb06ac86",
   "metadata": {},
   "source": [
    "## Model Selection"
   ]
  },
  {
   "cell_type": "code",
   "execution_count": 78,
   "id": "e47d8a53",
   "metadata": {},
   "outputs": [
    {
     "data": {
      "text/html": [
       "<div>\n",
       "<style scoped>\n",
       "    .dataframe tbody tr th:only-of-type {\n",
       "        vertical-align: middle;\n",
       "    }\n",
       "\n",
       "    .dataframe tbody tr th {\n",
       "        vertical-align: top;\n",
       "    }\n",
       "\n",
       "    .dataframe thead th {\n",
       "        text-align: right;\n",
       "    }\n",
       "</style>\n",
       "<table border=\"1\" class=\"dataframe\">\n",
       "  <thead>\n",
       "    <tr style=\"text-align: right;\">\n",
       "      <th></th>\n",
       "      <th>Model</th>\n",
       "      <th>Accuracy</th>\n",
       "      <th>Precision</th>\n",
       "      <th>Recall</th>\n",
       "    </tr>\n",
       "  </thead>\n",
       "  <tbody>\n",
       "    <tr>\n",
       "      <th>0</th>\n",
       "      <td>Logistic Regression</td>\n",
       "      <td>0.911657</td>\n",
       "      <td>0.778737</td>\n",
       "      <td>0.567179</td>\n",
       "    </tr>\n",
       "    <tr>\n",
       "      <th>1</th>\n",
       "      <td>Decision Tree Classifier</td>\n",
       "      <td>0.953316</td>\n",
       "      <td>0.797417</td>\n",
       "      <td>0.802059</td>\n",
       "    </tr>\n",
       "    <tr>\n",
       "      <th>2</th>\n",
       "      <td>Random Forest Classifier</td>\n",
       "      <td>0.971999</td>\n",
       "      <td>0.948484</td>\n",
       "      <td>0.798478</td>\n",
       "    </tr>\n",
       "    <tr>\n",
       "      <th>3</th>\n",
       "      <td>Extra Trees Classifier</td>\n",
       "      <td>0.974694</td>\n",
       "      <td>0.959407</td>\n",
       "      <td>0.819056</td>\n",
       "    </tr>\n",
       "  </tbody>\n",
       "</table>\n",
       "</div>"
      ],
      "text/plain": [
       "                      Model  Accuracy  Precision    Recall\n",
       "0       Logistic Regression  0.911657   0.778737  0.567179\n",
       "1  Decision Tree Classifier  0.953316   0.797417  0.802059\n",
       "2  Random Forest Classifier  0.971999   0.948484  0.798478\n",
       "3    Extra Trees Classifier  0.974694   0.959407  0.819056"
      ]
     },
     "execution_count": 78,
     "metadata": {},
     "output_type": "execute_result"
    }
   ],
   "source": [
    "view_models = pd.DataFrame(track_models)\n",
    "view_models.columns = ['Model', 'Accuracy', 'Precision', 'Recall']\n",
    "view_models"
   ]
  },
  {
   "cell_type": "markdown",
   "id": "5994c47e",
   "metadata": {},
   "source": [
    "**Best Model**: Extra Trees Classifier is most performant on all metrics."
   ]
  },
  {
   "cell_type": "markdown",
   "id": "b3aa3803",
   "metadata": {},
   "source": [
    "### Reduce Cardinality\n",
    "\n",
    "Select the optimal number of features using recursive feature elimination with cross-validation (RFECV)."
   ]
  },
  {
   "cell_type": "code",
   "execution_count": 80,
   "id": "thirty-germany",
   "metadata": {},
   "outputs": [
    {
     "name": "stdout",
     "output_type": "stream",
     "text": [
      "Optimal number of features : 69\n"
     ]
    },
    {
     "data": {
      "image/png": "[encoded data removed]",
      "text/plain": [
       "<Figure size 504x504 with 1 Axes>"
      ]
     },
     "metadata": {
      "needs_background": "light"
     },
     "output_type": "display_data"
    }
   ],
   "source": [
    "# try our best model - extra tree classifier, etc\n",
    "min_features_to_select = 1  \n",
    "rfecv = RFECV(\n",
    "    estimator=etc,\n",
    "    step=1,\n",
    "    cv=StratifiedKFold(2),\n",
    "    scoring=\"accuracy\",\n",
    "    min_features_to_select=min_features_to_select,\n",
    ")\n",
    "rfecv.fit(X_train, y_train)\n",
    "\n",
    "print(\"Optimal number of features : %d\" % rfecv.n_features_)\n",
    "\n",
    "plt.figure()\n",
    "plt.xlabel(\"Number of features selected\")\n",
    "plt.ylabel(\"Cross validation score (accuracy)\")\n",
    "plt.plot(\n",
    "    range(min_features_to_select, len(rfecv.grid_scores_) + min_features_to_select),\n",
    "    rfecv.grid_scores_,\n",
    ")\n",
    "plt.show()"
   ]
  },
  {
   "cell_type": "markdown",
   "id": "75cdaf0b",
   "metadata": {},
   "source": [
    "Select the top 69 features to include in the model."
   ]
  },
  {
   "cell_type": "code",
   "execution_count": 93,
   "id": "3fe09f0e",
   "metadata": {},
   "outputs": [
    {
     "data": {
      "text/plain": [
       "array([169, 172, 161, 164, 181, 165, 156, 179, 173, 171, 167, 149, 163,\n",
       "       166, 174, 175, 178, 182, 152, 145, 168, 155, 177, 141, 144, 176,\n",
       "       148, 160, 158, 180, 183, 186, 140, 134, 170, 143, 159, 146, 142,\n",
       "       150, 138, 132, 137, 184, 128, 185, 133, 162, 114, 118, 110, 123,\n",
       "       119, 125, 108, 120, 122, 126, 157, 151, 154, 105, 107,  78, 101,\n",
       "       113, 153, 116,  63,  85,  93, 121,  71, 117, 135,  90, 109,  79,\n",
       "        67,  97,  70,  68,  83,  69,  81, 147,  84,  76, 136, 112,  77,\n",
       "       124, 103, 130,  88, 106, 139, 115,  73,  64,  80,  82, 127,  66,\n",
       "       111,  94,  54,  74,  57,  92,  86,  75,  62,  91,  51, 129,  61,\n",
       "        72,  41,  65,  95,  50,  47, 131,  46,  59,  60,  45,  48,  40,\n",
       "       100,  96,  87,  89,  38,  36,  15,  32,  53,  30,  21,  23,  26,\n",
       "        39,  31,  25,  19,  28,  43,  58,  37,  49,  16,  18,  35,  52,\n",
       "        56, 102,  33,  22,  42, 104,  24,  17,  20,  14,  27,  55,  99,\n",
       "         9,  13,  29,  11,  98,   0,   7,   8,  10,  44,  12,   2,  34,\n",
       "         1,   5,   6,   3,   4])"
      ]
     },
     "execution_count": 93,
     "metadata": {},
     "output_type": "execute_result"
    }
   ],
   "source": [
    "# Extra tree classifier ascending importance\n",
    "etc.feature_importances_.argsort()"
   ]
  },
  {
   "cell_type": "code",
   "execution_count": 98,
   "id": "961b9313",
   "metadata": {},
   "outputs": [
    {
     "data": {
      "text/plain": [
       "array([  4,   3,   6,   5,   1,  34,   2,  12,  44,  10,   8,   7,   0,\n",
       "        98,  11,  29,  13,   9,  99,  55,  27,  14,  20,  17,  24, 104,\n",
       "        42,  22,  33, 102,  56,  52,  35,  18,  16,  49,  37,  58,  43,\n",
       "        28,  19,  25,  31,  39,  26,  23,  21,  30,  53,  32,  15,  36,\n",
       "        38,  89,  87,  96, 100,  40,  48,  45,  60,  59,  46, 131,  47,\n",
       "        50,  95,  65,  41])"
      ]
     },
     "execution_count": 98,
     "metadata": {},
     "output_type": "execute_result"
    }
   ],
   "source": [
    "# Top 69 features, listed in order of importance (descending order)\n",
    "optimal_features = 69\n",
    "opt_features = etc.feature_importances_.argsort()[::-1][:69]\n",
    "opt_features"
   ]
  },
  {
   "cell_type": "markdown",
   "id": "dda29008",
   "metadata": {},
   "source": [
    "Features recorded earlier in the ECG data appear to carry more importance.  On inspection of the original dataset, it appeared that not all signals utilized the full time frame for feature recording which may explain this finding."
   ]
  },
  {
   "cell_type": "markdown",
   "id": "eece5604",
   "metadata": {},
   "source": [
    "### Drop Extraneous Features"
   ]
  },
  {
   "cell_type": "code",
   "execution_count": 102,
   "id": "e7e546dc",
   "metadata": {},
   "outputs": [
    {
     "data": {
      "text/plain": [
       "((87554, 69), (21892, 69))"
      ]
     },
     "execution_count": 102,
     "metadata": {},
     "output_type": "execute_result"
    }
   ],
   "source": [
    "X_train_opt, X_test_opt = X_train.iloc[:, opt_features], X_test.iloc[:, opt_features]\n",
    "X_train_opt.shape, X_test_opt.shape"
   ]
  },
  {
   "cell_type": "markdown",
   "id": "028f808b",
   "metadata": {},
   "source": [
    "### Retrain Extra Trees Classifier with Optimal Features Only"
   ]
  },
  {
   "cell_type": "code",
   "execution_count": 134,
   "id": "9c095996",
   "metadata": {},
   "outputs": [
    {
     "name": "stdout",
     "output_type": "stream",
     "text": [
      "\n",
      "Confusion Matrix:\n",
      "\n",
      "N: Normal Beat\n",
      "V: Ventricular Ectopic Beat\n",
      "S: Supraventricular Ectopic Beat\n",
      "F: Fusion Beat\n",
      "Q: Unknown Beat\n"
     ]
    },
    {
     "data": {
      "image/png": "[encoded data removed]",
      "text/plain": [
       "<Figure size 504x504 with 2 Axes>"
      ]
     },
     "metadata": {
      "needs_background": "light"
     },
     "output_type": "display_data"
    },
    {
     "data": {
      "image/png": "[encoded data removed]",
      "text/plain": [
       "<Figure size 504x504 with 2 Axes>"
      ]
     },
     "metadata": {
      "needs_background": "light"
     },
     "output_type": "display_data"
    },
    {
     "name": "stdout",
     "output_type": "stream",
     "text": [
      "Classification Report:\n",
      "\n",
      "               precision    recall  f1-score   support\n",
      "\n",
      "         0.0       0.97      1.00      0.99     18118\n",
      "         1.0       0.97      0.60      0.74       556\n",
      "         2.0       0.97      0.89      0.93      1448\n",
      "         3.0       0.90      0.61      0.73       162\n",
      "         4.0       0.99      0.95      0.97      1608\n",
      "\n",
      "    accuracy                           0.97     21892\n",
      "   macro avg       0.96      0.81      0.87     21892\n",
      "weighted avg       0.97      0.97      0.97     21892\n",
      "\n",
      "Accuracy Score: 0.97\n",
      "Precision: 0.96\n",
      "Recall: 0.81\n"
     ]
    }
   ],
   "source": [
    "simplefilter(\"ignore\")\n",
    "etc = ExtraTreesClassifier(n_estimators=10, max_depth=None, min_samples_split=2, random_state=0).fit(X_train_opt, y_train)\n",
    "y_pred = etc.predict(X_test_opt)\n",
    "\n",
    "print('\\nConfusion Matrix:\\n')\n",
    "for k,v in beats.items(): \n",
    "    print(f'{k}: {v}')   \n",
    "show_confusion_heatmap(X_test, y_test, beats.keys(), 'Extra Trees Optimized', 2, cmap='GnBu');\n",
    "\n",
    "print(f'Classification Report:\\n\\n {classification_report(y_test,y_pred)}')\n",
    "print(f'Accuracy Score: {accuracy_score(y_test, y_pred):0.2f}')\n",
    "print(f'Precision: {precision_score(y_test, y_pred, average=\"macro\"):.2f}')\n",
    "print(f'Recall: {recall_score(y_test, y_pred, average=\"macro\"):0.2f}')\n",
    "\n",
    "track_models.append(['Extra Trees Classifier Optimized', \n",
    "                    accuracy_score(y_test, y_pred),\n",
    "                    precision_score(y_test, y_pred, average=\"macro\"), \n",
    "                    recall_score(y_test, y_pred, average=\"macro\")])"
   ]
  },
  {
   "cell_type": "code",
   "execution_count": 141,
   "id": "3809d841",
   "metadata": {},
   "outputs": [
    {
     "data": {
      "text/html": [
       "<div>\n",
       "<style scoped>\n",
       "    .dataframe tbody tr th:only-of-type {\n",
       "        vertical-align: middle;\n",
       "    }\n",
       "\n",
       "    .dataframe tbody tr th {\n",
       "        vertical-align: top;\n",
       "    }\n",
       "\n",
       "    .dataframe thead th {\n",
       "        text-align: right;\n",
       "    }\n",
       "</style>\n",
       "<table border=\"1\" class=\"dataframe\">\n",
       "  <thead>\n",
       "    <tr style=\"text-align: right;\">\n",
       "      <th></th>\n",
       "      <th>Model</th>\n",
       "      <th>Accuracy</th>\n",
       "      <th>Precision</th>\n",
       "      <th>Recall</th>\n",
       "    </tr>\n",
       "  </thead>\n",
       "  <tbody>\n",
       "    <tr>\n",
       "      <th>0</th>\n",
       "      <td>Logistic Regression</td>\n",
       "      <td>0.911657</td>\n",
       "      <td>0.778737</td>\n",
       "      <td>0.567179</td>\n",
       "    </tr>\n",
       "    <tr>\n",
       "      <th>1</th>\n",
       "      <td>Decision Tree Classifier</td>\n",
       "      <td>0.953316</td>\n",
       "      <td>0.797417</td>\n",
       "      <td>0.802059</td>\n",
       "    </tr>\n",
       "    <tr>\n",
       "      <th>2</th>\n",
       "      <td>Random Forest Classifier</td>\n",
       "      <td>0.971999</td>\n",
       "      <td>0.948484</td>\n",
       "      <td>0.798478</td>\n",
       "    </tr>\n",
       "    <tr>\n",
       "      <th>3</th>\n",
       "      <td>Extra Trees Classifier</td>\n",
       "      <td>0.974694</td>\n",
       "      <td>0.959407</td>\n",
       "      <td>0.819056</td>\n",
       "    </tr>\n",
       "    <tr>\n",
       "      <th>4</th>\n",
       "      <td>Extra Trees Classifier Optimized</td>\n",
       "      <td>0.974237</td>\n",
       "      <td>0.960707</td>\n",
       "      <td>0.808376</td>\n",
       "    </tr>\n",
       "  </tbody>\n",
       "</table>\n",
       "</div>"
      ],
      "text/plain": [
       "                              Model  Accuracy  Precision    Recall\n",
       "0               Logistic Regression  0.911657   0.778737  0.567179\n",
       "1          Decision Tree Classifier  0.953316   0.797417  0.802059\n",
       "2          Random Forest Classifier  0.971999   0.948484  0.798478\n",
       "3            Extra Trees Classifier  0.974694   0.959407  0.819056\n",
       "4  Extra Trees Classifier Optimized  0.974237   0.960707  0.808376"
      ]
     },
     "execution_count": 141,
     "metadata": {},
     "output_type": "execute_result"
    }
   ],
   "source": [
    "view_models_opt = pd.DataFrame(track_models)\n",
    "view_models_opt.columns = ['Model', 'Accuracy', 'Precision', 'Recall']\n",
    "view_models_opt"
   ]
  },
  {
   "cell_type": "markdown",
   "id": "bb70b914",
   "metadata": {},
   "source": [
    "### Conclusion"
   ]
  },
  {
   "cell_type": "markdown",
   "id": "06fb4494",
   "metadata": {},
   "source": [
    "Our final performance of the extra trees classifier, optimized by reducing cardinality, is comparable to the full featured model on all metrics, while being more efficient by utilizing just the subset."
   ]
  },
  {
   "cell_type": "code",
   "execution_count": null,
   "id": "6ec57b98",
   "metadata": {},
   "outputs": [],
   "source": []
  }
 ],
 "metadata": {
  "kernelspec": {
   "display_name": "Python 3 (ipykernel)",
   "language": "python",
   "name": "python3"
  },
  "language_info": {
   "codemirror_mode": {
    "name": "ipython",
    "version": 3
   },
   "file_extension": ".py",
   "mimetype": "text/x-python",
   "name": "python",
   "nbconvert_exporter": "python",
   "pygments_lexer": "ipython3",
   "version": "3.8.5"
  }
 },
 "nbformat": 4,
 "nbformat_minor": 5
}
