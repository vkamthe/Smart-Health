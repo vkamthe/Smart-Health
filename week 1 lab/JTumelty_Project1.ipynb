{
  "nbformat": 4,
  "nbformat_minor": 0,
  "metadata": {
    "colab": {
      "name": "ML_Smart_Health_Project1.ipynb",
      "provenance": [],
      "collapsed_sections": [
        "2uxCf1J-F26Y",
        "XaJ9sXB2Gw_u",
        "lj_2IfWhG2XA",
        "0zbIE6j3HGea"
      ],
      "authorship_tag": "ABX9TyNwOOAn6T5zfm7ZrS+xmVHQ",
      "include_colab_link": true
    },
    "kernelspec": {
      "display_name": "Python 3",
      "name": "python3"
    },
    "language_info": {
      "name": "python"
    }
  },
  "cells": [
    {
      "cell_type": "markdown",
      "metadata": {
        "id": "view-in-github",
        "colab_type": "text"
      },
      "source": [
        "<a href=\"https://colab.research.google.com/github/JTumelty/Smart-Health/blob/main/week%201/ML_Smart_Health_Project1.ipynb\" target=\"_parent\"><img src=\"https://colab.research.google.com/assets/colab-badge.svg\" alt=\"Open In Colab\"/></a>"
      ]
    },
    {
      "cell_type": "markdown",
      "metadata": {
        "id": "UsSMAC-9A_qi"
      },
      "source": [
        "# **Project 1**\n",
        "**Aim:** Understand how to download Sleep Apnea datasets, extract and visualise HRV features and apply descriptive and inferential statistics to determine differences between healthy and apnea subjects.\n",
        "\n",
        "**Notes:** This notebook is heavily based on the MLSH-L1-P3.ipynb notebook from the lecture, with additional comments to understand each step in the analysis.\n",
        "\n",
        "**References:** \n",
        "\n",
        "*   Lecture notes\n",
        "*   https://imotions.com/blog/heart-rate-variability/\n",
        "*   https://en.wikipedia.org/wiki/Heart_rate_variability\n",
        "*   https://www.firstbeat.com/en/blog/what-is-heart-rate-variability-hrv/\n",
        "*   https://link.springer.com/article/10.1007/s11325-020-02249-0\n",
        "*   https://pubmed.ncbi.nlm.nih.gov/28268989/\n",
        "*   https://www.sciencedirect.com/science/article/abs/pii/S0010482517303244"
      ]
    },
    {
      "cell_type": "markdown",
      "metadata": {
        "id": "lQ_R1KHhBq3p"
      },
      "source": [
        "## Setup\n",
        "Install python packages for analysis."
      ]
    },
    {
      "cell_type": "code",
      "metadata": {
        "colab": {
          "base_uri": "https://localhost:8080/"
        },
        "id": "Q3WgVmWbAo8K",
        "outputId": "0376db0e-4cca-4a18-bc99-4e82e815efe4"
      },
      "source": [
        "!pip install hrv-analysis #Python module for Heart Rate Variability analysis\n",
        "!pip install wfdb #native Python waveform-database (WFDB) package"
      ],
      "execution_count": null,
      "outputs": [
        {
          "output_type": "stream",
          "name": "stdout",
          "text": [
            "Requirement already satisfied: hrv-analysis in /usr/local/lib/python3.7/dist-packages (1.0.4)\n",
            "Requirement already satisfied: nolds>=0.4.1 in /usr/local/lib/python3.7/dist-packages (from hrv-analysis) (0.5.2)\n",
            "Requirement already satisfied: astropy>=3.0.4 in /usr/local/lib/python3.7/dist-packages (from hrv-analysis) (4.3.1)\n",
            "Requirement already satisfied: scipy>=1.1.0 in /usr/local/lib/python3.7/dist-packages (from hrv-analysis) (1.4.1)\n",
            "Requirement already satisfied: matplotlib>=2.2.2 in /usr/local/lib/python3.7/dist-packages (from hrv-analysis) (3.4.3)\n",
            "Requirement already satisfied: pandas>=0.23.4 in /usr/local/lib/python3.7/dist-packages (from hrv-analysis) (1.1.5)\n",
            "Requirement already satisfied: numpy>=1.15.1 in /usr/local/lib/python3.7/dist-packages (from hrv-analysis) (1.19.5)\n",
            "Requirement already satisfied: pyerfa>=1.7.3 in /usr/local/lib/python3.7/dist-packages (from astropy>=3.0.4->hrv-analysis) (2.0.0)\n",
            "Requirement already satisfied: importlib-metadata in /usr/local/lib/python3.7/dist-packages (from astropy>=3.0.4->hrv-analysis) (4.8.1)\n",
            "Requirement already satisfied: pillow>=6.2.0 in /usr/local/lib/python3.7/dist-packages (from matplotlib>=2.2.2->hrv-analysis) (7.1.2)\n",
            "Requirement already satisfied: cycler>=0.10 in /usr/local/lib/python3.7/dist-packages (from matplotlib>=2.2.2->hrv-analysis) (0.10.0)\n",
            "Requirement already satisfied: python-dateutil>=2.7 in /usr/local/lib/python3.7/dist-packages (from matplotlib>=2.2.2->hrv-analysis) (2.8.2)\n",
            "Requirement already satisfied: pyparsing>=2.2.1 in /usr/local/lib/python3.7/dist-packages (from matplotlib>=2.2.2->hrv-analysis) (2.4.7)\n",
            "Requirement already satisfied: kiwisolver>=1.0.1 in /usr/local/lib/python3.7/dist-packages (from matplotlib>=2.2.2->hrv-analysis) (1.3.2)\n",
            "Requirement already satisfied: six in /usr/local/lib/python3.7/dist-packages (from cycler>=0.10->matplotlib>=2.2.2->hrv-analysis) (1.15.0)\n",
            "Requirement already satisfied: setuptools in /usr/local/lib/python3.7/dist-packages (from nolds>=0.4.1->hrv-analysis) (57.4.0)\n",
            "Requirement already satisfied: future in /usr/local/lib/python3.7/dist-packages (from nolds>=0.4.1->hrv-analysis) (0.16.0)\n",
            "Requirement already satisfied: pytz>=2017.2 in /usr/local/lib/python3.7/dist-packages (from pandas>=0.23.4->hrv-analysis) (2018.9)\n",
            "Requirement already satisfied: zipp>=0.5 in /usr/local/lib/python3.7/dist-packages (from importlib-metadata->astropy>=3.0.4->hrv-analysis) (3.6.0)\n",
            "Requirement already satisfied: typing-extensions>=3.6.4 in /usr/local/lib/python3.7/dist-packages (from importlib-metadata->astropy>=3.0.4->hrv-analysis) (3.7.4.3)\n",
            "Requirement already satisfied: wfdb in /usr/local/lib/python3.7/dist-packages (3.4.1)\n",
            "Requirement already satisfied: pandas>=0.17.0 in /usr/local/lib/python3.7/dist-packages (from wfdb) (1.1.5)\n",
            "Requirement already satisfied: scipy>=0.17.0 in /usr/local/lib/python3.7/dist-packages (from wfdb) (1.4.1)\n",
            "Requirement already satisfied: requests>=2.8.1 in /usr/local/lib/python3.7/dist-packages (from wfdb) (2.23.0)\n",
            "Requirement already satisfied: matplotlib>=3.3.4 in /usr/local/lib/python3.7/dist-packages (from wfdb) (3.4.3)\n",
            "Requirement already satisfied: numpy>=1.10.1 in /usr/local/lib/python3.7/dist-packages (from wfdb) (1.19.5)\n",
            "Requirement already satisfied: kiwisolver>=1.0.1 in /usr/local/lib/python3.7/dist-packages (from matplotlib>=3.3.4->wfdb) (1.3.2)\n",
            "Requirement already satisfied: cycler>=0.10 in /usr/local/lib/python3.7/dist-packages (from matplotlib>=3.3.4->wfdb) (0.10.0)\n",
            "Requirement already satisfied: pillow>=6.2.0 in /usr/local/lib/python3.7/dist-packages (from matplotlib>=3.3.4->wfdb) (7.1.2)\n",
            "Requirement already satisfied: python-dateutil>=2.7 in /usr/local/lib/python3.7/dist-packages (from matplotlib>=3.3.4->wfdb) (2.8.2)\n",
            "Requirement already satisfied: pyparsing>=2.2.1 in /usr/local/lib/python3.7/dist-packages (from matplotlib>=3.3.4->wfdb) (2.4.7)\n",
            "Requirement already satisfied: six in /usr/local/lib/python3.7/dist-packages (from cycler>=0.10->matplotlib>=3.3.4->wfdb) (1.15.0)\n",
            "Requirement already satisfied: pytz>=2017.2 in /usr/local/lib/python3.7/dist-packages (from pandas>=0.17.0->wfdb) (2018.9)\n",
            "Requirement already satisfied: chardet<4,>=3.0.2 in /usr/local/lib/python3.7/dist-packages (from requests>=2.8.1->wfdb) (3.0.4)\n",
            "Requirement already satisfied: certifi>=2017.4.17 in /usr/local/lib/python3.7/dist-packages (from requests>=2.8.1->wfdb) (2021.5.30)\n",
            "Requirement already satisfied: idna<3,>=2.5 in /usr/local/lib/python3.7/dist-packages (from requests>=2.8.1->wfdb) (2.10)\n",
            "Requirement already satisfied: urllib3!=1.25.0,!=1.25.1,<1.26,>=1.21.1 in /usr/local/lib/python3.7/dist-packages (from requests>=2.8.1->wfdb) (1.24.3)\n"
          ]
        }
      ]
    },
    {
      "cell_type": "code",
      "metadata": {
        "colab": {
          "base_uri": "https://localhost:8080/"
        },
        "id": "xpFhMWjRl6fd",
        "outputId": "0e992e77-2b1a-41f3-cd92-84a2c110e5c8"
      },
      "source": [
        "# Python packages for display and analysis\n",
        "from IPython.display import display\n",
        "\n",
        "!pip install matplotlib==3.4.3\n",
        "import matplotlib\n",
        "import matplotlib.pyplot as plt\n",
        "%matplotlib inline\n",
        "import numpy as np\n",
        "import os\n",
        "import shutil\n",
        "import posixpath\n",
        "import wfdb"
      ],
      "execution_count": null,
      "outputs": [
        {
          "output_type": "stream",
          "name": "stdout",
          "text": [
            "Requirement already satisfied: matplotlib==3.4.3 in /usr/local/lib/python3.7/dist-packages (3.4.3)\n",
            "Requirement already satisfied: pillow>=6.2.0 in /usr/local/lib/python3.7/dist-packages (from matplotlib==3.4.3) (7.1.2)\n",
            "Requirement already satisfied: python-dateutil>=2.7 in /usr/local/lib/python3.7/dist-packages (from matplotlib==3.4.3) (2.8.2)\n",
            "Requirement already satisfied: kiwisolver>=1.0.1 in /usr/local/lib/python3.7/dist-packages (from matplotlib==3.4.3) (1.3.2)\n",
            "Requirement already satisfied: cycler>=0.10 in /usr/local/lib/python3.7/dist-packages (from matplotlib==3.4.3) (0.10.0)\n",
            "Requirement already satisfied: pyparsing>=2.2.1 in /usr/local/lib/python3.7/dist-packages (from matplotlib==3.4.3) (2.4.7)\n",
            "Requirement already satisfied: numpy>=1.16 in /usr/local/lib/python3.7/dist-packages (from matplotlib==3.4.3) (1.19.5)\n",
            "Requirement already satisfied: six in /usr/local/lib/python3.7/dist-packages (from cycler>=0.10->matplotlib==3.4.3) (1.15.0)\n"
          ]
        }
      ]
    },
    {
      "cell_type": "markdown",
      "metadata": {
        "id": "bfvQep8uDUi9"
      },
      "source": [
        "Download ECG records from PhysioNet Database"
      ]
    },
    {
      "cell_type": "code",
      "metadata": {
        "colab": {
          "base_uri": "https://localhost:8080/",
          "height": 1000
        },
        "id": "AvRep5QhdzyJ",
        "outputId": "7e28cbf5-6475-4b1a-a8a1-1a6b406e41a9"
      },
      "source": [
        "# Download apnea-ECG records from the small PhysioNet Database: https://doi.org/10.13026/C23W2R\n",
        "\n",
        "# Make a temporary download directory in your current working directory\n",
        "cwd = os.getcwd()\n",
        "dl_dir = os.path.join(cwd, 'tmp_dl_dir')\n",
        "\n",
        "# Download all the WFDB content\n",
        "wfdb.dl_database('apnea-ecg', dl_dir=dl_dir)\n",
        "\n",
        "# Display the downloaded content in the folder\n",
        "display(os.listdir(dl_dir))\n"
      ],
      "execution_count": null,
      "outputs": [
        {
          "output_type": "stream",
          "name": "stdout",
          "text": [
            "Generating record list for: a01\n",
            "Generating record list for: a01er\n",
            "Generating record list for: a01r\n",
            "Generating record list for: a02\n",
            "Generating record list for: a02er\n",
            "Generating record list for: a02r\n",
            "Generating record list for: a03\n",
            "Generating record list for: a03er\n",
            "Generating record list for: a03r\n",
            "Generating record list for: a04\n",
            "Generating record list for: a04er\n",
            "Generating record list for: a04r\n",
            "Generating record list for: a05\n",
            "Generating record list for: a06\n",
            "Generating record list for: a07\n",
            "Generating record list for: a08\n",
            "Generating record list for: a09\n",
            "Generating record list for: a10\n",
            "Generating record list for: a11\n",
            "Generating record list for: a12\n",
            "Generating record list for: a13\n",
            "Generating record list for: a14\n",
            "Generating record list for: a15\n",
            "Generating record list for: a16\n",
            "Generating record list for: a17\n",
            "Generating record list for: a18\n",
            "Generating record list for: a19\n",
            "Generating record list for: a20\n",
            "Generating record list for: b01\n",
            "Generating record list for: b01er\n",
            "Generating record list for: b01r\n",
            "Generating record list for: b02\n",
            "Generating record list for: b03\n",
            "Generating record list for: b04\n",
            "Generating record list for: b05\n",
            "Generating record list for: c01\n",
            "Generating record list for: c01er\n",
            "Generating record list for: c01r\n",
            "Generating record list for: c02\n",
            "Generating record list for: c02er\n",
            "Generating record list for: c02r\n",
            "Generating record list for: c03\n",
            "Generating record list for: c03er\n",
            "Generating record list for: c03r\n",
            "Generating record list for: c04\n",
            "Generating record list for: c05\n",
            "Generating record list for: c06\n",
            "Generating record list for: c07\n",
            "Generating record list for: c08\n",
            "Generating record list for: c09\n",
            "Generating record list for: c10\n",
            "Generating record list for: x01\n",
            "Generating record list for: x02\n",
            "Generating record list for: x03\n",
            "Generating record list for: x04\n",
            "Generating record list for: x05\n",
            "Generating record list for: x06\n",
            "Generating record list for: x07\n",
            "Generating record list for: x08\n",
            "Generating record list for: x09\n",
            "Generating record list for: x10\n",
            "Generating record list for: x11\n",
            "Generating record list for: x12\n",
            "Generating record list for: x13\n",
            "Generating record list for: x14\n",
            "Generating record list for: x15\n",
            "Generating record list for: x16\n",
            "Generating record list for: x17\n",
            "Generating record list for: x18\n",
            "Generating record list for: x19\n",
            "Generating record list for: x20\n",
            "Generating record list for: x21\n",
            "Generating record list for: x22\n",
            "Generating record list for: x23\n",
            "Generating record list for: x24\n",
            "Generating record list for: x25\n",
            "Generating record list for: x26\n",
            "Generating record list for: x27\n",
            "Generating record list for: x28\n",
            "Generating record list for: x29\n",
            "Generating record list for: x30\n",
            "Generating record list for: x31\n",
            "Generating record list for: x32\n",
            "Generating record list for: x33\n",
            "Generating record list for: x34\n",
            "Generating record list for: x35\n",
            "Generating list of all files for: a01\n",
            "Generating list of all files for: a01er\n",
            "Generating list of all files for: a01r\n",
            "Generating list of all files for: a02\n",
            "Generating list of all files for: a02er\n",
            "Generating list of all files for: a02r\n",
            "Generating list of all files for: a03\n",
            "Generating list of all files for: a03er\n",
            "Generating list of all files for: a03r\n",
            "Generating list of all files for: a04\n",
            "Generating list of all files for: a04er\n",
            "Generating list of all files for: a04r\n",
            "Generating list of all files for: a05\n",
            "Generating list of all files for: a06\n",
            "Generating list of all files for: a07\n",
            "Generating list of all files for: a08\n",
            "Generating list of all files for: a09\n",
            "Generating list of all files for: a10\n",
            "Generating list of all files for: a11\n",
            "Generating list of all files for: a12\n",
            "Generating list of all files for: a13\n",
            "Generating list of all files for: a14\n",
            "Generating list of all files for: a15\n",
            "Generating list of all files for: a16\n",
            "Generating list of all files for: a17\n",
            "Generating list of all files for: a18\n",
            "Generating list of all files for: a19\n",
            "Generating list of all files for: a20\n",
            "Generating list of all files for: b01\n",
            "Generating list of all files for: b01er\n",
            "Generating list of all files for: b01r\n",
            "Generating list of all files for: b02\n",
            "Generating list of all files for: b03\n",
            "Generating list of all files for: b04\n",
            "Generating list of all files for: b05\n",
            "Generating list of all files for: c01\n",
            "Generating list of all files for: c01er\n",
            "Generating list of all files for: c01r\n",
            "Generating list of all files for: c02\n",
            "Generating list of all files for: c02er\n",
            "Generating list of all files for: c02r\n",
            "Generating list of all files for: c03\n",
            "Generating list of all files for: c03er\n",
            "Generating list of all files for: c03r\n",
            "Generating list of all files for: c04\n",
            "Generating list of all files for: c05\n",
            "Generating list of all files for: c06\n",
            "Generating list of all files for: c07\n",
            "Generating list of all files for: c08\n",
            "Generating list of all files for: c09\n",
            "Generating list of all files for: c10\n",
            "Generating list of all files for: x01\n",
            "Generating list of all files for: x02\n",
            "Generating list of all files for: x03\n",
            "Generating list of all files for: x04\n",
            "Generating list of all files for: x05\n",
            "Generating list of all files for: x06\n",
            "Generating list of all files for: x07\n",
            "Generating list of all files for: x08\n",
            "Generating list of all files for: x09\n",
            "Generating list of all files for: x10\n",
            "Generating list of all files for: x11\n",
            "Generating list of all files for: x12\n",
            "Generating list of all files for: x13\n",
            "Generating list of all files for: x14\n",
            "Generating list of all files for: x15\n",
            "Generating list of all files for: x16\n",
            "Generating list of all files for: x17\n",
            "Generating list of all files for: x18\n",
            "Generating list of all files for: x19\n",
            "Generating list of all files for: x20\n",
            "Generating list of all files for: x21\n",
            "Generating list of all files for: x22\n",
            "Generating list of all files for: x23\n",
            "Generating list of all files for: x24\n",
            "Generating list of all files for: x25\n",
            "Generating list of all files for: x26\n",
            "Generating list of all files for: x27\n",
            "Generating list of all files for: x28\n",
            "Generating list of all files for: x29\n",
            "Generating list of all files for: x30\n",
            "Generating list of all files for: x31\n",
            "Generating list of all files for: x32\n",
            "Generating list of all files for: x33\n",
            "Generating list of all files for: x34\n",
            "Generating list of all files for: x35\n",
            "Downloading files...\n",
            "Finished downloading files\n"
          ]
        },
        {
          "output_type": "display_data",
          "data": {
            "text/plain": [
              "['x03.apn',\n",
              " 'a01.qrs',\n",
              " 'x18.apn',\n",
              " 'x35.dat',\n",
              " 'x28.hea',\n",
              " 'c04.hea',\n",
              " 'a02r.apn',\n",
              " 'a19.dat',\n",
              " 'a03er.qrs',\n",
              " 'x04.dat',\n",
              " 'a11.apn',\n",
              " 'a03er.hea',\n",
              " 'b04.hea',\n",
              " 'b02.apn',\n",
              " 'a16.dat',\n",
              " 'x34.apn',\n",
              " 'a03r.dat',\n",
              " 'x25.hea',\n",
              " 'x19.hea',\n",
              " 'c06.hea',\n",
              " 'x34.qrs',\n",
              " 'a15.qrs',\n",
              " 'a04.dat',\n",
              " 'x10.qrs',\n",
              " 'x01.hea',\n",
              " 'a06.hea',\n",
              " 'a01.apn',\n",
              " 'x12.dat',\n",
              " 'x16.qrs',\n",
              " 'x06.dat',\n",
              " 'x26.hea',\n",
              " 'x31.dat',\n",
              " 'a04er.qrs',\n",
              " 'x02.apn',\n",
              " 'x24.apn',\n",
              " 'c03r.apn',\n",
              " 'b01r.dat',\n",
              " 'a19.qrs',\n",
              " 'a01r.apn',\n",
              " 'c01r.apn',\n",
              " 'x15.dat',\n",
              " 'x28.apn',\n",
              " 'a10.apn',\n",
              " 'x30.dat',\n",
              " 'a11.hea',\n",
              " 'x10.hea',\n",
              " 'x01.dat',\n",
              " 'x22.hea',\n",
              " 'x31.hea',\n",
              " 'c03er.apn',\n",
              " 'a01.dat',\n",
              " 'x06.apn',\n",
              " 'x35.apn',\n",
              " 'a04r.dat',\n",
              " 'a14.qrs',\n",
              " 'c08.qrs',\n",
              " 'x22.dat',\n",
              " 'x24.hea',\n",
              " 'x08.qrs',\n",
              " 'x35.qrs',\n",
              " 'a05.qrs',\n",
              " 'x14.qrs',\n",
              " 'x23.apn',\n",
              " 'c08.hea',\n",
              " 'b01r.hea',\n",
              " 'c06.qrs',\n",
              " 'a18.hea',\n",
              " 'b03.qrs',\n",
              " 'x03.hea',\n",
              " 'b01er.hea',\n",
              " 'a20.qrs',\n",
              " 'a14.dat',\n",
              " 'x21.dat',\n",
              " 'x18.dat',\n",
              " 'c08.dat',\n",
              " 'x02.dat',\n",
              " 'x20.dat',\n",
              " 'x33.apn',\n",
              " 'x12.hea',\n",
              " 'a17.apn',\n",
              " 'b05.apn',\n",
              " 'a17.hea',\n",
              " 'x16.apn',\n",
              " 'x17.apn',\n",
              " 'a15.dat',\n",
              " 'x04.apn',\n",
              " 'a01r.dat',\n",
              " 'x08.apn',\n",
              " 'c03.hea',\n",
              " 'x09.dat',\n",
              " 'c05.apn',\n",
              " 'x15.hea',\n",
              " 'x21.apn',\n",
              " 'b01.qrs',\n",
              " 'a03r.hea',\n",
              " 'a01er.qrs',\n",
              " 'c04.dat',\n",
              " 'x19.dat',\n",
              " 'x05.dat',\n",
              " 'b05.hea',\n",
              " 'x14.hea',\n",
              " 'x33.qrs',\n",
              " 'a10.qrs',\n",
              " 'a12.qrs',\n",
              " 'c01.apn',\n",
              " 'x10.dat',\n",
              " 'c01er.hea',\n",
              " 'x19.qrs',\n",
              " 'c07.dat',\n",
              " 'a03.qrs',\n",
              " 'b01r.apn',\n",
              " 'x33.dat',\n",
              " 'a19.hea',\n",
              " 'c03.qrs',\n",
              " 'x28.qrs',\n",
              " 'c10.dat',\n",
              " 'a18.qrs',\n",
              " 'c01r.hea',\n",
              " 'x31.apn',\n",
              " 'x26.apn',\n",
              " 'x05.hea',\n",
              " 'c01.qrs',\n",
              " 'a06.qrs',\n",
              " 'b05.dat',\n",
              " 'c03.apn',\n",
              " 'x26.dat',\n",
              " 'a17.qrs',\n",
              " 'a12.apn',\n",
              " 'x16.hea',\n",
              " 'x30.apn',\n",
              " 'a02er.hea',\n",
              " 'x30.qrs',\n",
              " 'a07.dat',\n",
              " 'c10.qrs',\n",
              " 'x29.apn',\n",
              " 'c01er.qrs',\n",
              " 'x04.qrs',\n",
              " 'a05.hea',\n",
              " 'a02.hea',\n",
              " 'a11.qrs',\n",
              " 'x13.qrs',\n",
              " 'c02r.dat',\n",
              " 'c05.hea',\n",
              " 'a11.dat',\n",
              " 'x19.apn',\n",
              " 'c01.dat',\n",
              " 'b03.apn',\n",
              " 'a06.apn',\n",
              " 'x34.hea',\n",
              " 'c07.qrs',\n",
              " 'a02r.hea',\n",
              " 'x21.qrs',\n",
              " 'c09.qrs',\n",
              " 'c01er.apn',\n",
              " 'x34.dat',\n",
              " 'a15.hea',\n",
              " 'x04.hea',\n",
              " 'a15.apn',\n",
              " 'a02r.dat',\n",
              " 'b03.dat',\n",
              " 'a03er.apn',\n",
              " 'x13.apn',\n",
              " 'a09.hea',\n",
              " 'x07.qrs',\n",
              " 'a02er.qrs',\n",
              " 'c01r.dat',\n",
              " 'a02.qrs',\n",
              " 'a13.dat',\n",
              " 'a14.apn',\n",
              " 'b02.hea',\n",
              " 'a03.apn',\n",
              " 'x11.qrs',\n",
              " 'c09.hea',\n",
              " 'a03.hea',\n",
              " 'x32.apn',\n",
              " 'x18.qrs',\n",
              " 'a05.apn',\n",
              " 'b02.qrs',\n",
              " 'c09.dat',\n",
              " 'c08.apn',\n",
              " 'a18.dat',\n",
              " 'x17.dat',\n",
              " 'a04r.hea',\n",
              " 'c03.dat',\n",
              " 'c02er.hea',\n",
              " 'x27.hea',\n",
              " 'c05.dat',\n",
              " 'c06.apn',\n",
              " 'x07.hea',\n",
              " 'a13.hea',\n",
              " 'a19.apn',\n",
              " 'b04.dat',\n",
              " 'a08.qrs',\n",
              " 'c10.hea',\n",
              " 'a06.dat',\n",
              " 'a04r.apn',\n",
              " 'c02.apn',\n",
              " 'c01.hea',\n",
              " 'x11.apn',\n",
              " 'b01.hea',\n",
              " 'b01.apn',\n",
              " 'c03r.dat',\n",
              " 'x32.qrs',\n",
              " 'x11.dat',\n",
              " 'x11.hea',\n",
              " 'a01r.hea',\n",
              " 'c03r.hea',\n",
              " 'a13.qrs',\n",
              " 'c04.qrs',\n",
              " 'a01.hea',\n",
              " 'a12.dat',\n",
              " 'x29.qrs',\n",
              " 'a02.apn',\n",
              " 'x08.dat',\n",
              " 'x27.dat',\n",
              " 'a20.dat',\n",
              " 'x22.qrs',\n",
              " 'c02er.qrs',\n",
              " 'b01.dat',\n",
              " 'a02er.apn',\n",
              " 'x26.qrs',\n",
              " 'x03.qrs',\n",
              " 'c05.qrs',\n",
              " 'x13.dat',\n",
              " 'a07.hea',\n",
              " 'a08.dat',\n",
              " 'x24.dat',\n",
              " 'a02.dat',\n",
              " 'a16.qrs',\n",
              " 'c10.apn',\n",
              " 'x07.dat',\n",
              " 'c02r.hea',\n",
              " 'c02.dat',\n",
              " 'x14.apn',\n",
              " 'x30.hea',\n",
              " 'x25.dat',\n",
              " 'c07.apn',\n",
              " 'x06.hea',\n",
              " 'a09.apn',\n",
              " 'x24.qrs',\n",
              " 'a04.apn',\n",
              " 'a01er.hea',\n",
              " 'x35.hea',\n",
              " 'b04.qrs',\n",
              " 'x05.apn',\n",
              " 'a13.apn',\n",
              " 'x09.hea',\n",
              " 'a07.apn',\n",
              " 'x12.qrs',\n",
              " 'x27.apn',\n",
              " 'a16.hea',\n",
              " 'a07.qrs',\n",
              " 'a14.hea',\n",
              " 'x02.hea',\n",
              " 'b02.dat',\n",
              " 'x15.apn',\n",
              " 'b03.hea',\n",
              " 'a17.dat',\n",
              " 'x32.dat',\n",
              " 'x33.hea',\n",
              " 'b01er.apn',\n",
              " 'x15.qrs',\n",
              " 'x29.dat',\n",
              " 'a16.apn',\n",
              " 'c06.dat',\n",
              " 'a04er.apn',\n",
              " 'x18.hea',\n",
              " 'c03er.hea',\n",
              " 'x17.hea',\n",
              " 'x20.qrs',\n",
              " 'c09.apn',\n",
              " 'x14.dat',\n",
              " 'x09.qrs',\n",
              " 'x28.dat',\n",
              " 'x22.apn',\n",
              " 'c02.hea',\n",
              " 'a20.apn',\n",
              " 'x20.apn',\n",
              " 'x29.hea',\n",
              " 'x12.apn',\n",
              " 'b01er.qrs',\n",
              " 'c04.apn',\n",
              " 'a20.hea',\n",
              " 'x32.hea',\n",
              " 'a08.hea',\n",
              " 'x31.qrs',\n",
              " 'x16.dat',\n",
              " 'b04.apn',\n",
              " 'x05.qrs',\n",
              " 'x20.hea',\n",
              " 'x02.qrs',\n",
              " 'a08.apn',\n",
              " 'x10.apn',\n",
              " 'c03er.qrs',\n",
              " 'x13.hea',\n",
              " 'x09.apn',\n",
              " 'a09.qrs',\n",
              " 'a10.dat',\n",
              " 'a10.hea',\n",
              " 'x08.hea',\n",
              " 'a18.apn',\n",
              " 'a04.hea',\n",
              " 'b05.qrs',\n",
              " 'x17.qrs',\n",
              " 'x07.apn',\n",
              " 'c02.qrs',\n",
              " 'x23.hea',\n",
              " 'x03.dat',\n",
              " 'x23.dat',\n",
              " 'a01er.apn',\n",
              " 'a09.dat',\n",
              " 'x01.qrs',\n",
              " 'a04.qrs',\n",
              " 'x06.qrs',\n",
              " 'c07.hea',\n",
              " 'x27.qrs',\n",
              " 'a04er.hea',\n",
              " 'c02er.apn',\n",
              " 'x25.apn',\n",
              " 'c02r.apn',\n",
              " 'x23.qrs',\n",
              " 'x21.hea',\n",
              " 'a05.dat',\n",
              " 'x01.apn',\n",
              " 'a03r.apn',\n",
              " 'x25.qrs',\n",
              " 'a12.hea',\n",
              " 'a03.dat']"
            ]
          },
          "metadata": {}
        }
      ]
    },
    {
      "cell_type": "markdown",
      "metadata": {
        "id": "3rQcUPoJVSH0"
      },
      "source": [
        "# Project\n"
      ]
    },
    {
      "cell_type": "code",
      "metadata": {
        "colab": {
          "base_uri": "https://localhost:8080/"
        },
        "id": "CUTTunsseZv6",
        "outputId": "ccca6635-0482-4d2d-8ffc-577e8502690b"
      },
      "source": [
        "# Import useful functions\n",
        "!pip install biosppy\n",
        "import biosppy\n",
        "from hrvanalysis import remove_ectopic_beats, interpolate_nan_values, get_time_domain_features, get_frequency_domain_features, get_geometrical_features\n",
        "from hrvanalysis import get_csi_cvi_features, get_poincare_plot_features\n",
        "from hrvanalysis.extract_features import get_frequency_domain_features\n",
        "import csv\n",
        "import pandas as pd"
      ],
      "execution_count": null,
      "outputs": [
        {
          "output_type": "stream",
          "name": "stdout",
          "text": [
            "Requirement already satisfied: biosppy in /usr/local/lib/python3.7/dist-packages (0.7.3)\n",
            "Requirement already satisfied: joblib in /usr/local/lib/python3.7/dist-packages (from biosppy) (1.0.1)\n",
            "Requirement already satisfied: h5py in /usr/local/lib/python3.7/dist-packages (from biosppy) (3.1.0)\n",
            "Requirement already satisfied: matplotlib in /usr/local/lib/python3.7/dist-packages (from biosppy) (3.4.3)\n",
            "Requirement already satisfied: scikit-learn in /usr/local/lib/python3.7/dist-packages (from biosppy) (0.22.2.post1)\n",
            "Requirement already satisfied: shortuuid in /usr/local/lib/python3.7/dist-packages (from biosppy) (1.0.1)\n",
            "Requirement already satisfied: six in /usr/local/lib/python3.7/dist-packages (from biosppy) (1.15.0)\n",
            "Requirement already satisfied: opencv-python in /usr/local/lib/python3.7/dist-packages (from biosppy) (4.1.2.30)\n",
            "Requirement already satisfied: bidict in /usr/local/lib/python3.7/dist-packages (from biosppy) (0.21.4)\n",
            "Requirement already satisfied: scipy in /usr/local/lib/python3.7/dist-packages (from biosppy) (1.4.1)\n",
            "Requirement already satisfied: numpy in /usr/local/lib/python3.7/dist-packages (from biosppy) (1.19.5)\n",
            "Requirement already satisfied: cached-property in /usr/local/lib/python3.7/dist-packages (from h5py->biosppy) (1.5.2)\n",
            "Requirement already satisfied: pillow>=6.2.0 in /usr/local/lib/python3.7/dist-packages (from matplotlib->biosppy) (7.1.2)\n",
            "Requirement already satisfied: kiwisolver>=1.0.1 in /usr/local/lib/python3.7/dist-packages (from matplotlib->biosppy) (1.3.2)\n",
            "Requirement already satisfied: python-dateutil>=2.7 in /usr/local/lib/python3.7/dist-packages (from matplotlib->biosppy) (2.8.2)\n",
            "Requirement already satisfied: cycler>=0.10 in /usr/local/lib/python3.7/dist-packages (from matplotlib->biosppy) (0.10.0)\n",
            "Requirement already satisfied: pyparsing>=2.2.1 in /usr/local/lib/python3.7/dist-packages (from matplotlib->biosppy) (2.4.7)\n"
          ]
        }
      ]
    },
    {
      "cell_type": "code",
      "metadata": {
        "id": "BKWJDTq_ehow"
      },
      "source": [
        "def get_record_features(record,rec_name):\n",
        "  nn_interval = get_record_interval(record)\n",
        "\n",
        "  # Populate results dictionary with time and freq features\n",
        "  results = {}\n",
        "  results = record_time_domain(results,nn_interval)\n",
        "  results = record_freq_domain(results,nn_interval)\n",
        "\n",
        "  # Add summary information from record_info.csv (AI, HI, H-healthy, A-Apnea, Age, Sex,\n",
        "  # Height and Weight)\n",
        "\n",
        "  # Add the name of the record\n",
        "  results['record']=rec_name\n",
        "  return results"
      ],
      "execution_count": null,
      "outputs": []
    },
    {
      "cell_type": "code",
      "metadata": {
        "id": "cL4l0aHLk5Xy"
      },
      "source": [
        "  def get_record_interval(record):\n",
        "    ind= biosppy.signals.ecg.ecg(record.p_signal[:,0], sampling_rate=100, show=False)\n",
        "    # Find index differences between successive R peaks.\n",
        "    rr_ind = np.diff(ind['rpeaks'])\n",
        "    rr_ms = [element * 10 for element in rr_ind] \n",
        "    # Remove ectopic beats\n",
        "    ect_ind = remove_ectopic_beats(rr_ms)\n",
        "    nn_interval = interpolate_nan_values(rr_intervals=ect_ind)\n",
        "    \n",
        "    return nn_interval"
      ],
      "execution_count": null,
      "outputs": []
    },
    {
      "cell_type": "code",
      "metadata": {
        "id": "E4lb1YUfkoi3"
      },
      "source": [
        " def record_time_domain(results,nn_interval): \n",
        "  # Time domain\n",
        "  time_dict = get_time_domain_features(nn_interval)\n",
        "  results['avnn'] = time_dict['mean_nni']\n",
        "  results['hr'] = time_dict['mean_hr']\n",
        "  results['SDNN'] = time_dict['sdnn']\n",
        "  results['pNN50'] = time_dict['pnni_20']\n",
        "  results['RMSSD'] = time_dict['rmssd']\n",
        "  results['HRdiff'] = time_dict['max_hr'] - time_dict['min_hr']\n",
        "  return results"
      ],
      "execution_count": null,
      "outputs": []
    },
    {
      "cell_type": "code",
      "metadata": {
        "id": "FgR5hlBrkXj3"
      },
      "source": [
        "def record_freq_domain(results,nn_interval):\n",
        "  # Frequency domain\n",
        "  freq_dict = get_frequency_domain_features(nn_interval)\n",
        "  results['VLF'] = freq_dict['vlf']\n",
        "  results['LF'] = freq_dict['lf']\n",
        "  results['HF'] = freq_dict['hf']\n",
        "  results['LHFratio'] = freq_dict['lf_hf_ratio']\n",
        "  return results"
      ],
      "execution_count": null,
      "outputs": []
    },
    {
      "cell_type": "code",
      "metadata": {
        "id": "kcGM1HcLhllh"
      },
      "source": [
        "# Find the list of records to consider\n",
        "rec_list = list(set([os.path.splitext(x)[0] for x in os.listdir(dl_dir)]))\n",
        "# Remove records of the form '...er', which are recordings with the four additional \n",
        "# signals that we will not consider here.\n",
        "rec_list = [record for record in rec_list if record[-1]!='r']"
      ],
      "execution_count": null,
      "outputs": []
    },
    {
      "cell_type": "code",
      "metadata": {
        "id": "m-Vbr8FidS89",
        "colab": {
          "base_uri": "https://localhost:8080/"
        },
        "outputId": "08968734-d596-4f63-cbda-0af15f269628"
      },
      "source": [
        "# Define variables for writing to features.csv\n",
        "csv_file = \"features.csv\"\n",
        "write_column = True\n",
        "with open(csv_file, 'w') as csvfile:\n",
        "\n",
        "# Iterate through list of records, load the ECG record and run get_record_features\n",
        "# and write to features.csv\n",
        "  for rec_name in rec_list:\n",
        "    record = wfdb.rdrecord('tmp_dl_dir/'+rec_name, sampfrom=0,sampto=100000)\n",
        "    results = get_record_features(record,rec_name)\n",
        "\n",
        "    if write_column:\n",
        "      csv_columns = results.keys()\n",
        "      writer = csv.DictWriter(csvfile, fieldnames=csv_columns)\n",
        "      writer.writeheader()\n",
        "      write_column = False\n",
        "\n",
        "    writer.writerow(results)"
      ],
      "execution_count": null,
      "outputs": [
        {
          "output_type": "stream",
          "name": "stdout",
          "text": [
            "37 ectopic beat(s) have been deleted with malik rule.\n",
            "889 ectopic beat(s) have been deleted with malik rule.\n",
            "594 ectopic beat(s) have been deleted with malik rule.\n",
            "4 ectopic beat(s) have been deleted with malik rule.\n",
            "0 ectopic beat(s) have been deleted with malik rule.\n",
            "101 ectopic beat(s) have been deleted with malik rule.\n",
            "21 ectopic beat(s) have been deleted with malik rule.\n",
            "9 ectopic beat(s) have been deleted with malik rule.\n",
            "11 ectopic beat(s) have been deleted with malik rule.\n",
            "260 ectopic beat(s) have been deleted with malik rule.\n",
            "40 ectopic beat(s) have been deleted with malik rule.\n",
            "262 ectopic beat(s) have been deleted with malik rule.\n",
            "47 ectopic beat(s) have been deleted with malik rule.\n",
            "177 ectopic beat(s) have been deleted with malik rule.\n",
            "0 ectopic beat(s) have been deleted with malik rule.\n",
            "54 ectopic beat(s) have been deleted with malik rule.\n",
            "18 ectopic beat(s) have been deleted with malik rule.\n",
            "40 ectopic beat(s) have been deleted with malik rule.\n",
            "111 ectopic beat(s) have been deleted with malik rule.\n",
            "47 ectopic beat(s) have been deleted with malik rule.\n",
            "7 ectopic beat(s) have been deleted with malik rule.\n",
            "25 ectopic beat(s) have been deleted with malik rule.\n",
            "267 ectopic beat(s) have been deleted with malik rule.\n",
            "639 ectopic beat(s) have been deleted with malik rule.\n",
            "20 ectopic beat(s) have been deleted with malik rule.\n",
            "92 ectopic beat(s) have been deleted with malik rule.\n",
            "5 ectopic beat(s) have been deleted with malik rule.\n",
            "30 ectopic beat(s) have been deleted with malik rule.\n",
            "5 ectopic beat(s) have been deleted with malik rule.\n",
            "2 ectopic beat(s) have been deleted with malik rule.\n",
            "9 ectopic beat(s) have been deleted with malik rule.\n",
            "6 ectopic beat(s) have been deleted with malik rule.\n",
            "1 ectopic beat(s) have been deleted with malik rule.\n",
            "17 ectopic beat(s) have been deleted with malik rule.\n",
            "10 ectopic beat(s) have been deleted with malik rule.\n",
            "0 ectopic beat(s) have been deleted with malik rule.\n",
            "6 ectopic beat(s) have been deleted with malik rule.\n",
            "2 ectopic beat(s) have been deleted with malik rule.\n",
            "29 ectopic beat(s) have been deleted with malik rule.\n",
            "41 ectopic beat(s) have been deleted with malik rule.\n",
            "0 ectopic beat(s) have been deleted with malik rule.\n",
            "493 ectopic beat(s) have been deleted with malik rule.\n",
            "2 ectopic beat(s) have been deleted with malik rule.\n",
            "0 ectopic beat(s) have been deleted with malik rule.\n",
            "4 ectopic beat(s) have been deleted with malik rule.\n",
            "8 ectopic beat(s) have been deleted with malik rule.\n",
            "454 ectopic beat(s) have been deleted with malik rule.\n",
            "26 ectopic beat(s) have been deleted with malik rule.\n",
            "2 ectopic beat(s) have been deleted with malik rule.\n",
            "25 ectopic beat(s) have been deleted with malik rule.\n",
            "6 ectopic beat(s) have been deleted with malik rule.\n",
            "21 ectopic beat(s) have been deleted with malik rule.\n",
            "28 ectopic beat(s) have been deleted with malik rule.\n",
            "2 ectopic beat(s) have been deleted with malik rule.\n",
            "13 ectopic beat(s) have been deleted with malik rule.\n",
            "12 ectopic beat(s) have been deleted with malik rule.\n",
            "533 ectopic beat(s) have been deleted with malik rule.\n",
            "88 ectopic beat(s) have been deleted with malik rule.\n",
            "390 ectopic beat(s) have been deleted with malik rule.\n",
            "545 ectopic beat(s) have been deleted with malik rule.\n",
            "445 ectopic beat(s) have been deleted with malik rule.\n",
            "411 ectopic beat(s) have been deleted with malik rule.\n",
            "10 ectopic beat(s) have been deleted with malik rule.\n",
            "39 ectopic beat(s) have been deleted with malik rule.\n",
            "11 ectopic beat(s) have been deleted with malik rule.\n",
            "6 ectopic beat(s) have been deleted with malik rule.\n",
            "10 ectopic beat(s) have been deleted with malik rule.\n",
            "24 ectopic beat(s) have been deleted with malik rule.\n",
            "6 ectopic beat(s) have been deleted with malik rule.\n",
            "403 ectopic beat(s) have been deleted with malik rule.\n"
          ]
        }
      ]
    },
    {
      "cell_type": "markdown",
      "metadata": {
        "id": "QMdVdgAsBnh-"
      },
      "source": [
        "Use data description to classify the patients with and without sleep apnea."
      ]
    },
    {
      "cell_type": "code",
      "metadata": {
        "colab": {
          "base_uri": "https://localhost:8080/",
          "height": 255
        },
        "id": "TsX54RJloT_r",
        "outputId": "5670b83f-9dfa-469d-a05c-c893ac78a82d"
      },
      "source": [
        "# Start by looking at the additional information on:\n",
        "# https://physionet.org/content/apnea-ecg/1.0.0/additional-information.txt\n",
        "# to determine those patients that have sleep apnea and those that do not.\n",
        "# Note that this cell requires record_info.csv file, which is the tabulated data\n",
        "# from the linked .txt file \n",
        "\n",
        "# Make a pd dataframe with 'Record' as index. Replace '' characters around columns\n",
        "# and Record and Sex entries\n",
        "record_info = pd.read_csv('record_info.csv')\n",
        "record_info.columns = record_info.columns.str.replace(\"'\",\"\")\n",
        "record_info['Record'] = record_info['Record'].str.replace(\"'\", '')\n",
        "record_info['Sex'] = record_info['Sex'].str.replace(\"'\", '')\n",
        "record_info = record_info.set_index('Record')\n",
        "record_info.head()\n"
      ],
      "execution_count": null,
      "outputs": [
        {
          "output_type": "execute_result",
          "data": {
            "text/html": [
              "<div>\n",
              "<style scoped>\n",
              "    .dataframe tbody tr th:only-of-type {\n",
              "        vertical-align: middle;\n",
              "    }\n",
              "\n",
              "    .dataframe tbody tr th {\n",
              "        vertical-align: top;\n",
              "    }\n",
              "\n",
              "    .dataframe thead th {\n",
              "        text-align: right;\n",
              "    }\n",
              "</style>\n",
              "<table border=\"1\" class=\"dataframe\">\n",
              "  <thead>\n",
              "    <tr style=\"text-align: right;\">\n",
              "      <th></th>\n",
              "      <th>Length minutes</th>\n",
              "      <th>Non-apn minutes</th>\n",
              "      <th>apnea minutes</th>\n",
              "      <th>hours w/apnea</th>\n",
              "      <th>AI</th>\n",
              "      <th>HI</th>\n",
              "      <th>AHI</th>\n",
              "      <th>Age</th>\n",
              "      <th>Sex</th>\n",
              "      <th>height (cm)</th>\n",
              "      <th>weight (kg)</th>\n",
              "    </tr>\n",
              "    <tr>\n",
              "      <th>Record</th>\n",
              "      <th></th>\n",
              "      <th></th>\n",
              "      <th></th>\n",
              "      <th></th>\n",
              "      <th></th>\n",
              "      <th></th>\n",
              "      <th></th>\n",
              "      <th></th>\n",
              "      <th></th>\n",
              "      <th></th>\n",
              "      <th></th>\n",
              "    </tr>\n",
              "  </thead>\n",
              "  <tbody>\n",
              "    <tr>\n",
              "      <th>a01</th>\n",
              "      <td>490</td>\n",
              "      <td>20</td>\n",
              "      <td>470</td>\n",
              "      <td>9</td>\n",
              "      <td>12.5</td>\n",
              "      <td>57.1</td>\n",
              "      <td>69.6</td>\n",
              "      <td>51</td>\n",
              "      <td>M</td>\n",
              "      <td>175</td>\n",
              "      <td>102</td>\n",
              "    </tr>\n",
              "    <tr>\n",
              "      <th>a02</th>\n",
              "      <td>529</td>\n",
              "      <td>109</td>\n",
              "      <td>420</td>\n",
              "      <td>9</td>\n",
              "      <td>57.2</td>\n",
              "      <td>12.3</td>\n",
              "      <td>69.5</td>\n",
              "      <td>38</td>\n",
              "      <td>M</td>\n",
              "      <td>180</td>\n",
              "      <td>120</td>\n",
              "    </tr>\n",
              "    <tr>\n",
              "      <th>a03</th>\n",
              "      <td>520</td>\n",
              "      <td>274</td>\n",
              "      <td>246</td>\n",
              "      <td>9</td>\n",
              "      <td>38.4</td>\n",
              "      <td>0.7</td>\n",
              "      <td>39.1</td>\n",
              "      <td>54</td>\n",
              "      <td>M</td>\n",
              "      <td>168</td>\n",
              "      <td>80</td>\n",
              "    </tr>\n",
              "    <tr>\n",
              "      <th>a04</th>\n",
              "      <td>493</td>\n",
              "      <td>40</td>\n",
              "      <td>453</td>\n",
              "      <td>9</td>\n",
              "      <td>73.4</td>\n",
              "      <td>4.0</td>\n",
              "      <td>77.4</td>\n",
              "      <td>52</td>\n",
              "      <td>M</td>\n",
              "      <td>173</td>\n",
              "      <td>121</td>\n",
              "    </tr>\n",
              "    <tr>\n",
              "      <th>a05</th>\n",
              "      <td>455</td>\n",
              "      <td>179</td>\n",
              "      <td>276</td>\n",
              "      <td>8</td>\n",
              "      <td>35.0</td>\n",
              "      <td>6.0</td>\n",
              "      <td>41.0</td>\n",
              "      <td>58</td>\n",
              "      <td>M</td>\n",
              "      <td>176</td>\n",
              "      <td>78</td>\n",
              "    </tr>\n",
              "  </tbody>\n",
              "</table>\n",
              "</div>"
            ],
            "text/plain": [
              "        Length minutes  Non-apn minutes  ...  height (cm)  weight (kg)\n",
              "Record                                   ...                          \n",
              "a01                490               20  ...          175          102\n",
              "a02                529              109  ...          180          120\n",
              "a03                520              274  ...          168           80\n",
              "a04                493               40  ...          173          121\n",
              "a05                455              179  ...          176           78\n",
              "\n",
              "[5 rows x 11 columns]"
            ]
          },
          "metadata": {},
          "execution_count": 11
        }
      ]
    },
    {
      "cell_type": "code",
      "metadata": {
        "id": "KdbF3Xus74nE"
      },
      "source": [
        "# Add a new column with value A is hours w/apnea > 0 and H otherwise\n",
        "record_info['class_A_or_H'] = np.where(record_info['hours w/apnea']>0, 'A','H')"
      ],
      "execution_count": null,
      "outputs": []
    },
    {
      "cell_type": "code",
      "metadata": {
        "colab": {
          "base_uri": "https://localhost:8080/",
          "height": 258
        },
        "id": "ZURK45juCAWP",
        "outputId": "79f797c5-607c-4a16-b48d-6e12dc3978f9"
      },
      "source": [
        "# Load in features.csv as pd DataFrame and make record the index\n",
        "features = pd.read_csv('features.csv')\n",
        "features = features.set_index('record')\n",
        "features.head()"
      ],
      "execution_count": null,
      "outputs": [
        {
          "output_type": "execute_result",
          "data": {
            "text/html": [
              "<div>\n",
              "<style scoped>\n",
              "    .dataframe tbody tr th:only-of-type {\n",
              "        vertical-align: middle;\n",
              "    }\n",
              "\n",
              "    .dataframe tbody tr th {\n",
              "        vertical-align: top;\n",
              "    }\n",
              "\n",
              "    .dataframe thead th {\n",
              "        text-align: right;\n",
              "    }\n",
              "</style>\n",
              "<table border=\"1\" class=\"dataframe\">\n",
              "  <thead>\n",
              "    <tr style=\"text-align: right;\">\n",
              "      <th></th>\n",
              "      <th>avnn</th>\n",
              "      <th>hr</th>\n",
              "      <th>SDNN</th>\n",
              "      <th>pNN50</th>\n",
              "      <th>RMSSD</th>\n",
              "      <th>HRdiff</th>\n",
              "      <th>VLF</th>\n",
              "      <th>LF</th>\n",
              "      <th>HF</th>\n",
              "      <th>LHFratio</th>\n",
              "    </tr>\n",
              "    <tr>\n",
              "      <th>record</th>\n",
              "      <th></th>\n",
              "      <th></th>\n",
              "      <th></th>\n",
              "      <th></th>\n",
              "      <th></th>\n",
              "      <th></th>\n",
              "      <th></th>\n",
              "      <th></th>\n",
              "      <th></th>\n",
              "      <th></th>\n",
              "    </tr>\n",
              "  </thead>\n",
              "  <tbody>\n",
              "    <tr>\n",
              "      <th>x33</th>\n",
              "      <td>714.964209</td>\n",
              "      <td>85.708406</td>\n",
              "      <td>81.202893</td>\n",
              "      <td>34.455587</td>\n",
              "      <td>45.767492</td>\n",
              "      <td>291.085506</td>\n",
              "      <td>7.587059e+02</td>\n",
              "      <td>1.497610e+03</td>\n",
              "      <td>9.358604e+02</td>\n",
              "      <td>1.600249</td>\n",
              "    </tr>\n",
              "    <tr>\n",
              "      <th>c04</th>\n",
              "      <td>415.305247</td>\n",
              "      <td>183.813548</td>\n",
              "      <td>324.193980</td>\n",
              "      <td>79.707219</td>\n",
              "      <td>158.203650</td>\n",
              "      <td>592.592593</td>\n",
              "      <td>3.795155e+03</td>\n",
              "      <td>7.361758e+03</td>\n",
              "      <td>9.588733e+03</td>\n",
              "      <td>0.767751</td>\n",
              "    </tr>\n",
              "    <tr>\n",
              "      <th>c09</th>\n",
              "      <td>829.665104</td>\n",
              "      <td>170.373924</td>\n",
              "      <td>7969.133945</td>\n",
              "      <td>75.938338</td>\n",
              "      <td>6427.789387</td>\n",
              "      <td>999.760546</td>\n",
              "      <td>7.093625e+07</td>\n",
              "      <td>1.011680e+07</td>\n",
              "      <td>1.813533e+06</td>\n",
              "      <td>5.578502</td>\n",
              "    </tr>\n",
              "    <tr>\n",
              "      <th>a20</th>\n",
              "      <td>889.518717</td>\n",
              "      <td>67.792461</td>\n",
              "      <td>49.456368</td>\n",
              "      <td>18.465656</td>\n",
              "      <td>30.572883</td>\n",
              "      <td>189.393939</td>\n",
              "      <td>5.508039e+02</td>\n",
              "      <td>3.937700e+02</td>\n",
              "      <td>2.818294e+02</td>\n",
              "      <td>1.397193</td>\n",
              "    </tr>\n",
              "    <tr>\n",
              "      <th>x08</th>\n",
              "      <td>898.129496</td>\n",
              "      <td>66.948810</td>\n",
              "      <td>41.150307</td>\n",
              "      <td>15.391539</td>\n",
              "      <td>18.364741</td>\n",
              "      <td>16.923077</td>\n",
              "      <td>7.484655e+02</td>\n",
              "      <td>5.081830e+02</td>\n",
              "      <td>7.743127e+01</td>\n",
              "      <td>6.563020</td>\n",
              "    </tr>\n",
              "  </tbody>\n",
              "</table>\n",
              "</div>"
            ],
            "text/plain": [
              "              avnn          hr  ...            HF  LHFratio\n",
              "record                          ...                        \n",
              "x33     714.964209   85.708406  ...  9.358604e+02  1.600249\n",
              "c04     415.305247  183.813548  ...  9.588733e+03  0.767751\n",
              "c09     829.665104  170.373924  ...  1.813533e+06  5.578502\n",
              "a20     889.518717   67.792461  ...  2.818294e+02  1.397193\n",
              "x08     898.129496   66.948810  ...  7.743127e+01  6.563020\n",
              "\n",
              "[5 rows x 10 columns]"
            ]
          },
          "metadata": {},
          "execution_count": 13
        }
      ]
    },
    {
      "cell_type": "code",
      "metadata": {
        "colab": {
          "base_uri": "https://localhost:8080/",
          "height": 461
        },
        "id": "XUkxyMvLCfH4",
        "outputId": "9f3b4476-32f9-438a-e1cd-2f65acaed6a4"
      },
      "source": [
        "# Merge the features database with the record_info database\n",
        "all_records = pd.merge(record_info,features,left_index=True,right_index=True).head(70)\n",
        "all_records.head(70)"
      ],
      "execution_count": null,
      "outputs": [
        {
          "output_type": "execute_result",
          "data": {
            "text/html": [
              "<div>\n",
              "<style scoped>\n",
              "    .dataframe tbody tr th:only-of-type {\n",
              "        vertical-align: middle;\n",
              "    }\n",
              "\n",
              "    .dataframe tbody tr th {\n",
              "        vertical-align: top;\n",
              "    }\n",
              "\n",
              "    .dataframe thead th {\n",
              "        text-align: right;\n",
              "    }\n",
              "</style>\n",
              "<table border=\"1\" class=\"dataframe\">\n",
              "  <thead>\n",
              "    <tr style=\"text-align: right;\">\n",
              "      <th></th>\n",
              "      <th>Length minutes</th>\n",
              "      <th>Non-apn minutes</th>\n",
              "      <th>apnea minutes</th>\n",
              "      <th>hours w/apnea</th>\n",
              "      <th>AI</th>\n",
              "      <th>HI</th>\n",
              "      <th>AHI</th>\n",
              "      <th>Age</th>\n",
              "      <th>Sex</th>\n",
              "      <th>height (cm)</th>\n",
              "      <th>weight (kg)</th>\n",
              "      <th>class_A_or_H</th>\n",
              "      <th>avnn</th>\n",
              "      <th>hr</th>\n",
              "      <th>SDNN</th>\n",
              "      <th>pNN50</th>\n",
              "      <th>RMSSD</th>\n",
              "      <th>HRdiff</th>\n",
              "      <th>VLF</th>\n",
              "      <th>LF</th>\n",
              "      <th>HF</th>\n",
              "      <th>LHFratio</th>\n",
              "    </tr>\n",
              "  </thead>\n",
              "  <tbody>\n",
              "    <tr>\n",
              "      <th>a01</th>\n",
              "      <td>490</td>\n",
              "      <td>20</td>\n",
              "      <td>470</td>\n",
              "      <td>9</td>\n",
              "      <td>12.50</td>\n",
              "      <td>57.1</td>\n",
              "      <td>69.60</td>\n",
              "      <td>51</td>\n",
              "      <td>M</td>\n",
              "      <td>175</td>\n",
              "      <td>102</td>\n",
              "      <td>A</td>\n",
              "      <td>831.513761</td>\n",
              "      <td>73.040629</td>\n",
              "      <td>90.699505</td>\n",
              "      <td>47.245409</td>\n",
              "      <td>43.322470</td>\n",
              "      <td>45.454545</td>\n",
              "      <td>1.253066e+03</td>\n",
              "      <td>1.672205e+03</td>\n",
              "      <td>6.630697e+02</td>\n",
              "      <td>2.521914</td>\n",
              "    </tr>\n",
              "    <tr>\n",
              "      <th>a02</th>\n",
              "      <td>529</td>\n",
              "      <td>109</td>\n",
              "      <td>420</td>\n",
              "      <td>9</td>\n",
              "      <td>57.20</td>\n",
              "      <td>12.3</td>\n",
              "      <td>69.50</td>\n",
              "      <td>38</td>\n",
              "      <td>M</td>\n",
              "      <td>180</td>\n",
              "      <td>120</td>\n",
              "      <td>A</td>\n",
              "      <td>755.933485</td>\n",
              "      <td>84.557358</td>\n",
              "      <td>64.424733</td>\n",
              "      <td>9.077156</td>\n",
              "      <td>37.133484</td>\n",
              "      <td>5941.747573</td>\n",
              "      <td>9.715965e+02</td>\n",
              "      <td>7.729338e+02</td>\n",
              "      <td>4.106547e+02</td>\n",
              "      <td>1.882199</td>\n",
              "    </tr>\n",
              "    <tr>\n",
              "      <th>a03</th>\n",
              "      <td>520</td>\n",
              "      <td>274</td>\n",
              "      <td>246</td>\n",
              "      <td>9</td>\n",
              "      <td>38.40</td>\n",
              "      <td>0.7</td>\n",
              "      <td>39.10</td>\n",
              "      <td>54</td>\n",
              "      <td>M</td>\n",
              "      <td>168</td>\n",
              "      <td>80</td>\n",
              "      <td>A</td>\n",
              "      <td>17441.346154</td>\n",
              "      <td>63.094282</td>\n",
              "      <td>101765.236602</td>\n",
              "      <td>57.281553</td>\n",
              "      <td>84112.241637</td>\n",
              "      <td>272.657110</td>\n",
              "      <td>4.589937e+08</td>\n",
              "      <td>7.046431e+07</td>\n",
              "      <td>6.001843e+06</td>\n",
              "      <td>11.740446</td>\n",
              "    </tr>\n",
              "    <tr>\n",
              "      <th>a04</th>\n",
              "      <td>493</td>\n",
              "      <td>40</td>\n",
              "      <td>453</td>\n",
              "      <td>9</td>\n",
              "      <td>73.40</td>\n",
              "      <td>4.0</td>\n",
              "      <td>77.40</td>\n",
              "      <td>52</td>\n",
              "      <td>M</td>\n",
              "      <td>173</td>\n",
              "      <td>121</td>\n",
              "      <td>A</td>\n",
              "      <td>729.207451</td>\n",
              "      <td>82.827238</td>\n",
              "      <td>48.530037</td>\n",
              "      <td>3.581871</td>\n",
              "      <td>27.266419</td>\n",
              "      <td>163.353500</td>\n",
              "      <td>4.430518e+02</td>\n",
              "      <td>2.851670e+02</td>\n",
              "      <td>2.091080e+02</td>\n",
              "      <td>1.363731</td>\n",
              "    </tr>\n",
              "    <tr>\n",
              "      <th>a05</th>\n",
              "      <td>455</td>\n",
              "      <td>179</td>\n",
              "      <td>276</td>\n",
              "      <td>8</td>\n",
              "      <td>35.00</td>\n",
              "      <td>6.0</td>\n",
              "      <td>41.00</td>\n",
              "      <td>58</td>\n",
              "      <td>M</td>\n",
              "      <td>176</td>\n",
              "      <td>78</td>\n",
              "      <td>A</td>\n",
              "      <td>990.203373</td>\n",
              "      <td>60.887498</td>\n",
              "      <td>67.965054</td>\n",
              "      <td>46.176763</td>\n",
              "      <td>36.608316</td>\n",
              "      <td>36.304962</td>\n",
              "      <td>1.592097e+03</td>\n",
              "      <td>1.088706e+03</td>\n",
              "      <td>3.806619e+02</td>\n",
              "      <td>2.860034</td>\n",
              "    </tr>\n",
              "    <tr>\n",
              "      <th>...</th>\n",
              "      <td>...</td>\n",
              "      <td>...</td>\n",
              "      <td>...</td>\n",
              "      <td>...</td>\n",
              "      <td>...</td>\n",
              "      <td>...</td>\n",
              "      <td>...</td>\n",
              "      <td>...</td>\n",
              "      <td>...</td>\n",
              "      <td>...</td>\n",
              "      <td>...</td>\n",
              "      <td>...</td>\n",
              "      <td>...</td>\n",
              "      <td>...</td>\n",
              "      <td>...</td>\n",
              "      <td>...</td>\n",
              "      <td>...</td>\n",
              "      <td>...</td>\n",
              "      <td>...</td>\n",
              "      <td>...</td>\n",
              "      <td>...</td>\n",
              "      <td>...</td>\n",
              "    </tr>\n",
              "    <tr>\n",
              "      <th>x31</th>\n",
              "      <td>558</td>\n",
              "      <td>42</td>\n",
              "      <td>516</td>\n",
              "      <td>10</td>\n",
              "      <td>86.80</td>\n",
              "      <td>6.7</td>\n",
              "      <td>93.50</td>\n",
              "      <td>29</td>\n",
              "      <td>F</td>\n",
              "      <td>183</td>\n",
              "      <td>100</td>\n",
              "      <td>A</td>\n",
              "      <td>991.212425</td>\n",
              "      <td>62.126889</td>\n",
              "      <td>148.427508</td>\n",
              "      <td>64.994985</td>\n",
              "      <td>67.483049</td>\n",
              "      <td>81.834532</td>\n",
              "      <td>3.483876e+03</td>\n",
              "      <td>2.125542e+03</td>\n",
              "      <td>1.022782e+03</td>\n",
              "      <td>2.078198</td>\n",
              "    </tr>\n",
              "    <tr>\n",
              "      <th>x32</th>\n",
              "      <td>539</td>\n",
              "      <td>114</td>\n",
              "      <td>425</td>\n",
              "      <td>9</td>\n",
              "      <td>63.30</td>\n",
              "      <td>8.5</td>\n",
              "      <td>71.80</td>\n",
              "      <td>29</td>\n",
              "      <td>F</td>\n",
              "      <td>183</td>\n",
              "      <td>100</td>\n",
              "      <td>A</td>\n",
              "      <td>1005.529768</td>\n",
              "      <td>60.645305</td>\n",
              "      <td>116.552528</td>\n",
              "      <td>76.969697</td>\n",
              "      <td>78.971930</td>\n",
              "      <td>124.553571</td>\n",
              "      <td>2.053907e+03</td>\n",
              "      <td>2.224366e+03</td>\n",
              "      <td>1.660136e+03</td>\n",
              "      <td>1.339870</td>\n",
              "    </tr>\n",
              "    <tr>\n",
              "      <th>x33</th>\n",
              "      <td>474</td>\n",
              "      <td>471</td>\n",
              "      <td>3</td>\n",
              "      <td>0</td>\n",
              "      <td>0.13</td>\n",
              "      <td>0.0</td>\n",
              "      <td>0.13</td>\n",
              "      <td>28</td>\n",
              "      <td>F</td>\n",
              "      <td>169</td>\n",
              "      <td>57</td>\n",
              "      <td>H</td>\n",
              "      <td>714.964209</td>\n",
              "      <td>85.708406</td>\n",
              "      <td>81.202893</td>\n",
              "      <td>34.455587</td>\n",
              "      <td>45.767492</td>\n",
              "      <td>291.085506</td>\n",
              "      <td>7.587059e+02</td>\n",
              "      <td>1.497610e+03</td>\n",
              "      <td>9.358604e+02</td>\n",
              "      <td>1.600249</td>\n",
              "    </tr>\n",
              "    <tr>\n",
              "      <th>x34</th>\n",
              "      <td>476</td>\n",
              "      <td>472</td>\n",
              "      <td>4</td>\n",
              "      <td>0</td>\n",
              "      <td>0.38</td>\n",
              "      <td>0.0</td>\n",
              "      <td>0.38</td>\n",
              "      <td>30</td>\n",
              "      <td>F</td>\n",
              "      <td>168</td>\n",
              "      <td>56</td>\n",
              "      <td>H</td>\n",
              "      <td>714.871060</td>\n",
              "      <td>85.805574</td>\n",
              "      <td>83.695243</td>\n",
              "      <td>35.340502</td>\n",
              "      <td>48.109791</td>\n",
              "      <td>291.716687</td>\n",
              "      <td>9.836190e+02</td>\n",
              "      <td>1.699065e+03</td>\n",
              "      <td>1.007047e+03</td>\n",
              "      <td>1.687175</td>\n",
              "    </tr>\n",
              "    <tr>\n",
              "      <th>x35</th>\n",
              "      <td>484</td>\n",
              "      <td>484</td>\n",
              "      <td>0</td>\n",
              "      <td>0</td>\n",
              "      <td>0.00</td>\n",
              "      <td>0.0</td>\n",
              "      <td>0.00</td>\n",
              "      <td>31</td>\n",
              "      <td>M</td>\n",
              "      <td>184</td>\n",
              "      <td>74</td>\n",
              "      <td>H</td>\n",
              "      <td>1136.410256</td>\n",
              "      <td>168.790975</td>\n",
              "      <td>8679.949499</td>\n",
              "      <td>82.951421</td>\n",
              "      <td>6717.606571</td>\n",
              "      <td>599.738573</td>\n",
              "      <td>5.809415e+07</td>\n",
              "      <td>1.002153e+06</td>\n",
              "      <td>4.793413e+04</td>\n",
              "      <td>20.906876</td>\n",
              "    </tr>\n",
              "  </tbody>\n",
              "</table>\n",
              "<p>70 rows × 22 columns</p>\n",
              "</div>"
            ],
            "text/plain": [
              "     Length minutes  Non-apn minutes  ...            HF   LHFratio\n",
              "a01             490               20  ...  6.630697e+02   2.521914\n",
              "a02             529              109  ...  4.106547e+02   1.882199\n",
              "a03             520              274  ...  6.001843e+06  11.740446\n",
              "a04             493               40  ...  2.091080e+02   1.363731\n",
              "a05             455              179  ...  3.806619e+02   2.860034\n",
              "..              ...              ...  ...           ...        ...\n",
              "x31             558               42  ...  1.022782e+03   2.078198\n",
              "x32             539              114  ...  1.660136e+03   1.339870\n",
              "x33             474              471  ...  9.358604e+02   1.600249\n",
              "x34             476              472  ...  1.007047e+03   1.687175\n",
              "x35             484              484  ...  4.793413e+04  20.906876\n",
              "\n",
              "[70 rows x 22 columns]"
            ]
          },
          "metadata": {},
          "execution_count": 14
        }
      ]
    },
    {
      "cell_type": "code",
      "metadata": {
        "id": "doh_BkEy_U-i"
      },
      "source": [
        "# Split into healthy and apnea records\n",
        "apnea_records = all_records[all_records['class_A_or_H']=='A']\n",
        "healthy_records = all_records[all_records['class_A_or_H']=='H']"
      ],
      "execution_count": null,
      "outputs": []
    },
    {
      "cell_type": "markdown",
      "metadata": {
        "id": "D1xdUp99wMmQ"
      },
      "source": [
        "## Statistical analysis\n"
      ]
    },
    {
      "cell_type": "markdown",
      "metadata": {
        "id": "thTL0zFcIxiN"
      },
      "source": [
        "Start by pandas 'describe' to obtain numerical statistics for apneic and healthy records."
      ]
    },
    {
      "cell_type": "code",
      "metadata": {
        "colab": {
          "base_uri": "https://localhost:8080/",
          "height": 320
        },
        "id": "z0GDCyd1IhPw",
        "outputId": "c33ab463-217c-4e75-f681-c007f1802588"
      },
      "source": [
        "apnea_records[features.columns].describe()"
      ],
      "execution_count": null,
      "outputs": [
        {
          "output_type": "execute_result",
          "data": {
            "text/html": [
              "<div>\n",
              "<style scoped>\n",
              "    .dataframe tbody tr th:only-of-type {\n",
              "        vertical-align: middle;\n",
              "    }\n",
              "\n",
              "    .dataframe tbody tr th {\n",
              "        vertical-align: top;\n",
              "    }\n",
              "\n",
              "    .dataframe thead th {\n",
              "        text-align: right;\n",
              "    }\n",
              "</style>\n",
              "<table border=\"1\" class=\"dataframe\">\n",
              "  <thead>\n",
              "    <tr style=\"text-align: right;\">\n",
              "      <th></th>\n",
              "      <th>avnn</th>\n",
              "      <th>hr</th>\n",
              "      <th>SDNN</th>\n",
              "      <th>pNN50</th>\n",
              "      <th>RMSSD</th>\n",
              "      <th>HRdiff</th>\n",
              "      <th>VLF</th>\n",
              "      <th>LF</th>\n",
              "      <th>HF</th>\n",
              "      <th>LHFratio</th>\n",
              "    </tr>\n",
              "  </thead>\n",
              "  <tbody>\n",
              "    <tr>\n",
              "      <th>count</th>\n",
              "      <td>50.000000</td>\n",
              "      <td>50.000000</td>\n",
              "      <td>50.000000</td>\n",
              "      <td>50.000000</td>\n",
              "      <td>50.000000</td>\n",
              "      <td>50.000000</td>\n",
              "      <td>5.000000e+01</td>\n",
              "      <td>5.000000e+01</td>\n",
              "      <td>5.000000e+01</td>\n",
              "      <td>50.000000</td>\n",
              "    </tr>\n",
              "    <tr>\n",
              "      <th>mean</th>\n",
              "      <td>1177.205127</td>\n",
              "      <td>76.821219</td>\n",
              "      <td>2342.631704</td>\n",
              "      <td>29.528373</td>\n",
              "      <td>1889.152757</td>\n",
              "      <td>538.133200</td>\n",
              "      <td>1.046957e+07</td>\n",
              "      <td>1.483722e+06</td>\n",
              "      <td>1.266568e+05</td>\n",
              "      <td>5.029305</td>\n",
              "    </tr>\n",
              "    <tr>\n",
              "      <th>std</th>\n",
              "      <td>2349.570547</td>\n",
              "      <td>20.943258</td>\n",
              "      <td>14398.277495</td>\n",
              "      <td>23.172281</td>\n",
              "      <td>11895.655343</td>\n",
              "      <td>1444.511688</td>\n",
              "      <td>6.504153e+07</td>\n",
              "      <td>9.963171e+06</td>\n",
              "      <td>8.486339e+05</td>\n",
              "      <td>6.421474</td>\n",
              "    </tr>\n",
              "    <tr>\n",
              "      <th>min</th>\n",
              "      <td>488.181464</td>\n",
              "      <td>58.761388</td>\n",
              "      <td>32.960686</td>\n",
              "      <td>3.581871</td>\n",
              "      <td>13.125471</td>\n",
              "      <td>16.923077</td>\n",
              "      <td>2.197134e+02</td>\n",
              "      <td>2.357354e+02</td>\n",
              "      <td>3.274369e+01</td>\n",
              "      <td>0.752200</td>\n",
              "    </tr>\n",
              "    <tr>\n",
              "      <th>25%</th>\n",
              "      <td>774.318064</td>\n",
              "      <td>66.367587</td>\n",
              "      <td>50.222458</td>\n",
              "      <td>12.311215</td>\n",
              "      <td>23.322699</td>\n",
              "      <td>54.899583</td>\n",
              "      <td>7.063922e+02</td>\n",
              "      <td>5.282118e+02</td>\n",
              "      <td>1.732915e+02</td>\n",
              "      <td>1.931199</td>\n",
              "    </tr>\n",
              "    <tr>\n",
              "      <th>50%</th>\n",
              "      <td>845.955662</td>\n",
              "      <td>72.447940</td>\n",
              "      <td>68.149445</td>\n",
              "      <td>20.641631</td>\n",
              "      <td>33.031948</td>\n",
              "      <td>116.153229</td>\n",
              "      <td>9.651666e+02</td>\n",
              "      <td>8.687136e+02</td>\n",
              "      <td>3.398772e+02</td>\n",
              "      <td>2.937725</td>\n",
              "    </tr>\n",
              "    <tr>\n",
              "      <th>75%</th>\n",
              "      <td>925.128952</td>\n",
              "      <td>78.810542</td>\n",
              "      <td>98.192758</td>\n",
              "      <td>42.390059</td>\n",
              "      <td>59.873111</td>\n",
              "      <td>210.391963</td>\n",
              "      <td>2.044125e+03</td>\n",
              "      <td>2.220944e+03</td>\n",
              "      <td>1.011792e+03</td>\n",
              "      <td>5.007359</td>\n",
              "    </tr>\n",
              "    <tr>\n",
              "      <th>max</th>\n",
              "      <td>17441.346154</td>\n",
              "      <td>166.378184</td>\n",
              "      <td>101765.236602</td>\n",
              "      <td>84.177708</td>\n",
              "      <td>84112.241637</td>\n",
              "      <td>5976.284585</td>\n",
              "      <td>4.589937e+08</td>\n",
              "      <td>7.046431e+07</td>\n",
              "      <td>6.001843e+06</td>\n",
              "      <td>32.557475</td>\n",
              "    </tr>\n",
              "  </tbody>\n",
              "</table>\n",
              "</div>"
            ],
            "text/plain": [
              "               avnn          hr  ...            HF   LHFratio\n",
              "count     50.000000   50.000000  ...  5.000000e+01  50.000000\n",
              "mean    1177.205127   76.821219  ...  1.266568e+05   5.029305\n",
              "std     2349.570547   20.943258  ...  8.486339e+05   6.421474\n",
              "min      488.181464   58.761388  ...  3.274369e+01   0.752200\n",
              "25%      774.318064   66.367587  ...  1.732915e+02   1.931199\n",
              "50%      845.955662   72.447940  ...  3.398772e+02   2.937725\n",
              "75%      925.128952   78.810542  ...  1.011792e+03   5.007359\n",
              "max    17441.346154  166.378184  ...  6.001843e+06  32.557475\n",
              "\n",
              "[8 rows x 10 columns]"
            ]
          },
          "metadata": {},
          "execution_count": 16
        }
      ]
    },
    {
      "cell_type": "code",
      "metadata": {
        "colab": {
          "base_uri": "https://localhost:8080/",
          "height": 320
        },
        "id": "BBatJQMZIsKF",
        "outputId": "726435f6-c569-4031-b14b-e36d347b2ead"
      },
      "source": [
        "healthy_records[features.columns].describe()"
      ],
      "execution_count": null,
      "outputs": [
        {
          "output_type": "execute_result",
          "data": {
            "text/html": [
              "<div>\n",
              "<style scoped>\n",
              "    .dataframe tbody tr th:only-of-type {\n",
              "        vertical-align: middle;\n",
              "    }\n",
              "\n",
              "    .dataframe tbody tr th {\n",
              "        vertical-align: top;\n",
              "    }\n",
              "\n",
              "    .dataframe thead th {\n",
              "        text-align: right;\n",
              "    }\n",
              "</style>\n",
              "<table border=\"1\" class=\"dataframe\">\n",
              "  <thead>\n",
              "    <tr style=\"text-align: right;\">\n",
              "      <th></th>\n",
              "      <th>avnn</th>\n",
              "      <th>hr</th>\n",
              "      <th>SDNN</th>\n",
              "      <th>pNN50</th>\n",
              "      <th>RMSSD</th>\n",
              "      <th>HRdiff</th>\n",
              "      <th>VLF</th>\n",
              "      <th>LF</th>\n",
              "      <th>HF</th>\n",
              "      <th>LHFratio</th>\n",
              "    </tr>\n",
              "  </thead>\n",
              "  <tbody>\n",
              "    <tr>\n",
              "      <th>count</th>\n",
              "      <td>20.000000</td>\n",
              "      <td>20.000000</td>\n",
              "      <td>20.000000</td>\n",
              "      <td>20.000000</td>\n",
              "      <td>20.000000</td>\n",
              "      <td>20.000000</td>\n",
              "      <td>2.000000e+01</td>\n",
              "      <td>2.000000e+01</td>\n",
              "      <td>2.000000e+01</td>\n",
              "      <td>20.000000</td>\n",
              "    </tr>\n",
              "    <tr>\n",
              "      <th>mean</th>\n",
              "      <td>951.939297</td>\n",
              "      <td>120.053667</td>\n",
              "      <td>3109.121185</td>\n",
              "      <td>69.798996</td>\n",
              "      <td>2335.415932</td>\n",
              "      <td>849.214231</td>\n",
              "      <td>1.952926e+07</td>\n",
              "      <td>1.172979e+06</td>\n",
              "      <td>1.649122e+05</td>\n",
              "      <td>7.992831</td>\n",
              "    </tr>\n",
              "    <tr>\n",
              "      <th>std</th>\n",
              "      <td>313.133198</td>\n",
              "      <td>45.349632</td>\n",
              "      <td>3810.754782</td>\n",
              "      <td>16.588170</td>\n",
              "      <td>2934.162840</td>\n",
              "      <td>1279.436272</td>\n",
              "      <td>2.633469e+07</td>\n",
              "      <td>2.323694e+06</td>\n",
              "      <td>4.100839e+05</td>\n",
              "      <td>7.702045</td>\n",
              "    </tr>\n",
              "    <tr>\n",
              "      <th>min</th>\n",
              "      <td>415.305247</td>\n",
              "      <td>48.668867</td>\n",
              "      <td>68.331607</td>\n",
              "      <td>34.455587</td>\n",
              "      <td>45.767492</td>\n",
              "      <td>32.972973</td>\n",
              "      <td>7.587059e+02</td>\n",
              "      <td>1.336172e+03</td>\n",
              "      <td>4.216943e+02</td>\n",
              "      <td>0.767751</td>\n",
              "    </tr>\n",
              "    <tr>\n",
              "      <th>25%</th>\n",
              "      <td>713.659114</td>\n",
              "      <td>82.456619</td>\n",
              "      <td>166.047818</td>\n",
              "      <td>62.799533</td>\n",
              "      <td>94.499128</td>\n",
              "      <td>313.980138</td>\n",
              "      <td>3.701775e+03</td>\n",
              "      <td>4.678454e+03</td>\n",
              "      <td>2.867763e+03</td>\n",
              "      <td>1.592643</td>\n",
              "    </tr>\n",
              "    <tr>\n",
              "      <th>50%</th>\n",
              "      <td>886.162892</td>\n",
              "      <td>136.739103</td>\n",
              "      <td>859.253416</td>\n",
              "      <td>76.129107</td>\n",
              "      <td>449.535389</td>\n",
              "      <td>597.466351</td>\n",
              "      <td>1.009214e+06</td>\n",
              "      <td>2.594677e+05</td>\n",
              "      <td>1.950467e+04</td>\n",
              "      <td>5.578583</td>\n",
              "    </tr>\n",
              "    <tr>\n",
              "      <th>75%</th>\n",
              "      <td>1170.526196</td>\n",
              "      <td>162.390704</td>\n",
              "      <td>5428.561841</td>\n",
              "      <td>82.306979</td>\n",
              "      <td>4230.021141</td>\n",
              "      <td>666.034125</td>\n",
              "      <td>3.375340e+07</td>\n",
              "      <td>1.041446e+06</td>\n",
              "      <td>8.924181e+04</td>\n",
              "      <td>10.821925</td>\n",
              "    </tr>\n",
              "    <tr>\n",
              "      <th>max</th>\n",
              "      <td>1710.571827</td>\n",
              "      <td>183.813548</td>\n",
              "      <td>10387.294675</td>\n",
              "      <td>85.373781</td>\n",
              "      <td>8147.339311</td>\n",
              "      <td>5999.716727</td>\n",
              "      <td>7.093625e+07</td>\n",
              "      <td>1.011680e+07</td>\n",
              "      <td>1.813533e+06</td>\n",
              "      <td>22.498659</td>\n",
              "    </tr>\n",
              "  </tbody>\n",
              "</table>\n",
              "</div>"
            ],
            "text/plain": [
              "              avnn          hr  ...            HF   LHFratio\n",
              "count    20.000000   20.000000  ...  2.000000e+01  20.000000\n",
              "mean    951.939297  120.053667  ...  1.649122e+05   7.992831\n",
              "std     313.133198   45.349632  ...  4.100839e+05   7.702045\n",
              "min     415.305247   48.668867  ...  4.216943e+02   0.767751\n",
              "25%     713.659114   82.456619  ...  2.867763e+03   1.592643\n",
              "50%     886.162892  136.739103  ...  1.950467e+04   5.578583\n",
              "75%    1170.526196  162.390704  ...  8.924181e+04  10.821925\n",
              "max    1710.571827  183.813548  ...  1.813533e+06  22.498659\n",
              "\n",
              "[8 rows x 10 columns]"
            ]
          },
          "metadata": {},
          "execution_count": 17
        }
      ]
    },
    {
      "cell_type": "markdown",
      "metadata": {
        "id": "S4usqFvXwnQk"
      },
      "source": [
        "Note that the max quantities in some features are much larger than the upper quartile, indicating some anomalies within the data that should be accounted for in future analysis. Descriptive statistics between the two groups. Here, we will consider the distribution of various features."
      ]
    },
    {
      "cell_type": "code",
      "metadata": {
        "colab": {
          "base_uri": "https://localhost:8080/",
          "height": 334
        },
        "id": "4VlQVraxDAxb",
        "outputId": "b0c2325e-0811-4774-b8f4-8d64ab1741d3"
      },
      "source": [
        "# Boxplot for avnn\n",
        "all_records.boxplot(column='avnn',by=all_records['class_A_or_H'],\\\n",
        "                         figsize=(4,5))\n",
        "plt.yscale('log')\n",
        "plt.xlabel('')\n",
        "plt.suptitle('')\n",
        "plt.show()"
      ],
      "execution_count": null,
      "outputs": [
        {
          "output_type": "display_data",
          "data": {
            "image/png": "[encoded data removed]",
            "text/plain": [
              "<Figure size 288x360 with 1 Axes>"
            ]
          },
          "metadata": {
            "needs_background": "light"
          }
        }
      ]
    },
    {
      "cell_type": "markdown",
      "metadata": {
        "id": "ZtBFo9PALE6B"
      },
      "source": [
        "**Comments:** Larger variation in avnn (averate RR interval) across healthy records and distribution appears bimodal, whereas the distribution of avnn for apneic records is normally distributed centred around 845 (median)."
      ]
    },
    {
      "cell_type": "code",
      "metadata": {
        "colab": {
          "base_uri": "https://localhost:8080/",
          "height": 334
        },
        "id": "17Jb2nZqILNo",
        "outputId": "c84fd612-7c40-4eb8-dea2-66561ba38b82"
      },
      "source": [
        "# Boxplot for hr\n",
        "all_records.boxplot(column='hr',by=all_records['class_A_or_H'],\\\n",
        "                         figsize=(4,5))\n",
        "plt.xlabel('')\n",
        "plt.suptitle('')\n",
        "plt.show()"
      ],
      "execution_count": null,
      "outputs": [
        {
          "output_type": "display_data",
          "data": {
            "image/png": "[encoded data removed]",
            "text/plain": [
              "<Figure size 288x360 with 1 Axes>"
            ]
          },
          "metadata": {
            "needs_background": "light"
          }
        }
      ]
    },
    {
      "cell_type": "markdown",
      "metadata": {
        "id": "9AJlaaSWMUNw"
      },
      "source": [
        "**Comments:** Larger variation in hr across healthy records and distribution appears more uniform **(why such high hr for some records?)**, whereas the distribution of hr for apneic records is normally distributed centred around 72 (median). Lower average hr in apneic records (72) to healthy records (120)"
      ]
    },
    {
      "cell_type": "code",
      "metadata": {
        "colab": {
          "base_uri": "https://localhost:8080/",
          "height": 334
        },
        "id": "e_i-FBhpJT6q",
        "outputId": "56a59d76-b4dc-4ec1-c1cf-e75c417ee03a"
      },
      "source": [
        "# Boxplot for SDNN\n",
        "all_records.boxplot(column='SDNN',by=all_records['class_A_or_H'],\\\n",
        "                         figsize=(4,5))\n",
        "plt.yscale('log')\n",
        "plt.xlabel('')\n",
        "plt.suptitle('')\n",
        "plt.show()"
      ],
      "execution_count": null,
      "outputs": [
        {
          "output_type": "display_data",
          "data": {
            "image/png": "[encoded data removed]",
            "text/plain": [
              "<Figure size 288x360 with 1 Axes>"
            ]
          },
          "metadata": {
            "needs_background": "light"
          }
        }
      ]
    },
    {
      "cell_type": "markdown",
      "metadata": {
        "id": "lgZCo99SNrfE"
      },
      "source": [
        "**Comments:** In apneic records, low SDNN (standard deviation of RR intervals) with IQR between 50 and 98. There is more variation in SDNN across healthy records with IQR between 68 and 5428 (both greater than apneic patients). This might be expected from the effects of sleep apnea on RR intervals"
      ]
    },
    {
      "cell_type": "code",
      "metadata": {
        "colab": {
          "base_uri": "https://localhost:8080/",
          "height": 334
        },
        "id": "xM7NdpYWJzoH",
        "outputId": "fc089345-4f89-4822-fe0d-67afb6d2f875"
      },
      "source": [
        "# Boxplot forpNN50\n",
        "all_records.boxplot(column='pNN50',by=all_records['class_A_or_H'],\\\n",
        "                         figsize=(4,5))\n",
        "plt.xlabel('')\n",
        "plt.suptitle('')\n",
        "plt.show()"
      ],
      "execution_count": null,
      "outputs": [
        {
          "output_type": "display_data",
          "data": {
            "image/png": "[encoded data removed]",
            "text/plain": [
              "<Figure size 288x360 with 1 Axes>"
            ]
          },
          "metadata": {
            "needs_background": "light"
          }
        }
      ]
    },
    {
      "cell_type": "markdown",
      "metadata": {
        "id": "mjHTHdw3O1Nc"
      },
      "source": [
        "**Comments**: pNN50: percentage of absolute differences in successive NN values > 50 ms. This value is higher in healthy records, lower in apneic records. Skewed dataset."
      ]
    },
    {
      "cell_type": "code",
      "metadata": {
        "colab": {
          "base_uri": "https://localhost:8080/",
          "height": 334
        },
        "id": "iM7POuLFJ923",
        "outputId": "c4ec4a21-eabe-4695-d550-a0357e4d3c4d"
      },
      "source": [
        "# Boxplot for RMSSD\n",
        "all_records.boxplot(column='RMSSD',by=all_records['class_A_or_H'],\\\n",
        "                         figsize=(4,5))\n",
        "plt.yscale('log')\n",
        "plt.xlabel('')\n",
        "plt.suptitle('')\n",
        "plt.show()"
      ],
      "execution_count": null,
      "outputs": [
        {
          "output_type": "display_data",
          "data": {
            "image/png": "[encoded data removed]",
            "text/plain": [
              "<Figure size 288x360 with 1 Axes>"
            ]
          },
          "metadata": {
            "needs_background": "light"
          }
        }
      ]
    },
    {
      "cell_type": "markdown",
      "metadata": {
        "id": "Grn-be2vPKDK"
      },
      "source": [
        "**Comments:** Similar conclusions to SDNN results"
      ]
    },
    {
      "cell_type": "code",
      "metadata": {
        "colab": {
          "base_uri": "https://localhost:8080/",
          "height": 334
        },
        "id": "21OuV2AIKAf7",
        "outputId": "7896768a-9d98-47af-9b9e-33df38896b43"
      },
      "source": [
        "# Boxplot for HRdiff\n",
        "all_records.boxplot(column='HRdiff',by=all_records['class_A_or_H'],\\\n",
        "                         figsize=(4,5))\n",
        "plt.yscale('log')\n",
        "plt.xlabel('')\n",
        "plt.suptitle('')\n",
        "plt.show()"
      ],
      "execution_count": null,
      "outputs": [
        {
          "output_type": "display_data",
          "data": {
            "image/png": "[encoded data removed]",
            "text/plain": [
              "<Figure size 288x360 with 1 Axes>"
            ]
          },
          "metadata": {
            "needs_background": "light"
          }
        }
      ]
    },
    {
      "cell_type": "markdown",
      "metadata": {
        "id": "snPuYAeZddkr"
      },
      "source": [
        "**Comments:** Larger difference in heart rates within healthy records. More skew in healthy records."
      ]
    },
    {
      "cell_type": "code",
      "metadata": {
        "colab": {
          "base_uri": "https://localhost:8080/",
          "height": 334
        },
        "id": "udbOEkyDKVD4",
        "outputId": "c7795927-2259-4c3e-e5aa-280e17997ffc"
      },
      "source": [
        "# Boxplot for VLF\n",
        "all_records.boxplot(column='VLF',by=all_records['class_A_or_H'],\\\n",
        "                         figsize=(4,5))\n",
        "plt.yscale('log')\n",
        "plt.xlabel('')\n",
        "plt.suptitle('')\n",
        "plt.show()"
      ],
      "execution_count": null,
      "outputs": [
        {
          "output_type": "display_data",
          "data": {
            "image/png": "[encoded data removed]",
            "text/plain": [
              "<Figure size 288x360 with 1 Axes>"
            ]
          },
          "metadata": {
            "needs_background": "light"
          }
        }
      ]
    },
    {
      "cell_type": "markdown",
      "metadata": {
        "id": "5pmXQc4zeSdo"
      },
      "source": [
        "**Comments:** Larger variation in VLF, also higher values in healthy records compared to apneic records."
      ]
    },
    {
      "cell_type": "code",
      "metadata": {
        "colab": {
          "base_uri": "https://localhost:8080/",
          "height": 334
        },
        "id": "dkMRb-eYKgo6",
        "outputId": "61b71e93-4f19-40e5-def5-27666c136dab"
      },
      "source": [
        "# Boxplot for LF\n",
        "all_records.boxplot(column='LF',by=all_records['class_A_or_H'],\\\n",
        "                         figsize=(4,5))\n",
        "plt.yscale('log')\n",
        "plt.xlabel('')\n",
        "plt.suptitle('')\n",
        "plt.show()"
      ],
      "execution_count": null,
      "outputs": [
        {
          "output_type": "display_data",
          "data": {
            "image/png": "[encoded data removed]",
            "text/plain": [
              "<Figure size 288x360 with 1 Axes>"
            ]
          },
          "metadata": {
            "needs_background": "light"
          }
        }
      ]
    },
    {
      "cell_type": "markdown",
      "metadata": {
        "id": "8ZiEOFuXfbyk"
      },
      "source": [
        "**Comments:** Similar comments to VLF."
      ]
    },
    {
      "cell_type": "code",
      "metadata": {
        "colab": {
          "base_uri": "https://localhost:8080/",
          "height": 334
        },
        "id": "ZU3fP2ofKoUv",
        "outputId": "a044aad8-9934-4785-9dbe-95ca5d0e9c6e"
      },
      "source": [
        "# Boxplot for HF\n",
        "all_records.boxplot(column='HF',by=all_records['class_A_or_H'],\\\n",
        "                         figsize=(4,5))\n",
        "\n",
        "plt.yscale('log')\n",
        "plt.xlabel('')\n",
        "plt.suptitle('')\n",
        "plt.show()"
      ],
      "execution_count": null,
      "outputs": [
        {
          "output_type": "display_data",
          "data": {
            "image/png": "[encoded data removed]",
            "text/plain": [
              "<Figure size 288x360 with 1 Axes>"
            ]
          },
          "metadata": {
            "needs_background": "light"
          }
        }
      ]
    },
    {
      "cell_type": "markdown",
      "metadata": {
        "id": "mK8rmIqSf5pP"
      },
      "source": [
        "**Comments:** Similar comments to VLF."
      ]
    },
    {
      "cell_type": "code",
      "metadata": {
        "colab": {
          "base_uri": "https://localhost:8080/",
          "height": 334
        },
        "id": "ndHhK-SBKuzw",
        "outputId": "f7cd474f-d4ad-4e59-8eae-35c1007be63f"
      },
      "source": [
        "# Boxplot for LHFratio\n",
        "all_records.boxplot(column='LHFratio',by=all_records['class_A_or_H'],\\\n",
        "                         figsize=(4,5))\n",
        "plt.xlabel('')\n",
        "plt.suptitle('')\n",
        "plt.show()"
      ],
      "execution_count": null,
      "outputs": [
        {
          "output_type": "display_data",
          "data": {
            "image/png": "[encoded data removed]",
            "text/plain": [
              "<Figure size 288x360 with 1 Axes>"
            ]
          },
          "metadata": {
            "needs_background": "light"
          }
        }
      ]
    },
    {
      "cell_type": "markdown",
      "metadata": {
        "id": "gXP5IIvxaFkp"
      },
      "source": [
        "**Comments:** Similar distributions for LHF ratio between the two types of records."
      ]
    },
    {
      "cell_type": "markdown",
      "metadata": {
        "id": "BbVzhy1yxbVd"
      },
      "source": [
        "Inferential statistics (e.g. t-test, Mann-Whitney U test) to find if there is any significant difference between the groups. "
      ]
    },
    {
      "cell_type": "code",
      "metadata": {
        "id": "_y_6vo3Kwyv4",
        "colab": {
          "base_uri": "https://localhost:8080/"
        },
        "outputId": "448d9f2e-743e-4669-832b-a4a32b2f0370"
      },
      "source": [
        "from scipy.stats import ttest_ind\n",
        "from scipy.stats import mannwhitneyu\n",
        "\n",
        "print('avnn:',ttest_ind(apnea_records['avnn'], healthy_records['avnn']))\n",
        "print('HR:',ttest_ind(apnea_records['hr'], healthy_records['hr']))\n",
        "print('SDNN:',ttest_ind(apnea_records['SDNN'], healthy_records['SDNN']))\n",
        "print('pNN50:',ttest_ind(apnea_records['pNN50'], healthy_records['pNN50']))\n",
        "print('RMSSD:',ttest_ind(apnea_records['RMSSD'], healthy_records['RMSSD']))\n",
        "print('HRdiff:',ttest_ind(apnea_records['HRdiff'], healthy_records['HRdiff']))\n",
        "print('VLF:',ttest_ind(apnea_records['VLF'], healthy_records['VLF']))\n",
        "print('LF:',ttest_ind(apnea_records['LF'], healthy_records['LF']))\n",
        "print('HF:',ttest_ind(apnea_records['HF'], healthy_records['HF']))\n",
        "print('LHFratio:',ttest_ind(apnea_records['LHFratio'], healthy_records['LHFratio']))\n",
        "print('\\n')\n",
        "print('avnn:',mannwhitneyu(apnea_records['avnn'], healthy_records['avnn']))\n",
        "print('HR:',mannwhitneyu(apnea_records['hr'], healthy_records['hr']))\n",
        "print('SDNN:',mannwhitneyu(apnea_records['SDNN'], healthy_records['SDNN']))\n",
        "print('pNN50:',mannwhitneyu(apnea_records['pNN50'], healthy_records['pNN50']))\n",
        "print('RMSSD:',mannwhitneyu(apnea_records['RMSSD'], healthy_records['RMSSD']))\n",
        "print('HRdiff:',mannwhitneyu(apnea_records['HRdiff'], healthy_records['HRdiff']))\n",
        "print('VLF:',mannwhitneyu(apnea_records['VLF'], healthy_records['VLF']))\n",
        "print('LF:',mannwhitneyu(apnea_records['LF'], healthy_records['LF']))\n",
        "print('HF:',mannwhitneyu(apnea_records['HF'], healthy_records['HF']))\n",
        "print('LHFratio:',mannwhitneyu(apnea_records['LHFratio'], healthy_records['LHFratio']))"
      ],
      "execution_count": null,
      "outputs": [
        {
          "output_type": "stream",
          "name": "stdout",
          "text": [
            "avnn: Ttest_indResult(statistic=0.42542580548004394, pvalue=0.6718696752228657)\n",
            "HR: Ttest_indResult(statistic=-5.47513919500193, pvalue=6.842376559073233e-07)\n",
            "SDNN: Ttest_indResult(statistic=-0.23387490691717674, pvalue=0.8157847772846643)\n",
            "pNN50: Ttest_indResult(statistic=-7.067570329304357, pvalue=1.071745949976072e-09)\n",
            "RMSSD: Ttest_indResult(statistic=-0.1650999008605311, pvalue=0.869355185822965)\n",
            "HRdiff: Ttest_indResult(statistic=-0.8396311151509893, pvalue=0.4040575561428428)\n",
            "VLF: Ttest_indResult(statistic=-0.6013778927930091, pvalue=0.5495879535283733)\n",
            "LF: Ttest_indResult(statistic=0.13742895995503954, pvalue=0.8910978574748042)\n",
            "HF: Ttest_indResult(statistic=-0.19220209542264635, pvalue=0.8481567363916497)\n",
            "LHFratio: Ttest_indResult(statistic=-1.6463478219501788, pvalue=0.10430664127244196)\n",
            "\n",
            "\n",
            "avnn: MannwhitneyuResult(statistic=463.0, pvalue=0.31756465092721947)\n",
            "HR: MannwhitneyuResult(statistic=213.0, pvalue=9.779118011899547e-05)\n",
            "SDNN: MannwhitneyuResult(statistic=116.0, pvalue=3.086770255091521e-07)\n",
            "pNN50: MannwhitneyuResult(statistic=99.0, pvalue=9.610547030567358e-08)\n",
            "RMSSD: MannwhitneyuResult(statistic=109.0, pvalue=1.9201160905002076e-07)\n",
            "HRdiff: MannwhitneyuResult(statistic=164.0, pvalue=6.449949778567193e-06)\n",
            "VLF: MannwhitneyuResult(statistic=145.0, pvalue=2.026050066359433e-06)\n",
            "LF: MannwhitneyuResult(statistic=126.0, pvalue=5.998039853500339e-07)\n",
            "HF: MannwhitneyuResult(statistic=98.0, pvalue=8.959813212905581e-08)\n",
            "LHFratio: MannwhitneyuResult(statistic=416.0, pvalue=0.1388401208267273)\n"
          ]
        }
      ]
    },
    {
      "cell_type": "markdown",
      "metadata": {
        "id": "07yBdQwEyNos"
      },
      "source": [
        "Doing a TTest on each of the categories, we seem to find that the categories: HR and pNN50 are statistically significant to determine between the two groups. Perhaps the validity of using a ttest for many of these variables should be considered as many of the distributions are skewed and not normally distributed. The Mann--Whitney U-Test result appears to be a more useful test for determining which quantities are significantly different between healthy and apneic records. We find that all features bar avnn and LHFratio are significantly different between the two groups."
      ]
    },
    {
      "cell_type": "code",
      "metadata": {
        "colab": {
          "base_uri": "https://localhost:8080/",
          "height": 753
        },
        "id": "p2AAwnIUmO03",
        "outputId": "691a0b5b-2231-4177-d4ab-51860427fab6"
      },
      "source": [
        "# Plot Poincare plot features where you plot the current NN interval against the\n",
        "# previous NN interval. Small (large) variability tends to be associated with (apnea)\n",
        "# healthy subjects\n",
        "\n",
        "from hrvanalysis import plot_poincare\n",
        "\n",
        "print('Healthy Poincare Plot')\n",
        "rec_name = healthy_records.sample(n=1).index[0]\n",
        "record = wfdb.rdrecord('tmp_dl_dir/'+rec_name, sampfrom=0,sampto=100000)\n",
        "nn_interval = get_record_interval(record)\n",
        "plot_poincare(nn_interval, plot_sd_features=True)"
      ],
      "execution_count": null,
      "outputs": [
        {
          "output_type": "stream",
          "name": "stdout",
          "text": [
            "101 ectopic beat(s) have been deleted with malik rule.\n"
          ]
        },
        {
          "output_type": "display_data",
          "data": {
            "image/png": "[encoded data removed]",
            "text/plain": [
              "<Figure size 864x864 with 1 Axes>"
            ]
          },
          "metadata": {}
        }
      ]
    },
    {
      "cell_type": "code",
      "metadata": {
        "colab": {
          "base_uri": "https://localhost:8080/",
          "height": 771
        },
        "id": "MPG7c8pTq4j_",
        "outputId": "7a22c489-f413-4a32-9427-254a4a442008"
      },
      "source": [
        "# Plot Poincare plot features where you plot the current NN interval against the\n",
        "# previous NN interval. Small (large) variability tends to be associated with (apnea)\n",
        "# healthy subjects\n",
        "\n",
        "from hrvanalysis import plot_poincare\n",
        "\n",
        "print('Apnea Poincare Plot')\n",
        "rec_name = apnea_records.sample(n=1).index[0]\n",
        "record = wfdb.rdrecord('tmp_dl_dir/'+rec_name, sampfrom=0,sampto=100000)\n",
        "nn_interval = get_record_interval(record)\n",
        "plot_poincare(nn_interval, plot_sd_features=True)"
      ],
      "execution_count": null,
      "outputs": [
        {
          "output_type": "stream",
          "name": "stdout",
          "text": [
            "Apnea Poincare Plot\n",
            "0 ectopic beat(s) have been deleted with malik rule.\n"
          ]
        },
        {
          "output_type": "display_data",
          "data": {
            "image/png": "[encoded data removed]",
            "text/plain": [
              "<Figure size 864x864 with 1 Axes>"
            ]
          },
          "metadata": {}
        }
      ]
    },
    {
      "cell_type": "markdown",
      "metadata": {
        "id": "it3Ti1BbrDSl"
      },
      "source": [
        "As expected, the variability in the Poincare plot for apneic records are smaller than those for healthy records."
      ]
    }
  ]
}
