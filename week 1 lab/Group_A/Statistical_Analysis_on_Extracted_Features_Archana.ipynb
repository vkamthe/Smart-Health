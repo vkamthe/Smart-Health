{
  "nbformat": 4,
  "nbformat_minor": 0,
  "metadata": {
    "colab": {
      "name": "Statistical_Analysis_on_Extracted_Features.ipynb",
      "provenance": [],
      "collapsed_sections": []
    },
    "kernelspec": {
      "name": "python3",
      "display_name": "Python 3"
    },
    "language_info": {
      "name": "python"
    }
  },
  "cells": [
    {
      "cell_type": "markdown",
      "metadata": {
        "id": "2SGk-q2zfq0e"
      },
      "source": [
        "**Analysis of data from the Extracted Features of the Apnea-ECG Database for all records**"
      ]
    },
    {
      "cell_type": "code",
      "metadata": {
        "id": "Y1n4sFm1bbb6"
      },
      "source": [
        "import pandas as pd\n",
        "import numpy as np\n",
        "import matplotlib.pyplot as plt\n",
        "import seaborn as sns\n"
      ],
      "execution_count": 3,
      "outputs": []
    },
    {
      "cell_type": "code",
      "metadata": {
        "colab": {
          "base_uri": "https://localhost:8080/",
          "height": 439
        },
        "id": "9zYYJsRubwIS",
        "outputId": "8eed2e98-2652-4077-c415-cfb930fbb30c"
      },
      "source": [
        "apnea_feature_data=pd.read_excel('/content/sample_data/MLSH-dataset-L1.xlsx')\n",
        "apnea_feature_data"
      ],
      "execution_count": 4,
      "outputs": [
        {
          "output_type": "execute_result",
          "data": {
            "text/html": [
              "<div>\n",
              "<style scoped>\n",
              "    .dataframe tbody tr th:only-of-type {\n",
              "        vertical-align: middle;\n",
              "    }\n",
              "\n",
              "    .dataframe tbody tr th {\n",
              "        vertical-align: top;\n",
              "    }\n",
              "\n",
              "    .dataframe thead th {\n",
              "        text-align: right;\n",
              "    }\n",
              "</style>\n",
              "<table border=\"1\" class=\"dataframe\">\n",
              "  <thead>\n",
              "    <tr style=\"text-align: right;\">\n",
              "      <th></th>\n",
              "      <th>Participant</th>\n",
              "      <th>Category</th>\n",
              "      <th>NN_RR</th>\n",
              "      <th>AVNN</th>\n",
              "      <th>IHR</th>\n",
              "      <th>SDNN</th>\n",
              "      <th>SDANN</th>\n",
              "      <th>SDNNIDX</th>\n",
              "      <th>rMSSD</th>\n",
              "      <th>pNN10</th>\n",
              "      <th>pNN20</th>\n",
              "      <th>pNN30</th>\n",
              "      <th>pNN40</th>\n",
              "      <th>pNN50</th>\n",
              "      <th>tot_pwr</th>\n",
              "      <th>ULF</th>\n",
              "      <th>VLF</th>\n",
              "      <th>LF</th>\n",
              "      <th>HF</th>\n",
              "      <th>LF_HF</th>\n",
              "      <th>LF_n</th>\n",
              "      <th>HF_n</th>\n",
              "    </tr>\n",
              "  </thead>\n",
              "  <tbody>\n",
              "    <tr>\n",
              "      <th>0</th>\n",
              "      <td>0</td>\n",
              "      <td>A</td>\n",
              "      <td>0.999970</td>\n",
              "      <td>836.336</td>\n",
              "      <td>71.741501</td>\n",
              "      <td>74.9342</td>\n",
              "      <td>45.5641</td>\n",
              "      <td>55.4628</td>\n",
              "      <td>25.1387</td>\n",
              "      <td>61.3931</td>\n",
              "      <td>29.6775</td>\n",
              "      <td>16.41700</td>\n",
              "      <td>6.173430</td>\n",
              "      <td>3.441220</td>\n",
              "      <td>5852.65</td>\n",
              "      <td>2675.950</td>\n",
              "      <td>2082.660</td>\n",
              "      <td>847.965</td>\n",
              "      <td>246.0770</td>\n",
              "      <td>3.44593</td>\n",
              "      <td>0.775075</td>\n",
              "      <td>0.224925</td>\n",
              "    </tr>\n",
              "    <tr>\n",
              "      <th>1</th>\n",
              "      <td>1</td>\n",
              "      <td>A</td>\n",
              "      <td>0.999680</td>\n",
              "      <td>980.794</td>\n",
              "      <td>61.174926</td>\n",
              "      <td>86.4631</td>\n",
              "      <td>57.3369</td>\n",
              "      <td>55.6853</td>\n",
              "      <td>26.9386</td>\n",
              "      <td>60.9649</td>\n",
              "      <td>26.4666</td>\n",
              "      <td>14.11510</td>\n",
              "      <td>6.126000</td>\n",
              "      <td>3.871860</td>\n",
              "      <td>8793.63</td>\n",
              "      <td>4467.600</td>\n",
              "      <td>3145.010</td>\n",
              "      <td>985.214</td>\n",
              "      <td>195.7980</td>\n",
              "      <td>5.03179</td>\n",
              "      <td>0.834212</td>\n",
              "      <td>0.165788</td>\n",
              "    </tr>\n",
              "    <tr>\n",
              "      <th>2</th>\n",
              "      <td>2</td>\n",
              "      <td>A</td>\n",
              "      <td>0.993108</td>\n",
              "      <td>1000.260</td>\n",
              "      <td>59.984404</td>\n",
              "      <td>59.7562</td>\n",
              "      <td>32.5391</td>\n",
              "      <td>47.8997</td>\n",
              "      <td>31.0587</td>\n",
              "      <td>59.4547</td>\n",
              "      <td>29.5596</td>\n",
              "      <td>19.18200</td>\n",
              "      <td>10.532700</td>\n",
              "      <td>7.390940</td>\n",
              "      <td>3723.20</td>\n",
              "      <td>1336.050</td>\n",
              "      <td>1322.780</td>\n",
              "      <td>802.306</td>\n",
              "      <td>262.0580</td>\n",
              "      <td>3.06156</td>\n",
              "      <td>0.753789</td>\n",
              "      <td>0.246211</td>\n",
              "    </tr>\n",
              "    <tr>\n",
              "      <th>3</th>\n",
              "      <td>3</td>\n",
              "      <td>A</td>\n",
              "      <td>0.959997</td>\n",
              "      <td>787.438</td>\n",
              "      <td>76.196475</td>\n",
              "      <td>59.2220</td>\n",
              "      <td>27.0160</td>\n",
              "      <td>39.2539</td>\n",
              "      <td>43.5362</td>\n",
              "      <td>29.7286</td>\n",
              "      <td>13.7209</td>\n",
              "      <td>12.54190</td>\n",
              "      <td>11.468000</td>\n",
              "      <td>10.682000</td>\n",
              "      <td>2813.47</td>\n",
              "      <td>761.872</td>\n",
              "      <td>1339.350</td>\n",
              "      <td>361.275</td>\n",
              "      <td>350.9710</td>\n",
              "      <td>1.02936</td>\n",
              "      <td>0.507233</td>\n",
              "      <td>0.492767</td>\n",
              "    </tr>\n",
              "    <tr>\n",
              "      <th>4</th>\n",
              "      <td>4</td>\n",
              "      <td>B</td>\n",
              "      <td>0.999689</td>\n",
              "      <td>973.366</td>\n",
              "      <td>61.641767</td>\n",
              "      <td>117.9690</td>\n",
              "      <td>67.9543</td>\n",
              "      <td>89.0453</td>\n",
              "      <td>73.9128</td>\n",
              "      <td>86.7052</td>\n",
              "      <td>72.8064</td>\n",
              "      <td>63.79220</td>\n",
              "      <td>51.802800</td>\n",
              "      <td>44.245100</td>\n",
              "      <td>14734.80</td>\n",
              "      <td>6590.450</td>\n",
              "      <td>4729.390</td>\n",
              "      <td>2354.480</td>\n",
              "      <td>1060.5200</td>\n",
              "      <td>2.22012</td>\n",
              "      <td>0.689452</td>\n",
              "      <td>0.310548</td>\n",
              "    </tr>\n",
              "    <tr>\n",
              "      <th>...</th>\n",
              "      <td>...</td>\n",
              "      <td>...</td>\n",
              "      <td>...</td>\n",
              "      <td>...</td>\n",
              "      <td>...</td>\n",
              "      <td>...</td>\n",
              "      <td>...</td>\n",
              "      <td>...</td>\n",
              "      <td>...</td>\n",
              "      <td>...</td>\n",
              "      <td>...</td>\n",
              "      <td>...</td>\n",
              "      <td>...</td>\n",
              "      <td>...</td>\n",
              "      <td>...</td>\n",
              "      <td>...</td>\n",
              "      <td>...</td>\n",
              "      <td>...</td>\n",
              "      <td>...</td>\n",
              "      <td>...</td>\n",
              "      <td>...</td>\n",
              "      <td>...</td>\n",
              "    </tr>\n",
              "    <tr>\n",
              "      <th>488</th>\n",
              "      <td>488</td>\n",
              "      <td>A</td>\n",
              "      <td>0.999909</td>\n",
              "      <td>896.956</td>\n",
              "      <td>66.892913</td>\n",
              "      <td>49.6962</td>\n",
              "      <td>33.7220</td>\n",
              "      <td>35.5952</td>\n",
              "      <td>14.1085</td>\n",
              "      <td>44.0056</td>\n",
              "      <td>10.0732</td>\n",
              "      <td>3.19682</td>\n",
              "      <td>0.667901</td>\n",
              "      <td>0.336987</td>\n",
              "      <td>2842.36</td>\n",
              "      <td>1224.280</td>\n",
              "      <td>1182.250</td>\n",
              "      <td>367.972</td>\n",
              "      <td>67.8646</td>\n",
              "      <td>5.42215</td>\n",
              "      <td>0.844289</td>\n",
              "      <td>0.155711</td>\n",
              "    </tr>\n",
              "    <tr>\n",
              "      <th>489</th>\n",
              "      <td>489</td>\n",
              "      <td>A</td>\n",
              "      <td>0.999613</td>\n",
              "      <td>960.321</td>\n",
              "      <td>62.479109</td>\n",
              "      <td>47.8440</td>\n",
              "      <td>30.9820</td>\n",
              "      <td>33.3016</td>\n",
              "      <td>22.3293</td>\n",
              "      <td>62.0253</td>\n",
              "      <td>26.5478</td>\n",
              "      <td>12.24490</td>\n",
              "      <td>3.539140</td>\n",
              "      <td>1.623180</td>\n",
              "      <td>2492.80</td>\n",
              "      <td>1101.070</td>\n",
              "      <td>920.625</td>\n",
              "      <td>313.928</td>\n",
              "      <td>157.1760</td>\n",
              "      <td>1.99730</td>\n",
              "      <td>0.666367</td>\n",
              "      <td>0.333633</td>\n",
              "    </tr>\n",
              "    <tr>\n",
              "      <th>490</th>\n",
              "      <td>490</td>\n",
              "      <td>B</td>\n",
              "      <td>0.999880</td>\n",
              "      <td>963.138</td>\n",
              "      <td>62.296369</td>\n",
              "      <td>64.8168</td>\n",
              "      <td>52.4380</td>\n",
              "      <td>39.0670</td>\n",
              "      <td>19.2998</td>\n",
              "      <td>56.3310</td>\n",
              "      <td>22.5962</td>\n",
              "      <td>11.47760</td>\n",
              "      <td>4.000000</td>\n",
              "      <td>1.730810</td>\n",
              "      <td>4990.76</td>\n",
              "      <td>2560.220</td>\n",
              "      <td>1680.300</td>\n",
              "      <td>577.137</td>\n",
              "      <td>173.1090</td>\n",
              "      <td>3.33395</td>\n",
              "      <td>0.769264</td>\n",
              "      <td>0.230736</td>\n",
              "    </tr>\n",
              "    <tr>\n",
              "      <th>491</th>\n",
              "      <td>491</td>\n",
              "      <td>A</td>\n",
              "      <td>0.977802</td>\n",
              "      <td>986.468</td>\n",
              "      <td>60.823058</td>\n",
              "      <td>45.1182</td>\n",
              "      <td>35.0136</td>\n",
              "      <td>29.3724</td>\n",
              "      <td>20.6881</td>\n",
              "      <td>62.0366</td>\n",
              "      <td>26.5893</td>\n",
              "      <td>13.09090</td>\n",
              "      <td>4.074400</td>\n",
              "      <td>1.903460</td>\n",
              "      <td>2256.99</td>\n",
              "      <td>1260.840</td>\n",
              "      <td>587.957</td>\n",
              "      <td>232.695</td>\n",
              "      <td>175.4900</td>\n",
              "      <td>1.32597</td>\n",
              "      <td>0.570072</td>\n",
              "      <td>0.429928</td>\n",
              "    </tr>\n",
              "    <tr>\n",
              "      <th>492</th>\n",
              "      <td>492</td>\n",
              "      <td>B</td>\n",
              "      <td>0.999761</td>\n",
              "      <td>997.284</td>\n",
              "      <td>60.163404</td>\n",
              "      <td>87.8255</td>\n",
              "      <td>65.7772</td>\n",
              "      <td>54.6419</td>\n",
              "      <td>31.8008</td>\n",
              "      <td>68.4117</td>\n",
              "      <td>37.3435</td>\n",
              "      <td>22.96590</td>\n",
              "      <td>10.223800</td>\n",
              "      <td>5.796210</td>\n",
              "      <td>8871.06</td>\n",
              "      <td>4803.340</td>\n",
              "      <td>2571.060</td>\n",
              "      <td>1085.680</td>\n",
              "      <td>410.9890</td>\n",
              "      <td>2.64163</td>\n",
              "      <td>0.725398</td>\n",
              "      <td>0.274602</td>\n",
              "    </tr>\n",
              "  </tbody>\n",
              "</table>\n",
              "<p>493 rows × 22 columns</p>\n",
              "</div>"
            ],
            "text/plain": [
              "     Participant Category     NN_RR  ...    LF_HF      LF_n      HF_n\n",
              "0              0        A  0.999970  ...  3.44593  0.775075  0.224925\n",
              "1              1        A  0.999680  ...  5.03179  0.834212  0.165788\n",
              "2              2        A  0.993108  ...  3.06156  0.753789  0.246211\n",
              "3              3        A  0.959997  ...  1.02936  0.507233  0.492767\n",
              "4              4        B  0.999689  ...  2.22012  0.689452  0.310548\n",
              "..           ...      ...       ...  ...      ...       ...       ...\n",
              "488          488        A  0.999909  ...  5.42215  0.844289  0.155711\n",
              "489          489        A  0.999613  ...  1.99730  0.666367  0.333633\n",
              "490          490        B  0.999880  ...  3.33395  0.769264  0.230736\n",
              "491          491        A  0.977802  ...  1.32597  0.570072  0.429928\n",
              "492          492        B  0.999761  ...  2.64163  0.725398  0.274602\n",
              "\n",
              "[493 rows x 22 columns]"
            ]
          },
          "metadata": {},
          "execution_count": 4
        }
      ]
    },
    {
      "cell_type": "markdown",
      "metadata": {
        "id": "G9GFS8E5f1fx"
      },
      "source": [
        "**Descriptive Analysis**"
      ]
    },
    {
      "cell_type": "code",
      "metadata": {
        "colab": {
          "base_uri": "https://localhost:8080/",
          "height": 317
        },
        "id": "dGR8ZW1ffUbU",
        "outputId": "855fa510-e553-4daf-a986-6083c995ba22"
      },
      "source": [
        "apnea_feature_data.describe()"
      ],
      "execution_count": 5,
      "outputs": [
        {
          "output_type": "execute_result",
          "data": {
            "text/html": [
              "<div>\n",
              "<style scoped>\n",
              "    .dataframe tbody tr th:only-of-type {\n",
              "        vertical-align: middle;\n",
              "    }\n",
              "\n",
              "    .dataframe tbody tr th {\n",
              "        vertical-align: top;\n",
              "    }\n",
              "\n",
              "    .dataframe thead th {\n",
              "        text-align: right;\n",
              "    }\n",
              "</style>\n",
              "<table border=\"1\" class=\"dataframe\">\n",
              "  <thead>\n",
              "    <tr style=\"text-align: right;\">\n",
              "      <th></th>\n",
              "      <th>Participant</th>\n",
              "      <th>NN_RR</th>\n",
              "      <th>AVNN</th>\n",
              "      <th>IHR</th>\n",
              "      <th>SDNN</th>\n",
              "      <th>SDANN</th>\n",
              "      <th>SDNNIDX</th>\n",
              "      <th>rMSSD</th>\n",
              "      <th>pNN10</th>\n",
              "      <th>pNN20</th>\n",
              "      <th>pNN30</th>\n",
              "      <th>pNN40</th>\n",
              "      <th>pNN50</th>\n",
              "      <th>tot_pwr</th>\n",
              "      <th>ULF</th>\n",
              "      <th>VLF</th>\n",
              "      <th>LF</th>\n",
              "      <th>HF</th>\n",
              "      <th>LF_HF</th>\n",
              "      <th>LF_n</th>\n",
              "      <th>HF_n</th>\n",
              "    </tr>\n",
              "  </thead>\n",
              "  <tbody>\n",
              "    <tr>\n",
              "      <th>count</th>\n",
              "      <td>493.000000</td>\n",
              "      <td>493.000000</td>\n",
              "      <td>493.000000</td>\n",
              "      <td>493.000000</td>\n",
              "      <td>493.000000</td>\n",
              "      <td>493.000000</td>\n",
              "      <td>493.000000</td>\n",
              "      <td>493.000000</td>\n",
              "      <td>493.000000</td>\n",
              "      <td>493.000000</td>\n",
              "      <td>493.000000</td>\n",
              "      <td>493.000000</td>\n",
              "      <td>493.000000</td>\n",
              "      <td>493.000000</td>\n",
              "      <td>493.000000</td>\n",
              "      <td>493.000000</td>\n",
              "      <td>493.000000</td>\n",
              "      <td>493.000000</td>\n",
              "      <td>493.000000</td>\n",
              "      <td>493.000000</td>\n",
              "      <td>493.000000</td>\n",
              "    </tr>\n",
              "    <tr>\n",
              "      <th>mean</th>\n",
              "      <td>246.000000</td>\n",
              "      <td>0.981825</td>\n",
              "      <td>968.160154</td>\n",
              "      <td>63.159077</td>\n",
              "      <td>78.424024</td>\n",
              "      <td>54.558257</td>\n",
              "      <td>52.119256</td>\n",
              "      <td>37.225187</td>\n",
              "      <td>62.116038</td>\n",
              "      <td>34.741182</td>\n",
              "      <td>24.231103</td>\n",
              "      <td>14.806811</td>\n",
              "      <td>10.998587</td>\n",
              "      <td>7604.396846</td>\n",
              "      <td>3788.795093</td>\n",
              "      <td>2077.903732</td>\n",
              "      <td>1098.025386</td>\n",
              "      <td>639.678918</td>\n",
              "      <td>2.438171</td>\n",
              "      <td>0.647561</td>\n",
              "      <td>0.352439</td>\n",
              "    </tr>\n",
              "    <tr>\n",
              "      <th>std</th>\n",
              "      <td>142.461106</td>\n",
              "      <td>0.052348</td>\n",
              "      <td>133.007471</td>\n",
              "      <td>8.840921</td>\n",
              "      <td>26.130325</td>\n",
              "      <td>22.330160</td>\n",
              "      <td>21.442332</td>\n",
              "      <td>22.873266</td>\n",
              "      <td>16.583218</td>\n",
              "      <td>19.355675</td>\n",
              "      <td>17.646819</td>\n",
              "      <td>14.395127</td>\n",
              "      <td>12.462205</td>\n",
              "      <td>5812.225631</td>\n",
              "      <td>3097.535438</td>\n",
              "      <td>1860.045593</td>\n",
              "      <td>1449.400257</td>\n",
              "      <td>997.077270</td>\n",
              "      <td>1.674405</td>\n",
              "      <td>0.146650</td>\n",
              "      <td>0.146650</td>\n",
              "    </tr>\n",
              "    <tr>\n",
              "      <th>min</th>\n",
              "      <td>0.000000</td>\n",
              "      <td>0.505680</td>\n",
              "      <td>603.824000</td>\n",
              "      <td>42.931660</td>\n",
              "      <td>16.380600</td>\n",
              "      <td>14.341600</td>\n",
              "      <td>6.164800</td>\n",
              "      <td>5.234500</td>\n",
              "      <td>1.763530</td>\n",
              "      <td>1.063760</td>\n",
              "      <td>0.346649</td>\n",
              "      <td>0.097961</td>\n",
              "      <td>0.062339</td>\n",
              "      <td>283.458000</td>\n",
              "      <td>229.128000</td>\n",
              "      <td>43.255000</td>\n",
              "      <td>7.756420</td>\n",
              "      <td>3.318810</td>\n",
              "      <td>0.199845</td>\n",
              "      <td>0.166559</td>\n",
              "      <td>0.085771</td>\n",
              "    </tr>\n",
              "    <tr>\n",
              "      <th>25%</th>\n",
              "      <td>123.000000</td>\n",
              "      <td>0.992511</td>\n",
              "      <td>883.495000</td>\n",
              "      <td>56.828945</td>\n",
              "      <td>60.216500</td>\n",
              "      <td>40.613500</td>\n",
              "      <td>36.929600</td>\n",
              "      <td>23.234800</td>\n",
              "      <td>50.975200</td>\n",
              "      <td>18.801200</td>\n",
              "      <td>9.540980</td>\n",
              "      <td>3.615990</td>\n",
              "      <td>1.906120</td>\n",
              "      <td>3916.660000</td>\n",
              "      <td>1853.600000</td>\n",
              "      <td>943.774000</td>\n",
              "      <td>398.854000</td>\n",
              "      <td>177.395000</td>\n",
              "      <td>1.187020</td>\n",
              "      <td>0.542756</td>\n",
              "      <td>0.231103</td>\n",
              "    </tr>\n",
              "    <tr>\n",
              "      <th>50%</th>\n",
              "      <td>246.000000</td>\n",
              "      <td>0.998159</td>\n",
              "      <td>957.889000</td>\n",
              "      <td>62.637738</td>\n",
              "      <td>74.772200</td>\n",
              "      <td>50.316300</td>\n",
              "      <td>48.272600</td>\n",
              "      <td>31.836300</td>\n",
              "      <td>65.059300</td>\n",
              "      <td>33.865700</td>\n",
              "      <td>21.129800</td>\n",
              "      <td>10.237200</td>\n",
              "      <td>6.424260</td>\n",
              "      <td>6182.740000</td>\n",
              "      <td>2908.120000</td>\n",
              "      <td>1582.190000</td>\n",
              "      <td>718.052000</td>\n",
              "      <td>372.857000</td>\n",
              "      <td>2.042320</td>\n",
              "      <td>0.671303</td>\n",
              "      <td>0.328697</td>\n",
              "    </tr>\n",
              "    <tr>\n",
              "      <th>75%</th>\n",
              "      <td>369.000000</td>\n",
              "      <td>0.999495</td>\n",
              "      <td>1055.800000</td>\n",
              "      <td>67.912099</td>\n",
              "      <td>90.530900</td>\n",
              "      <td>64.152700</td>\n",
              "      <td>62.171600</td>\n",
              "      <td>43.648000</td>\n",
              "      <td>75.042200</td>\n",
              "      <td>48.908100</td>\n",
              "      <td>35.519700</td>\n",
              "      <td>21.340600</td>\n",
              "      <td>15.917300</td>\n",
              "      <td>9278.530000</td>\n",
              "      <td>4590.610000</td>\n",
              "      <td>2575.980000</td>\n",
              "      <td>1296.960000</td>\n",
              "      <td>659.454000</td>\n",
              "      <td>3.327080</td>\n",
              "      <td>0.768897</td>\n",
              "      <td>0.457244</td>\n",
              "    </tr>\n",
              "    <tr>\n",
              "      <th>max</th>\n",
              "      <td>492.000000</td>\n",
              "      <td>0.999971</td>\n",
              "      <td>1397.570000</td>\n",
              "      <td>99.366703</td>\n",
              "      <td>213.697000</td>\n",
              "      <td>256.855000</td>\n",
              "      <td>187.348000</td>\n",
              "      <td>204.545000</td>\n",
              "      <td>92.095300</td>\n",
              "      <td>82.915300</td>\n",
              "      <td>77.974800</td>\n",
              "      <td>72.164500</td>\n",
              "      <td>68.938400</td>\n",
              "      <td>48863.700000</td>\n",
              "      <td>31032.300000</td>\n",
              "      <td>16863.600000</td>\n",
              "      <td>22251.300000</td>\n",
              "      <td>9287.110000</td>\n",
              "      <td>10.659000</td>\n",
              "      <td>0.914229</td>\n",
              "      <td>0.833441</td>\n",
              "    </tr>\n",
              "  </tbody>\n",
              "</table>\n",
              "</div>"
            ],
            "text/plain": [
              "       Participant       NN_RR         AVNN  ...       LF_HF        LF_n        HF_n\n",
              "count   493.000000  493.000000   493.000000  ...  493.000000  493.000000  493.000000\n",
              "mean    246.000000    0.981825   968.160154  ...    2.438171    0.647561    0.352439\n",
              "std     142.461106    0.052348   133.007471  ...    1.674405    0.146650    0.146650\n",
              "min       0.000000    0.505680   603.824000  ...    0.199845    0.166559    0.085771\n",
              "25%     123.000000    0.992511   883.495000  ...    1.187020    0.542756    0.231103\n",
              "50%     246.000000    0.998159   957.889000  ...    2.042320    0.671303    0.328697\n",
              "75%     369.000000    0.999495  1055.800000  ...    3.327080    0.768897    0.457244\n",
              "max     492.000000    0.999971  1397.570000  ...   10.659000    0.914229    0.833441\n",
              "\n",
              "[8 rows x 21 columns]"
            ]
          },
          "metadata": {},
          "execution_count": 5
        }
      ]
    },
    {
      "cell_type": "code",
      "metadata": {
        "id": "aVQDr3L2f6O1"
      },
      "source": [
        "apnea_feature_data['Patient_status']=\" \""
      ],
      "execution_count": 6,
      "outputs": []
    },
    {
      "cell_type": "code",
      "metadata": {
        "id": "KhXc6yc6glAn"
      },
      "source": [
        "#Patient_status column is updated with values\n",
        "apnea_feature_data.loc[apnea_feature_data['Category'] =='B', 'Patient_status'] = 'Healthy'\n",
        "apnea_feature_data.loc[apnea_feature_data['Category'] =='A', 'Patient_status'] = 'Patient'"
      ],
      "execution_count": 7,
      "outputs": []
    },
    {
      "cell_type": "code",
      "metadata": {
        "colab": {
          "base_uri": "https://localhost:8080/",
          "height": 439
        },
        "id": "j64___Utg2He",
        "outputId": "83cecf1d-39a7-421d-d645-43ebc9502718"
      },
      "source": [
        "apnea_feature_data"
      ],
      "execution_count": 8,
      "outputs": [
        {
          "output_type": "execute_result",
          "data": {
            "text/html": [
              "<div>\n",
              "<style scoped>\n",
              "    .dataframe tbody tr th:only-of-type {\n",
              "        vertical-align: middle;\n",
              "    }\n",
              "\n",
              "    .dataframe tbody tr th {\n",
              "        vertical-align: top;\n",
              "    }\n",
              "\n",
              "    .dataframe thead th {\n",
              "        text-align: right;\n",
              "    }\n",
              "</style>\n",
              "<table border=\"1\" class=\"dataframe\">\n",
              "  <thead>\n",
              "    <tr style=\"text-align: right;\">\n",
              "      <th></th>\n",
              "      <th>Participant</th>\n",
              "      <th>Category</th>\n",
              "      <th>NN_RR</th>\n",
              "      <th>AVNN</th>\n",
              "      <th>IHR</th>\n",
              "      <th>SDNN</th>\n",
              "      <th>SDANN</th>\n",
              "      <th>SDNNIDX</th>\n",
              "      <th>rMSSD</th>\n",
              "      <th>pNN10</th>\n",
              "      <th>pNN20</th>\n",
              "      <th>pNN30</th>\n",
              "      <th>pNN40</th>\n",
              "      <th>pNN50</th>\n",
              "      <th>tot_pwr</th>\n",
              "      <th>ULF</th>\n",
              "      <th>VLF</th>\n",
              "      <th>LF</th>\n",
              "      <th>HF</th>\n",
              "      <th>LF_HF</th>\n",
              "      <th>LF_n</th>\n",
              "      <th>HF_n</th>\n",
              "      <th>Patient_status</th>\n",
              "    </tr>\n",
              "  </thead>\n",
              "  <tbody>\n",
              "    <tr>\n",
              "      <th>0</th>\n",
              "      <td>0</td>\n",
              "      <td>A</td>\n",
              "      <td>0.999970</td>\n",
              "      <td>836.336</td>\n",
              "      <td>71.741501</td>\n",
              "      <td>74.9342</td>\n",
              "      <td>45.5641</td>\n",
              "      <td>55.4628</td>\n",
              "      <td>25.1387</td>\n",
              "      <td>61.3931</td>\n",
              "      <td>29.6775</td>\n",
              "      <td>16.41700</td>\n",
              "      <td>6.173430</td>\n",
              "      <td>3.441220</td>\n",
              "      <td>5852.65</td>\n",
              "      <td>2675.950</td>\n",
              "      <td>2082.660</td>\n",
              "      <td>847.965</td>\n",
              "      <td>246.0770</td>\n",
              "      <td>3.44593</td>\n",
              "      <td>0.775075</td>\n",
              "      <td>0.224925</td>\n",
              "      <td>Patient</td>\n",
              "    </tr>\n",
              "    <tr>\n",
              "      <th>1</th>\n",
              "      <td>1</td>\n",
              "      <td>A</td>\n",
              "      <td>0.999680</td>\n",
              "      <td>980.794</td>\n",
              "      <td>61.174926</td>\n",
              "      <td>86.4631</td>\n",
              "      <td>57.3369</td>\n",
              "      <td>55.6853</td>\n",
              "      <td>26.9386</td>\n",
              "      <td>60.9649</td>\n",
              "      <td>26.4666</td>\n",
              "      <td>14.11510</td>\n",
              "      <td>6.126000</td>\n",
              "      <td>3.871860</td>\n",
              "      <td>8793.63</td>\n",
              "      <td>4467.600</td>\n",
              "      <td>3145.010</td>\n",
              "      <td>985.214</td>\n",
              "      <td>195.7980</td>\n",
              "      <td>5.03179</td>\n",
              "      <td>0.834212</td>\n",
              "      <td>0.165788</td>\n",
              "      <td>Patient</td>\n",
              "    </tr>\n",
              "    <tr>\n",
              "      <th>2</th>\n",
              "      <td>2</td>\n",
              "      <td>A</td>\n",
              "      <td>0.993108</td>\n",
              "      <td>1000.260</td>\n",
              "      <td>59.984404</td>\n",
              "      <td>59.7562</td>\n",
              "      <td>32.5391</td>\n",
              "      <td>47.8997</td>\n",
              "      <td>31.0587</td>\n",
              "      <td>59.4547</td>\n",
              "      <td>29.5596</td>\n",
              "      <td>19.18200</td>\n",
              "      <td>10.532700</td>\n",
              "      <td>7.390940</td>\n",
              "      <td>3723.20</td>\n",
              "      <td>1336.050</td>\n",
              "      <td>1322.780</td>\n",
              "      <td>802.306</td>\n",
              "      <td>262.0580</td>\n",
              "      <td>3.06156</td>\n",
              "      <td>0.753789</td>\n",
              "      <td>0.246211</td>\n",
              "      <td>Patient</td>\n",
              "    </tr>\n",
              "    <tr>\n",
              "      <th>3</th>\n",
              "      <td>3</td>\n",
              "      <td>A</td>\n",
              "      <td>0.959997</td>\n",
              "      <td>787.438</td>\n",
              "      <td>76.196475</td>\n",
              "      <td>59.2220</td>\n",
              "      <td>27.0160</td>\n",
              "      <td>39.2539</td>\n",
              "      <td>43.5362</td>\n",
              "      <td>29.7286</td>\n",
              "      <td>13.7209</td>\n",
              "      <td>12.54190</td>\n",
              "      <td>11.468000</td>\n",
              "      <td>10.682000</td>\n",
              "      <td>2813.47</td>\n",
              "      <td>761.872</td>\n",
              "      <td>1339.350</td>\n",
              "      <td>361.275</td>\n",
              "      <td>350.9710</td>\n",
              "      <td>1.02936</td>\n",
              "      <td>0.507233</td>\n",
              "      <td>0.492767</td>\n",
              "      <td>Patient</td>\n",
              "    </tr>\n",
              "    <tr>\n",
              "      <th>4</th>\n",
              "      <td>4</td>\n",
              "      <td>B</td>\n",
              "      <td>0.999689</td>\n",
              "      <td>973.366</td>\n",
              "      <td>61.641767</td>\n",
              "      <td>117.9690</td>\n",
              "      <td>67.9543</td>\n",
              "      <td>89.0453</td>\n",
              "      <td>73.9128</td>\n",
              "      <td>86.7052</td>\n",
              "      <td>72.8064</td>\n",
              "      <td>63.79220</td>\n",
              "      <td>51.802800</td>\n",
              "      <td>44.245100</td>\n",
              "      <td>14734.80</td>\n",
              "      <td>6590.450</td>\n",
              "      <td>4729.390</td>\n",
              "      <td>2354.480</td>\n",
              "      <td>1060.5200</td>\n",
              "      <td>2.22012</td>\n",
              "      <td>0.689452</td>\n",
              "      <td>0.310548</td>\n",
              "      <td>Healthy</td>\n",
              "    </tr>\n",
              "    <tr>\n",
              "      <th>...</th>\n",
              "      <td>...</td>\n",
              "      <td>...</td>\n",
              "      <td>...</td>\n",
              "      <td>...</td>\n",
              "      <td>...</td>\n",
              "      <td>...</td>\n",
              "      <td>...</td>\n",
              "      <td>...</td>\n",
              "      <td>...</td>\n",
              "      <td>...</td>\n",
              "      <td>...</td>\n",
              "      <td>...</td>\n",
              "      <td>...</td>\n",
              "      <td>...</td>\n",
              "      <td>...</td>\n",
              "      <td>...</td>\n",
              "      <td>...</td>\n",
              "      <td>...</td>\n",
              "      <td>...</td>\n",
              "      <td>...</td>\n",
              "      <td>...</td>\n",
              "      <td>...</td>\n",
              "      <td>...</td>\n",
              "    </tr>\n",
              "    <tr>\n",
              "      <th>488</th>\n",
              "      <td>488</td>\n",
              "      <td>A</td>\n",
              "      <td>0.999909</td>\n",
              "      <td>896.956</td>\n",
              "      <td>66.892913</td>\n",
              "      <td>49.6962</td>\n",
              "      <td>33.7220</td>\n",
              "      <td>35.5952</td>\n",
              "      <td>14.1085</td>\n",
              "      <td>44.0056</td>\n",
              "      <td>10.0732</td>\n",
              "      <td>3.19682</td>\n",
              "      <td>0.667901</td>\n",
              "      <td>0.336987</td>\n",
              "      <td>2842.36</td>\n",
              "      <td>1224.280</td>\n",
              "      <td>1182.250</td>\n",
              "      <td>367.972</td>\n",
              "      <td>67.8646</td>\n",
              "      <td>5.42215</td>\n",
              "      <td>0.844289</td>\n",
              "      <td>0.155711</td>\n",
              "      <td>Patient</td>\n",
              "    </tr>\n",
              "    <tr>\n",
              "      <th>489</th>\n",
              "      <td>489</td>\n",
              "      <td>A</td>\n",
              "      <td>0.999613</td>\n",
              "      <td>960.321</td>\n",
              "      <td>62.479109</td>\n",
              "      <td>47.8440</td>\n",
              "      <td>30.9820</td>\n",
              "      <td>33.3016</td>\n",
              "      <td>22.3293</td>\n",
              "      <td>62.0253</td>\n",
              "      <td>26.5478</td>\n",
              "      <td>12.24490</td>\n",
              "      <td>3.539140</td>\n",
              "      <td>1.623180</td>\n",
              "      <td>2492.80</td>\n",
              "      <td>1101.070</td>\n",
              "      <td>920.625</td>\n",
              "      <td>313.928</td>\n",
              "      <td>157.1760</td>\n",
              "      <td>1.99730</td>\n",
              "      <td>0.666367</td>\n",
              "      <td>0.333633</td>\n",
              "      <td>Patient</td>\n",
              "    </tr>\n",
              "    <tr>\n",
              "      <th>490</th>\n",
              "      <td>490</td>\n",
              "      <td>B</td>\n",
              "      <td>0.999880</td>\n",
              "      <td>963.138</td>\n",
              "      <td>62.296369</td>\n",
              "      <td>64.8168</td>\n",
              "      <td>52.4380</td>\n",
              "      <td>39.0670</td>\n",
              "      <td>19.2998</td>\n",
              "      <td>56.3310</td>\n",
              "      <td>22.5962</td>\n",
              "      <td>11.47760</td>\n",
              "      <td>4.000000</td>\n",
              "      <td>1.730810</td>\n",
              "      <td>4990.76</td>\n",
              "      <td>2560.220</td>\n",
              "      <td>1680.300</td>\n",
              "      <td>577.137</td>\n",
              "      <td>173.1090</td>\n",
              "      <td>3.33395</td>\n",
              "      <td>0.769264</td>\n",
              "      <td>0.230736</td>\n",
              "      <td>Healthy</td>\n",
              "    </tr>\n",
              "    <tr>\n",
              "      <th>491</th>\n",
              "      <td>491</td>\n",
              "      <td>A</td>\n",
              "      <td>0.977802</td>\n",
              "      <td>986.468</td>\n",
              "      <td>60.823058</td>\n",
              "      <td>45.1182</td>\n",
              "      <td>35.0136</td>\n",
              "      <td>29.3724</td>\n",
              "      <td>20.6881</td>\n",
              "      <td>62.0366</td>\n",
              "      <td>26.5893</td>\n",
              "      <td>13.09090</td>\n",
              "      <td>4.074400</td>\n",
              "      <td>1.903460</td>\n",
              "      <td>2256.99</td>\n",
              "      <td>1260.840</td>\n",
              "      <td>587.957</td>\n",
              "      <td>232.695</td>\n",
              "      <td>175.4900</td>\n",
              "      <td>1.32597</td>\n",
              "      <td>0.570072</td>\n",
              "      <td>0.429928</td>\n",
              "      <td>Patient</td>\n",
              "    </tr>\n",
              "    <tr>\n",
              "      <th>492</th>\n",
              "      <td>492</td>\n",
              "      <td>B</td>\n",
              "      <td>0.999761</td>\n",
              "      <td>997.284</td>\n",
              "      <td>60.163404</td>\n",
              "      <td>87.8255</td>\n",
              "      <td>65.7772</td>\n",
              "      <td>54.6419</td>\n",
              "      <td>31.8008</td>\n",
              "      <td>68.4117</td>\n",
              "      <td>37.3435</td>\n",
              "      <td>22.96590</td>\n",
              "      <td>10.223800</td>\n",
              "      <td>5.796210</td>\n",
              "      <td>8871.06</td>\n",
              "      <td>4803.340</td>\n",
              "      <td>2571.060</td>\n",
              "      <td>1085.680</td>\n",
              "      <td>410.9890</td>\n",
              "      <td>2.64163</td>\n",
              "      <td>0.725398</td>\n",
              "      <td>0.274602</td>\n",
              "      <td>Healthy</td>\n",
              "    </tr>\n",
              "  </tbody>\n",
              "</table>\n",
              "<p>493 rows × 23 columns</p>\n",
              "</div>"
            ],
            "text/plain": [
              "     Participant Category     NN_RR  ...      LF_n      HF_n  Patient_status\n",
              "0              0        A  0.999970  ...  0.775075  0.224925         Patient\n",
              "1              1        A  0.999680  ...  0.834212  0.165788         Patient\n",
              "2              2        A  0.993108  ...  0.753789  0.246211         Patient\n",
              "3              3        A  0.959997  ...  0.507233  0.492767         Patient\n",
              "4              4        B  0.999689  ...  0.689452  0.310548         Healthy\n",
              "..           ...      ...       ...  ...       ...       ...             ...\n",
              "488          488        A  0.999909  ...  0.844289  0.155711         Patient\n",
              "489          489        A  0.999613  ...  0.666367  0.333633         Patient\n",
              "490          490        B  0.999880  ...  0.769264  0.230736         Healthy\n",
              "491          491        A  0.977802  ...  0.570072  0.429928         Patient\n",
              "492          492        B  0.999761  ...  0.725398  0.274602         Healthy\n",
              "\n",
              "[493 rows x 23 columns]"
            ]
          },
          "metadata": {},
          "execution_count": 8
        }
      ]
    },
    {
      "cell_type": "code",
      "metadata": {
        "colab": {
          "base_uri": "https://localhost:8080/"
        },
        "id": "U4MKqwUyiBcN",
        "outputId": "540ad27f-d6dd-48e8-9c00-7611ce1d81ba"
      },
      "source": [
        "apnea_feature_data.dtypes"
      ],
      "execution_count": 9,
      "outputs": [
        {
          "output_type": "execute_result",
          "data": {
            "text/plain": [
              "Participant         int64\n",
              "Category           object\n",
              "NN_RR             float64\n",
              "AVNN              float64\n",
              "IHR               float64\n",
              "SDNN              float64\n",
              "SDANN             float64\n",
              "SDNNIDX           float64\n",
              "rMSSD             float64\n",
              "pNN10             float64\n",
              "pNN20             float64\n",
              "pNN30             float64\n",
              "pNN40             float64\n",
              "pNN50             float64\n",
              "tot_pwr           float64\n",
              "ULF               float64\n",
              "VLF               float64\n",
              "LF                float64\n",
              "HF                float64\n",
              "LF_HF             float64\n",
              "LF_n              float64\n",
              "HF_n              float64\n",
              "Patient_status     object\n",
              "dtype: object"
            ]
          },
          "metadata": {},
          "execution_count": 9
        }
      ]
    },
    {
      "cell_type": "code",
      "metadata": {
        "colab": {
          "base_uri": "https://localhost:8080/",
          "height": 297
        },
        "id": "6p1XaJZXkyNR",
        "outputId": "b0ce410a-6503-46d5-b378-dffcd469ead2"
      },
      "source": [
        "sns.countplot(data=apnea_feature_data, x=\"Patient_status\")"
      ],
      "execution_count": 10,
      "outputs": [
        {
          "output_type": "execute_result",
          "data": {
            "text/plain": [
              "<matplotlib.axes._subplots.AxesSubplot at 0x7fe2ee814790>"
            ]
          },
          "metadata": {},
          "execution_count": 10
        },
        {
          "output_type": "display_data",
          "data": {
            "image/png": "[encoded data removed]",
            "text/plain": [
              "<Figure size 432x288 with 1 Axes>"
            ]
          },
          "metadata": {
            "needs_background": "light"
          }
        }
      ]
    },
    {
      "cell_type": "code",
      "metadata": {
        "colab": {
          "base_uri": "https://localhost:8080/",
          "height": 476
        },
        "id": "8OX4ER-4zCXk",
        "outputId": "6166432c-f608-442e-beb1-256fa7dd3cf5"
      },
      "source": [
        "corr=apnea_feature_data.corr()\n",
        "corr\n",
        "heatmap, ax = plt.subplots(figsize = (10,7))\n",
        "ax=sns.heatmap(corr,cmap=\"YlGnBu\")"
      ],
      "execution_count": 41,
      "outputs": [
        {
          "output_type": "display_data",
          "data": {
            "image/png": "[encoded data removed]",
            "text/plain": [
              "<Figure size 720x504 with 2 Axes>"
            ]
          },
          "metadata": {
            "needs_background": "light"
          }
        }
      ]
    },
    {
      "cell_type": "markdown",
      "metadata": {
        "id": "ytP2gh36ogqS"
      },
      "source": [
        "The Distribution of the features have been analyzed through the Weka software and the corresponding plots for all the normally distributed features are provided below"
      ]
    },
    {
      "cell_type": "code",
      "metadata": {
        "colab": {
          "base_uri": "https://localhost:8080/",
          "height": 386
        },
        "id": "Nsxd7nKTg6_i",
        "outputId": "c7619aea-9592-42ff-843f-b7f46a4407ed"
      },
      "source": [
        "sns.displot(apnea_feature_data,x=\"IHR\", hue=\"Patient_status\")"
      ],
      "execution_count": 11,
      "outputs": [
        {
          "output_type": "execute_result",
          "data": {
            "text/plain": [
              "<seaborn.axisgrid.FacetGrid at 0x7fe2ea55a410>"
            ]
          },
          "metadata": {},
          "execution_count": 11
        },
        {
          "output_type": "display_data",
          "data": {
            "image/png": "[encoded data removed]",
            "text/plain": [
              "<Figure size 438.5x360 with 1 Axes>"
            ]
          },
          "metadata": {
            "needs_background": "light"
          }
        }
      ]
    },
    {
      "cell_type": "code",
      "metadata": {
        "colab": {
          "base_uri": "https://localhost:8080/",
          "height": 386
        },
        "id": "S2MYVaduih3T",
        "outputId": "4c4fc38f-c499-472f-dc2d-f523fefd356a"
      },
      "source": [
        "sns.displot(apnea_feature_data,x=\"AVNN\", hue=\"Patient_status\")"
      ],
      "execution_count": 12,
      "outputs": [
        {
          "output_type": "execute_result",
          "data": {
            "text/plain": [
              "<seaborn.axisgrid.FacetGrid at 0x7fe2ea445890>"
            ]
          },
          "metadata": {},
          "execution_count": 12
        },
        {
          "output_type": "display_data",
          "data": {
            "image/png": "[encoded data removed]",
            "text/plain": [
              "<Figure size 438.5x360 with 1 Axes>"
            ]
          },
          "metadata": {
            "needs_background": "light"
          }
        }
      ]
    },
    {
      "cell_type": "code",
      "metadata": {
        "colab": {
          "base_uri": "https://localhost:8080/",
          "height": 386
        },
        "id": "CO-1M3HQp1iF",
        "outputId": "4764228b-acd8-4c58-e9a5-d3ab53b66c9a"
      },
      "source": [
        "sns.displot(apnea_feature_data,x=\"SDNN\", hue=\"Patient_status\")"
      ],
      "execution_count": 13,
      "outputs": [
        {
          "output_type": "execute_result",
          "data": {
            "text/plain": [
              "<seaborn.axisgrid.FacetGrid at 0x7fe2e0b65bd0>"
            ]
          },
          "metadata": {},
          "execution_count": 13
        },
        {
          "output_type": "display_data",
          "data": {
            "image/png": "[encoded data removed]",
            "text/plain": [
              "<Figure size 438.5x360 with 1 Axes>"
            ]
          },
          "metadata": {
            "needs_background": "light"
          }
        }
      ]
    },
    {
      "cell_type": "code",
      "metadata": {
        "colab": {
          "base_uri": "https://localhost:8080/",
          "height": 386
        },
        "id": "8z2VvusSizLK",
        "outputId": "32b32188-d7f3-4fcd-8c46-009e9aba5776"
      },
      "source": [
        "sns.displot(apnea_feature_data,x=\"SDNNIDX\", hue=\"Patient_status\")"
      ],
      "execution_count": 14,
      "outputs": [
        {
          "output_type": "execute_result",
          "data": {
            "text/plain": [
              "<seaborn.axisgrid.FacetGrid at 0x7fe2e0a1b510>"
            ]
          },
          "metadata": {},
          "execution_count": 14
        },
        {
          "output_type": "display_data",
          "data": {
            "image/png": "[encoded data removed]",
            "text/plain": [
              "<Figure size 438.5x360 with 1 Axes>"
            ]
          },
          "metadata": {
            "needs_background": "light"
          }
        }
      ]
    },
    {
      "cell_type": "code",
      "metadata": {
        "colab": {
          "base_uri": "https://localhost:8080/",
          "height": 386
        },
        "id": "zplfGenOqDzr",
        "outputId": "7849cafa-cbde-4de0-eb2a-00455423f283"
      },
      "source": [
        "sns.displot(apnea_feature_data,x=\"pNN10\", hue=\"Patient_status\")"
      ],
      "execution_count": 15,
      "outputs": [
        {
          "output_type": "execute_result",
          "data": {
            "text/plain": [
              "<seaborn.axisgrid.FacetGrid at 0x7fe2e09da3d0>"
            ]
          },
          "metadata": {},
          "execution_count": 15
        },
        {
          "output_type": "display_data",
          "data": {
            "image/png": "[encoded data removed]",
            "text/plain": [
              "<Figure size 438.5x360 with 1 Axes>"
            ]
          },
          "metadata": {
            "needs_background": "light"
          }
        }
      ]
    },
    {
      "cell_type": "code",
      "metadata": {
        "colab": {
          "base_uri": "https://localhost:8080/",
          "height": 386
        },
        "id": "-Z0K0xy1qJAl",
        "outputId": "d1be511a-544c-4c52-a8b1-a6ed4919bd98"
      },
      "source": [
        "sns.displot(apnea_feature_data,x=\"SDANN\", hue=\"Patient_status\")"
      ],
      "execution_count": 16,
      "outputs": [
        {
          "output_type": "execute_result",
          "data": {
            "text/plain": [
              "<seaborn.axisgrid.FacetGrid at 0x7fe2e0b6dad0>"
            ]
          },
          "metadata": {},
          "execution_count": 16
        },
        {
          "output_type": "display_data",
          "data": {
            "image/png": "[encoded data removed]",
            "text/plain": [
              "<Figure size 438.5x360 with 1 Axes>"
            ]
          },
          "metadata": {
            "needs_background": "light"
          }
        }
      ]
    },
    {
      "cell_type": "markdown",
      "metadata": {
        "id": "aL0nSHZ2jIUv"
      },
      "source": [
        "Healthy People seem to have a lower IHR, SDNN, SDANN, SDNNIDX and AVNN values compared to the Patients with Apnea"
      ]
    },
    {
      "cell_type": "markdown",
      "metadata": {
        "id": "0PTpcN_lkRiH"
      },
      "source": [
        "**T-tests are used to determine if there is significant difference between means of two categories**"
      ]
    },
    {
      "cell_type": "code",
      "metadata": {
        "id": "fIjVRiMdk1Kv"
      },
      "source": [
        "import numpy as np\n",
        "from scipy.stats import ttest_ind"
      ],
      "execution_count": 17,
      "outputs": []
    },
    {
      "cell_type": "code",
      "metadata": {
        "id": "HQJzip_dl9iP"
      },
      "source": [
        "IHR_Patient = apnea_feature_data.loc[apnea_feature_data[\"Patient_status\"] =='Patient', \"IHR\"]\n",
        "IHR_Healthy = apnea_feature_data.loc[apnea_feature_data[\"Patient_status\"] =='Healthy', \"IHR\"] "
      ],
      "execution_count": 18,
      "outputs": []
    },
    {
      "cell_type": "code",
      "metadata": {
        "colab": {
          "base_uri": "https://localhost:8080/"
        },
        "id": "zV-s5N_dleWn",
        "outputId": "aa85c264-54d1-4574-92ab-8143d0811230"
      },
      "source": [
        "res_IHR = ttest_ind(IHR_Healthy,IHR_Patient,equal_var=True)\n",
        "res_IHR"
      ],
      "execution_count": 19,
      "outputs": [
        {
          "output_type": "execute_result",
          "data": {
            "text/plain": [
              "Ttest_indResult(statistic=0.8626219352489725, pvalue=0.3887664936793025)"
            ]
          },
          "metadata": {},
          "execution_count": 19
        }
      ]
    },
    {
      "cell_type": "markdown",
      "metadata": {
        "id": "SEieYCFxuDps"
      },
      "source": [
        "**P Value for IHR feature is 0.39**"
      ]
    },
    {
      "cell_type": "code",
      "metadata": {
        "id": "UgaSAvamsEmO"
      },
      "source": [
        "SDNN_Patient = apnea_feature_data.loc[apnea_feature_data[\"Patient_status\"] =='Patient', \"SDNN\"]\n",
        "SDNN_Healthy = apnea_feature_data.loc[apnea_feature_data[\"Patient_status\"] =='Healthy', \"SDNN\"] "
      ],
      "execution_count": 20,
      "outputs": []
    },
    {
      "cell_type": "code",
      "metadata": {
        "colab": {
          "base_uri": "https://localhost:8080/"
        },
        "id": "Nx565tApsSRU",
        "outputId": "9ff91b7a-6624-4ce6-d5bd-79c159069bec"
      },
      "source": [
        "res_SDNN = ttest_ind(SDNN_Healthy,SDNN_Patient,equal_var=True)\n",
        "res_SDNN"
      ],
      "execution_count": 21,
      "outputs": [
        {
          "output_type": "execute_result",
          "data": {
            "text/plain": [
              "Ttest_indResult(statistic=0.6764440501128773, pvalue=0.49907727753571063)"
            ]
          },
          "metadata": {},
          "execution_count": 21
        }
      ]
    },
    {
      "cell_type": "markdown",
      "metadata": {
        "id": "oCYcScWCuOsP"
      },
      "source": [
        "**P Value for SDNN feature is 0.499**"
      ]
    },
    {
      "cell_type": "code",
      "metadata": {
        "colab": {
          "base_uri": "https://localhost:8080/"
        },
        "id": "JULjftbxsjNj",
        "outputId": "74462047-8518-4ba8-bd41-edc1f373fc1f"
      },
      "source": [
        "SDNNIDX_Patient = apnea_feature_data.loc[apnea_feature_data[\"Patient_status\"] =='Patient', \"SDNNIDX\"]\n",
        "SDNNIDX_Healthy = apnea_feature_data.loc[apnea_feature_data[\"Patient_status\"] =='Healthy', \"SDNNIDX\"] \n",
        "res_SDNNIDX = ttest_ind(SDNNIDX_Healthy,SDNNIDX_Patient,equal_var=True)\n",
        "res_SDNNIDX"
      ],
      "execution_count": 22,
      "outputs": [
        {
          "output_type": "execute_result",
          "data": {
            "text/plain": [
              "Ttest_indResult(statistic=0.5823009416078738, pvalue=0.5606312755786298)"
            ]
          },
          "metadata": {},
          "execution_count": 22
        }
      ]
    },
    {
      "cell_type": "markdown",
      "metadata": {
        "id": "5D50nvtVuUyc"
      },
      "source": [
        "**P Value for SDNNIDX feature is 0.56**"
      ]
    },
    {
      "cell_type": "code",
      "metadata": {
        "colab": {
          "base_uri": "https://localhost:8080/"
        },
        "id": "frLe-KR4s0hE",
        "outputId": "495b517c-4eac-4b80-9271-4f41863fe823"
      },
      "source": [
        "AVNN_Patient = apnea_feature_data.loc[apnea_feature_data[\"Patient_status\"] =='Patient', \"AVNN\"]\n",
        "AVNN_Healthy = apnea_feature_data.loc[apnea_feature_data[\"Patient_status\"] =='Healthy', \"AVNN\"] \n",
        "res_AVNN = ttest_ind(AVNN_Healthy,AVNN_Patient,equal_var=True)\n",
        "res_AVNN"
      ],
      "execution_count": 23,
      "outputs": [
        {
          "output_type": "execute_result",
          "data": {
            "text/plain": [
              "Ttest_indResult(statistic=-0.557226878811793, pvalue=0.5776263485339017)"
            ]
          },
          "metadata": {},
          "execution_count": 23
        }
      ]
    },
    {
      "cell_type": "markdown",
      "metadata": {
        "id": "v6CER78tuZSZ"
      },
      "source": [
        "**P Value for AVNN feature is 0.58**"
      ]
    },
    {
      "cell_type": "code",
      "metadata": {
        "id": "wUwv8cpNucMJ"
      },
      "source": [
        ""
      ],
      "execution_count": 23,
      "outputs": []
    },
    {
      "cell_type": "code",
      "metadata": {
        "colab": {
          "base_uri": "https://localhost:8080/"
        },
        "id": "aBbrc90UtC06",
        "outputId": "ef60d07b-37ad-4c32-c55e-b81dd5f6e1b0"
      },
      "source": [
        "SDANN_Patient = apnea_feature_data.loc[apnea_feature_data[\"Patient_status\"] =='Patient', \"SDANN\"]\n",
        "SDANN_Healthy = apnea_feature_data.loc[apnea_feature_data[\"Patient_status\"] =='Healthy', \"SDANN\"] \n",
        "res_SDANN = ttest_ind(SDANN_Healthy,SDANN_Patient,equal_var=True)\n",
        "res_SDANN"
      ],
      "execution_count": 24,
      "outputs": [
        {
          "output_type": "execute_result",
          "data": {
            "text/plain": [
              "Ttest_indResult(statistic=0.19454635015002486, pvalue=0.8458285747287833)"
            ]
          },
          "metadata": {},
          "execution_count": 24
        }
      ]
    },
    {
      "cell_type": "markdown",
      "metadata": {
        "id": "dIj77ZjxueCh"
      },
      "source": [
        "**P Value for SDANN feature is 0.85**"
      ]
    },
    {
      "cell_type": "markdown",
      "metadata": {
        "id": "whFO6ho2uoa8"
      },
      "source": [
        "**A Mann-Whitney U test is used to compare the differences between two samples when the sample distributions are not normally distributed**"
      ]
    },
    {
      "cell_type": "code",
      "metadata": {
        "colab": {
          "base_uri": "https://localhost:8080/",
          "height": 1000
        },
        "id": "aDDbijfXvsWX",
        "outputId": "0b301c57-fca3-4b63-da35-f5e4fc0de197"
      },
      "source": [
        "# Distribution plot for features which are not normally distributed. The data distribution has been tested in Weka\n",
        "\n",
        "sns.displot(apnea_feature_data,x=\"pNN10\", hue=\"Patient_status\")\n",
        "sns.displot(apnea_feature_data,x=\"pNN20\", hue=\"Patient_status\")\n",
        "sns.displot(apnea_feature_data,x=\"pNN30\", hue=\"Patient_status\")\n",
        "sns.displot(apnea_feature_data,x=\"pNN40\", hue=\"Patient_status\")\n",
        "sns.displot(apnea_feature_data,x=\"pNN50\", hue=\"Patient_status\")\n",
        "sns.displot(apnea_feature_data,x=\"LF_HF\", hue=\"Patient_status\")\n",
        "sns.displot(apnea_feature_data,x=\"LF_n\", hue=\"Patient_status\")\n",
        "sns.displot(apnea_feature_data,x=\"HF_n\", hue=\"Patient_status\")"
      ],
      "execution_count": 25,
      "outputs": [
        {
          "output_type": "execute_result",
          "data": {
            "text/plain": [
              "<seaborn.axisgrid.FacetGrid at 0x7fe2e0136a90>"
            ]
          },
          "metadata": {},
          "execution_count": 25
        },
        {
          "output_type": "display_data",
          "data": {
            "image/png": "[encoded data removed]",
            "text/plain": [
              "<Figure size 438.5x360 with 1 Axes>"
            ]
          },
          "metadata": {
            "needs_background": "light"
          }
        },
        {
          "output_type": "display_data",
          "data": {
            "image/png": "[encoded data removed]",
            "text/plain": [
              "<Figure size 438.5x360 with 1 Axes>"
            ]
          },
          "metadata": {
            "needs_background": "light"
          }
        },
        {
          "output_type": "display_data",
          "data": {
            "image/png": "[encoded data removed]",
            "text/plain": [
              "<Figure size 438.5x360 with 1 Axes>"
            ]
          },
          "metadata": {
            "needs_background": "light"
          }
        },
        {
          "output_type": "display_data",
          "data": {
            "image/png": "[encoded data removed]",
            "text/plain": [
              "<Figure size 438.5x360 with 1 Axes>"
            ]
          },
          "metadata": {
            "needs_background": "light"
          }
        },
        {
          "output_type": "display_data",
          "data": {
            "image/png": "[encoded data removed]",
            "text/plain": [
              "<Figure size 438.5x360 with 1 Axes>"
            ]
          },
          "metadata": {
            "needs_background": "light"
          }
        },
        {
          "output_type": "display_data",
          "data": {
            "image/png": "[encoded data removed]",
            "text/plain": [
              "<Figure size 438.5x360 with 1 Axes>"
            ]
          },
          "metadata": {
            "needs_background": "light"
          }
        },
        {
          "output_type": "display_data",
          "data": {
            "image/png": "[encoded data removed]",
            "text/plain": [
              "<Figure size 438.5x360 with 1 Axes>"
            ]
          },
          "metadata": {
            "needs_background": "light"
          }
        },
        {
          "output_type": "display_data",
          "data": {
            "image/png": "[encoded data removed]",
            "text/plain": [
              "<Figure size 438.5x360 with 1 Axes>"
            ]
          },
          "metadata": {
            "needs_background": "light"
          }
        }
      ]
    },
    {
      "cell_type": "markdown",
      "metadata": {
        "id": "cxizL6q0ziZK"
      },
      "source": [
        "**Mann-Whitney U test for the above Features**"
      ]
    },
    {
      "cell_type": "code",
      "metadata": {
        "id": "roId3U1RyN8j"
      },
      "source": [
        "import scipy.stats as stats"
      ],
      "execution_count": 26,
      "outputs": []
    },
    {
      "cell_type": "code",
      "metadata": {
        "colab": {
          "base_uri": "https://localhost:8080/"
        },
        "id": "WwSy071lxr5F",
        "outputId": "41d520b3-e2ca-44ab-e272-1ffe7f1fad2c"
      },
      "source": [
        "pNN10_Patient = apnea_feature_data.loc[apnea_feature_data[\"Patient_status\"] =='Patient', \"pNN10\"]\n",
        "pNN10_Healthy = apnea_feature_data.loc[apnea_feature_data[\"Patient_status\"] =='Healthy', \"pNN10\"] \n",
        "\n",
        "MWU_pNN10=stats.mannwhitneyu(pNN10_Patient, pNN10_Healthy, alternative='two-sided')\n",
        "MWU_pNN10"
      ],
      "execution_count": 27,
      "outputs": [
        {
          "output_type": "execute_result",
          "data": {
            "text/plain": [
              "MannwhitneyuResult(statistic=16324.0, pvalue=0.12235574167064606)"
            ]
          },
          "metadata": {},
          "execution_count": 27
        }
      ]
    },
    {
      "cell_type": "markdown",
      "metadata": {
        "id": "n42ZMK4OztM7"
      },
      "source": [
        "**P-value for pNN10 feature is 0.122**"
      ]
    },
    {
      "cell_type": "code",
      "metadata": {
        "colab": {
          "base_uri": "https://localhost:8080/"
        },
        "id": "IVtBH6FPyUic",
        "outputId": "8990e72e-746d-4f3b-d6dc-9ee1d9bea222"
      },
      "source": [
        "pNN20_Patient = apnea_feature_data.loc[apnea_feature_data[\"Patient_status\"] =='Patient', \"pNN20\"]\n",
        "pNN20_Healthy = apnea_feature_data.loc[apnea_feature_data[\"Patient_status\"] =='Healthy', \"pNN20\"] \n",
        "\n",
        "MWU_pNN20=stats.mannwhitneyu(pNN20_Patient, pNN20_Healthy, alternative='two-sided')\n",
        "MWU_pNN20"
      ],
      "execution_count": 28,
      "outputs": [
        {
          "output_type": "execute_result",
          "data": {
            "text/plain": [
              "MannwhitneyuResult(statistic=16019.0, pvalue=0.20514063037345098)"
            ]
          },
          "metadata": {},
          "execution_count": 28
        }
      ]
    },
    {
      "cell_type": "markdown",
      "metadata": {
        "id": "qjSTOJw5z4x2"
      },
      "source": [
        "**P-value for pNN20 feature is 0.21**"
      ]
    },
    {
      "cell_type": "code",
      "metadata": {
        "colab": {
          "base_uri": "https://localhost:8080/"
        },
        "id": "aEea4thwybY3",
        "outputId": "d5e079d7-a655-434b-87d9-f3a081b63cd9"
      },
      "source": [
        "pNN30_Patient = apnea_feature_data.loc[apnea_feature_data[\"Patient_status\"] =='Patient', \"pNN30\"]\n",
        "pNN30_Healthy = apnea_feature_data.loc[apnea_feature_data[\"Patient_status\"] =='Healthy', \"pNN30\"] \n",
        "\n",
        "MWU_pNN30=stats.mannwhitneyu(pNN30_Patient, pNN30_Healthy, alternative='two-sided')\n",
        "MWU_pNN30"
      ],
      "execution_count": 29,
      "outputs": [
        {
          "output_type": "execute_result",
          "data": {
            "text/plain": [
              "MannwhitneyuResult(statistic=15617.0, pvalue=0.36772999579553056)"
            ]
          },
          "metadata": {},
          "execution_count": 29
        }
      ]
    },
    {
      "cell_type": "markdown",
      "metadata": {
        "id": "DwdXNqHWz-Na"
      },
      "source": [
        "**P-value for pNN30 feature is 0.37**"
      ]
    },
    {
      "cell_type": "code",
      "metadata": {
        "colab": {
          "base_uri": "https://localhost:8080/"
        },
        "id": "DdCU_eB4yiPJ",
        "outputId": "cae7c074-2782-4df4-ec6b-cb878aeb8eb3"
      },
      "source": [
        "pNN40_Patient = apnea_feature_data.loc[apnea_feature_data[\"Patient_status\"] =='Patient', \"pNN40\"]\n",
        "pNN40_Healthy = apnea_feature_data.loc[apnea_feature_data[\"Patient_status\"] =='Healthy', \"pNN40\"] \n",
        "\n",
        "MWU_pNN40=stats.mannwhitneyu(pNN40_Patient, pNN40_Healthy, alternative='two-sided')\n",
        "MWU_pNN40"
      ],
      "execution_count": 30,
      "outputs": [
        {
          "output_type": "execute_result",
          "data": {
            "text/plain": [
              "MannwhitneyuResult(statistic=14814.0, pvalue=0.8657731063477201)"
            ]
          },
          "metadata": {},
          "execution_count": 30
        }
      ]
    },
    {
      "cell_type": "markdown",
      "metadata": {
        "id": "BUQvVpPS0CYM"
      },
      "source": [
        "**P-value for pNN40 feature is 0.87**"
      ]
    },
    {
      "cell_type": "code",
      "metadata": {
        "colab": {
          "base_uri": "https://localhost:8080/"
        },
        "id": "uVgSEdTryq2h",
        "outputId": "b858c7e0-cc13-444c-efa8-eaaf1d1ed575"
      },
      "source": [
        "pNN50_Patient = apnea_feature_data.loc[apnea_feature_data[\"Patient_status\"] =='Patient', \"pNN50\"]\n",
        "pNN50_Healthy = apnea_feature_data.loc[apnea_feature_data[\"Patient_status\"] =='Healthy', \"pNN50\"] \n",
        "\n",
        "MWU_pNN50=stats.mannwhitneyu(pNN50_Patient, pNN50_Healthy, alternative='two-sided')\n",
        "MWU_pNN50"
      ],
      "execution_count": 31,
      "outputs": [
        {
          "output_type": "execute_result",
          "data": {
            "text/plain": [
              "MannwhitneyuResult(statistic=14364.0, pvalue=0.8102492479616107)"
            ]
          },
          "metadata": {},
          "execution_count": 31
        }
      ]
    },
    {
      "cell_type": "markdown",
      "metadata": {
        "id": "OkWsWUwa0GvB"
      },
      "source": [
        "**P-value for pNN50 feature is 0.81**"
      ]
    },
    {
      "cell_type": "code",
      "metadata": {
        "colab": {
          "base_uri": "https://localhost:8080/"
        },
        "id": "WbfPBGlTyyK7",
        "outputId": "9fb1b078-ca2e-49c1-a538-b624a7f0626a"
      },
      "source": [
        "LF_HF_Patient = apnea_feature_data.loc[apnea_feature_data[\"Patient_status\"] =='Patient', \"LF_HF\"]\n",
        "LF_HF_Healthy = apnea_feature_data.loc[apnea_feature_data[\"Patient_status\"] =='Healthy', \"LF_HF\"] \n",
        "\n",
        "MWU_LF_HF=stats.mannwhitneyu(LF_HF_Patient, LF_HF_Healthy, alternative='two-sided')\n",
        "MWU_LF_HF"
      ],
      "execution_count": 32,
      "outputs": [
        {
          "output_type": "execute_result",
          "data": {
            "text/plain": [
              "MannwhitneyuResult(statistic=16448.0, pvalue=0.09732731487133223)"
            ]
          },
          "metadata": {},
          "execution_count": 32
        }
      ]
    },
    {
      "cell_type": "markdown",
      "metadata": {
        "id": "5_QCL5Zc0KjW"
      },
      "source": [
        "**P-value for LF_HF feature is 0.097**"
      ]
    },
    {
      "cell_type": "code",
      "metadata": {
        "colab": {
          "base_uri": "https://localhost:8080/"
        },
        "id": "CJVUP_6hzFQF",
        "outputId": "b1807949-9b69-4dc8-d8c1-39576d373b39"
      },
      "source": [
        "LF_n_Patient = apnea_feature_data.loc[apnea_feature_data[\"Patient_status\"] =='Patient', \"LF_n\"]\n",
        "LF_n_Healthy = apnea_feature_data.loc[apnea_feature_data[\"Patient_status\"] =='Healthy', \"LF_n\"] \n",
        "\n",
        "MWU_LF_n=stats.mannwhitneyu(LF_n_Patient, LF_n_Healthy, alternative='two-sided')\n",
        "MWU_LF_n"
      ],
      "execution_count": 33,
      "outputs": [
        {
          "output_type": "execute_result",
          "data": {
            "text/plain": [
              "MannwhitneyuResult(statistic=16448.0, pvalue=0.0973273232504693)"
            ]
          },
          "metadata": {},
          "execution_count": 33
        }
      ]
    },
    {
      "cell_type": "markdown",
      "metadata": {
        "id": "4MpNjTJO0QEP"
      },
      "source": [
        "**P-value for LF_n feature is 0.097**"
      ]
    },
    {
      "cell_type": "code",
      "metadata": {
        "colab": {
          "base_uri": "https://localhost:8080/"
        },
        "id": "fFuhFZCKzQ0S",
        "outputId": "83d544ce-58be-41f7-8954-fba648c8b053"
      },
      "source": [
        "HF_n_Patient = apnea_feature_data.loc[apnea_feature_data[\"Patient_status\"] =='Patient', \"HF_n\"]\n",
        "HF_n_Healthy = apnea_feature_data.loc[apnea_feature_data[\"Patient_status\"] =='Healthy', \"HF_n\"] \n",
        "\n",
        "MWU_HF_n=stats.mannwhitneyu(HF_n_Patient, HF_n_Healthy, alternative='two-sided')\n",
        "MWU_HF_n"
      ],
      "execution_count": 34,
      "outputs": [
        {
          "output_type": "execute_result",
          "data": {
            "text/plain": [
              "MannwhitneyuResult(statistic=12808.0, pvalue=0.0973273232504693)"
            ]
          },
          "metadata": {},
          "execution_count": 34
        }
      ]
    },
    {
      "cell_type": "markdown",
      "metadata": {
        "id": "9zjQ8FH_0U6X"
      },
      "source": [
        "**P-value for HF_n feature is 0.097**"
      ]
    }
  ]
}