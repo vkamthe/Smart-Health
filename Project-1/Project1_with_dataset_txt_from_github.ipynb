{
  "nbformat": 4,
  "nbformat_minor": 0,
  "metadata": {
    "colab": {
      "name": "Untitled4.ipynb",
      "provenance": []
    },
    "kernelspec": {
      "name": "python3",
      "display_name": "Python 3"
    },
    "language_info": {
      "name": "python"
    }
  },
  "cells": [
    {
      "cell_type": "code",
      "metadata": {
        "colab": {
          "base_uri": "https://localhost:8080/"
        },
        "id": "IObeiXYx5iX8",
        "outputId": "3d6b9834-13d4-4c93-92ad-824ebe480c88"
      },
      "source": [
        "from google.colab import drive\n",
        "drive.mount('/content/gdrive')"
      ],
      "execution_count": 1,
      "outputs": [
        {
          "output_type": "stream",
          "name": "stdout",
          "text": [
            "Drive already mounted at /content/gdrive; to attempt to forcibly remount, call drive.mount(\"/content/gdrive\", force_remount=True).\n"
          ]
        }
      ]
    },
    {
      "cell_type": "code",
      "metadata": {
        "colab": {
          "base_uri": "https://localhost:8080/"
        },
        "id": "ehxXKKzA58jE",
        "outputId": "8cd1042d-409e-4cce-f3de-b64d71acc9a9"
      },
      "source": [
        "import pandas as pd\n",
        "import numpy as np\n",
        "import matplotlib.pyplot as plt\n",
        "\n",
        "from numpy.random import seed\n",
        "from numpy.random import randn\n",
        "from scipy.stats import shapiro, ttest_ind, mannwhitneyu\n",
        "!pip install matplotlib==3.1.3"
      ],
      "execution_count": 2,
      "outputs": [
        {
          "output_type": "stream",
          "name": "stdout",
          "text": [
            "Requirement already satisfied: matplotlib==3.1.3 in /usr/local/lib/python3.7/dist-packages (3.1.3)\n",
            "Requirement already satisfied: cycler>=0.10 in /usr/local/lib/python3.7/dist-packages (from matplotlib==3.1.3) (0.10.0)\n",
            "Requirement already satisfied: numpy>=1.11 in /usr/local/lib/python3.7/dist-packages (from matplotlib==3.1.3) (1.19.5)\n",
            "Requirement already satisfied: python-dateutil>=2.1 in /usr/local/lib/python3.7/dist-packages (from matplotlib==3.1.3) (2.8.2)\n",
            "Requirement already satisfied: pyparsing!=2.0.4,!=2.1.2,!=2.1.6,>=2.0.1 in /usr/local/lib/python3.7/dist-packages (from matplotlib==3.1.3) (2.4.7)\n",
            "Requirement already satisfied: kiwisolver>=1.0.1 in /usr/local/lib/python3.7/dist-packages (from matplotlib==3.1.3) (1.3.2)\n",
            "Requirement already satisfied: six in /usr/local/lib/python3.7/dist-packages (from cycler>=0.10->matplotlib==3.1.3) (1.15.0)\n"
          ]
        }
      ]
    },
    {
      "cell_type": "code",
      "metadata": {
        "id": "2e7_6a_LDZSu"
      },
      "source": [
        "def check_norm(a):\n",
        "  stat, p = shapiro(a)\n",
        "  if p>0.05:\n",
        "    print(p, 'Fail to reject H0, It looks like Normal distribution')\n",
        "  else:\n",
        "    print(p, 'Reject H0, It is not like Normal distribution')"
      ],
      "execution_count": 3,
      "outputs": []
    },
    {
      "cell_type": "code",
      "metadata": {
        "colab": {
          "base_uri": "https://localhost:8080/",
          "height": 202
        },
        "id": "Bul_J8FA59Mu",
        "outputId": "9eeefe8b-5d1b-4e4f-97e7-052931522403"
      },
      "source": [
        "#Import dataset and delete all na values\n",
        "dataset = pd.read_csv('/content/gdrive/MyDrive/Datasets/Smart_Health/apnea-ecg dataset.csv')\n",
        "dataset.dropna(inplace=True)\n",
        "dataset.head()"
      ],
      "execution_count": 4,
      "outputs": [
        {
          "output_type": "execute_result",
          "data": {
            "text/html": [
              "<div>\n",
              "<style scoped>\n",
              "    .dataframe tbody tr th:only-of-type {\n",
              "        vertical-align: middle;\n",
              "    }\n",
              "\n",
              "    .dataframe tbody tr th {\n",
              "        vertical-align: top;\n",
              "    }\n",
              "\n",
              "    .dataframe thead th {\n",
              "        text-align: right;\n",
              "    }\n",
              "</style>\n",
              "<table border=\"1\" class=\"dataframe\">\n",
              "  <thead>\n",
              "    <tr style=\"text-align: right;\">\n",
              "      <th></th>\n",
              "      <th>Record</th>\n",
              "      <th>Length</th>\n",
              "      <th>non-apn</th>\n",
              "      <th>apnea</th>\n",
              "      <th>hours</th>\n",
              "      <th>AI</th>\n",
              "      <th>HI</th>\n",
              "      <th>AHI</th>\n",
              "      <th>Age</th>\n",
              "      <th>Sex</th>\n",
              "      <th>height</th>\n",
              "      <th>weight</th>\n",
              "    </tr>\n",
              "  </thead>\n",
              "  <tbody>\n",
              "    <tr>\n",
              "      <th>1</th>\n",
              "      <td>a01</td>\n",
              "      <td>490.0</td>\n",
              "      <td>20.0</td>\n",
              "      <td>470.0</td>\n",
              "      <td>9.0</td>\n",
              "      <td>12.5</td>\n",
              "      <td>57.1</td>\n",
              "      <td>69.6</td>\n",
              "      <td>51.0</td>\n",
              "      <td>M</td>\n",
              "      <td>175.0</td>\n",
              "      <td>102.0</td>\n",
              "    </tr>\n",
              "    <tr>\n",
              "      <th>2</th>\n",
              "      <td>a02</td>\n",
              "      <td>529.0</td>\n",
              "      <td>109.0</td>\n",
              "      <td>420.0</td>\n",
              "      <td>9.0</td>\n",
              "      <td>57.2</td>\n",
              "      <td>12.3</td>\n",
              "      <td>69.5</td>\n",
              "      <td>38.0</td>\n",
              "      <td>M</td>\n",
              "      <td>180.0</td>\n",
              "      <td>120.0</td>\n",
              "    </tr>\n",
              "    <tr>\n",
              "      <th>3</th>\n",
              "      <td>a03</td>\n",
              "      <td>520.0</td>\n",
              "      <td>274.0</td>\n",
              "      <td>246.0</td>\n",
              "      <td>9.0</td>\n",
              "      <td>38.4</td>\n",
              "      <td>0.7</td>\n",
              "      <td>39.1</td>\n",
              "      <td>54.0</td>\n",
              "      <td>M</td>\n",
              "      <td>168.0</td>\n",
              "      <td>80.0</td>\n",
              "    </tr>\n",
              "    <tr>\n",
              "      <th>4</th>\n",
              "      <td>a04</td>\n",
              "      <td>493.0</td>\n",
              "      <td>40.0</td>\n",
              "      <td>453.0</td>\n",
              "      <td>9.0</td>\n",
              "      <td>73.4</td>\n",
              "      <td>4.0</td>\n",
              "      <td>77.4</td>\n",
              "      <td>52.0</td>\n",
              "      <td>M</td>\n",
              "      <td>173.0</td>\n",
              "      <td>121.0</td>\n",
              "    </tr>\n",
              "    <tr>\n",
              "      <th>5</th>\n",
              "      <td>a05</td>\n",
              "      <td>455.0</td>\n",
              "      <td>179.0</td>\n",
              "      <td>276.0</td>\n",
              "      <td>8.0</td>\n",
              "      <td>35.0</td>\n",
              "      <td>6.0</td>\n",
              "      <td>41.0</td>\n",
              "      <td>58.0</td>\n",
              "      <td>M</td>\n",
              "      <td>176.0</td>\n",
              "      <td>78.0</td>\n",
              "    </tr>\n",
              "  </tbody>\n",
              "</table>\n",
              "</div>"
            ],
            "text/plain": [
              "  Record  Length  non-apn  apnea  hours  ...   AHI   Age  Sex  height weight\n",
              "1    a01   490.0     20.0  470.0    9.0  ...  69.6  51.0    M   175.0  102.0\n",
              "2    a02   529.0    109.0  420.0    9.0  ...  69.5  38.0    M   180.0  120.0\n",
              "3    a03   520.0    274.0  246.0    9.0  ...  39.1  54.0    M   168.0   80.0\n",
              "4    a04   493.0     40.0  453.0    9.0  ...  77.4  52.0    M   173.0  121.0\n",
              "5    a05   455.0    179.0  276.0    8.0  ...  41.0  58.0    M   176.0   78.0\n",
              "\n",
              "[5 rows x 12 columns]"
            ]
          },
          "metadata": {},
          "execution_count": 4
        }
      ]
    },
    {
      "cell_type": "code",
      "metadata": {
        "colab": {
          "base_uri": "https://localhost:8080/"
        },
        "id": "CytrWxiW6RLZ",
        "outputId": "94ba33d2-b5ea-4c6a-9697-e24b72731e1b"
      },
      "source": [
        "## Split 2 dataset, healthy and apnea by the condition of AHI\n",
        "healthy= dataset[dataset['AHI']<= 5]\n",
        "apnea= dataset[dataset['AHI'] > 5]\n",
        "## Print out some descriptive statistical\n",
        "print(healthy.describe())\n",
        "print(apnea.describe())"
      ],
      "execution_count": 5,
      "outputs": [
        {
          "output_type": "stream",
          "name": "stdout",
          "text": [
            "           Length    non-apn      apnea  ...       Age      height      weight\n",
            "count   25.000000   25.00000  25.000000  ...  25.00000   25.000000   25.000000\n",
            "mean   465.640000  460.20000   5.440000  ...  35.44000  175.400000   70.840000\n",
            "std     27.353976   32.30454  11.814821  ...   7.80534    8.025999   20.862007\n",
            "min    401.000000  377.00000   0.000000  ...  27.00000  158.000000   53.000000\n",
            "25%    454.000000  450.00000   0.000000  ...  28.00000  170.000000   63.000000\n",
            "50%    469.000000  467.00000   1.000000  ...  31.00000  180.000000   65.000000\n",
            "75%    483.000000  481.00000   4.000000  ...  41.00000  180.000000   72.000000\n",
            "max    535.000000  535.00000  57.000000  ...  52.00000  184.000000  135.000000\n",
            "\n",
            "[8 rows x 10 columns]\n",
            "           Length     non-apn       apnea  ...        Age      height      weight\n",
            "count   45.000000   45.000000   45.000000  ...  45.000000   45.000000   45.000000\n",
            "mean   506.377778  219.044444  287.333333  ...  50.533333  176.088889   95.600000\n",
            "std     23.436848  128.965985  132.063174  ...   8.231315    3.697802   14.581121\n",
            "min    442.000000   11.000000   57.000000  ...  29.000000  167.000000   69.000000\n",
            "25%    496.000000  115.000000  200.000000  ...  44.000000  176.000000   85.000000\n",
            "50%    510.000000  196.000000  292.000000  ...  52.000000  177.000000   96.000000\n",
            "75%    518.000000  305.000000  383.000000  ...  57.000000  178.000000  105.000000\n",
            "max    578.000000  471.000000  534.000000  ...  63.000000  183.000000  131.000000\n",
            "\n",
            "[8 rows x 10 columns]\n"
          ]
        }
      ]
    },
    {
      "cell_type": "code",
      "metadata": {
        "id": "2ZQs9rjT-YHk",
        "outputId": "cba110b8-8e0b-481c-9fc0-67249fa46206",
        "colab": {
          "base_uri": "https://localhost:8080/",
          "height": 365
        }
      },
      "source": [
        "## Plot figures to see how distributed of those 2 group by AHI value\n",
        "fig, axs = plt.subplots(2,1)\n",
        "fig.suptitle('The histogram of Healthy and Apnea')\n",
        "axs[0].hist(healthy['AHI'])\n",
        "axs[1].hist(apnea['AHI'])"
      ],
      "execution_count": 6,
      "outputs": [
        {
          "output_type": "execute_result",
          "data": {
            "text/plain": [
              "(array([5., 9., 5., 9., 2., 3., 2., 5., 4., 1.]),\n",
              " array([10.  , 18.35, 26.7 , 35.05, 43.4 , 51.75, 60.1 , 68.45, 76.8 ,\n",
              "        85.15, 93.5 ]),\n",
              " <a list of 10 Patch objects>)"
            ]
          },
          "metadata": {},
          "execution_count": 6
        },
        {
          "output_type": "display_data",
          "data": {
            "image/png": "[encoded data removed]",
            "text/plain": [
              "<Figure size 432x288 with 2 Axes>"
            ]
          },
          "metadata": {
            "needs_background": "light"
          }
        }
      ]
    },
    {
      "cell_type": "code",
      "metadata": {
        "colab": {
          "base_uri": "https://localhost:8080/",
          "height": 436
        },
        "id": "z4CeClIN7paT",
        "outputId": "e17d040b-cf9a-442a-d28d-05ae7b15667d"
      },
      "source": [
        "## Plot boxplot \n",
        "fig, axs = plt.subplots(2,1)\n",
        "fig.suptitle('The box plot of Healthy and Apnea in AHI')\n",
        "axs[0].boxplot(healthy['AHI'])\n",
        "axs[1].boxplot(apnea['AHI'])"
      ],
      "execution_count": 7,
      "outputs": [
        {
          "output_type": "execute_result",
          "data": {
            "text/plain": [
              "{'boxes': [<matplotlib.lines.Line2D at 0x7faa7acbac10>],\n",
              " 'caps': [<matplotlib.lines.Line2D at 0x7faa7acbabd0>,\n",
              "  <matplotlib.lines.Line2D at 0x7faa7acd4710>],\n",
              " 'fliers': [<matplotlib.lines.Line2D at 0x7faa7acccd50>],\n",
              " 'means': [],\n",
              " 'medians': [<matplotlib.lines.Line2D at 0x7faa7acd4c50>],\n",
              " 'whiskers': [<matplotlib.lines.Line2D at 0x7faa7accc7d0>,\n",
              "  <matplotlib.lines.Line2D at 0x7faa7accccd0>]}"
            ]
          },
          "metadata": {},
          "execution_count": 7
        },
        {
          "output_type": "display_data",
          "data": {
            "image/png": "[encoded data removed]",
            "text/plain": [
              "<Figure size 432x288 with 2 Axes>"
            ]
          },
          "metadata": {
            "needs_background": "light"
          }
        }
      ]
    },
    {
      "cell_type": "markdown",
      "metadata": {
        "id": "QqjSb9kq_WxV"
      },
      "source": [
        "It seems from the histogram, both healthy and apnea are not normality, with the boxplot, we can see the healthy class having more outliers"
      ]
    },
    {
      "cell_type": "code",
      "metadata": {
        "id": "wvwG3gO-_j61",
        "outputId": "fcd24ef6-0dbc-44c6-b9f4-29d02e45c1e6",
        "colab": {
          "base_uri": "https://localhost:8080/"
        }
      },
      "source": [
        "## Check by look at the order of mean and median in each of class\n",
        "if np.mean(healthy['AHI']) < np.median(healthy['AHI']):\n",
        "  print('Class healthy has the distribution that Skewed to the left')\n",
        "else:\n",
        "  print('Class healthy has the distribution that Skewed to the right')\n",
        "\n",
        "if np.mean(apnea['AHI']) < np.median(apnea['AHI']):\n",
        "  print('Class apnea has the distribution that Skewed to the left')\n",
        "else:\n",
        "  print('Class apnea has the distribution that Skewed to the right')\n",
        "## Make a shapiro test to check normality\n",
        "check_norm(healthy['AHI'])\n",
        "check_norm(apnea['AHI'])"
      ],
      "execution_count": 8,
      "outputs": [
        {
          "output_type": "stream",
          "name": "stdout",
          "text": [
            "Class healthy has the distribution that Skewed to the right\n",
            "Class apnea has the distribution that Skewed to the right\n",
            "2.8768925020017377e-09 Reject H0, It is not like Normal distribution\n",
            "0.01770780049264431 Reject H0, It is not like Normal distribution\n"
          ]
        }
      ]
    },
    {
      "cell_type": "code",
      "metadata": {
        "id": "mIY3scVhAsaZ",
        "outputId": "27d31191-506d-4307-e999-ce262027d490",
        "colab": {
          "base_uri": "https://localhost:8080/"
        }
      },
      "source": [
        "## Since it is not have normal distribution, we need to use Mann-Whitney U Test\n",
        "stat, p = mannwhitneyu(healthy['AHI'],apnea['AHI'])\n",
        "print('p-value: ',p)\n",
        "if p>0.05:\n",
        "  print('There is not enough evidence to reject H0, there is no difference between the groups')\n",
        "else:\n",
        "  print('There is significant evidence to reject H0, there is difference between the groups')"
      ],
      "execution_count": 9,
      "outputs": [
        {
          "output_type": "stream",
          "name": "stdout",
          "text": [
            "p-value:  1.9681570698806845e-12\n",
            "There is significant evidence to reject H0, there is difference between the groups\n"
          ]
        }
      ]
    }
  ]
}