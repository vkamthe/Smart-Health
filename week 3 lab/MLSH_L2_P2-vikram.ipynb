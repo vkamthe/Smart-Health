{
 "cells": [
  {
   "cell_type": "markdown",
   "metadata": {
    "id": "YHwpjRwF54hU"
   },
   "source": [
    "**Machine Learning for Smart Health Systems**</br>\n",
    "Instructor: Juber Rahman</br>\n",
    "**Omdena School**</br>\n",
    "Course Link: https://omdena.com/course/machine-learning-for-smart-health-systems/</br>\n",
    "Updated: Nov 6, 2021"
   ]
  },
  {
   "cell_type": "markdown",
   "metadata": {
    "id": "tT0Azctel6fZ"
   },
   "source": [
    "# Part-1 : Supervised Classification"
   ]
  },
  {
   "cell_type": "code",
   "execution_count": null,
   "metadata": {
    "id": "AzTWv86OHhaI"
   },
   "outputs": [],
   "source": [
    "# import the general modules\n",
    "import pandas as pd\n",
    "import numpy as np\n",
    "import matplotlib.pyplot as plt\n",
    "import seaborn as sns"
   ]
  },
  {
   "cell_type": "markdown",
   "metadata": {
    "id": "ENwfZATDwzDw"
   },
   "source": [
    "### Last project"
   ]
  },
  {
   "cell_type": "code",
   "execution_count": null,
   "metadata": {
    "colab": {
     "base_uri": "https://localhost:8080/"
    },
    "id": "zMVY9iijNlQ4",
    "outputId": "019eb18d-56b2-4ddc-eb33-7515c9146c85"
   },
   "outputs": [
    {
     "name": "stdout",
     "output_type": "stream",
     "text": [
      "Mounted at /content/drive\n"
     ]
    }
   ],
   "source": [
    "from google.colab import drive\n",
    "drive.mount('/content/drive')"
   ]
  },
  {
   "cell_type": "code",
   "execution_count": null,
   "metadata": {
    "id": "x0zLtxT01VZ4"
   },
   "outputs": [],
   "source": [
    "# import machine learning modules\n",
    "from sklearn.model_selection import cross_val_score, GridSearchCV, RandomizedSearchCV\n",
    "from sklearn.linear_model import LogisticRegression\n",
    "from sklearn.svm import SVC\n",
    "from sklearn.ensemble import RandomForestClassifier, StackingClassifier, GradientBoostingClassifier\n",
    "from sklearn.preprocessing import MinMaxScaler\n",
    "from sklearn import preprocessing\n",
    "from sklearn.model_selection import train_test_split\n",
    "from sklearn.model_selection import cross_val_score, KFold\n",
    "from sklearn.metrics import accuracy_score, f1_score\n",
    "from warnings import simplefilter\n",
    "from sklearn.metrics import confusion_matrix"
   ]
  },
  {
   "cell_type": "code",
   "execution_count": null,
   "metadata": {
    "colab": {
     "base_uri": "https://localhost:8080/",
     "height": 224
    },
    "id": "OJs15ujx2gAc",
    "outputId": "827d0339-85d2-4d02-dd1d-4c5d8583efb1"
   },
   "outputs": [
    {
     "data": {
      "text/html": [
       "<div>\n",
       "<style scoped>\n",
       "    .dataframe tbody tr th:only-of-type {\n",
       "        vertical-align: middle;\n",
       "    }\n",
       "\n",
       "    .dataframe tbody tr th {\n",
       "        vertical-align: top;\n",
       "    }\n",
       "\n",
       "    .dataframe thead th {\n",
       "        text-align: right;\n",
       "    }\n",
       "</style>\n",
       "<table border=\"1\" class=\"dataframe\">\n",
       "  <thead>\n",
       "    <tr style=\"text-align: right;\">\n",
       "      <th></th>\n",
       "      <th>NN_RR</th>\n",
       "      <th>AVNN</th>\n",
       "      <th>IHR</th>\n",
       "      <th>SDNN</th>\n",
       "      <th>SDANN</th>\n",
       "      <th>SDNNIDX</th>\n",
       "      <th>rMSSD</th>\n",
       "      <th>pNN10</th>\n",
       "      <th>pNN20</th>\n",
       "      <th>pNN30</th>\n",
       "      <th>pNN40</th>\n",
       "      <th>pNN50</th>\n",
       "      <th>tot_pwr</th>\n",
       "      <th>ULF</th>\n",
       "      <th>VLF</th>\n",
       "      <th>LF</th>\n",
       "      <th>HF</th>\n",
       "      <th>LF_HF</th>\n",
       "      <th>LF_n</th>\n",
       "      <th>HF_n</th>\n",
       "      <th>oahi</th>\n",
       "      <th>pctlt90</th>\n",
       "      <th>pctlt85</th>\n",
       "      <th>pctlt80</th>\n",
       "      <th>pctlt75</th>\n",
       "      <th>age_s2</th>\n",
       "      <th>ess_s2</th>\n",
       "      <th>fosq</th>\n",
       "      <th>bmi_s2</th>\n",
       "      <th>gender</th>\n",
       "      <th>race</th>\n",
       "    </tr>\n",
       "  </thead>\n",
       "  <tbody>\n",
       "    <tr>\n",
       "      <th>0</th>\n",
       "      <td>0.999970</td>\n",
       "      <td>836.336</td>\n",
       "      <td>71.741501</td>\n",
       "      <td>74.9342</td>\n",
       "      <td>45.5641</td>\n",
       "      <td>55.4628</td>\n",
       "      <td>25.1387</td>\n",
       "      <td>61.3931</td>\n",
       "      <td>29.6775</td>\n",
       "      <td>16.4170</td>\n",
       "      <td>6.17343</td>\n",
       "      <td>3.44122</td>\n",
       "      <td>5852.65</td>\n",
       "      <td>2675.950</td>\n",
       "      <td>2082.66</td>\n",
       "      <td>847.965</td>\n",
       "      <td>246.077</td>\n",
       "      <td>3.44593</td>\n",
       "      <td>0.775075</td>\n",
       "      <td>0.224925</td>\n",
       "      <td>19.23</td>\n",
       "      <td>10</td>\n",
       "      <td>4</td>\n",
       "      <td>1</td>\n",
       "      <td>0</td>\n",
       "      <td>61</td>\n",
       "      <td>10.0</td>\n",
       "      <td>9.58</td>\n",
       "      <td>35.451050</td>\n",
       "      <td>2</td>\n",
       "      <td>3</td>\n",
       "    </tr>\n",
       "    <tr>\n",
       "      <th>1</th>\n",
       "      <td>0.999680</td>\n",
       "      <td>980.794</td>\n",
       "      <td>61.174926</td>\n",
       "      <td>86.4631</td>\n",
       "      <td>57.3369</td>\n",
       "      <td>55.6853</td>\n",
       "      <td>26.9386</td>\n",
       "      <td>60.9649</td>\n",
       "      <td>26.4666</td>\n",
       "      <td>14.1151</td>\n",
       "      <td>6.12600</td>\n",
       "      <td>3.87186</td>\n",
       "      <td>8793.63</td>\n",
       "      <td>4467.600</td>\n",
       "      <td>3145.01</td>\n",
       "      <td>985.214</td>\n",
       "      <td>195.798</td>\n",
       "      <td>5.03179</td>\n",
       "      <td>0.834212</td>\n",
       "      <td>0.165788</td>\n",
       "      <td>1.28</td>\n",
       "      <td>0</td>\n",
       "      <td>0</td>\n",
       "      <td>0</td>\n",
       "      <td>0</td>\n",
       "      <td>46</td>\n",
       "      <td>1.0</td>\n",
       "      <td>11.68</td>\n",
       "      <td>28.546713</td>\n",
       "      <td>1</td>\n",
       "      <td>1</td>\n",
       "    </tr>\n",
       "    <tr>\n",
       "      <th>2</th>\n",
       "      <td>0.993108</td>\n",
       "      <td>1000.260</td>\n",
       "      <td>59.984404</td>\n",
       "      <td>59.7562</td>\n",
       "      <td>32.5391</td>\n",
       "      <td>47.8997</td>\n",
       "      <td>31.0587</td>\n",
       "      <td>59.4547</td>\n",
       "      <td>29.5596</td>\n",
       "      <td>19.1820</td>\n",
       "      <td>10.53270</td>\n",
       "      <td>7.39094</td>\n",
       "      <td>3723.20</td>\n",
       "      <td>1336.050</td>\n",
       "      <td>1322.78</td>\n",
       "      <td>802.306</td>\n",
       "      <td>262.058</td>\n",
       "      <td>3.06156</td>\n",
       "      <td>0.753789</td>\n",
       "      <td>0.246211</td>\n",
       "      <td>0.48</td>\n",
       "      <td>0</td>\n",
       "      <td>0</td>\n",
       "      <td>0</td>\n",
       "      <td>0</td>\n",
       "      <td>65</td>\n",
       "      <td>8.0</td>\n",
       "      <td>11.28</td>\n",
       "      <td>27.029866</td>\n",
       "      <td>2</td>\n",
       "      <td>1</td>\n",
       "    </tr>\n",
       "    <tr>\n",
       "      <th>3</th>\n",
       "      <td>0.959997</td>\n",
       "      <td>787.438</td>\n",
       "      <td>76.196475</td>\n",
       "      <td>59.2220</td>\n",
       "      <td>27.0160</td>\n",
       "      <td>39.2539</td>\n",
       "      <td>43.5362</td>\n",
       "      <td>29.7286</td>\n",
       "      <td>13.7209</td>\n",
       "      <td>12.5419</td>\n",
       "      <td>11.46800</td>\n",
       "      <td>10.68200</td>\n",
       "      <td>2813.47</td>\n",
       "      <td>761.872</td>\n",
       "      <td>1339.35</td>\n",
       "      <td>361.275</td>\n",
       "      <td>350.971</td>\n",
       "      <td>1.02936</td>\n",
       "      <td>0.507233</td>\n",
       "      <td>0.492767</td>\n",
       "      <td>10.80</td>\n",
       "      <td>3</td>\n",
       "      <td>0</td>\n",
       "      <td>0</td>\n",
       "      <td>0</td>\n",
       "      <td>77</td>\n",
       "      <td>3.0</td>\n",
       "      <td>11.82</td>\n",
       "      <td>21.572978</td>\n",
       "      <td>2</td>\n",
       "      <td>1</td>\n",
       "    </tr>\n",
       "    <tr>\n",
       "      <th>4</th>\n",
       "      <td>0.999689</td>\n",
       "      <td>973.366</td>\n",
       "      <td>61.641767</td>\n",
       "      <td>117.9690</td>\n",
       "      <td>67.9543</td>\n",
       "      <td>89.0453</td>\n",
       "      <td>73.9128</td>\n",
       "      <td>86.7052</td>\n",
       "      <td>72.8064</td>\n",
       "      <td>63.7922</td>\n",
       "      <td>51.80280</td>\n",
       "      <td>44.24510</td>\n",
       "      <td>14734.80</td>\n",
       "      <td>6590.450</td>\n",
       "      <td>4729.39</td>\n",
       "      <td>2354.480</td>\n",
       "      <td>1060.520</td>\n",
       "      <td>2.22012</td>\n",
       "      <td>0.689452</td>\n",
       "      <td>0.310548</td>\n",
       "      <td>0.20</td>\n",
       "      <td>6</td>\n",
       "      <td>0</td>\n",
       "      <td>0</td>\n",
       "      <td>0</td>\n",
       "      <td>54</td>\n",
       "      <td>11.0</td>\n",
       "      <td>11.96</td>\n",
       "      <td>25.330237</td>\n",
       "      <td>1</td>\n",
       "      <td>1</td>\n",
       "    </tr>\n",
       "  </tbody>\n",
       "</table>\n",
       "</div>"
      ],
      "text/plain": [
       "      NN_RR      AVNN        IHR      SDNN  ...   fosq     bmi_s2  gender  race\n",
       "0  0.999970   836.336  71.741501   74.9342  ...   9.58  35.451050       2     3\n",
       "1  0.999680   980.794  61.174926   86.4631  ...  11.68  28.546713       1     1\n",
       "2  0.993108  1000.260  59.984404   59.7562  ...  11.28  27.029866       2     1\n",
       "3  0.959997   787.438  76.196475   59.2220  ...  11.82  21.572978       2     1\n",
       "4  0.999689   973.366  61.641767  117.9690  ...  11.96  25.330237       1     1\n",
       "\n",
       "[5 rows x 31 columns]"
      ]
     },
     "execution_count": 4,
     "metadata": {},
     "output_type": "execute_result"
    }
   ],
   "source": [
    "# import the data set from a csv file\n",
    "df = pd.read_csv('/content/drive/MyDrive/Omdena Course/Smart Health/week 2/MLSH-lab2-dataset.csv')\n",
    "df.head()"
   ]
  },
  {
   "cell_type": "code",
   "execution_count": null,
   "metadata": {
    "id": "kcwFoC-cgmGl"
   },
   "outputs": [],
   "source": [
    "df['label'] = np.where(df['oahi']>15, 'Severe', 'Mild')"
   ]
  },
  {
   "cell_type": "code",
   "execution_count": null,
   "metadata": {
    "colab": {
     "base_uri": "https://localhost:8080/"
    },
    "id": "L2VDiEFf2_5S",
    "outputId": "0e8bdf30-e8d4-449e-810e-5312c302b52a"
   },
   "outputs": [
    {
     "data": {
      "text/plain": [
       "Mild      395\n",
       "Severe     98\n",
       "Name: label, dtype: int64"
      ]
     },
     "execution_count": 6,
     "metadata": {},
     "output_type": "execute_result"
    }
   ],
   "source": [
    "# inspect the distribution of the target variable\n",
    "df.label.value_counts()\n",
    "# imbalanced classification"
   ]
  },
  {
   "cell_type": "code",
   "execution_count": null,
   "metadata": {
    "colab": {
     "base_uri": "https://localhost:8080/"
    },
    "id": "EofG3mpxiN1o",
    "outputId": "792a950a-ba6d-456f-86b2-bd809763f17c"
   },
   "outputs": [
    {
     "name": "stdout",
     "output_type": "stream",
     "text": [
      "<class 'pandas.core.frame.DataFrame'>\n",
      "RangeIndex: 493 entries, 0 to 492\n",
      "Data columns (total 32 columns):\n",
      " #   Column   Non-Null Count  Dtype  \n",
      "---  ------   --------------  -----  \n",
      " 0   NN_RR    493 non-null    float64\n",
      " 1   AVNN     493 non-null    float64\n",
      " 2   IHR      493 non-null    float64\n",
      " 3   SDNN     493 non-null    float64\n",
      " 4   SDANN    493 non-null    float64\n",
      " 5   SDNNIDX  493 non-null    float64\n",
      " 6   rMSSD    493 non-null    float64\n",
      " 7   pNN10    493 non-null    float64\n",
      " 8   pNN20    493 non-null    float64\n",
      " 9   pNN30    493 non-null    float64\n",
      " 10  pNN40    493 non-null    float64\n",
      " 11  pNN50    493 non-null    float64\n",
      " 12  tot_pwr  493 non-null    float64\n",
      " 13  ULF      493 non-null    float64\n",
      " 14  VLF      493 non-null    float64\n",
      " 15  LF       493 non-null    float64\n",
      " 16  HF       493 non-null    float64\n",
      " 17  LF_HF    493 non-null    float64\n",
      " 18  LF_n     493 non-null    float64\n",
      " 19  HF_n     493 non-null    float64\n",
      " 20  oahi     493 non-null    float64\n",
      " 21  pctlt90  493 non-null    int64  \n",
      " 22  pctlt85  493 non-null    int64  \n",
      " 23  pctlt80  493 non-null    int64  \n",
      " 24  pctlt75  493 non-null    int64  \n",
      " 25  age_s2   493 non-null    int64  \n",
      " 26  ess_s2   486 non-null    float64\n",
      " 27  fosq     196 non-null    float64\n",
      " 28  bmi_s2   491 non-null    float64\n",
      " 29  gender   493 non-null    int64  \n",
      " 30  race     493 non-null    int64  \n",
      " 31  label    493 non-null    object \n",
      "dtypes: float64(24), int64(7), object(1)\n",
      "memory usage: 123.4+ KB\n"
     ]
    }
   ],
   "source": [
    "# inspect the features\n",
    "df.info()"
   ]
  },
  {
   "cell_type": "code",
   "execution_count": null,
   "metadata": {
    "colab": {
     "base_uri": "https://localhost:8080/"
    },
    "id": "vpbiIJy4iXhb",
    "outputId": "79c25cca-712e-414f-9002-a11ca55b8a60"
   },
   "outputs": [
    {
     "data": {
      "text/plain": [
       "NN_RR        0\n",
       "AVNN         0\n",
       "IHR          0\n",
       "SDNN         0\n",
       "SDANN        0\n",
       "SDNNIDX      0\n",
       "rMSSD        0\n",
       "pNN10        0\n",
       "pNN20        0\n",
       "pNN30        0\n",
       "pNN40        0\n",
       "pNN50        0\n",
       "tot_pwr      0\n",
       "ULF          0\n",
       "VLF          0\n",
       "LF           0\n",
       "HF           0\n",
       "LF_HF        0\n",
       "LF_n         0\n",
       "HF_n         0\n",
       "oahi         0\n",
       "pctlt90      0\n",
       "pctlt85      0\n",
       "pctlt80      0\n",
       "pctlt75      0\n",
       "age_s2       0\n",
       "ess_s2       7\n",
       "fosq       297\n",
       "bmi_s2       2\n",
       "gender       0\n",
       "race         0\n",
       "label        0\n",
       "dtype: int64"
      ]
     },
     "execution_count": 8,
     "metadata": {},
     "output_type": "execute_result"
    }
   ],
   "source": [
    "# how many null values?\n",
    "df.isna().sum()"
   ]
  },
  {
   "cell_type": "code",
   "execution_count": null,
   "metadata": {
    "id": "2YOhfK66igIT"
   },
   "outputs": [],
   "source": [
    "# drop the column with more than 50% null values\n",
    "df.drop('fosq', axis=1, inplace=True)"
   ]
  },
  {
   "cell_type": "code",
   "execution_count": null,
   "metadata": {
    "id": "cvAIHQoaiyRX"
   },
   "outputs": [],
   "source": [
    "# impute the missing values( if missing is less than 50%)\n",
    "# mean, mode, KNN imputation technique\n",
    "df.ess_s2 = df.ess_s2.fillna(df.ess_s2.mean())\n",
    "df.bmi_s2 = df.bmi_s2.fillna(df.bmi_s2.mean())"
   ]
  },
  {
   "cell_type": "code",
   "execution_count": null,
   "metadata": {
    "colab": {
     "base_uri": "https://localhost:8080/"
    },
    "id": "fLx7zy3KlVy4",
    "outputId": "4d16f372-7c4a-4be4-e3f3-647569508fdd"
   },
   "outputs": [
    {
     "data": {
      "text/plain": [
       "NN_RR      0\n",
       "AVNN       0\n",
       "IHR        0\n",
       "SDNN       0\n",
       "SDANN      0\n",
       "SDNNIDX    0\n",
       "rMSSD      0\n",
       "pNN10      0\n",
       "pNN20      0\n",
       "pNN30      0\n",
       "pNN40      0\n",
       "pNN50      0\n",
       "tot_pwr    0\n",
       "ULF        0\n",
       "VLF        0\n",
       "LF         0\n",
       "HF         0\n",
       "LF_HF      0\n",
       "LF_n       0\n",
       "HF_n       0\n",
       "oahi       0\n",
       "pctlt90    0\n",
       "pctlt85    0\n",
       "pctlt80    0\n",
       "pctlt75    0\n",
       "age_s2     0\n",
       "ess_s2     0\n",
       "bmi_s2     0\n",
       "gender     0\n",
       "race       0\n",
       "label      0\n",
       "dtype: int64"
      ]
     },
     "execution_count": 11,
     "metadata": {},
     "output_type": "execute_result"
    }
   ],
   "source": [
    "df.isna().sum() # re-check"
   ]
  },
  {
   "cell_type": "code",
   "execution_count": null,
   "metadata": {
    "id": "shSy_djz4t-k"
   },
   "outputs": [],
   "source": [
    "# sepearte out target and input features\n",
    "X = df.drop(['label','oahi'], axis=1)\n",
    "y= df.label"
   ]
  },
  {
   "cell_type": "code",
   "execution_count": null,
   "metadata": {
    "id": "VqdhS5MW3N7L"
   },
   "outputs": [],
   "source": [
    "# split the data into train and test set\n",
    "X_train, X_test, y_train, y_test = train_test_split(X,y, stratify=y, test_size=0.25, random_state=10 )"
   ]
  },
  {
   "cell_type": "code",
   "execution_count": null,
   "metadata": {
    "colab": {
     "base_uri": "https://localhost:8080/"
    },
    "id": "UG6tSd-GC42n",
    "outputId": "aebed52f-b752-46d7-c4fa-e8986ab4f1a3"
   },
   "outputs": [
    {
     "name": "stdout",
     "output_type": "stream",
     "text": [
      "Mild      296\n",
      "Severe     73\n",
      "Name: label, dtype: int64 Mild      99\n",
      "Severe    25\n",
      "Name: label, dtype: int64\n"
     ]
    }
   ],
   "source": [
    "print(y_train.value_counts(), y_test.value_counts())"
   ]
  },
  {
   "cell_type": "code",
   "execution_count": null,
   "metadata": {
    "colab": {
     "base_uri": "https://localhost:8080/"
    },
    "id": "_MlJy63q5JiO",
    "outputId": "1e760258-2946-4ef7-ce1c-19feacd78b5f"
   },
   "outputs": [
    {
     "name": "stdout",
     "output_type": "stream",
     "text": [
      "Mild      296\n",
      "Severe     73\n",
      "Name: label, dtype: int64 Mild      99\n",
      "Severe    25\n",
      "Name: label, dtype: int64\n"
     ]
    }
   ],
   "source": [
    "# inspect target variable distribution in the train and test set\n",
    "print(y_train.value_counts(), y_test.value_counts())"
   ]
  },
  {
   "cell_type": "markdown",
   "metadata": {
    "id": "tjVp4-P_5ror"
   },
   "source": [
    "Q1. what happens if you don't stratify the target variable?"
   ]
  },
  {
   "cell_type": "code",
   "execution_count": null,
   "metadata": {
    "colab": {
     "base_uri": "https://localhost:8080/"
    },
    "id": "xPr2jMs253T4",
    "outputId": "39b67934-2c10-42aa-85fe-6d7e6b85eacf"
   },
   "outputs": [
    {
     "name": "stdout",
     "output_type": "stream",
     "text": [
      "[0.81081081 0.83783784 0.82432432 0.7972973  0.83561644]\n",
      "0.821177341725287\n"
     ]
    }
   ],
   "source": [
    "# instatiate a linear model and check cross-validation performance\n",
    "simplefilter(\"ignore\")\n",
    "model = LogisticRegression()\n",
    "cv_score = cross_val_score(model, X_train, y_train, cv=5)\n",
    "print(cv_score)\n",
    "print(cv_score.mean())"
   ]
  },
  {
   "cell_type": "code",
   "execution_count": null,
   "metadata": {
    "colab": {
     "base_uri": "https://localhost:8080/"
    },
    "id": "vtxiYmpe7xdA",
    "outputId": "ac14e1f1-fc18-4888-8afb-f895fc9d1b5e"
   },
   "outputs": [
    {
     "name": "stdout",
     "output_type": "stream",
     "text": [
      "0.8387096774193549\n"
     ]
    },
    {
     "data": {
      "text/plain": [
       "array([[95,  4],\n",
       "       [16,  9]])"
      ]
     },
     "execution_count": 17,
     "metadata": {},
     "output_type": "execute_result"
    }
   ],
   "source": [
    "# train the classifier and evaluate the performance in the test set\n",
    "model.fit(X_train, y_train)\n",
    "y_predicted= model.predict(X_test)\n",
    "# compute the accuracy\n",
    "print(accuracy_score(y_test, y_predicted))\n",
    "# does accuracy tell everything?- No\n",
    "# visualize the confusion matrix\n",
    "confusion_matrix(y_test, y_predicted, labels=['Mild','Severe'])"
   ]
  },
  {
   "cell_type": "markdown",
   "metadata": {
    "id": "_Ijq19hK9zsL"
   },
   "source": [
    "Comment: minority class is less correctly classified. Why the model failed to learn the pattern?"
   ]
  },
  {
   "cell_type": "code",
   "execution_count": null,
   "metadata": {
    "colab": {
     "base_uri": "https://localhost:8080/"
    },
    "id": "t2s-6rsQNL7f",
    "outputId": "51bef936-159a-4ac7-848b-27fcbbf80479"
   },
   "outputs": [
    {
     "name": "stdout",
     "output_type": "stream",
     "text": [
      "0.7983870967741935\n"
     ]
    },
    {
     "data": {
      "text/plain": [
       "array([[99,  0],\n",
       "       [25,  0]])"
      ]
     },
     "execution_count": 18,
     "metadata": {},
     "output_type": "execute_result"
    }
   ],
   "source": [
    "# check performance for support vector machine\n",
    "model = SVC(kernel='rbf') # SVC(kernel='linear') #\n",
    "model.fit(X_train, y_train)\n",
    "y_predicted= model.predict(X_test)\n",
    "# compute the accuracy\n",
    "print(accuracy_score(y_test, y_predicted))\n",
    "# does accuracy tell everything?- No\n",
    "# visualize the confusion matrix\n",
    "confusion_matrix(y_test, y_predicted, labels=['Mild','Severe'])"
   ]
  },
  {
   "cell_type": "code",
   "execution_count": null,
   "metadata": {
    "colab": {
     "base_uri": "https://localhost:8080/"
    },
    "id": "FsG_aOOqmDOD",
    "outputId": "af0be3d5-6611-47a0-9eca-619ad290451a"
   },
   "outputs": [
    {
     "name": "stdout",
     "output_type": "stream",
     "text": [
      "0.7983870967741935\n"
     ]
    },
    {
     "data": {
      "text/plain": [
       "array([[99,  0],\n",
       "       [25,  0]])"
      ]
     },
     "execution_count": 19,
     "metadata": {},
     "output_type": "execute_result"
    }
   ],
   "source": [
    "# check performance for support vector machine\n",
    "model =  SVC(kernel='rbf') # kernel-trick kernel='linear'\n",
    "model.fit(X_train, y_train)\n",
    "y_predicted= model.predict(X_test)\n",
    "# compute the accuracy\n",
    "print(accuracy_score(y_test, y_predicted))\n",
    "# does accuracy tell everything?- No\n",
    "# visualize the confusion matrix\n",
    "confusion_matrix(y_test, y_predicted, labels=['Mild','Severe'])"
   ]
  },
  {
   "cell_type": "code",
   "execution_count": null,
   "metadata": {
    "colab": {
     "base_uri": "https://localhost:8080/"
    },
    "id": "bwfe7mcJNedx",
    "outputId": "e213c624-daac-4691-ee12-704672c8e442"
   },
   "outputs": [
    {
     "name": "stdout",
     "output_type": "stream",
     "text": [
      "0.8467741935483871\n"
     ]
    },
    {
     "data": {
      "text/plain": [
       "array([[94,  5],\n",
       "       [14, 11]])"
      ]
     },
     "execution_count": 20,
     "metadata": {},
     "output_type": "execute_result"
    }
   ],
   "source": [
    "# check performance for ensemble models\n",
    "model = RandomForestClassifier(random_state=10) #RandomForestClassifier()\n",
    "model.fit(X_train, y_train)\n",
    "y_predicted= model.predict(X_test)\n",
    "# compute the accuracy\n",
    "print(accuracy_score(y_test, y_predicted))\n",
    "# does accuracy tell everything?- No\n",
    "# visualize the confusion matrix\n",
    "confusion_matrix(y_test, y_predicted, labels=['Mild','Severe'])"
   ]
  },
  {
   "cell_type": "markdown",
   "metadata": {
    "id": "ggIUF4SiUTgM"
   },
   "source": [
    "## Feature Importance"
   ]
  },
  {
   "cell_type": "code",
   "execution_count": null,
   "metadata": {
    "colab": {
     "base_uri": "https://localhost:8080/",
     "height": 296
    },
    "id": "Q9R0kn9Gm7aj",
    "outputId": "8e9b3e30-2d52-4ffe-b8a4-d5bc97faefdc"
   },
   "outputs": [
    {
     "name": "stdout",
     "output_type": "stream",
     "text": [
      "Optimal number of features : 14\n"
     ]
    },
    {
     "data": {
      "image/png": "[encoded data removed]",
      "text/plain": [
       "<Figure size 432x288 with 1 Axes>"
      ]
     },
     "metadata": {
      "needs_background": "light"
     },
     "output_type": "display_data"
    }
   ],
   "source": [
    "# what are the important features??\n",
    "import matplotlib.pyplot as plt\n",
    "from sklearn.svm import SVC\n",
    "from sklearn.model_selection import StratifiedKFold\n",
    "from sklearn.feature_selection import RFECV\n",
    "from sklearn.datasets import make_classification\n",
    "\n",
    "# Create the RFE object and compute a cross-validated score.\n",
    "model_rf = RandomForestClassifier()\n",
    "# The \"accuracy\" scoring shows the proportion of correct classifications\n",
    "\n",
    "min_features_to_select = 1  # Minimum number of features to consider\n",
    "rfecv = RFECV(\n",
    "    estimator=model_rf,\n",
    "    step=1,\n",
    "    cv=StratifiedKFold(2),\n",
    "    scoring=\"accuracy\",\n",
    "    min_features_to_select=min_features_to_select,\n",
    ")\n",
    "rfecv.fit(X, y)\n",
    "\n",
    "print(\"Optimal number of features : %d\" % rfecv.n_features_)\n",
    "\n",
    "# Plot number of features VS. cross-validation scores\n",
    "plt.figure()\n",
    "plt.xlabel(\"Number of features selected\")\n",
    "plt.ylabel(\"Cross validation score (accuracy)\")\n",
    "plt.plot(\n",
    "    range(min_features_to_select, len(rfecv.grid_scores_) + min_features_to_select),\n",
    "    rfecv.grid_scores_,\n",
    ")\n",
    "plt.show()"
   ]
  },
  {
   "cell_type": "code",
   "execution_count": null,
   "metadata": {
    "colab": {
     "base_uri": "https://localhost:8080/",
     "height": 265
    },
    "id": "thTRA7gYTJCu",
    "outputId": "0f4436e3-c4c8-4a55-8fd9-287ca90194c8"
   },
   "outputs": [
    {
     "data": {
      "image/png": "[encoded data removed]",
      "text/plain": [
       "<Figure size 432x288 with 1 Axes>"
      ]
     },
     "metadata": {
      "needs_background": "light"
     },
     "output_type": "display_data"
    }
   ],
   "source": [
    "# get importance\n",
    "model_rf.fit(X,y)\n",
    "importance = model.feature_importances_\n",
    "# summarize feature importance\n",
    "(pd.Series(model.feature_importances_, index=X.columns)\n",
    ".nlargest(14)\n",
    ".plot(kind='barh'))\n",
    "plt.show()"
   ]
  },
  {
   "cell_type": "markdown",
   "metadata": {
    "id": "D7vpxkDgo4_T"
   },
   "source": [
    "# hyper-parameter optimization"
   ]
  },
  {
   "cell_type": "code",
   "execution_count": null,
   "metadata": {
    "id": "5wDxzMIUo3wI"
   },
   "outputs": [],
   "source": [
    "# random forest\n",
    "parameters = {'n_estimators':[100, 500, 1000], \n",
    "              'max_depth':[20,500,1000, 2000],\n",
    "              'max_features':[5,10,20,30]              \n",
    "             }"
   ]
  },
  {
   "cell_type": "code",
   "execution_count": null,
   "metadata": {
    "id": "2zoICilyL9D0"
   },
   "outputs": [],
   "source": [
    "estimator_RF = RandomizedSearchCV(RandomForestClassifier(), parameters, cv = 5, scoring= 'accuracy',n_jobs=2,refit=True,\n",
    "                            n_iter=1,return_train_score = True)"
   ]
  },
  {
   "cell_type": "code",
   "execution_count": null,
   "metadata": {
    "id": "9_bPVCg3aZxx"
   },
   "outputs": [],
   "source": [
    "estimator_RF = GridSearchCV(RandomForestClassifier(), parameters, cv = 5, scoring= 'accuracy',n_jobs=2,refit=True,\n",
    "                            return_train_score = True)"
   ]
  },
  {
   "cell_type": "code",
   "execution_count": null,
   "metadata": {
    "id": "c8DB_MiXMNdC"
   },
   "outputs": [],
   "source": [
    "estimator_RF.fit(X_train,y_train)"
   ]
  },
  {
   "cell_type": "code",
   "execution_count": null,
   "metadata": {
    "id": "PUs3ZmL5Vm0u"
   },
   "outputs": [],
   "source": [
    "estimator_RF.best_score_"
   ]
  },
  {
   "cell_type": "code",
   "execution_count": null,
   "metadata": {
    "id": "cb_35B7qYpqC"
   },
   "outputs": [],
   "source": [
    "estimator_RF.best_params_"
   ]
  },
  {
   "cell_type": "code",
   "execution_count": null,
   "metadata": {
    "id": "-lxO3iVIWaG7"
   },
   "outputs": [],
   "source": [
    "model_rf= RandomForestClassifier()\n",
    "model_rf.set_params(**estimator_RF.best_params_)"
   ]
  },
  {
   "cell_type": "markdown",
   "metadata": {
    "id": "_npFLubNQStg"
   },
   "source": [
    "## Ensemble learning <br/>\n",
    "\n",
    "Voting Ensemble<br/>\n",
    "Stacking Ensemble <br/>"
   ]
  },
  {
   "cell_type": "code",
   "execution_count": null,
   "metadata": {
    "id": "ZB2ffsrGQV3E",
    "tags": []
   },
   "outputs": [],
   "source": [
    "estimators = [\n",
    "              ('gbm', GradientBoostingClassifier()),\n",
    "               ('rf', RandomForestClassifier())\n",
    "               ]"
   ]
  },
  {
   "cell_type": "code",
   "execution_count": null,
   "metadata": {
    "id": "KZBV8C0XR0Dv",
    "tags": []
   },
   "outputs": [],
   "source": [
    "clf_stack_svm = StackingClassifier(\n",
    "    estimators = estimators,\n",
    "    final_estimator = SVC(class_weight='balanced')\n",
    ")"
   ]
  },
  {
   "cell_type": "code",
   "execution_count": null,
   "metadata": {
    "id": "13NzNCXWST8a"
   },
   "outputs": [],
   "source": [
    "clf_stack_svm.fit(X_train,y_train)"
   ]
  }
 ],
 "metadata": {
  "colab": {
   "name": "MLSH-L2-P2.ipynb",
   "provenance": []
  },
  "kernelspec": {
   "display_name": "Python 3 (ipykernel)",
   "language": "python",
   "name": "python3"
  },
  "language_info": {
   "codemirror_mode": {
    "name": "ipython",
    "version": 3
   },
   "file_extension": ".py",
   "mimetype": "text/x-python",
   "name": "python",
   "nbconvert_exporter": "python",
   "pygments_lexer": "ipython3",
   "version": "3.8.12"
  }
 },
 "nbformat": 4,
 "nbformat_minor": 4
}
